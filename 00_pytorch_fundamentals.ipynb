{
  "nbformat": 4,
  "nbformat_minor": 0,
  "metadata": {
    "colab": {
      "provenance": [],
      "authorship_tag": "ABX9TyNUofh59bgBsnKrNbiWZt1m",
      "include_colab_link": true
    },
    "kernelspec": {
      "name": "python3",
      "display_name": "Python 3"
    },
    "language_info": {
      "name": "python"
    },
    "gpuClass": "standard"
  },
  "cells": [
    {
      "cell_type": "markdown",
      "metadata": {
        "id": "view-in-github",
        "colab_type": "text"
      },
      "source": [
        "<a href=\"https://colab.research.google.com/github/zahra-sharifzadeh/pytorch/blob/main/00_pytorch_fundamentals.ipynb\" target=\"_parent\"><img src=\"https://colab.research.google.com/assets/colab-badge.svg\" alt=\"Open In Colab\"/></a>"
      ]
    },
    {
      "cell_type": "markdown",
      "source": [
        "## 00. Pytorch Fundamentals"
      ],
      "metadata": {
        "id": "H2GzD4lQ4skF"
      }
    },
    {
      "cell_type": "code",
      "execution_count": 2,
      "metadata": {
        "colab": {
          "base_uri": "https://localhost:8080/"
        },
        "id": "0MNrMbIsHaFV",
        "outputId": "c1beb1c1-47b6-470e-9819-2bd4335d0aa1"
      },
      "outputs": [
        {
          "output_type": "stream",
          "name": "stdout",
          "text": [
            "Hello I'm Excited to learn Pytorch\n"
          ]
        }
      ],
      "source": [
        "print(\"Hello I'm Excited to learn Pytorch\")"
      ]
    },
    {
      "cell_type": "code",
      "source": [
        "!nvidia-smi"
      ],
      "metadata": {
        "colab": {
          "base_uri": "https://localhost:8080/"
        },
        "id": "cfaFclT4R0o2",
        "outputId": "c1957b12-92eb-4325-acee-da0797432f9a"
      },
      "execution_count": 3,
      "outputs": [
        {
          "output_type": "stream",
          "name": "stdout",
          "text": [
            "NVIDIA-SMI has failed because it couldn't communicate with the NVIDIA driver. Make sure that the latest NVIDIA driver is installed and running.\n",
            "\n"
          ]
        }
      ]
    },
    {
      "cell_type": "code",
      "source": [
        "import torch\n",
        "import pandas as pd\n",
        "import numpy as np\n",
        "import matplotlib.pyplot as plt\n",
        "print(torch.__version__)"
      ],
      "metadata": {
        "colab": {
          "base_uri": "https://localhost:8080/"
        },
        "id": "G6asC8VpSQnT",
        "outputId": "c960eb7f-137a-4749-ab51-c87c04d21abd"
      },
      "execution_count": 4,
      "outputs": [
        {
          "output_type": "stream",
          "name": "stdout",
          "text": [
            "1.13.1+cu116\n"
          ]
        }
      ]
    },
    {
      "cell_type": "markdown",
      "source": [
        "# Introduction to Tensors\n",
        " ## Creating tensors"
      ],
      "metadata": {
        "id": "BiXgjHR9Voa_"
      }
    },
    {
      "cell_type": "markdown",
      "source": [
        "## scalar"
      ],
      "metadata": {
        "id": "CuGwTDKEW6D-"
      }
    },
    {
      "cell_type": "code",
      "source": [
        "# scalar\n",
        "scalar = torch.tensor(7)\n",
        "scalar"
      ],
      "metadata": {
        "colab": {
          "base_uri": "https://localhost:8080/"
        },
        "id": "FPMB5zMX5ZyX",
        "outputId": "c868318e-0bcd-4be9-985c-66282e46bee3"
      },
      "execution_count": 5,
      "outputs": [
        {
          "output_type": "execute_result",
          "data": {
            "text/plain": [
              "tensor(7)"
            ]
          },
          "metadata": {},
          "execution_count": 5
        }
      ]
    },
    {
      "cell_type": "code",
      "source": [
        "scalar.ndim"
      ],
      "metadata": {
        "colab": {
          "base_uri": "https://localhost:8080/"
        },
        "id": "0uJo925sWRnX",
        "outputId": "08563677-7dcf-4622-b6fc-b220e615fe0d"
      },
      "execution_count": 6,
      "outputs": [
        {
          "output_type": "execute_result",
          "data": {
            "text/plain": [
              "0"
            ]
          },
          "metadata": {},
          "execution_count": 6
        }
      ]
    },
    {
      "cell_type": "code",
      "source": [
        "# Get tensor back as python int\n",
        "scalar.item()"
      ],
      "metadata": {
        "colab": {
          "base_uri": "https://localhost:8080/"
        },
        "id": "29K1K_zFWptG",
        "outputId": "e68078a6-6e54-422b-b39c-c2a286e446c7"
      },
      "execution_count": 7,
      "outputs": [
        {
          "output_type": "execute_result",
          "data": {
            "text/plain": [
              "7"
            ]
          },
          "metadata": {},
          "execution_count": 7
        }
      ]
    },
    {
      "cell_type": "markdown",
      "source": [
        "## Vectors"
      ],
      "metadata": {
        "id": "4rYqBQWBW8pr"
      }
    },
    {
      "cell_type": "code",
      "source": [
        "vector = torch.tensor([7,7])\n",
        "vector"
      ],
      "metadata": {
        "colab": {
          "base_uri": "https://localhost:8080/"
        },
        "id": "_P_QLqefW1s8",
        "outputId": "2b05181d-89d6-4cab-f398-e0e81dce70a6"
      },
      "execution_count": 8,
      "outputs": [
        {
          "output_type": "execute_result",
          "data": {
            "text/plain": [
              "tensor([7, 7])"
            ]
          },
          "metadata": {},
          "execution_count": 8
        }
      ]
    },
    {
      "cell_type": "code",
      "source": [
        "vector.ndim"
      ],
      "metadata": {
        "colab": {
          "base_uri": "https://localhost:8080/"
        },
        "id": "1t824fZvW4_t",
        "outputId": "2a4cb752-17be-4b8a-f9f7-de09de8faaa9"
      },
      "execution_count": 9,
      "outputs": [
        {
          "output_type": "execute_result",
          "data": {
            "text/plain": [
              "1"
            ]
          },
          "metadata": {},
          "execution_count": 9
        }
      ]
    },
    {
      "cell_type": "code",
      "source": [
        "vector.shape"
      ],
      "metadata": {
        "colab": {
          "base_uri": "https://localhost:8080/"
        },
        "id": "mLTMVNqqXcdU",
        "outputId": "d9b7d86e-881c-43b1-cdd7-dffb753a5a46"
      },
      "execution_count": 10,
      "outputs": [
        {
          "output_type": "execute_result",
          "data": {
            "text/plain": [
              "torch.Size([2])"
            ]
          },
          "metadata": {},
          "execution_count": 10
        }
      ]
    },
    {
      "cell_type": "markdown",
      "source": [
        "## MATRIX"
      ],
      "metadata": {
        "id": "MQSqTHCCXiJq"
      }
    },
    {
      "cell_type": "code",
      "source": [
        "MATRIX = torch.tensor([\n",
        "    [2, 3],\n",
        "    [4, 5]\n",
        "])\n",
        "MATRIX"
      ],
      "metadata": {
        "colab": {
          "base_uri": "https://localhost:8080/"
        },
        "id": "ium6HjO-XfrK",
        "outputId": "17bd4855-3bab-44b9-922c-0e9d65246436"
      },
      "execution_count": 11,
      "outputs": [
        {
          "output_type": "execute_result",
          "data": {
            "text/plain": [
              "tensor([[2, 3],\n",
              "        [4, 5]])"
            ]
          },
          "metadata": {},
          "execution_count": 11
        }
      ]
    },
    {
      "cell_type": "code",
      "source": [
        "MATRIX.ndim"
      ],
      "metadata": {
        "colab": {
          "base_uri": "https://localhost:8080/"
        },
        "id": "lyyA0WV4XvAx",
        "outputId": "2ee8b5c3-1eaa-4f42-962d-7e4a47cbc414"
      },
      "execution_count": 12,
      "outputs": [
        {
          "output_type": "execute_result",
          "data": {
            "text/plain": [
              "2"
            ]
          },
          "metadata": {},
          "execution_count": 12
        }
      ]
    },
    {
      "cell_type": "code",
      "source": [
        "MATRIX.shape"
      ],
      "metadata": {
        "colab": {
          "base_uri": "https://localhost:8080/"
        },
        "id": "5tS5-JnVXyfp",
        "outputId": "f9e9e5da-eefd-450a-f53e-8944fb657eef"
      },
      "execution_count": 13,
      "outputs": [
        {
          "output_type": "execute_result",
          "data": {
            "text/plain": [
              "torch.Size([2, 2])"
            ]
          },
          "metadata": {},
          "execution_count": 13
        }
      ]
    },
    {
      "cell_type": "code",
      "source": [
        "print(MATRIX[0])\n",
        "print(\"*\"*20)\n",
        "print(MATRIX[1])"
      ],
      "metadata": {
        "colab": {
          "base_uri": "https://localhost:8080/"
        },
        "id": "Jr2sEhaYX6Jy",
        "outputId": "1448f4b5-f721-42f1-882c-734fbf6764b7"
      },
      "execution_count": 14,
      "outputs": [
        {
          "output_type": "stream",
          "name": "stdout",
          "text": [
            "tensor([2, 3])\n",
            "********************\n",
            "tensor([4, 5])\n"
          ]
        }
      ]
    },
    {
      "cell_type": "markdown",
      "source": [
        "## TENSOR"
      ],
      "metadata": {
        "id": "CzCwx-dgYQOX"
      }
    },
    {
      "cell_type": "code",
      "source": [
        "TENSOR = torch.tensor([[\n",
        "    [1,2,3],\n",
        "    [4,5,6],\n",
        "    [7,8,9]\n",
        "]])\n",
        "TENSOR"
      ],
      "metadata": {
        "colab": {
          "base_uri": "https://localhost:8080/"
        },
        "id": "RerL86GFYCtR",
        "outputId": "9065a079-3c41-4bcf-fda3-3461eb211005"
      },
      "execution_count": 15,
      "outputs": [
        {
          "output_type": "execute_result",
          "data": {
            "text/plain": [
              "tensor([[[1, 2, 3],\n",
              "         [4, 5, 6],\n",
              "         [7, 8, 9]]])"
            ]
          },
          "metadata": {},
          "execution_count": 15
        }
      ]
    },
    {
      "cell_type": "code",
      "source": [
        "TENSOR.ndim"
      ],
      "metadata": {
        "colab": {
          "base_uri": "https://localhost:8080/"
        },
        "id": "dcJmM5nGYj3u",
        "outputId": "821d6212-764e-4619-f9c0-966785136e3a"
      },
      "execution_count": 16,
      "outputs": [
        {
          "output_type": "execute_result",
          "data": {
            "text/plain": [
              "3"
            ]
          },
          "metadata": {},
          "execution_count": 16
        }
      ]
    },
    {
      "cell_type": "code",
      "source": [
        "TENSOR.shape"
      ],
      "metadata": {
        "colab": {
          "base_uri": "https://localhost:8080/"
        },
        "id": "Bv0-b8l-YoMW",
        "outputId": "b7d2044b-6494-4499-93a7-e9edcdcea9af"
      },
      "execution_count": 17,
      "outputs": [
        {
          "output_type": "execute_result",
          "data": {
            "text/plain": [
              "torch.Size([1, 3, 3])"
            ]
          },
          "metadata": {},
          "execution_count": 17
        }
      ]
    },
    {
      "cell_type": "code",
      "source": [
        "TENSOR2= torch.tensor([\n",
        "    [[1,2,3],\n",
        "    [4,5,6],\n",
        "    [7,8,9]],\n",
        "    \n",
        "    [[10,11,12],\n",
        "    [12,13,14],\n",
        "    [15,16,17]]\n",
        "\n",
        "])\n",
        "TENSOR2"
      ],
      "metadata": {
        "colab": {
          "base_uri": "https://localhost:8080/"
        },
        "id": "34H8_y21YrBu",
        "outputId": "f3300a7b-0add-4be8-821d-731815ce31a9"
      },
      "execution_count": 18,
      "outputs": [
        {
          "output_type": "execute_result",
          "data": {
            "text/plain": [
              "tensor([[[ 1,  2,  3],\n",
              "         [ 4,  5,  6],\n",
              "         [ 7,  8,  9]],\n",
              "\n",
              "        [[10, 11, 12],\n",
              "         [12, 13, 14],\n",
              "         [15, 16, 17]]])"
            ]
          },
          "metadata": {},
          "execution_count": 18
        }
      ]
    },
    {
      "cell_type": "code",
      "source": [
        "TENSOR2.ndim"
      ],
      "metadata": {
        "colab": {
          "base_uri": "https://localhost:8080/"
        },
        "id": "iP9jsCMPZfJ9",
        "outputId": "46fa2aa4-b61c-4558-c826-9271007d681a"
      },
      "execution_count": 19,
      "outputs": [
        {
          "output_type": "execute_result",
          "data": {
            "text/plain": [
              "3"
            ]
          },
          "metadata": {},
          "execution_count": 19
        }
      ]
    },
    {
      "cell_type": "code",
      "source": [
        "TENSOR2.shape"
      ],
      "metadata": {
        "colab": {
          "base_uri": "https://localhost:8080/"
        },
        "id": "xyCHv-i1ZsS7",
        "outputId": "80d3310f-91a5-49ef-d996-4e38192f7707"
      },
      "execution_count": 20,
      "outputs": [
        {
          "output_type": "execute_result",
          "data": {
            "text/plain": [
              "torch.Size([2, 3, 3])"
            ]
          },
          "metadata": {},
          "execution_count": 20
        }
      ]
    },
    {
      "cell_type": "markdown",
      "source": [
        "### RAndom TenSors\n",
        "Neural Network start learning with Random Tensors"
      ],
      "metadata": {
        "id": "r5uNecVr21i5"
      }
    },
    {
      "cell_type": "code",
      "source": [
        "random_tensor = torch.rand(3, 4)\n",
        "random_tensor"
      ],
      "metadata": {
        "colab": {
          "base_uri": "https://localhost:8080/"
        },
        "id": "GjZVImus22ct",
        "outputId": "710b428c-54c7-4c91-db6b-98ea2c5ae9b7"
      },
      "execution_count": 21,
      "outputs": [
        {
          "output_type": "execute_result",
          "data": {
            "text/plain": [
              "tensor([[0.7233, 0.2637, 0.9299, 0.2076],\n",
              "        [0.8899, 0.2666, 0.0394, 0.1138],\n",
              "        [0.4290, 0.9265, 0.2689, 0.7140]])"
            ]
          },
          "metadata": {},
          "execution_count": 21
        }
      ]
    },
    {
      "cell_type": "code",
      "source": [
        "random_tensor.ndim"
      ],
      "metadata": {
        "colab": {
          "base_uri": "https://localhost:8080/"
        },
        "id": "Cm1GR0cb3uMS",
        "outputId": "5faee444-4309-4c58-eff0-e0720569657f"
      },
      "execution_count": 22,
      "outputs": [
        {
          "output_type": "execute_result",
          "data": {
            "text/plain": [
              "2"
            ]
          },
          "metadata": {},
          "execution_count": 22
        }
      ]
    },
    {
      "cell_type": "code",
      "source": [
        "random_tensor2 = torch.rand(5, 5, 10)\n",
        "random_tensor2"
      ],
      "metadata": {
        "colab": {
          "base_uri": "https://localhost:8080/"
        },
        "id": "9s4m-Zzt3h6X",
        "outputId": "0dbe1c8b-a630-48c2-e78f-d26be4cde118"
      },
      "execution_count": 23,
      "outputs": [
        {
          "output_type": "execute_result",
          "data": {
            "text/plain": [
              "tensor([[[0.7293, 0.0432, 0.6631, 0.8685, 0.8942, 0.1269, 0.2994, 0.5454,\n",
              "          0.2241, 0.6171],\n",
              "         [0.2867, 0.6893, 0.6985, 0.3497, 0.3980, 0.3540, 0.4050, 0.4472,\n",
              "          0.2974, 0.0734],\n",
              "         [0.4327, 0.7653, 0.0912, 0.2498, 0.7066, 0.7770, 0.2639, 0.4624,\n",
              "          0.4124, 0.1347],\n",
              "         [0.1367, 0.3970, 0.5107, 0.5951, 0.5985, 0.9161, 0.2215, 0.7033,\n",
              "          0.0560, 0.5963],\n",
              "         [0.2305, 0.0597, 0.5258, 0.4588, 0.6955, 0.2915, 0.2009, 0.8269,\n",
              "          0.1094, 0.5791]],\n",
              "\n",
              "        [[0.4843, 0.7136, 0.4914, 0.6473, 0.4033, 0.8610, 0.0165, 0.3521,\n",
              "          0.3598, 0.1697],\n",
              "         [0.7715, 0.2480, 0.0997, 0.7091, 0.3223, 0.3719, 0.9912, 0.4082,\n",
              "          0.9598, 0.1066],\n",
              "         [0.8260, 0.5950, 0.7845, 0.0228, 0.4232, 0.7128, 0.2442, 0.5572,\n",
              "          0.6770, 0.7937],\n",
              "         [0.9498, 0.4159, 0.1807, 0.2372, 0.8269, 0.0204, 0.8879, 0.5176,\n",
              "          0.0533, 0.3315],\n",
              "         [0.9002, 0.5535, 0.0056, 0.6750, 0.1456, 0.3265, 0.3018, 0.2810,\n",
              "          0.8050, 0.5059]],\n",
              "\n",
              "        [[0.3523, 0.5832, 0.2859, 0.0368, 0.6639, 0.0215, 0.2052, 0.2210,\n",
              "          0.3943, 0.3330],\n",
              "         [0.1089, 0.8942, 0.0535, 0.7927, 0.6350, 0.7846, 0.8295, 0.1138,\n",
              "          0.9231, 0.5983],\n",
              "         [0.6375, 0.2348, 0.5468, 0.1649, 0.9844, 0.3823, 0.0491, 0.9362,\n",
              "          0.0448, 0.6040],\n",
              "         [0.4637, 0.3995, 0.4328, 0.1910, 0.0093, 0.0640, 0.8135, 0.2855,\n",
              "          0.1344, 0.3837],\n",
              "         [0.8652, 0.5373, 0.2773, 0.9275, 0.2893, 0.8470, 0.4763, 0.1864,\n",
              "          0.6672, 0.1709]],\n",
              "\n",
              "        [[0.5543, 0.4029, 0.6557, 0.2823, 0.5905, 0.2198, 0.4011, 0.1875,\n",
              "          0.4928, 0.8359],\n",
              "         [0.1783, 0.4088, 0.6818, 0.3994, 0.4904, 0.5124, 0.0771, 0.4319,\n",
              "          0.5564, 0.5942],\n",
              "         [0.6472, 0.0156, 0.5576, 0.9010, 0.8411, 0.0646, 0.7250, 0.2968,\n",
              "          0.8377, 0.9474],\n",
              "         [0.2320, 0.8932, 0.2975, 0.8629, 0.9316, 0.0804, 0.6880, 0.5052,\n",
              "          0.6972, 0.9091],\n",
              "         [0.6466, 0.2010, 0.9584, 0.7076, 0.8068, 0.4863, 0.2227, 0.5333,\n",
              "          0.5175, 0.7743]],\n",
              "\n",
              "        [[0.4057, 0.2296, 0.4258, 0.4249, 0.7284, 0.4956, 0.4531, 0.6699,\n",
              "          0.5350, 0.5341],\n",
              "         [0.8070, 0.4678, 0.7966, 0.6767, 0.1546, 0.7042, 0.3340, 0.0985,\n",
              "          0.8441, 0.5022],\n",
              "         [0.8815, 0.8017, 0.7740, 0.6208, 0.0790, 0.9864, 0.9592, 0.5885,\n",
              "          0.0569, 0.1788],\n",
              "         [0.1137, 0.8347, 0.4500, 0.6933, 0.5602, 0.8271, 0.3811, 0.4368,\n",
              "          0.3257, 0.0767],\n",
              "         [0.7235, 0.0399, 0.5027, 0.4211, 0.7905, 0.6549, 0.9900, 0.3405,\n",
              "          0.9593, 0.3724]]])"
            ]
          },
          "metadata": {},
          "execution_count": 23
        }
      ]
    },
    {
      "cell_type": "code",
      "source": [
        "random_tensor2.ndim"
      ],
      "metadata": {
        "colab": {
          "base_uri": "https://localhost:8080/"
        },
        "id": "3lWPbIpB3q8e",
        "outputId": "fbde67fd-4ede-4ed7-9103-7e73b764e206"
      },
      "execution_count": 24,
      "outputs": [
        {
          "output_type": "execute_result",
          "data": {
            "text/plain": [
              "3"
            ]
          },
          "metadata": {},
          "execution_count": 24
        }
      ]
    },
    {
      "cell_type": "code",
      "source": [
        "# Creat a random tensor similar to shape of image\n",
        "random_image_size_tensor = torch.rand(size=(224, 224, 3)) # h,w,color channels\n",
        "random_image_size_tensor.shape , random_image_size_tensor.ndim"
      ],
      "metadata": {
        "colab": {
          "base_uri": "https://localhost:8080/"
        },
        "id": "nChdouqN34yN",
        "outputId": "45c4e9c8-366b-429f-bcc4-00bb539b840f"
      },
      "execution_count": 25,
      "outputs": [
        {
          "output_type": "execute_result",
          "data": {
            "text/plain": [
              "(torch.Size([224, 224, 3]), 3)"
            ]
          },
          "metadata": {},
          "execution_count": 25
        }
      ]
    },
    {
      "cell_type": "markdown",
      "source": [
        "### Zeros and Ones"
      ],
      "metadata": {
        "id": "8DN2Kr9j761d"
      }
    },
    {
      "cell_type": "code",
      "source": [
        "zero = torch.zeros(size=(3,4))\n",
        "zero"
      ],
      "metadata": {
        "colab": {
          "base_uri": "https://localhost:8080/"
        },
        "id": "tMVI1T0n722y",
        "outputId": "4306108b-13c8-41c9-af9f-235b5bbe252b"
      },
      "execution_count": 26,
      "outputs": [
        {
          "output_type": "execute_result",
          "data": {
            "text/plain": [
              "tensor([[0., 0., 0., 0.],\n",
              "        [0., 0., 0., 0.],\n",
              "        [0., 0., 0., 0.]])"
            ]
          },
          "metadata": {},
          "execution_count": 26
        }
      ]
    },
    {
      "cell_type": "code",
      "source": [
        "torch.rand(3,4) * zero"
      ],
      "metadata": {
        "colab": {
          "base_uri": "https://localhost:8080/"
        },
        "id": "rQuCY3UO4Ky0",
        "outputId": "ce570f70-cae3-4ca9-b97c-f89d3e879966"
      },
      "execution_count": 27,
      "outputs": [
        {
          "output_type": "execute_result",
          "data": {
            "text/plain": [
              "tensor([[0., 0., 0., 0.],\n",
              "        [0., 0., 0., 0.],\n",
              "        [0., 0., 0., 0.]])"
            ]
          },
          "metadata": {},
          "execution_count": 27
        }
      ]
    },
    {
      "cell_type": "code",
      "source": [
        "zero.dtype"
      ],
      "metadata": {
        "colab": {
          "base_uri": "https://localhost:8080/"
        },
        "id": "0w4gQdRWTwVi",
        "outputId": "9f086438-7054-4e0f-b1f4-7d524f6b1e4d"
      },
      "execution_count": 29,
      "outputs": [
        {
          "output_type": "execute_result",
          "data": {
            "text/plain": [
              "torch.float32"
            ]
          },
          "metadata": {},
          "execution_count": 29
        }
      ]
    },
    {
      "cell_type": "code",
      "source": [
        "# Ones\n",
        "one = torch.ones(5,6,7)\n",
        "one"
      ],
      "metadata": {
        "colab": {
          "base_uri": "https://localhost:8080/"
        },
        "id": "A3U-079IT2x4",
        "outputId": "df90b6f3-5dbc-4b57-88ab-a302da4df6b0"
      },
      "execution_count": 32,
      "outputs": [
        {
          "output_type": "execute_result",
          "data": {
            "text/plain": [
              "tensor([[[1., 1., 1., 1., 1., 1., 1.],\n",
              "         [1., 1., 1., 1., 1., 1., 1.],\n",
              "         [1., 1., 1., 1., 1., 1., 1.],\n",
              "         [1., 1., 1., 1., 1., 1., 1.],\n",
              "         [1., 1., 1., 1., 1., 1., 1.],\n",
              "         [1., 1., 1., 1., 1., 1., 1.]],\n",
              "\n",
              "        [[1., 1., 1., 1., 1., 1., 1.],\n",
              "         [1., 1., 1., 1., 1., 1., 1.],\n",
              "         [1., 1., 1., 1., 1., 1., 1.],\n",
              "         [1., 1., 1., 1., 1., 1., 1.],\n",
              "         [1., 1., 1., 1., 1., 1., 1.],\n",
              "         [1., 1., 1., 1., 1., 1., 1.]],\n",
              "\n",
              "        [[1., 1., 1., 1., 1., 1., 1.],\n",
              "         [1., 1., 1., 1., 1., 1., 1.],\n",
              "         [1., 1., 1., 1., 1., 1., 1.],\n",
              "         [1., 1., 1., 1., 1., 1., 1.],\n",
              "         [1., 1., 1., 1., 1., 1., 1.],\n",
              "         [1., 1., 1., 1., 1., 1., 1.]],\n",
              "\n",
              "        [[1., 1., 1., 1., 1., 1., 1.],\n",
              "         [1., 1., 1., 1., 1., 1., 1.],\n",
              "         [1., 1., 1., 1., 1., 1., 1.],\n",
              "         [1., 1., 1., 1., 1., 1., 1.],\n",
              "         [1., 1., 1., 1., 1., 1., 1.],\n",
              "         [1., 1., 1., 1., 1., 1., 1.]],\n",
              "\n",
              "        [[1., 1., 1., 1., 1., 1., 1.],\n",
              "         [1., 1., 1., 1., 1., 1., 1.],\n",
              "         [1., 1., 1., 1., 1., 1., 1.],\n",
              "         [1., 1., 1., 1., 1., 1., 1.],\n",
              "         [1., 1., 1., 1., 1., 1., 1.],\n",
              "         [1., 1., 1., 1., 1., 1., 1.]]])"
            ]
          },
          "metadata": {},
          "execution_count": 32
        }
      ]
    },
    {
      "cell_type": "code",
      "source": [
        "one.dtype"
      ],
      "metadata": {
        "colab": {
          "base_uri": "https://localhost:8080/"
        },
        "id": "2cGiEiKST9GA",
        "outputId": "d7f78a78-da22-4a9e-de30-45c1d3d427b3"
      },
      "execution_count": 34,
      "outputs": [
        {
          "output_type": "execute_result",
          "data": {
            "text/plain": [
              "torch.float32"
            ]
          },
          "metadata": {},
          "execution_count": 34
        }
      ]
    },
    {
      "cell_type": "code",
      "source": [],
      "metadata": {
        "id": "IgXGerXbUJKf"
      },
      "execution_count": null,
      "outputs": []
    }
  ]
}