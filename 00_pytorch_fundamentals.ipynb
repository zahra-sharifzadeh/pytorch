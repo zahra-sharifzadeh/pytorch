{
  "nbformat": 4,
  "nbformat_minor": 0,
  "metadata": {
    "colab": {
      "provenance": [],
      "authorship_tag": "ABX9TyOLKxe3HcCrWIlMrk5v3DqT",
      "include_colab_link": true
    },
    "kernelspec": {
      "name": "python3",
      "display_name": "Python 3"
    },
    "language_info": {
      "name": "python"
    },
    "gpuClass": "standard"
  },
  "cells": [
    {
      "cell_type": "markdown",
      "metadata": {
        "id": "view-in-github",
        "colab_type": "text"
      },
      "source": [
        "<a href=\"https://colab.research.google.com/github/zahra-sharifzadeh/pytorch/blob/main/00_pytorch_fundamentals.ipynb\" target=\"_parent\"><img src=\"https://colab.research.google.com/assets/colab-badge.svg\" alt=\"Open In Colab\"/></a>"
      ]
    },
    {
      "cell_type": "markdown",
      "source": [
        "## 00. Pytorch Fundamentals"
      ],
      "metadata": {
        "id": "H2GzD4lQ4skF"
      }
    },
    {
      "cell_type": "code",
      "execution_count": 2,
      "metadata": {
        "colab": {
          "base_uri": "https://localhost:8080/"
        },
        "id": "0MNrMbIsHaFV",
        "outputId": "48a68546-62db-4dda-a7a2-875c2953c700"
      },
      "outputs": [
        {
          "output_type": "stream",
          "name": "stdout",
          "text": [
            "Hello I'm Excited to learn Pytorch\n"
          ]
        }
      ],
      "source": [
        "print(\"Hello I'm Excited to learn Pytorch\")"
      ]
    },
    {
      "cell_type": "code",
      "source": [
        "!nvidia-smi"
      ],
      "metadata": {
        "colab": {
          "base_uri": "https://localhost:8080/"
        },
        "id": "cfaFclT4R0o2",
        "outputId": "63d22bd8-8e71-4fa5-b677-371f9a9ebb45"
      },
      "execution_count": 3,
      "outputs": [
        {
          "output_type": "stream",
          "name": "stdout",
          "text": [
            "NVIDIA-SMI has failed because it couldn't communicate with the NVIDIA driver. Make sure that the latest NVIDIA driver is installed and running.\n",
            "\n"
          ]
        }
      ]
    },
    {
      "cell_type": "code",
      "source": [
        "import torch\n",
        "import pandas as pd\n",
        "import numpy as np\n",
        "import matplotlib.pyplot as plt\n",
        "print(torch.__version__)"
      ],
      "metadata": {
        "colab": {
          "base_uri": "https://localhost:8080/"
        },
        "id": "G6asC8VpSQnT",
        "outputId": "be0414c0-78e2-49f5-df75-479de7649a59"
      },
      "execution_count": 4,
      "outputs": [
        {
          "output_type": "stream",
          "name": "stdout",
          "text": [
            "1.13.1+cu116\n"
          ]
        }
      ]
    },
    {
      "cell_type": "markdown",
      "source": [
        "# Introduction to Tensors\n",
        " ## Creating tensors"
      ],
      "metadata": {
        "id": "BiXgjHR9Voa_"
      }
    },
    {
      "cell_type": "markdown",
      "source": [
        "## scalar"
      ],
      "metadata": {
        "id": "CuGwTDKEW6D-"
      }
    },
    {
      "cell_type": "code",
      "source": [
        "# scalar\n",
        "scalar = torch.tensor(7)\n",
        "scalar"
      ],
      "metadata": {
        "colab": {
          "base_uri": "https://localhost:8080/"
        },
        "id": "FPMB5zMX5ZyX",
        "outputId": "30eddba6-1103-4174-ead2-7f58267c0442"
      },
      "execution_count": 5,
      "outputs": [
        {
          "output_type": "execute_result",
          "data": {
            "text/plain": [
              "tensor(7)"
            ]
          },
          "metadata": {},
          "execution_count": 5
        }
      ]
    },
    {
      "cell_type": "code",
      "source": [
        "scalar.ndim"
      ],
      "metadata": {
        "colab": {
          "base_uri": "https://localhost:8080/"
        },
        "id": "0uJo925sWRnX",
        "outputId": "7de23680-fe44-4863-c315-ea6d4ad07884"
      },
      "execution_count": 6,
      "outputs": [
        {
          "output_type": "execute_result",
          "data": {
            "text/plain": [
              "0"
            ]
          },
          "metadata": {},
          "execution_count": 6
        }
      ]
    },
    {
      "cell_type": "code",
      "source": [
        "# Get tensor back as python int\n",
        "scalar.item()"
      ],
      "metadata": {
        "colab": {
          "base_uri": "https://localhost:8080/"
        },
        "id": "29K1K_zFWptG",
        "outputId": "5888d8d3-ad69-4903-9967-10e3df31ef8f"
      },
      "execution_count": 7,
      "outputs": [
        {
          "output_type": "execute_result",
          "data": {
            "text/plain": [
              "7"
            ]
          },
          "metadata": {},
          "execution_count": 7
        }
      ]
    },
    {
      "cell_type": "markdown",
      "source": [
        "## Vectors"
      ],
      "metadata": {
        "id": "4rYqBQWBW8pr"
      }
    },
    {
      "cell_type": "code",
      "source": [
        "vector = torch.tensor([7,7])\n",
        "vector"
      ],
      "metadata": {
        "colab": {
          "base_uri": "https://localhost:8080/"
        },
        "id": "_P_QLqefW1s8",
        "outputId": "30fdf4c0-d1f5-4aa9-b4a9-cf3204c844e4"
      },
      "execution_count": 8,
      "outputs": [
        {
          "output_type": "execute_result",
          "data": {
            "text/plain": [
              "tensor([7, 7])"
            ]
          },
          "metadata": {},
          "execution_count": 8
        }
      ]
    },
    {
      "cell_type": "code",
      "source": [
        "vector.ndim"
      ],
      "metadata": {
        "colab": {
          "base_uri": "https://localhost:8080/"
        },
        "id": "1t824fZvW4_t",
        "outputId": "4f85447d-790d-4250-d188-d4c4f79dec6b"
      },
      "execution_count": 9,
      "outputs": [
        {
          "output_type": "execute_result",
          "data": {
            "text/plain": [
              "1"
            ]
          },
          "metadata": {},
          "execution_count": 9
        }
      ]
    },
    {
      "cell_type": "code",
      "source": [
        "vector.shape"
      ],
      "metadata": {
        "colab": {
          "base_uri": "https://localhost:8080/"
        },
        "id": "mLTMVNqqXcdU",
        "outputId": "0587acc6-d70d-4a2d-e377-ba34e76fe666"
      },
      "execution_count": 10,
      "outputs": [
        {
          "output_type": "execute_result",
          "data": {
            "text/plain": [
              "torch.Size([2])"
            ]
          },
          "metadata": {},
          "execution_count": 10
        }
      ]
    },
    {
      "cell_type": "markdown",
      "source": [
        "## MATRIX"
      ],
      "metadata": {
        "id": "MQSqTHCCXiJq"
      }
    },
    {
      "cell_type": "code",
      "source": [
        "MATRIX = torch.tensor([\n",
        "    [2, 3],\n",
        "    [4, 5]\n",
        "])\n",
        "MATRIX"
      ],
      "metadata": {
        "colab": {
          "base_uri": "https://localhost:8080/"
        },
        "id": "ium6HjO-XfrK",
        "outputId": "6292fae1-b41f-4978-8dc4-ec440e306835"
      },
      "execution_count": 11,
      "outputs": [
        {
          "output_type": "execute_result",
          "data": {
            "text/plain": [
              "tensor([[2, 3],\n",
              "        [4, 5]])"
            ]
          },
          "metadata": {},
          "execution_count": 11
        }
      ]
    },
    {
      "cell_type": "code",
      "source": [
        "MATRIX.ndim"
      ],
      "metadata": {
        "colab": {
          "base_uri": "https://localhost:8080/"
        },
        "id": "lyyA0WV4XvAx",
        "outputId": "b12eb59f-fb0e-4d57-c442-4dcfaad63e7e"
      },
      "execution_count": 12,
      "outputs": [
        {
          "output_type": "execute_result",
          "data": {
            "text/plain": [
              "2"
            ]
          },
          "metadata": {},
          "execution_count": 12
        }
      ]
    },
    {
      "cell_type": "code",
      "source": [
        "MATRIX.shape"
      ],
      "metadata": {
        "colab": {
          "base_uri": "https://localhost:8080/"
        },
        "id": "5tS5-JnVXyfp",
        "outputId": "69e840d7-40d8-4ae1-c57c-97c794254e4a"
      },
      "execution_count": 13,
      "outputs": [
        {
          "output_type": "execute_result",
          "data": {
            "text/plain": [
              "torch.Size([2, 2])"
            ]
          },
          "metadata": {},
          "execution_count": 13
        }
      ]
    },
    {
      "cell_type": "code",
      "source": [
        "print(MATRIX[0])\n",
        "print(\"*\"*20)\n",
        "print(MATRIX[1])"
      ],
      "metadata": {
        "colab": {
          "base_uri": "https://localhost:8080/"
        },
        "id": "Jr2sEhaYX6Jy",
        "outputId": "561998e7-0f7f-4ffb-863c-384b23581ec4"
      },
      "execution_count": 14,
      "outputs": [
        {
          "output_type": "stream",
          "name": "stdout",
          "text": [
            "tensor([2, 3])\n",
            "********************\n",
            "tensor([4, 5])\n"
          ]
        }
      ]
    },
    {
      "cell_type": "markdown",
      "source": [
        "## TENSOR"
      ],
      "metadata": {
        "id": "CzCwx-dgYQOX"
      }
    },
    {
      "cell_type": "code",
      "source": [
        "TENSOR = torch.tensor([[\n",
        "    [1,2,3],\n",
        "    [4,5,6],\n",
        "    [7,8,9]\n",
        "]])\n",
        "TENSOR"
      ],
      "metadata": {
        "colab": {
          "base_uri": "https://localhost:8080/"
        },
        "id": "RerL86GFYCtR",
        "outputId": "bbff5899-6750-4882-ab77-98318165b3d4"
      },
      "execution_count": 15,
      "outputs": [
        {
          "output_type": "execute_result",
          "data": {
            "text/plain": [
              "tensor([[[1, 2, 3],\n",
              "         [4, 5, 6],\n",
              "         [7, 8, 9]]])"
            ]
          },
          "metadata": {},
          "execution_count": 15
        }
      ]
    },
    {
      "cell_type": "code",
      "source": [
        "TENSOR.ndim"
      ],
      "metadata": {
        "colab": {
          "base_uri": "https://localhost:8080/"
        },
        "id": "dcJmM5nGYj3u",
        "outputId": "a6abec47-d8ff-428d-a7c2-547bb121477b"
      },
      "execution_count": 16,
      "outputs": [
        {
          "output_type": "execute_result",
          "data": {
            "text/plain": [
              "3"
            ]
          },
          "metadata": {},
          "execution_count": 16
        }
      ]
    },
    {
      "cell_type": "code",
      "source": [
        "TENSOR.shape"
      ],
      "metadata": {
        "colab": {
          "base_uri": "https://localhost:8080/"
        },
        "id": "Bv0-b8l-YoMW",
        "outputId": "9ecb62e8-d5b5-4222-cabe-dec1dc537f87"
      },
      "execution_count": 17,
      "outputs": [
        {
          "output_type": "execute_result",
          "data": {
            "text/plain": [
              "torch.Size([1, 3, 3])"
            ]
          },
          "metadata": {},
          "execution_count": 17
        }
      ]
    },
    {
      "cell_type": "code",
      "source": [
        "TENSOR2= torch.tensor([\n",
        "    [[1,2,3],\n",
        "    [4,5,6],\n",
        "    [7,8,9]],\n",
        "    \n",
        "    [[10,11,12],\n",
        "    [12,13,14],\n",
        "    [15,16,17]]\n",
        "\n",
        "])\n",
        "TENSOR2"
      ],
      "metadata": {
        "colab": {
          "base_uri": "https://localhost:8080/"
        },
        "id": "34H8_y21YrBu",
        "outputId": "355ea2e9-3326-4ffc-be5e-80346fd2cad7"
      },
      "execution_count": 18,
      "outputs": [
        {
          "output_type": "execute_result",
          "data": {
            "text/plain": [
              "tensor([[[ 1,  2,  3],\n",
              "         [ 4,  5,  6],\n",
              "         [ 7,  8,  9]],\n",
              "\n",
              "        [[10, 11, 12],\n",
              "         [12, 13, 14],\n",
              "         [15, 16, 17]]])"
            ]
          },
          "metadata": {},
          "execution_count": 18
        }
      ]
    },
    {
      "cell_type": "code",
      "source": [
        "TENSOR2.ndim"
      ],
      "metadata": {
        "colab": {
          "base_uri": "https://localhost:8080/"
        },
        "id": "iP9jsCMPZfJ9",
        "outputId": "63ca1199-71ab-40d6-8f1c-2c2eddd8e457"
      },
      "execution_count": 19,
      "outputs": [
        {
          "output_type": "execute_result",
          "data": {
            "text/plain": [
              "3"
            ]
          },
          "metadata": {},
          "execution_count": 19
        }
      ]
    },
    {
      "cell_type": "code",
      "source": [
        "TENSOR2.shape"
      ],
      "metadata": {
        "colab": {
          "base_uri": "https://localhost:8080/"
        },
        "id": "xyCHv-i1ZsS7",
        "outputId": "f2f4e9c6-4c33-4116-c013-3feafc22030f"
      },
      "execution_count": 20,
      "outputs": [
        {
          "output_type": "execute_result",
          "data": {
            "text/plain": [
              "torch.Size([2, 3, 3])"
            ]
          },
          "metadata": {},
          "execution_count": 20
        }
      ]
    },
    {
      "cell_type": "markdown",
      "source": [
        "### RAndom TenSors\n",
        "Neural Network start learning with Random Tensors"
      ],
      "metadata": {
        "id": "r5uNecVr21i5"
      }
    },
    {
      "cell_type": "code",
      "source": [
        "random_tensor = torch.rand(3, 4)\n",
        "random_tensor"
      ],
      "metadata": {
        "colab": {
          "base_uri": "https://localhost:8080/"
        },
        "id": "GjZVImus22ct",
        "outputId": "0ba7b332-6efd-45fd-b555-a2b577e484c2"
      },
      "execution_count": 21,
      "outputs": [
        {
          "output_type": "execute_result",
          "data": {
            "text/plain": [
              "tensor([[0.3497, 0.1314, 0.1602, 0.9091],\n",
              "        [0.7243, 0.9688, 0.8912, 0.2219],\n",
              "        [0.3369, 0.5911, 0.2812, 0.3976]])"
            ]
          },
          "metadata": {},
          "execution_count": 21
        }
      ]
    },
    {
      "cell_type": "code",
      "source": [
        "random_tensor.ndim"
      ],
      "metadata": {
        "colab": {
          "base_uri": "https://localhost:8080/"
        },
        "id": "Cm1GR0cb3uMS",
        "outputId": "8fa6d1b1-ca99-4cf2-eb25-7c6b4aee0a36"
      },
      "execution_count": 22,
      "outputs": [
        {
          "output_type": "execute_result",
          "data": {
            "text/plain": [
              "2"
            ]
          },
          "metadata": {},
          "execution_count": 22
        }
      ]
    },
    {
      "cell_type": "code",
      "source": [
        "random_tensor2 = torch.rand(5, 5, 10)\n",
        "random_tensor2"
      ],
      "metadata": {
        "colab": {
          "base_uri": "https://localhost:8080/"
        },
        "id": "9s4m-Zzt3h6X",
        "outputId": "57398b88-39b9-4fa3-dc58-7a6b0222a4aa"
      },
      "execution_count": 23,
      "outputs": [
        {
          "output_type": "execute_result",
          "data": {
            "text/plain": [
              "tensor([[[0.3833, 0.9724, 0.6656, 0.8230, 0.6591, 0.1811, 0.0016, 0.8471,\n",
              "          0.3082, 0.7984],\n",
              "         [0.1493, 0.5134, 0.8641, 0.6117, 0.2041, 0.8237, 0.7116, 0.0200,\n",
              "          0.2285, 0.4774],\n",
              "         [0.1133, 0.1236, 0.8963, 0.5233, 0.7906, 0.3134, 0.9208, 0.9321,\n",
              "          0.0143, 0.0680],\n",
              "         [0.4049, 0.3646, 0.2643, 0.2656, 0.1758, 0.3212, 0.2241, 0.5120,\n",
              "          0.0527, 0.2708],\n",
              "         [0.2237, 0.9508, 0.2639, 0.2683, 0.1294, 0.8231, 0.9502, 0.3862,\n",
              "          0.1009, 0.2718]],\n",
              "\n",
              "        [[0.2482, 0.5524, 0.1938, 0.0225, 0.3031, 0.1162, 0.2803, 0.0116,\n",
              "          0.0104, 0.3696],\n",
              "         [0.4860, 0.8053, 0.3633, 0.0637, 0.2952, 0.8317, 0.6741, 0.1024,\n",
              "          0.5252, 0.8677],\n",
              "         [0.6050, 0.8118, 0.4171, 0.5598, 0.5135, 0.6843, 0.3922, 0.3746,\n",
              "          0.8939, 0.0920],\n",
              "         [0.2493, 0.6515, 0.8435, 0.0630, 0.7814, 0.3851, 0.6339, 0.6765,\n",
              "          0.9522, 0.4914],\n",
              "         [0.1381, 0.7003, 0.3993, 0.2009, 0.7597, 0.7547, 0.7837, 0.5135,\n",
              "          0.4210, 0.3723]],\n",
              "\n",
              "        [[0.8661, 0.6456, 0.1747, 0.7103, 0.5094, 0.9023, 0.9851, 0.0164,\n",
              "          0.9705, 0.5718],\n",
              "         [0.0980, 0.0093, 0.3709, 0.5708, 0.2263, 0.6762, 0.9847, 0.0741,\n",
              "          0.2300, 0.2258],\n",
              "         [0.8510, 0.9292, 0.5071, 0.2751, 0.2238, 0.4054, 0.1108, 0.3744,\n",
              "          0.9338, 0.3492],\n",
              "         [0.6756, 0.9405, 0.1406, 0.1852, 0.2444, 0.9228, 0.4244, 0.8276,\n",
              "          0.1239, 0.2020],\n",
              "         [0.8603, 0.6463, 0.4084, 0.3049, 0.0848, 0.7392, 0.1930, 0.8323,\n",
              "          0.2043, 0.1207]],\n",
              "\n",
              "        [[0.7958, 0.7031, 0.1113, 0.8934, 0.6456, 0.5021, 0.4683, 0.6495,\n",
              "          0.3320, 0.7163],\n",
              "         [0.4884, 0.0934, 0.7571, 0.2022, 0.7497, 0.8316, 0.8908, 0.5083,\n",
              "          0.2508, 0.9579],\n",
              "         [0.8494, 0.4550, 0.2395, 0.1535, 0.9996, 0.3949, 0.3444, 0.8108,\n",
              "          0.8663, 0.4330],\n",
              "         [0.8705, 0.1388, 0.4602, 0.2249, 0.2642, 0.4912, 0.8729, 0.3540,\n",
              "          0.6801, 0.5717],\n",
              "         [0.9800, 0.4973, 0.5464, 0.1884, 0.0192, 0.1547, 0.6913, 0.0238,\n",
              "          0.0271, 0.3386]],\n",
              "\n",
              "        [[0.6083, 0.0389, 0.7437, 0.3337, 0.3704, 0.5906, 0.8330, 0.5751,\n",
              "          0.3901, 0.9850],\n",
              "         [0.3331, 0.5193, 0.4772, 0.9519, 0.1603, 0.3434, 0.1121, 0.8238,\n",
              "          0.0377, 0.7374],\n",
              "         [0.2648, 0.7285, 0.8896, 0.4812, 0.3489, 0.4305, 0.0823, 0.4524,\n",
              "          0.5107, 0.5506],\n",
              "         [0.4054, 0.0183, 0.6359, 0.6535, 0.2825, 0.7659, 0.3670, 0.1334,\n",
              "          0.9515, 0.8757],\n",
              "         [0.0841, 0.2854, 0.8149, 0.9080, 0.2896, 0.6271, 0.0597, 0.7180,\n",
              "          0.9342, 0.3338]]])"
            ]
          },
          "metadata": {},
          "execution_count": 23
        }
      ]
    },
    {
      "cell_type": "code",
      "source": [
        "random_tensor2.ndim"
      ],
      "metadata": {
        "colab": {
          "base_uri": "https://localhost:8080/"
        },
        "id": "3lWPbIpB3q8e",
        "outputId": "473e3fb3-cbec-4184-c651-85e98f8e743b"
      },
      "execution_count": 24,
      "outputs": [
        {
          "output_type": "execute_result",
          "data": {
            "text/plain": [
              "3"
            ]
          },
          "metadata": {},
          "execution_count": 24
        }
      ]
    },
    {
      "cell_type": "code",
      "source": [
        "# Creat a random tensor similar to shape of image\n",
        "random_image_size_tensor = torch.rand(size=(224, 224, 3)) # h,w,color channels\n",
        "random_image_size_tensor.shape , random_image_size_tensor.ndim"
      ],
      "metadata": {
        "colab": {
          "base_uri": "https://localhost:8080/"
        },
        "id": "nChdouqN34yN",
        "outputId": "4d6a1542-c0d6-4976-803a-c2991caa75bf"
      },
      "execution_count": 25,
      "outputs": [
        {
          "output_type": "execute_result",
          "data": {
            "text/plain": [
              "(torch.Size([224, 224, 3]), 3)"
            ]
          },
          "metadata": {},
          "execution_count": 25
        }
      ]
    },
    {
      "cell_type": "markdown",
      "source": [
        "### Zeros and Ones"
      ],
      "metadata": {
        "id": "8DN2Kr9j761d"
      }
    },
    {
      "cell_type": "code",
      "source": [
        "zero = torch.zeros(size=(3,4))\n",
        "zero"
      ],
      "metadata": {
        "colab": {
          "base_uri": "https://localhost:8080/"
        },
        "id": "tMVI1T0n722y",
        "outputId": "5506a821-ead9-48bb-d5ba-bc93abe0d62d"
      },
      "execution_count": 26,
      "outputs": [
        {
          "output_type": "execute_result",
          "data": {
            "text/plain": [
              "tensor([[0., 0., 0., 0.],\n",
              "        [0., 0., 0., 0.],\n",
              "        [0., 0., 0., 0.]])"
            ]
          },
          "metadata": {},
          "execution_count": 26
        }
      ]
    },
    {
      "cell_type": "code",
      "source": [
        "torch.rand(3,4) * zero"
      ],
      "metadata": {
        "colab": {
          "base_uri": "https://localhost:8080/"
        },
        "id": "rQuCY3UO4Ky0",
        "outputId": "c0fadd35-3079-49b2-d466-3a3be89ac4a8"
      },
      "execution_count": 27,
      "outputs": [
        {
          "output_type": "execute_result",
          "data": {
            "text/plain": [
              "tensor([[0., 0., 0., 0.],\n",
              "        [0., 0., 0., 0.],\n",
              "        [0., 0., 0., 0.]])"
            ]
          },
          "metadata": {},
          "execution_count": 27
        }
      ]
    },
    {
      "cell_type": "code",
      "source": [
        "zero.dtype"
      ],
      "metadata": {
        "colab": {
          "base_uri": "https://localhost:8080/"
        },
        "id": "0w4gQdRWTwVi",
        "outputId": "203bdf86-c830-4c48-d8eb-bb8fac6dc148"
      },
      "execution_count": 28,
      "outputs": [
        {
          "output_type": "execute_result",
          "data": {
            "text/plain": [
              "torch.float32"
            ]
          },
          "metadata": {},
          "execution_count": 28
        }
      ]
    },
    {
      "cell_type": "code",
      "source": [
        "# Ones\n",
        "one = torch.ones(5,6,7)\n",
        "one"
      ],
      "metadata": {
        "colab": {
          "base_uri": "https://localhost:8080/"
        },
        "id": "A3U-079IT2x4",
        "outputId": "632ee787-27fb-4372-ae94-965968876cdc"
      },
      "execution_count": 29,
      "outputs": [
        {
          "output_type": "execute_result",
          "data": {
            "text/plain": [
              "tensor([[[1., 1., 1., 1., 1., 1., 1.],\n",
              "         [1., 1., 1., 1., 1., 1., 1.],\n",
              "         [1., 1., 1., 1., 1., 1., 1.],\n",
              "         [1., 1., 1., 1., 1., 1., 1.],\n",
              "         [1., 1., 1., 1., 1., 1., 1.],\n",
              "         [1., 1., 1., 1., 1., 1., 1.]],\n",
              "\n",
              "        [[1., 1., 1., 1., 1., 1., 1.],\n",
              "         [1., 1., 1., 1., 1., 1., 1.],\n",
              "         [1., 1., 1., 1., 1., 1., 1.],\n",
              "         [1., 1., 1., 1., 1., 1., 1.],\n",
              "         [1., 1., 1., 1., 1., 1., 1.],\n",
              "         [1., 1., 1., 1., 1., 1., 1.]],\n",
              "\n",
              "        [[1., 1., 1., 1., 1., 1., 1.],\n",
              "         [1., 1., 1., 1., 1., 1., 1.],\n",
              "         [1., 1., 1., 1., 1., 1., 1.],\n",
              "         [1., 1., 1., 1., 1., 1., 1.],\n",
              "         [1., 1., 1., 1., 1., 1., 1.],\n",
              "         [1., 1., 1., 1., 1., 1., 1.]],\n",
              "\n",
              "        [[1., 1., 1., 1., 1., 1., 1.],\n",
              "         [1., 1., 1., 1., 1., 1., 1.],\n",
              "         [1., 1., 1., 1., 1., 1., 1.],\n",
              "         [1., 1., 1., 1., 1., 1., 1.],\n",
              "         [1., 1., 1., 1., 1., 1., 1.],\n",
              "         [1., 1., 1., 1., 1., 1., 1.]],\n",
              "\n",
              "        [[1., 1., 1., 1., 1., 1., 1.],\n",
              "         [1., 1., 1., 1., 1., 1., 1.],\n",
              "         [1., 1., 1., 1., 1., 1., 1.],\n",
              "         [1., 1., 1., 1., 1., 1., 1.],\n",
              "         [1., 1., 1., 1., 1., 1., 1.],\n",
              "         [1., 1., 1., 1., 1., 1., 1.]]])"
            ]
          },
          "metadata": {},
          "execution_count": 29
        }
      ]
    },
    {
      "cell_type": "code",
      "source": [
        "one.dtype"
      ],
      "metadata": {
        "colab": {
          "base_uri": "https://localhost:8080/"
        },
        "id": "2cGiEiKST9GA",
        "outputId": "5d6febfe-056e-49e5-e80f-07f56a0080f8"
      },
      "execution_count": 30,
      "outputs": [
        {
          "output_type": "execute_result",
          "data": {
            "text/plain": [
              "torch.float32"
            ]
          },
          "metadata": {},
          "execution_count": 30
        }
      ]
    },
    {
      "cell_type": "markdown",
      "source": [
        "### creating range of tensors and tensor like"
      ],
      "metadata": {
        "id": "SdKPlaO9VLgc"
      }
    },
    {
      "cell_type": "code",
      "source": [
        "torch.range(1,10)"
      ],
      "metadata": {
        "colab": {
          "base_uri": "https://localhost:8080/"
        },
        "id": "IgXGerXbUJKf",
        "outputId": "73ed1e33-b2c9-4a0e-b0de-5acf456c32aa"
      },
      "execution_count": 31,
      "outputs": [
        {
          "output_type": "stream",
          "name": "stderr",
          "text": [
            "<ipython-input-31-a2647884754e>:1: UserWarning: torch.range is deprecated and will be removed in a future release because its behavior is inconsistent with Python's range builtin. Instead, use torch.arange, which produces values in [start, end).\n",
            "  torch.range(1,10)\n"
          ]
        },
        {
          "output_type": "execute_result",
          "data": {
            "text/plain": [
              "tensor([ 1.,  2.,  3.,  4.,  5.,  6.,  7.,  8.,  9., 10.])"
            ]
          },
          "metadata": {},
          "execution_count": 31
        }
      ]
    },
    {
      "cell_type": "code",
      "source": [
        "one_to_ten = torch.arange(1,11)\n",
        "one_to_ten"
      ],
      "metadata": {
        "colab": {
          "base_uri": "https://localhost:8080/"
        },
        "id": "aaaW5l6htPOk",
        "outputId": "b2f46c92-b6be-4d5c-c022-0684788da23f"
      },
      "execution_count": 32,
      "outputs": [
        {
          "output_type": "execute_result",
          "data": {
            "text/plain": [
              "tensor([ 1,  2,  3,  4,  5,  6,  7,  8,  9, 10])"
            ]
          },
          "metadata": {},
          "execution_count": 32
        }
      ]
    },
    {
      "cell_type": "code",
      "source": [
        "torch.arange(start=1, end=1000, step=63)"
      ],
      "metadata": {
        "colab": {
          "base_uri": "https://localhost:8080/"
        },
        "id": "NJJ93jmutdW7",
        "outputId": "881194f2-bd7b-45e6-f031-b5867afd4942"
      },
      "execution_count": 33,
      "outputs": [
        {
          "output_type": "execute_result",
          "data": {
            "text/plain": [
              "tensor([  1,  64, 127, 190, 253, 316, 379, 442, 505, 568, 631, 694, 757, 820,\n",
              "        883, 946])"
            ]
          },
          "metadata": {},
          "execution_count": 33
        }
      ]
    },
    {
      "cell_type": "markdown",
      "source": [
        "### Tensor like"
      ],
      "metadata": {
        "id": "KgZDYmyrt16g"
      }
    },
    {
      "cell_type": "code",
      "source": [
        "ten_zeros = torch.zeros_like(one_to_ten)\n",
        "ten_zeros"
      ],
      "metadata": {
        "colab": {
          "base_uri": "https://localhost:8080/"
        },
        "id": "PavmWG5wtzx5",
        "outputId": "b9bceccc-6b87-41f4-aee3-88f828207698"
      },
      "execution_count": 34,
      "outputs": [
        {
          "output_type": "execute_result",
          "data": {
            "text/plain": [
              "tensor([0, 0, 0, 0, 0, 0, 0, 0, 0, 0])"
            ]
          },
          "metadata": {},
          "execution_count": 34
        }
      ]
    },
    {
      "cell_type": "markdown",
      "source": [
        "### Tensor datatype"
      ],
      "metadata": {
        "id": "IbCfKG-8uluT"
      }
    },
    {
      "cell_type": "code",
      "source": [
        "float_32_tensor = torch.tensor([3.0, 4.0, 5.0, 6.0], dtype=None)\n",
        "print(float_32_tensor)\n",
        "print(float_32_tensor.dtype)"
      ],
      "metadata": {
        "colab": {
          "base_uri": "https://localhost:8080/"
        },
        "id": "_aniFqSXuI7w",
        "outputId": "2ae6385a-eb2e-4064-fda2-a1627ec41d6f"
      },
      "execution_count": 35,
      "outputs": [
        {
          "output_type": "stream",
          "name": "stdout",
          "text": [
            "tensor([3., 4., 5., 6.])\n",
            "torch.float32\n"
          ]
        }
      ]
    },
    {
      "cell_type": "code",
      "source": [
        "float_16_tensor = torch.tensor([3.0, 4.0, 5.0, 6.0], dtype=torch.float16)\n",
        "print(float_16_tensor)\n",
        "print(float_16_tensor.dtype)"
      ],
      "metadata": {
        "colab": {
          "base_uri": "https://localhost:8080/"
        },
        "id": "vG3iFBMXvMUs",
        "outputId": "f07154af-4ae7-4d11-c3ca-d628dbd41d50"
      },
      "execution_count": 36,
      "outputs": [
        {
          "output_type": "stream",
          "name": "stdout",
          "text": [
            "tensor([3., 4., 5., 6.], dtype=torch.float16)\n",
            "torch.float16\n"
          ]
        }
      ]
    },
    {
      "cell_type": "code",
      "source": [
        "a = torch.tensor([3.0, 4.0, 5.0, 6.0], \n",
        "                 dtype=None,\n",
        "                 device=None,\n",
        "                 requires_grad=False\n",
        "                 )\n",
        "print(a)\n",
        "print(a.dtype)"
      ],
      "metadata": {
        "colab": {
          "base_uri": "https://localhost:8080/"
        },
        "id": "2YKhs5fZvYr2",
        "outputId": "74cc9be7-9392-4684-da0d-dd39c64efc3f"
      },
      "execution_count": 37,
      "outputs": [
        {
          "output_type": "stream",
          "name": "stdout",
          "text": [
            "tensor([3., 4., 5., 6.])\n",
            "torch.float32\n"
          ]
        }
      ]
    },
    {
      "cell_type": "code",
      "source": [
        "a = torch.tensor([3.0, 4.0, 5.0, 6.0], \n",
        "                 dtype=None,\n",
        "                 device='cpu',\n",
        "                 requires_grad=False\n",
        "                 )\n",
        "print(a)\n",
        "print(a.dtype)"
      ],
      "metadata": {
        "colab": {
          "base_uri": "https://localhost:8080/"
        },
        "id": "-xa_96Crv5G7",
        "outputId": "e6a3a20b-9472-4e51-d8e5-45b0bd2ab155"
      },
      "execution_count": 38,
      "outputs": [
        {
          "output_type": "stream",
          "name": "stdout",
          "text": [
            "tensor([3., 4., 5., 6.])\n",
            "torch.float32\n"
          ]
        }
      ]
    },
    {
      "cell_type": "code",
      "source": [
        "float_16_tensor = float_32_tensor.type(torch.float16)\n",
        "float_16_tensor"
      ],
      "metadata": {
        "colab": {
          "base_uri": "https://localhost:8080/"
        },
        "id": "iUElFQxvofre",
        "outputId": "cdd00e9c-8c3a-4192-f7e6-8b8ce11bd456"
      },
      "execution_count": 39,
      "outputs": [
        {
          "output_type": "execute_result",
          "data": {
            "text/plain": [
              "tensor([3., 4., 5., 6.], dtype=torch.float16)"
            ]
          },
          "metadata": {},
          "execution_count": 39
        }
      ]
    },
    {
      "cell_type": "code",
      "source": [
        "m = float_16_tensor * float_32_tensor\n",
        "print(m)\n",
        "print(m.dtype)"
      ],
      "metadata": {
        "colab": {
          "base_uri": "https://localhost:8080/"
        },
        "id": "C0kplWMko7C5",
        "outputId": "00649ed5-8c0c-4940-dd35-f05c8bf80659"
      },
      "execution_count": 40,
      "outputs": [
        {
          "output_type": "stream",
          "name": "stdout",
          "text": [
            "tensor([ 9., 16., 25., 36.])\n",
            "torch.float32\n"
          ]
        }
      ]
    },
    {
      "cell_type": "code",
      "source": [
        "m = float_16_tensor * float_16_tensor\n",
        "m"
      ],
      "metadata": {
        "colab": {
          "base_uri": "https://localhost:8080/"
        },
        "id": "jUVoPV3UpJWR",
        "outputId": "b68f8ddf-1a9d-4589-a278-7fbc2760b8fa"
      },
      "execution_count": 41,
      "outputs": [
        {
          "output_type": "execute_result",
          "data": {
            "text/plain": [
              "tensor([ 9., 16., 25., 36.], dtype=torch.float16)"
            ]
          },
          "metadata": {},
          "execution_count": 41
        }
      ]
    },
    {
      "cell_type": "code",
      "source": [
        "int_32_tensor = torch.tensor([3, 7, 8], dtype=torch.int32)\n",
        "int_32_tensor"
      ],
      "metadata": {
        "colab": {
          "base_uri": "https://localhost:8080/"
        },
        "id": "UlS5dnR5pTd4",
        "outputId": "ec77139e-0ee7-4810-ed56-0581c143bc98"
      },
      "execution_count": 42,
      "outputs": [
        {
          "output_type": "execute_result",
          "data": {
            "text/plain": [
              "tensor([3, 7, 8], dtype=torch.int32)"
            ]
          },
          "metadata": {},
          "execution_count": 42
        }
      ]
    },
    {
      "cell_type": "markdown",
      "source": [
        "Most important Error"
      ],
      "metadata": {
        "id": "YVTvpA7x6nBs"
      }
    },
    {
      "cell_type": "code",
      "source": [
        "# float_32_tensor * int_32_tensor "
      ],
      "metadata": {
        "id": "_0ZtE2ty6L5w"
      },
      "execution_count": 43,
      "outputs": []
    },
    {
      "cell_type": "code",
      "source": [
        "# int_32_tensor * float_16_tensor"
      ],
      "metadata": {
        "id": "WXnua9ZpplSz"
      },
      "execution_count": 44,
      "outputs": []
    },
    {
      "cell_type": "markdown",
      "source": [
        "### Getting information from Tensors "
      ],
      "metadata": {
        "id": "yf1or7JE62FX"
      }
    },
    {
      "cell_type": "code",
      "source": [
        "some_tensor = torch.rand(3,4)\n",
        "some_tensor"
      ],
      "metadata": {
        "colab": {
          "base_uri": "https://localhost:8080/"
        },
        "id": "3jSTmdxJ6Jri",
        "outputId": "f75d8ee0-ea7b-4362-894a-7a6d5e2bf1c1"
      },
      "execution_count": 45,
      "outputs": [
        {
          "output_type": "execute_result",
          "data": {
            "text/plain": [
              "tensor([[0.1634, 0.5744, 0.2710, 0.8795],\n",
              "        [0.0408, 0.9243, 0.1785, 0.4612],\n",
              "        [0.5768, 0.5165, 0.0030, 0.2805]])"
            ]
          },
          "metadata": {},
          "execution_count": 45
        }
      ]
    },
    {
      "cell_type": "code",
      "source": [
        "print(some_tensor)\n",
        "print(f\"Datatype of tensor: {some_tensor.dtype}\")\n",
        "print(f\"Shape of tensor: {some_tensor.shape}\")\n",
        "print(f\"Device tensor is on: {some_tensor.device}\")"
      ],
      "metadata": {
        "colab": {
          "base_uri": "https://localhost:8080/"
        },
        "id": "xgEkbpml7FCH",
        "outputId": "935960c1-a483-4589-9dfc-e97380bf519d"
      },
      "execution_count": 46,
      "outputs": [
        {
          "output_type": "stream",
          "name": "stdout",
          "text": [
            "tensor([[0.1634, 0.5744, 0.2710, 0.8795],\n",
            "        [0.0408, 0.9243, 0.1785, 0.4612],\n",
            "        [0.5768, 0.5165, 0.0030, 0.2805]])\n",
            "Datatype of tensor: torch.float32\n",
            "Shape of tensor: torch.Size([3, 4])\n",
            "Device tensor is on: cpu\n"
          ]
        }
      ]
    },
    {
      "cell_type": "markdown",
      "source": [
        "### Manipulating tensors"
      ],
      "metadata": {
        "id": "VZ8A9TEW8E9W"
      }
    },
    {
      "cell_type": "code",
      "source": [
        "%%time\n",
        "my_tensor = torch.tensor([1, 3, 5])\n",
        "my_tensor + 10"
      ],
      "metadata": {
        "colab": {
          "base_uri": "https://localhost:8080/"
        },
        "id": "oXLK0rG57tVN",
        "outputId": "7f1646ec-f7b0-44f2-a8f3-8e2da802dcc1"
      },
      "execution_count": 47,
      "outputs": [
        {
          "output_type": "stream",
          "name": "stdout",
          "text": [
            "CPU times: user 1.3 ms, sys: 36 µs, total: 1.34 ms\n",
            "Wall time: 3.19 ms\n"
          ]
        },
        {
          "output_type": "execute_result",
          "data": {
            "text/plain": [
              "tensor([11, 13, 15])"
            ]
          },
          "metadata": {},
          "execution_count": 47
        }
      ]
    },
    {
      "cell_type": "code",
      "source": [
        "%%time\n",
        "my_tensor * 10"
      ],
      "metadata": {
        "colab": {
          "base_uri": "https://localhost:8080/"
        },
        "id": "83E3kg9b90qe",
        "outputId": "4edda936-6ca1-433e-d784-0848ac95a9b8"
      },
      "execution_count": 48,
      "outputs": [
        {
          "output_type": "stream",
          "name": "stdout",
          "text": [
            "CPU times: user 0 ns, sys: 1.18 ms, total: 1.18 ms\n",
            "Wall time: 935 µs\n"
          ]
        },
        {
          "output_type": "execute_result",
          "data": {
            "text/plain": [
              "tensor([10, 30, 50])"
            ]
          },
          "metadata": {},
          "execution_count": 48
        }
      ]
    },
    {
      "cell_type": "code",
      "source": [
        "%%time\n",
        "my_tensor - 10"
      ],
      "metadata": {
        "colab": {
          "base_uri": "https://localhost:8080/"
        },
        "id": "yfoNFwsm94E9",
        "outputId": "6a852254-49ad-44e3-dfb0-97b87779fb35"
      },
      "execution_count": 49,
      "outputs": [
        {
          "output_type": "stream",
          "name": "stdout",
          "text": [
            "CPU times: user 2.2 ms, sys: 0 ns, total: 2.2 ms\n",
            "Wall time: 6.56 ms\n"
          ]
        },
        {
          "output_type": "execute_result",
          "data": {
            "text/plain": [
              "tensor([-9, -7, -5])"
            ]
          },
          "metadata": {},
          "execution_count": 49
        }
      ]
    },
    {
      "cell_type": "markdown",
      "source": [
        "### Built in functions "
      ],
      "metadata": {
        "id": "nPshdbuy-jfn"
      }
    },
    {
      "cell_type": "code",
      "source": [
        "%%time\n",
        "torch.mul(my_tensor , 10)"
      ],
      "metadata": {
        "colab": {
          "base_uri": "https://localhost:8080/"
        },
        "id": "q_t6rjW_-IN-",
        "outputId": "c5adb095-53ea-4b1d-dfd8-9ee2631bbe0f"
      },
      "execution_count": 50,
      "outputs": [
        {
          "output_type": "stream",
          "name": "stdout",
          "text": [
            "CPU times: user 89 µs, sys: 11 µs, total: 100 µs\n",
            "Wall time: 105 µs\n"
          ]
        },
        {
          "output_type": "execute_result",
          "data": {
            "text/plain": [
              "tensor([10, 30, 50])"
            ]
          },
          "metadata": {},
          "execution_count": 50
        }
      ]
    },
    {
      "cell_type": "code",
      "source": [
        "%%time\n",
        "torch.add(my_tensor, 10)"
      ],
      "metadata": {
        "colab": {
          "base_uri": "https://localhost:8080/"
        },
        "id": "BvXgnESI-NzM",
        "outputId": "63a21e4d-63da-4229-9a8a-252f46d8fc93"
      },
      "execution_count": 51,
      "outputs": [
        {
          "output_type": "stream",
          "name": "stdout",
          "text": [
            "CPU times: user 108 µs, sys: 14 µs, total: 122 µs\n",
            "Wall time: 125 µs\n"
          ]
        },
        {
          "output_type": "execute_result",
          "data": {
            "text/plain": [
              "tensor([11, 13, 15])"
            ]
          },
          "metadata": {},
          "execution_count": 51
        }
      ]
    },
    {
      "cell_type": "markdown",
      "source": [
        "### Matrix Multiplication"
      ],
      "metadata": {
        "id": "oM5nDDfT-psS"
      }
    },
    {
      "cell_type": "code",
      "source": [
        "print(my_tensor, \"*\", my_tensor)\n",
        "my_tensor * my_tensor"
      ],
      "metadata": {
        "colab": {
          "base_uri": "https://localhost:8080/"
        },
        "id": "9wy8eYKM-Wwk",
        "outputId": "5fe339be-efcf-4430-d7d9-38fefd309f3d"
      },
      "execution_count": 52,
      "outputs": [
        {
          "output_type": "stream",
          "name": "stdout",
          "text": [
            "tensor([1, 3, 5]) * tensor([1, 3, 5])\n"
          ]
        },
        {
          "output_type": "execute_result",
          "data": {
            "text/plain": [
              "tensor([ 1,  9, 25])"
            ]
          },
          "metadata": {},
          "execution_count": 52
        }
      ]
    },
    {
      "cell_type": "code",
      "source": [
        "torch.matmul(my_tensor, my_tensor)"
      ],
      "metadata": {
        "colab": {
          "base_uri": "https://localhost:8080/"
        },
        "id": "3OaV4tHkEle4",
        "outputId": "3a6655b8-41c2-47ae-f417-95fe06430990"
      },
      "execution_count": 53,
      "outputs": [
        {
          "output_type": "execute_result",
          "data": {
            "text/plain": [
              "tensor(35)"
            ]
          },
          "metadata": {},
          "execution_count": 53
        }
      ]
    },
    {
      "cell_type": "code",
      "source": [
        "#matrix multi by hand\n",
        "1*1 + 3*3 + 5*5"
      ],
      "metadata": {
        "colab": {
          "base_uri": "https://localhost:8080/"
        },
        "id": "gQM5jOe4E2mm",
        "outputId": "56b9e920-9151-45e5-a3f8-7308064119c5"
      },
      "execution_count": 54,
      "outputs": [
        {
          "output_type": "execute_result",
          "data": {
            "text/plain": [
              "35"
            ]
          },
          "metadata": {},
          "execution_count": 54
        }
      ]
    },
    {
      "cell_type": "code",
      "source": [
        "%%time\n",
        "v=0\n",
        "for i in my_tensor:\n",
        "  v += i * i\n",
        "print(v) "
      ],
      "metadata": {
        "colab": {
          "base_uri": "https://localhost:8080/"
        },
        "id": "mJBP6nQmFEVv",
        "outputId": "9bd32560-b824-4a2f-8cbb-ac29696b28f0"
      },
      "execution_count": 55,
      "outputs": [
        {
          "output_type": "stream",
          "name": "stdout",
          "text": [
            "tensor(35)\n",
            "CPU times: user 1.59 ms, sys: 73 µs, total: 1.67 ms\n",
            "Wall time: 1.28 ms\n"
          ]
        }
      ]
    },
    {
      "cell_type": "code",
      "source": [
        "%%time\n",
        "torch.matmul(my_tensor, my_tensor)"
      ],
      "metadata": {
        "colab": {
          "base_uri": "https://localhost:8080/"
        },
        "id": "UVvV_z8CFwED",
        "outputId": "0589cea6-83b8-44fd-9adb-6da899bc7377"
      },
      "execution_count": 56,
      "outputs": [
        {
          "output_type": "stream",
          "name": "stdout",
          "text": [
            "CPU times: user 1.47 ms, sys: 57 µs, total: 1.53 ms\n",
            "Wall time: 1.61 ms\n"
          ]
        },
        {
          "output_type": "execute_result",
          "data": {
            "text/plain": [
              "tensor(35)"
            ]
          },
          "metadata": {},
          "execution_count": 56
        }
      ]
    },
    {
      "cell_type": "code",
      "source": [
        "%%time\n",
        "my_tensor @ my_tensor"
      ],
      "metadata": {
        "colab": {
          "base_uri": "https://localhost:8080/"
        },
        "id": "iHr02ekhF5iL",
        "outputId": "a7b9e0aa-45ef-4482-d0a7-29176d4a6617"
      },
      "execution_count": 57,
      "outputs": [
        {
          "output_type": "stream",
          "name": "stdout",
          "text": [
            "CPU times: user 125 µs, sys: 15 µs, total: 140 µs\n",
            "Wall time: 145 µs\n"
          ]
        },
        {
          "output_type": "execute_result",
          "data": {
            "text/plain": [
              "tensor(35)"
            ]
          },
          "metadata": {},
          "execution_count": 57
        }
      ]
    },
    {
      "cell_type": "markdown",
      "source": [
        "### Shape ERRORS!!!!"
      ],
      "metadata": {
        "id": "7ln2_DpvjqQq"
      }
    },
    {
      "cell_type": "code",
      "source": [
        "tensor_A = torch.tensor([\n",
        "    [1, 2],\n",
        "    [3, 4],\n",
        "    [5, 6]\n",
        "])\n",
        "\n",
        "tensor_A"
      ],
      "metadata": {
        "colab": {
          "base_uri": "https://localhost:8080/"
        },
        "id": "OHUOgUO5id0m",
        "outputId": "bc7fa888-60f1-496d-c307-d3cdd6980785"
      },
      "execution_count": 58,
      "outputs": [
        {
          "output_type": "execute_result",
          "data": {
            "text/plain": [
              "tensor([[1, 2],\n",
              "        [3, 4],\n",
              "        [5, 6]])"
            ]
          },
          "metadata": {},
          "execution_count": 58
        }
      ]
    },
    {
      "cell_type": "code",
      "source": [
        "tensor_B = torch.tensor([\n",
        "  [7, 10],\n",
        "  [8, 11],\n",
        "  [9, 12] \n",
        "])\n",
        "\n",
        "tensor_B"
      ],
      "metadata": {
        "colab": {
          "base_uri": "https://localhost:8080/"
        },
        "id": "sre3zEozkmcv",
        "outputId": "3d322af0-73c7-4ae2-d795-94447f850902"
      },
      "execution_count": 59,
      "outputs": [
        {
          "output_type": "execute_result",
          "data": {
            "text/plain": [
              "tensor([[ 7, 10],\n",
              "        [ 8, 11],\n",
              "        [ 9, 12]])"
            ]
          },
          "metadata": {},
          "execution_count": 59
        }
      ]
    },
    {
      "cell_type": "code",
      "source": [
        "tensor_A.shape , tensor_B.shape"
      ],
      "metadata": {
        "colab": {
          "base_uri": "https://localhost:8080/"
        },
        "id": "3DDiNt8slYHj",
        "outputId": "fdc6ce3a-e4e4-4989-e06b-284b2dfe8750"
      },
      "execution_count": 60,
      "outputs": [
        {
          "output_type": "execute_result",
          "data": {
            "text/plain": [
              "(torch.Size([3, 2]), torch.Size([3, 2]))"
            ]
          },
          "metadata": {},
          "execution_count": 60
        }
      ]
    },
    {
      "cell_type": "code",
      "source": [
        "tensor_B.T , tensor_B"
      ],
      "metadata": {
        "colab": {
          "base_uri": "https://localhost:8080/"
        },
        "id": "a44ievj4lvWk",
        "outputId": "4f143c29-7bfd-4840-a4b1-4c04c50da596"
      },
      "execution_count": 61,
      "outputs": [
        {
          "output_type": "execute_result",
          "data": {
            "text/plain": [
              "(tensor([[ 7,  8,  9],\n",
              "         [10, 11, 12]]), tensor([[ 7, 10],\n",
              "         [ 8, 11],\n",
              "         [ 9, 12]]))"
            ]
          },
          "metadata": {},
          "execution_count": 61
        }
      ]
    },
    {
      "cell_type": "code",
      "source": [
        "tensor_B.T.shape , tensor_B.shape"
      ],
      "metadata": {
        "colab": {
          "base_uri": "https://localhost:8080/"
        },
        "id": "Kz4k7Qysl7Iz",
        "outputId": "778fd039-fe4a-492e-d6ea-d6b1c335c838"
      },
      "execution_count": 62,
      "outputs": [
        {
          "output_type": "execute_result",
          "data": {
            "text/plain": [
              "(torch.Size([2, 3]), torch.Size([3, 2]))"
            ]
          },
          "metadata": {},
          "execution_count": 62
        }
      ]
    },
    {
      "cell_type": "code",
      "source": [
        "try:\n",
        "  torch.mm(tensor_A, tensor_B)\n",
        "except:\n",
        "  print(r\"\"\"RuntimeError                              Traceback (most recent call last)\n",
        "<ipython-input-210-d49420418508> in <module>\n",
        "----> 1 torch.mm(tensor_A, tensor_B)\n",
        "\n",
        "RuntimeError: mat1 and mat2 shapes cannot be multiplied (3x2 and 3x2)\"\"\")"
      ],
      "metadata": {
        "colab": {
          "base_uri": "https://localhost:8080/"
        },
        "id": "slE0MFzek-1N",
        "outputId": "dd6f35c0-38d2-4b66-9da7-880caa585d04"
      },
      "execution_count": 63,
      "outputs": [
        {
          "output_type": "stream",
          "name": "stdout",
          "text": [
            "RuntimeError                              Traceback (most recent call last)\n",
            "<ipython-input-210-d49420418508> in <module>\n",
            "----> 1 torch.mm(tensor_A, tensor_B)\n",
            "\n",
            "RuntimeError: mat1 and mat2 shapes cannot be multiplied (3x2 and 3x2)\n"
          ]
        }
      ]
    },
    {
      "cell_type": "code",
      "source": [
        "torch.mm(tensor_A, tensor_B.T)"
      ],
      "metadata": {
        "colab": {
          "base_uri": "https://localhost:8080/"
        },
        "id": "YFnvCa7llLxG",
        "outputId": "5dc8a13a-372d-4709-c88c-8895764ad239"
      },
      "execution_count": 64,
      "outputs": [
        {
          "output_type": "execute_result",
          "data": {
            "text/plain": [
              "tensor([[ 27,  30,  33],\n",
              "        [ 61,  68,  75],\n",
              "        [ 95, 106, 117]])"
            ]
          },
          "metadata": {},
          "execution_count": 64
        }
      ]
    },
    {
      "cell_type": "code",
      "source": [
        "torch.mm(tensor_A, tensor_B.T).shape"
      ],
      "metadata": {
        "colab": {
          "base_uri": "https://localhost:8080/"
        },
        "id": "kYZvVmgWmKVi",
        "outputId": "c5a66dfa-f28d-40b7-9576-eb81da808da1"
      },
      "execution_count": 65,
      "outputs": [
        {
          "output_type": "execute_result",
          "data": {
            "text/plain": [
              "torch.Size([3, 3])"
            ]
          },
          "metadata": {},
          "execution_count": 65
        }
      ]
    },
    {
      "cell_type": "code",
      "source": [
        "tensor_A.shape , tensor_B.T.shape"
      ],
      "metadata": {
        "colab": {
          "base_uri": "https://localhost:8080/"
        },
        "id": "BijnVXGhmP4C",
        "outputId": "bdf08aff-2a7b-4b96-8362-403819b84560"
      },
      "execution_count": 66,
      "outputs": [
        {
          "output_type": "execute_result",
          "data": {
            "text/plain": [
              "(torch.Size([3, 2]), torch.Size([2, 3]))"
            ]
          },
          "metadata": {},
          "execution_count": 66
        }
      ]
    },
    {
      "cell_type": "markdown",
      "source": [
        "### finding the min, max, mean, sum, etc"
      ],
      "metadata": {
        "id": "VROJzPtRndEv"
      }
    },
    {
      "cell_type": "code",
      "source": [
        "x = torch.arange(0, 100, 10)\n",
        "x"
      ],
      "metadata": {
        "colab": {
          "base_uri": "https://localhost:8080/"
        },
        "id": "uL0LCc_imVdJ",
        "outputId": "024a59ca-0a55-4d91-d9a3-2804ce66fb25"
      },
      "execution_count": 67,
      "outputs": [
        {
          "output_type": "execute_result",
          "data": {
            "text/plain": [
              "tensor([ 0, 10, 20, 30, 40, 50, 60, 70, 80, 90])"
            ]
          },
          "metadata": {},
          "execution_count": 67
        }
      ]
    },
    {
      "cell_type": "code",
      "source": [
        "# min\n",
        "torch.min(x) , x.min()"
      ],
      "metadata": {
        "colab": {
          "base_uri": "https://localhost:8080/"
        },
        "id": "Td993KuNnyld",
        "outputId": "8a39b0ba-c274-4b30-bb64-480a0c76ca57"
      },
      "execution_count": 68,
      "outputs": [
        {
          "output_type": "execute_result",
          "data": {
            "text/plain": [
              "(tensor(0), tensor(0))"
            ]
          },
          "metadata": {},
          "execution_count": 68
        }
      ]
    },
    {
      "cell_type": "code",
      "source": [
        "# max\n",
        "torch.max(x) , x.max()"
      ],
      "metadata": {
        "colab": {
          "base_uri": "https://localhost:8080/"
        },
        "id": "mrvRjA-Lns_E",
        "outputId": "19b4441d-d444-4d8d-a55e-24db32459d2c"
      },
      "execution_count": 69,
      "outputs": [
        {
          "output_type": "execute_result",
          "data": {
            "text/plain": [
              "(tensor(90), tensor(90))"
            ]
          },
          "metadata": {},
          "execution_count": 69
        }
      ]
    },
    {
      "cell_type": "code",
      "source": [
        "# mean\n",
        "try:\n",
        "  torch.mean(x)\n",
        "except:\n",
        "  print(\"change dtype\")\n",
        "  print(\"RuntimeError: mean(): could not infer output dtype. Input dtype must be either a floating point or complex dtype. Got: Long\")"
      ],
      "metadata": {
        "colab": {
          "base_uri": "https://localhost:8080/"
        },
        "id": "0FX6Dq0yoCG4",
        "outputId": "8da48ff1-f01b-44ff-9e93-60e2567d082b"
      },
      "execution_count": 70,
      "outputs": [
        {
          "output_type": "stream",
          "name": "stdout",
          "text": [
            "change dtype\n",
            "RuntimeError: mean(): could not infer output dtype. Input dtype must be either a floating point or complex dtype. Got: Long\n"
          ]
        }
      ]
    },
    {
      "cell_type": "code",
      "source": [
        "torch.mean(x.type(torch.float32))"
      ],
      "metadata": {
        "colab": {
          "base_uri": "https://localhost:8080/"
        },
        "id": "8Rsblk-En_pc",
        "outputId": "759fe632-cd7a-4baf-9d74-5d4f06b38ce7"
      },
      "execution_count": 71,
      "outputs": [
        {
          "output_type": "execute_result",
          "data": {
            "text/plain": [
              "tensor(45.)"
            ]
          },
          "metadata": {},
          "execution_count": 71
        }
      ]
    },
    {
      "cell_type": "code",
      "source": [
        "# mean\n",
        "try:\n",
        "  x.mean()\n",
        "except:\n",
        "  print(\"change dtype\")\n",
        "  print(\"mean(): could not infer output dtype. Input dtype must be either a floating point or complex dtype. Got: Long\")"
      ],
      "metadata": {
        "colab": {
          "base_uri": "https://localhost:8080/"
        },
        "id": "niIH3FHgotJE",
        "outputId": "7e56b616-b872-4d72-dd14-afa6f4aaf305"
      },
      "execution_count": 72,
      "outputs": [
        {
          "output_type": "stream",
          "name": "stdout",
          "text": [
            "change dtype\n",
            "mean(): could not infer output dtype. Input dtype must be either a floating point or complex dtype. Got: Long\n"
          ]
        }
      ]
    },
    {
      "cell_type": "code",
      "source": [
        "x.type(torch.float32).mean()"
      ],
      "metadata": {
        "colab": {
          "base_uri": "https://localhost:8080/"
        },
        "id": "8ZaroMl_oyYp",
        "outputId": "f7dc32f6-3d13-43a4-b9e2-0ab9acfaeec9"
      },
      "execution_count": 73,
      "outputs": [
        {
          "output_type": "execute_result",
          "data": {
            "text/plain": [
              "tensor(45.)"
            ]
          },
          "metadata": {},
          "execution_count": 73
        }
      ]
    },
    {
      "cell_type": "markdown",
      "source": [
        "### Finding the position min and max"
      ],
      "metadata": {
        "id": "uN_r4Pggr4j9"
      }
    },
    {
      "cell_type": "code",
      "source": [
        "y =torch.tensor( [22 , 10 , 20 , 0, 30, 40, 5, 60, 70, 89, 449])\n",
        "y"
      ],
      "metadata": {
        "colab": {
          "base_uri": "https://localhost:8080/"
        },
        "id": "tU_2ng7Vp96-",
        "outputId": "d1a3db3c-2c1e-40b9-e431-211e2c57275e"
      },
      "execution_count": 74,
      "outputs": [
        {
          "output_type": "execute_result",
          "data": {
            "text/plain": [
              "tensor([ 22,  10,  20,   0,  30,  40,   5,  60,  70,  89, 449])"
            ]
          },
          "metadata": {},
          "execution_count": 74
        }
      ]
    },
    {
      "cell_type": "code",
      "source": [
        "# find the position of min val and return the index of min val\n",
        "y.argmin()"
      ],
      "metadata": {
        "colab": {
          "base_uri": "https://localhost:8080/"
        },
        "id": "9fWmymULo1dB",
        "outputId": "76aac4c6-9b43-45d6-8455-1831cd9d1ed5"
      },
      "execution_count": 75,
      "outputs": [
        {
          "output_type": "execute_result",
          "data": {
            "text/plain": [
              "tensor(3)"
            ]
          },
          "metadata": {},
          "execution_count": 75
        }
      ]
    },
    {
      "cell_type": "code",
      "source": [
        "y[3]"
      ],
      "metadata": {
        "colab": {
          "base_uri": "https://localhost:8080/"
        },
        "id": "ffR2nHogsW6t",
        "outputId": "875669e0-3047-4aed-bb1c-a6cd75128339"
      },
      "execution_count": 76,
      "outputs": [
        {
          "output_type": "execute_result",
          "data": {
            "text/plain": [
              "tensor(0)"
            ]
          },
          "metadata": {},
          "execution_count": 76
        }
      ]
    },
    {
      "cell_type": "code",
      "source": [
        "# find the position of max val and return the index of max val\n",
        "y.argmax()"
      ],
      "metadata": {
        "colab": {
          "base_uri": "https://localhost:8080/"
        },
        "id": "zDQSK-mYskM9",
        "outputId": "4e14b16c-70f9-4d2e-bea7-e550bd5e2437"
      },
      "execution_count": 77,
      "outputs": [
        {
          "output_type": "execute_result",
          "data": {
            "text/plain": [
              "tensor(10)"
            ]
          },
          "metadata": {},
          "execution_count": 77
        }
      ]
    },
    {
      "cell_type": "code",
      "source": [
        "y[10]"
      ],
      "metadata": {
        "colab": {
          "base_uri": "https://localhost:8080/"
        },
        "id": "eGf87p7ms3LU",
        "outputId": "a0b6b1be-6c3f-450a-b809-905d1fe1a177"
      },
      "execution_count": 78,
      "outputs": [
        {
          "output_type": "execute_result",
          "data": {
            "text/plain": [
              "tensor(449)"
            ]
          },
          "metadata": {},
          "execution_count": 78
        }
      ]
    },
    {
      "cell_type": "markdown",
      "source": [
        "### Reshaping, Stacking, Squeezing & UNsqueezing tensors"
      ],
      "metadata": {
        "id": "nuk9Gv1ltugT"
      }
    },
    {
      "cell_type": "code",
      "source": [
        "import torch"
      ],
      "metadata": {
        "id": "sgtpAGmDtt-G"
      },
      "execution_count": 79,
      "outputs": []
    },
    {
      "cell_type": "code",
      "source": [
        "x = torch.arange(1., 10.)\n",
        "x, x.shape"
      ],
      "metadata": {
        "colab": {
          "base_uri": "https://localhost:8080/"
        },
        "id": "kFbbCbl_s6-8",
        "outputId": "1b6dbaca-f8d1-4977-d167-a2b7fe72ae73"
      },
      "execution_count": 80,
      "outputs": [
        {
          "output_type": "execute_result",
          "data": {
            "text/plain": [
              "(tensor([1., 2., 3., 4., 5., 6., 7., 8., 9.]), torch.Size([9]))"
            ]
          },
          "metadata": {},
          "execution_count": 80
        }
      ]
    },
    {
      "cell_type": "code",
      "source": [
        "try:  \n",
        "  x_reshaped = x.reshape(1,7)\n",
        "  x_reshaped, x_reshaped.shape\n",
        "except:\n",
        "  print(\"\"\"RuntimeError                              Traceback (most recent call last)\n",
        "<ipython-input-82-4b29e0ec9aba> in <module>\n",
        "----> 1 x_reshaped = x.reshape(1,7)\n",
        "      2 x_reshaped, x_reshaped.shape\n",
        "\n",
        "RuntimeError: shape '[1, 7]' is invalid for input of size 9\"\"\")"
      ],
      "metadata": {
        "colab": {
          "base_uri": "https://localhost:8080/"
        },
        "id": "hz_7tqDR0Pu_",
        "outputId": "7f257ffe-081b-40bc-8597-d7c0be1a3a74"
      },
      "execution_count": 81,
      "outputs": [
        {
          "output_type": "stream",
          "name": "stdout",
          "text": [
            "RuntimeError                              Traceback (most recent call last)\n",
            "<ipython-input-82-4b29e0ec9aba> in <module>\n",
            "----> 1 x_reshaped = x.reshape(1,7)\n",
            "      2 x_reshaped, x_reshaped.shape\n",
            "\n",
            "RuntimeError: shape '[1, 7]' is invalid for input of size 9\n"
          ]
        }
      ]
    },
    {
      "cell_type": "code",
      "source": [
        "#change shape\n",
        "x_reshaped = x.reshape(1,9)\n",
        "x_reshaped, x_reshaped.shape"
      ],
      "metadata": {
        "colab": {
          "base_uri": "https://localhost:8080/"
        },
        "id": "cKhguNJ90rTu",
        "outputId": "473ba2d3-34af-4f54-a345-54de43c490ae"
      },
      "execution_count": 82,
      "outputs": [
        {
          "output_type": "execute_result",
          "data": {
            "text/plain": [
              "(tensor([[1., 2., 3., 4., 5., 6., 7., 8., 9.]]), torch.Size([1, 9]))"
            ]
          },
          "metadata": {},
          "execution_count": 82
        }
      ]
    },
    {
      "cell_type": "code",
      "source": [
        "x_reshaped = x.reshape(9,1)\n",
        "x_reshaped, x_reshaped.shape"
      ],
      "metadata": {
        "colab": {
          "base_uri": "https://localhost:8080/"
        },
        "id": "A4lITurV08W1",
        "outputId": "636752b6-6c6a-45fc-98c8-323dd9863aec"
      },
      "execution_count": 83,
      "outputs": [
        {
          "output_type": "execute_result",
          "data": {
            "text/plain": [
              "(tensor([[1.],\n",
              "         [2.],\n",
              "         [3.],\n",
              "         [4.],\n",
              "         [5.],\n",
              "         [6.],\n",
              "         [7.],\n",
              "         [8.],\n",
              "         [9.]]), torch.Size([9, 1]))"
            ]
          },
          "metadata": {},
          "execution_count": 83
        }
      ]
    },
    {
      "cell_type": "code",
      "source": [
        "x = torch.arange(1,13)\n",
        "x, x.shape"
      ],
      "metadata": {
        "colab": {
          "base_uri": "https://localhost:8080/"
        },
        "id": "tuxMQzT60-49",
        "outputId": "a69e0256-3a37-46a8-cd29-6b408eb61748"
      },
      "execution_count": 84,
      "outputs": [
        {
          "output_type": "execute_result",
          "data": {
            "text/plain": [
              "(tensor([ 1,  2,  3,  4,  5,  6,  7,  8,  9, 10, 11, 12]), torch.Size([12]))"
            ]
          },
          "metadata": {},
          "execution_count": 84
        }
      ]
    },
    {
      "cell_type": "code",
      "source": [
        "x_reshape = x.reshape(3,4)\n",
        "x_reshape, x_reshape.shape"
      ],
      "metadata": {
        "colab": {
          "base_uri": "https://localhost:8080/"
        },
        "id": "pBXuVb5f1YFj",
        "outputId": "697761d3-3770-4df1-e8cb-988b3996a87e"
      },
      "execution_count": 85,
      "outputs": [
        {
          "output_type": "execute_result",
          "data": {
            "text/plain": [
              "(tensor([[ 1,  2,  3,  4],\n",
              "         [ 5,  6,  7,  8],\n",
              "         [ 9, 10, 11, 12]]), torch.Size([3, 4]))"
            ]
          },
          "metadata": {},
          "execution_count": 85
        }
      ]
    },
    {
      "cell_type": "code",
      "source": [
        "x = torch.arange(1,10)\n",
        "x_reshaped = x.reshape(1,9)"
      ],
      "metadata": {
        "id": "2WZmWWYO1hx_"
      },
      "execution_count": 86,
      "outputs": []
    },
    {
      "cell_type": "markdown",
      "source": [
        "### changing view\n",
        "x.view and x share same memory so if you change the x.view it will change the original x."
      ],
      "metadata": {
        "id": "OP_vktG119CV"
      }
    },
    {
      "cell_type": "code",
      "source": [
        "z = x.view(1,9)\n",
        "z, z.shape"
      ],
      "metadata": {
        "colab": {
          "base_uri": "https://localhost:8080/"
        },
        "id": "40T9zGrm1woz",
        "outputId": "62a4af8a-0e0b-499b-8645-c09d39a1e931"
      },
      "execution_count": 87,
      "outputs": [
        {
          "output_type": "execute_result",
          "data": {
            "text/plain": [
              "(tensor([[1, 2, 3, 4, 5, 6, 7, 8, 9]]), torch.Size([1, 9]))"
            ]
          },
          "metadata": {},
          "execution_count": 87
        }
      ]
    },
    {
      "cell_type": "code",
      "source": [
        "z[:, 4] = 12\n",
        "z, x"
      ],
      "metadata": {
        "colab": {
          "base_uri": "https://localhost:8080/"
        },
        "id": "aLyGvPwS2UWw",
        "outputId": "9a1f2bf6-bdbd-4222-e3fc-8ffb0823132f"
      },
      "execution_count": 88,
      "outputs": [
        {
          "output_type": "execute_result",
          "data": {
            "text/plain": [
              "(tensor([[ 1,  2,  3,  4, 12,  6,  7,  8,  9]]),\n",
              " tensor([ 1,  2,  3,  4, 12,  6,  7,  8,  9]))"
            ]
          },
          "metadata": {},
          "execution_count": 88
        }
      ]
    },
    {
      "cell_type": "markdown",
      "source": [
        "### Stack tensors"
      ],
      "metadata": {
        "id": "gbl6Dvre2oVI"
      }
    },
    {
      "cell_type": "code",
      "source": [
        "x_stacked = torch.stack([x, x, x, x])\n",
        "x_stacked"
      ],
      "metadata": {
        "colab": {
          "base_uri": "https://localhost:8080/"
        },
        "id": "2AlpTvOR2dE_",
        "outputId": "999f02ad-32ed-4455-873b-4da0f2e51e50"
      },
      "execution_count": 89,
      "outputs": [
        {
          "output_type": "execute_result",
          "data": {
            "text/plain": [
              "tensor([[ 1,  2,  3,  4, 12,  6,  7,  8,  9],\n",
              "        [ 1,  2,  3,  4, 12,  6,  7,  8,  9],\n",
              "        [ 1,  2,  3,  4, 12,  6,  7,  8,  9],\n",
              "        [ 1,  2,  3,  4, 12,  6,  7,  8,  9]])"
            ]
          },
          "metadata": {},
          "execution_count": 89
        }
      ]
    },
    {
      "cell_type": "code",
      "source": [
        "x_stacked = torch.stack([x, x, x, x], dim=1)\n",
        "x_stacked"
      ],
      "metadata": {
        "colab": {
          "base_uri": "https://localhost:8080/"
        },
        "id": "2xsz6QmZ2_e_",
        "outputId": "00461a37-10db-4dae-dd8e-93676f358d2b"
      },
      "execution_count": 90,
      "outputs": [
        {
          "output_type": "execute_result",
          "data": {
            "text/plain": [
              "tensor([[ 1,  1,  1,  1],\n",
              "        [ 2,  2,  2,  2],\n",
              "        [ 3,  3,  3,  3],\n",
              "        [ 4,  4,  4,  4],\n",
              "        [12, 12, 12, 12],\n",
              "        [ 6,  6,  6,  6],\n",
              "        [ 7,  7,  7,  7],\n",
              "        [ 8,  8,  8,  8],\n",
              "        [ 9,  9,  9,  9]])"
            ]
          },
          "metadata": {},
          "execution_count": 90
        }
      ]
    },
    {
      "cell_type": "code",
      "source": [
        "x_stacked = torch.stack([x, x, x, x], dim=-1)\n",
        "x_stacked"
      ],
      "metadata": {
        "colab": {
          "base_uri": "https://localhost:8080/"
        },
        "id": "MfDFl5Gq3DNX",
        "outputId": "0fb7ab0f-e854-4e43-d949-5dd29d96c31a"
      },
      "execution_count": 91,
      "outputs": [
        {
          "output_type": "execute_result",
          "data": {
            "text/plain": [
              "tensor([[ 1,  1,  1,  1],\n",
              "        [ 2,  2,  2,  2],\n",
              "        [ 3,  3,  3,  3],\n",
              "        [ 4,  4,  4,  4],\n",
              "        [12, 12, 12, 12],\n",
              "        [ 6,  6,  6,  6],\n",
              "        [ 7,  7,  7,  7],\n",
              "        [ 8,  8,  8,  8],\n",
              "        [ 9,  9,  9,  9]])"
            ]
          },
          "metadata": {},
          "execution_count": 91
        }
      ]
    },
    {
      "cell_type": "code",
      "source": [
        "x_stacked = torch.stack([x, x, x, x], dim=-2)\n",
        "x_stacked"
      ],
      "metadata": {
        "colab": {
          "base_uri": "https://localhost:8080/"
        },
        "id": "Dy3kc1wn3I9-",
        "outputId": "8f917cb3-d2ed-4af6-c8ea-59bda95e827a"
      },
      "execution_count": 92,
      "outputs": [
        {
          "output_type": "execute_result",
          "data": {
            "text/plain": [
              "tensor([[ 1,  2,  3,  4, 12,  6,  7,  8,  9],\n",
              "        [ 1,  2,  3,  4, 12,  6,  7,  8,  9],\n",
              "        [ 1,  2,  3,  4, 12,  6,  7,  8,  9],\n",
              "        [ 1,  2,  3,  4, 12,  6,  7,  8,  9]])"
            ]
          },
          "metadata": {},
          "execution_count": 92
        }
      ]
    },
    {
      "cell_type": "markdown",
      "source": [
        "### squeeze\n",
        "remove single dim"
      ],
      "metadata": {
        "id": "G6sNV0EW4GTe"
      }
    },
    {
      "cell_type": "code",
      "source": [
        "print(x_reshaped)\n",
        "print(x_reshaped.shape)\n",
        "print(x_reshaped.squeeze())\n",
        "print(x_reshaped.squeeze().shape)"
      ],
      "metadata": {
        "colab": {
          "base_uri": "https://localhost:8080/"
        },
        "id": "2MFdoOi93Lg7",
        "outputId": "c1ac7366-85fe-499a-ca9b-a64c0a1f1a63"
      },
      "execution_count": 93,
      "outputs": [
        {
          "output_type": "stream",
          "name": "stdout",
          "text": [
            "tensor([[ 1,  2,  3,  4, 12,  6,  7,  8,  9]])\n",
            "torch.Size([1, 9])\n",
            "tensor([ 1,  2,  3,  4, 12,  6,  7,  8,  9])\n",
            "torch.Size([9])\n"
          ]
        }
      ]
    },
    {
      "cell_type": "code",
      "source": [
        "x_reshape =x.reshape(3,1,3)\n",
        "print(x_reshape)\n",
        "print(x_reshape.shape)\n",
        "print(x_reshape.squeeze())\n",
        "print(x_reshape.squeeze().shape)"
      ],
      "metadata": {
        "colab": {
          "base_uri": "https://localhost:8080/"
        },
        "id": "CNJ7JR6-5Ig3",
        "outputId": "b8857225-746f-4b8d-a679-e3e49db141d8"
      },
      "execution_count": 94,
      "outputs": [
        {
          "output_type": "stream",
          "name": "stdout",
          "text": [
            "tensor([[[ 1,  2,  3]],\n",
            "\n",
            "        [[ 4, 12,  6]],\n",
            "\n",
            "        [[ 7,  8,  9]]])\n",
            "torch.Size([3, 1, 3])\n",
            "tensor([[ 1,  2,  3],\n",
            "        [ 4, 12,  6],\n",
            "        [ 7,  8,  9]])\n",
            "torch.Size([3, 3])\n"
          ]
        }
      ]
    },
    {
      "cell_type": "code",
      "source": [
        "#torch.squeeze remove all the 1 dim\n",
        "#example:\n",
        "print(f\"previous tensor: {x_reshaped}\")\n",
        "print(f\"previous shape: {x_reshaped.shape}\")\n",
        "\n",
        "print()\n",
        "#removing extera dims\n",
        "print(f\"New tensor: {x_reshaped.squeeze()}\")\n",
        "print(f\"New shape: {x_reshaped.squeeze().shape}\")\n"
      ],
      "metadata": {
        "colab": {
          "base_uri": "https://localhost:8080/"
        },
        "id": "HaItzzBR5cwv",
        "outputId": "f6c12ddd-3f0c-4fbd-8092-d7e238d5298d"
      },
      "execution_count": 95,
      "outputs": [
        {
          "output_type": "stream",
          "name": "stdout",
          "text": [
            "previous tensor: tensor([[ 1,  2,  3,  4, 12,  6,  7,  8,  9]])\n",
            "previous shape: torch.Size([1, 9])\n",
            "\n",
            "New tensor: tensor([ 1,  2,  3,  4, 12,  6,  7,  8,  9])\n",
            "New shape: torch.Size([9])\n"
          ]
        }
      ]
    },
    {
      "cell_type": "markdown",
      "source": [
        "### unsqueeze\n",
        "add single dim"
      ],
      "metadata": {
        "id": "ufH9YPOa69_Z"
      }
    },
    {
      "cell_type": "code",
      "source": [
        "#example:\n",
        "print(f\"previous tensor: {x_reshaped.squeeze()}\")\n",
        "print(f\"previous shape: {x_reshaped.squeeze().shape}\")\n",
        "print(f\"previous dim: {x_reshaped.squeeze().ndim}\")\n",
        "\n",
        "\n",
        "print()\n",
        "#adding extera dim0\n",
        "print(f\"New tensor: {x_reshaped.squeeze().unsqueeze(dim=0)}\")\n",
        "print(f\"New shape: {x_reshaped.squeeze().unsqueeze(dim=0).shape}\")\n",
        "print(f\"New dim: {x_reshaped.squeeze().unsqueeze(dim=0).ndim}\")"
      ],
      "metadata": {
        "colab": {
          "base_uri": "https://localhost:8080/"
        },
        "id": "VkQuXA186lxc",
        "outputId": "0a3613b8-b6f1-4359-f10c-1a1fd24c915b"
      },
      "execution_count": 96,
      "outputs": [
        {
          "output_type": "stream",
          "name": "stdout",
          "text": [
            "previous tensor: tensor([ 1,  2,  3,  4, 12,  6,  7,  8,  9])\n",
            "previous shape: torch.Size([9])\n",
            "previous dim: 1\n",
            "\n",
            "New tensor: tensor([[ 1,  2,  3,  4, 12,  6,  7,  8,  9]])\n",
            "New shape: torch.Size([1, 9])\n",
            "New dim: 2\n"
          ]
        }
      ]
    },
    {
      "cell_type": "code",
      "source": [
        "#example:\n",
        "print(f\"previous tensor: {x_reshaped.squeeze()}\")\n",
        "print(f\"previous shape: {x_reshaped.squeeze().shape}\")\n",
        "print(f\"previous dim: {x_reshaped.squeeze().ndim}\")\n",
        "\n",
        "\n",
        "print()\n",
        "#adding extera dim1\n",
        "print(f\"New tensor: {x_reshaped.squeeze().unsqueeze(dim=1)}\")\n",
        "print(f\"New shape: {x_reshaped.squeeze().unsqueeze(dim=1).shape}\")\n",
        "print(f\"New dim: {x_reshaped.squeeze().unsqueeze(dim=1).ndim}\")"
      ],
      "metadata": {
        "colab": {
          "base_uri": "https://localhost:8080/"
        },
        "id": "5XvDdX-79Zm_",
        "outputId": "03275f6f-3157-433a-f530-7aaa8baad62b"
      },
      "execution_count": 97,
      "outputs": [
        {
          "output_type": "stream",
          "name": "stdout",
          "text": [
            "previous tensor: tensor([ 1,  2,  3,  4, 12,  6,  7,  8,  9])\n",
            "previous shape: torch.Size([9])\n",
            "previous dim: 1\n",
            "\n",
            "New tensor: tensor([[ 1],\n",
            "        [ 2],\n",
            "        [ 3],\n",
            "        [ 4],\n",
            "        [12],\n",
            "        [ 6],\n",
            "        [ 7],\n",
            "        [ 8],\n",
            "        [ 9]])\n",
            "New shape: torch.Size([9, 1])\n",
            "New dim: 2\n"
          ]
        }
      ]
    },
    {
      "cell_type": "code",
      "source": [],
      "metadata": {
        "id": "kYm7IKKT9wud"
      },
      "execution_count": 97,
      "outputs": []
    },
    {
      "cell_type": "markdown",
      "source": [
        "### permute\n",
        "mostly in images \n",
        "return view\n"
      ],
      "metadata": {
        "id": "6o4DPUOT_qlz"
      }
    },
    {
      "cell_type": "code",
      "source": [
        "x_orginal = torch.rand(size=(224, 224, 3)) # (h,W,color channel) of image\n",
        "\n",
        "# permute the original to rearenge of axises\n",
        "x_permuted = x_orginal.permute(2, 0, 1) # axis0-> axis1 , axis1-> axis2 , axis2 -> axis0\n",
        "\n",
        "print(f\"Previous shape: {x_orginal.shape}\")\n",
        "print(f\"New shape: {x_permuted.shape}\") # (color channel, h, w)"
      ],
      "metadata": {
        "colab": {
          "base_uri": "https://localhost:8080/"
        },
        "id": "yIdcfZ9W_2Oe",
        "outputId": "612939e4-fe20-4b8e-d685-1574dde5347a"
      },
      "execution_count": 98,
      "outputs": [
        {
          "output_type": "stream",
          "name": "stdout",
          "text": [
            "Previous shape: torch.Size([224, 224, 3])\n",
            "New shape: torch.Size([3, 224, 224])\n"
          ]
        }
      ]
    },
    {
      "cell_type": "code",
      "source": [
        "print(\"pre x_org[0,0,0]=\",x_orginal[0, 0, 0])\n",
        "print(\"pre x_permuted[0,0,0]=\",x_permuted[0,0,0])\n",
        "#changing x_org to show that permute return different view version of x_org and share same memory\n",
        "x_orginal[0,0,0] =12\n",
        "print(\"x_orginal[0,0,0]=\",x_orginal[0,0,0])\n",
        "print(\"x_permuted[0,0,0]=\",x_permuted[0,0,0])"
      ],
      "metadata": {
        "colab": {
          "base_uri": "https://localhost:8080/"
        },
        "id": "ampdPKEFA5Ji",
        "outputId": "3d13fa95-40a3-4490-c75a-f6f3d7c8e7fc"
      },
      "execution_count": 99,
      "outputs": [
        {
          "output_type": "stream",
          "name": "stdout",
          "text": [
            "pre x_org[0,0,0]= tensor(0.8971)\n",
            "pre x_permuted[0,0,0]= tensor(0.8971)\n",
            "x_orginal[0,0,0]= tensor(12.)\n",
            "x_permuted[0,0,0]= tensor(12.)\n"
          ]
        }
      ]
    },
    {
      "cell_type": "markdown",
      "source": [
        "### Indexing \n",
        "indexing with torch is similar to Numpy"
      ],
      "metadata": {
        "id": "IoGNxrBLCg8c"
      }
    },
    {
      "cell_type": "code",
      "source": [
        "x = torch.arange(1,10).reshape(1,3,3)\n",
        "x, x.shape"
      ],
      "metadata": {
        "colab": {
          "base_uri": "https://localhost:8080/"
        },
        "id": "65jB4QoWBcMx",
        "outputId": "b97c99a1-bb69-4895-9c07-2a23e4ee00cc"
      },
      "execution_count": 100,
      "outputs": [
        {
          "output_type": "execute_result",
          "data": {
            "text/plain": [
              "(tensor([[[1, 2, 3],\n",
              "          [4, 5, 6],\n",
              "          [7, 8, 9]]]), torch.Size([1, 3, 3]))"
            ]
          },
          "metadata": {},
          "execution_count": 100
        }
      ]
    },
    {
      "cell_type": "code",
      "source": [
        "# indexing\n",
        "print(\"x[0]= \", x[0])"
      ],
      "metadata": {
        "colab": {
          "base_uri": "https://localhost:8080/"
        },
        "id": "SCsfw7ajMjoN",
        "outputId": "8587b1c4-3b47-4570-cf67-eb8318f0362c"
      },
      "execution_count": 101,
      "outputs": [
        {
          "output_type": "stream",
          "name": "stdout",
          "text": [
            "x[0]=  tensor([[1, 2, 3],\n",
            "        [4, 5, 6],\n",
            "        [7, 8, 9]])\n"
          ]
        }
      ]
    },
    {
      "cell_type": "code",
      "source": [
        "#index middle bracket\n",
        "print(\"x[0][0]= \", x[0][0])\n",
        "print(\"x[0,0]= \", x[0, 0])"
      ],
      "metadata": {
        "colab": {
          "base_uri": "https://localhost:8080/"
        },
        "id": "iRky6dB6Muws",
        "outputId": "9a1e4d36-e618-4c5a-b53a-363ddcedf860"
      },
      "execution_count": 102,
      "outputs": [
        {
          "output_type": "stream",
          "name": "stdout",
          "text": [
            "x[0][0]=  tensor([1, 2, 3])\n",
            "x[0,0]=  tensor([1, 2, 3])\n"
          ]
        }
      ]
    },
    {
      "cell_type": "code",
      "source": [
        "#index most inner bracket\n",
        "print(\"x[0][0][0]=\", x[0][0][0])\n",
        "print(\"x[0,0,0]=\", x[0, 0, 0])"
      ],
      "metadata": {
        "colab": {
          "base_uri": "https://localhost:8080/"
        },
        "id": "ZZQC47l6M72D",
        "outputId": "846363e3-be92-407d-ac75-0834973e4f79"
      },
      "execution_count": 103,
      "outputs": [
        {
          "output_type": "stream",
          "name": "stdout",
          "text": [
            "x[0][0][0]= tensor(1)\n",
            "x[0,0,0]= tensor(1)\n"
          ]
        }
      ]
    },
    {
      "cell_type": "code",
      "source": [
        "x[0][0][1]"
      ],
      "metadata": {
        "colab": {
          "base_uri": "https://localhost:8080/"
        },
        "id": "emd8MmioNY0i",
        "outputId": "e27cc881-bd02-4df5-c55c-56dd4682cef3"
      },
      "execution_count": 104,
      "outputs": [
        {
          "output_type": "execute_result",
          "data": {
            "text/plain": [
              "tensor(2)"
            ]
          },
          "metadata": {},
          "execution_count": 104
        }
      ]
    },
    {
      "cell_type": "code",
      "source": [
        "#getting num 9\n",
        "x[0][2][2]"
      ],
      "metadata": {
        "colab": {
          "base_uri": "https://localhost:8080/"
        },
        "id": "D4riaapbNj4h",
        "outputId": "88f20426-dc10-45bb-c2bb-412630245b61"
      },
      "execution_count": 105,
      "outputs": [
        {
          "output_type": "execute_result",
          "data": {
            "text/plain": [
              "tensor(9)"
            ]
          },
          "metadata": {},
          "execution_count": 105
        }
      ]
    },
    {
      "cell_type": "code",
      "source": [
        "#getting all the dim with \":\"\n",
        "x[:, 0]"
      ],
      "metadata": {
        "colab": {
          "base_uri": "https://localhost:8080/"
        },
        "id": "R1E2d--vNpwR",
        "outputId": "7401459f-c66f-4c65-9ac7-89db30207004"
      },
      "execution_count": 106,
      "outputs": [
        {
          "output_type": "execute_result",
          "data": {
            "text/plain": [
              "tensor([[1, 2, 3]])"
            ]
          },
          "metadata": {},
          "execution_count": 106
        }
      ]
    },
    {
      "cell_type": "code",
      "source": [
        "# get all vals of 0th and 1st dim only index 1 of second dim\n",
        "\n",
        "x[:, :, 1]"
      ],
      "metadata": {
        "colab": {
          "base_uri": "https://localhost:8080/"
        },
        "id": "7xD8GCx2N-GQ",
        "outputId": "d21312fb-34bf-4d8d-beba-c596d936058e"
      },
      "execution_count": 107,
      "outputs": [
        {
          "output_type": "execute_result",
          "data": {
            "text/plain": [
              "tensor([[2, 5, 8]])"
            ]
          },
          "metadata": {},
          "execution_count": 107
        }
      ]
    },
    {
      "cell_type": "code",
      "source": [
        "# get all vals of 0th and  dim only index 1 of first second dim\n",
        "x[:,1,1],x[0,1,1]"
      ],
      "metadata": {
        "colab": {
          "base_uri": "https://localhost:8080/"
        },
        "id": "2GuWTux6OPV3",
        "outputId": "39dbf4ea-c025-4ece-f58f-d159a9fc296a"
      },
      "execution_count": 108,
      "outputs": [
        {
          "output_type": "execute_result",
          "data": {
            "text/plain": [
              "(tensor([5]), tensor(5))"
            ]
          },
          "metadata": {},
          "execution_count": 108
        }
      ]
    },
    {
      "cell_type": "code",
      "source": [
        "# get index 0  of 0th and 1st dim all values of  second dim\n",
        "x[0,0,:]"
      ],
      "metadata": {
        "colab": {
          "base_uri": "https://localhost:8080/"
        },
        "id": "JglA9ZNtOmsX",
        "outputId": "0c78e57f-f74f-41dd-d118-c4ab2b073b9e"
      },
      "execution_count": 109,
      "outputs": [
        {
          "output_type": "execute_result",
          "data": {
            "text/plain": [
              "tensor([1, 2, 3])"
            ]
          },
          "metadata": {},
          "execution_count": 109
        }
      ]
    },
    {
      "cell_type": "code",
      "source": [
        "#return 3,6,9\n",
        "x[0,:,2], x[:,:,2]\n"
      ],
      "metadata": {
        "colab": {
          "base_uri": "https://localhost:8080/"
        },
        "id": "90v1uaOuO6Jd",
        "outputId": "289ae23a-1290-4bd2-a8de-96991e99f63d"
      },
      "execution_count": 110,
      "outputs": [
        {
          "output_type": "execute_result",
          "data": {
            "text/plain": [
              "(tensor([3, 6, 9]), tensor([[3, 6, 9]]))"
            ]
          },
          "metadata": {},
          "execution_count": 110
        }
      ]
    },
    {
      "cell_type": "markdown",
      "source": [
        "### PyTorch tensors & NmPy"
      ],
      "metadata": {
        "id": "fCFLO9_dPpy6"
      }
    },
    {
      "cell_type": "code",
      "source": [
        "import numpy as np"
      ],
      "metadata": {
        "id": "c8ahEZRXPQRc"
      },
      "execution_count": 111,
      "outputs": []
    },
    {
      "cell_type": "code",
      "source": [
        "# Nmpy to tensor\n",
        "array = np.arange(1.0,8.0)\n",
        "tensor = torch.from_numpy(array)\n",
        "array, tensor\n"
      ],
      "metadata": {
        "colab": {
          "base_uri": "https://localhost:8080/"
        },
        "id": "5pOi8iPn3m53",
        "outputId": "6a9f4ff2-846c-4787-abed-4183b39714d3"
      },
      "execution_count": 112,
      "outputs": [
        {
          "output_type": "execute_result",
          "data": {
            "text/plain": [
              "(array([1., 2., 3., 4., 5., 6., 7.]),\n",
              " tensor([1., 2., 3., 4., 5., 6., 7.], dtype=torch.float64))"
            ]
          },
          "metadata": {},
          "execution_count": 112
        }
      ]
    },
    {
      "cell_type": "code",
      "source": [
        "array.dtype, tensor.dtype"
      ],
      "metadata": {
        "colab": {
          "base_uri": "https://localhost:8080/"
        },
        "id": "iLeriu6J35o1",
        "outputId": "fe5ba366-2c45-489e-a848-07d32835e192"
      },
      "execution_count": 113,
      "outputs": [
        {
          "output_type": "execute_result",
          "data": {
            "text/plain": [
              "(dtype('float64'), torch.float64)"
            ]
          },
          "metadata": {},
          "execution_count": 113
        }
      ]
    },
    {
      "cell_type": "code",
      "source": [
        "torch.arange(1.0, 8.0).dtype"
      ],
      "metadata": {
        "colab": {
          "base_uri": "https://localhost:8080/"
        },
        "id": "bWHIDxgl4GDT",
        "outputId": "319d5064-d784-40fd-adae-1aa1c4f3d37d"
      },
      "execution_count": 114,
      "outputs": [
        {
          "output_type": "execute_result",
          "data": {
            "text/plain": [
              "torch.float32"
            ]
          },
          "metadata": {},
          "execution_count": 114
        }
      ]
    },
    {
      "cell_type": "code",
      "source": [
        "array = np.arange(1.0,8.0)\n",
        "tensor = torch.from_numpy(array).type(torch.float32) # numpy defult dtype is float64\n",
        "print(array, tensor)\n",
        "print(array.dtype, tensor.dtype)"
      ],
      "metadata": {
        "colab": {
          "base_uri": "https://localhost:8080/"
        },
        "id": "_ObJFA0I4MfU",
        "outputId": "c69fe8db-380f-4b8f-de12-6dd41c2ac0ac"
      },
      "execution_count": 115,
      "outputs": [
        {
          "output_type": "stream",
          "name": "stdout",
          "text": [
            "[1. 2. 3. 4. 5. 6. 7.] tensor([1., 2., 3., 4., 5., 6., 7.])\n",
            "float64 torch.float32\n"
          ]
        }
      ]
    },
    {
      "cell_type": "code",
      "source": [
        "array = array + 1\n",
        "array, tensor\n",
        "# from_numpy will make New tensor and it does not share memory"
      ],
      "metadata": {
        "colab": {
          "base_uri": "https://localhost:8080/"
        },
        "id": "n_WmGn684YX7",
        "outputId": "cbd545f4-7153-408c-b836-c2d94eb0f75a"
      },
      "execution_count": 116,
      "outputs": [
        {
          "output_type": "execute_result",
          "data": {
            "text/plain": [
              "(array([2., 3., 4., 5., 6., 7., 8.]), tensor([1., 2., 3., 4., 5., 6., 7.]))"
            ]
          },
          "metadata": {},
          "execution_count": 116
        }
      ]
    },
    {
      "cell_type": "code",
      "source": [
        "# tensor to numpy\n",
        "tensor = torch.ones(7)\n",
        "numpy_tensor = tensor.numpy()\n",
        "print(tensor , numpy_tensor)\n",
        "print(tensor.dtype , numpy_tensor.dtype)\n"
      ],
      "metadata": {
        "colab": {
          "base_uri": "https://localhost:8080/"
        },
        "id": "z6Pw4LfL5IcJ",
        "outputId": "097f7557-4f9d-4a91-801e-15e9329a7d7f"
      },
      "execution_count": 117,
      "outputs": [
        {
          "output_type": "stream",
          "name": "stdout",
          "text": [
            "tensor([1., 1., 1., 1., 1., 1., 1.]) [1. 1. 1. 1. 1. 1. 1.]\n",
            "torch.float32 float32\n"
          ]
        }
      ]
    },
    {
      "cell_type": "code",
      "source": [
        "tensor = tensor + 1\n",
        "tensor , numpy_tensor\n",
        "# they don't share memory"
      ],
      "metadata": {
        "colab": {
          "base_uri": "https://localhost:8080/"
        },
        "id": "NJa1tTFY5vXv",
        "outputId": "d952e0fe-b244-4c08-de91-bc4ce183dca5"
      },
      "execution_count": 118,
      "outputs": [
        {
          "output_type": "execute_result",
          "data": {
            "text/plain": [
              "(tensor([2., 2., 2., 2., 2., 2., 2.]),\n",
              " array([1., 1., 1., 1., 1., 1., 1.], dtype=float32))"
            ]
          },
          "metadata": {},
          "execution_count": 118
        }
      ]
    },
    {
      "cell_type": "markdown",
      "source": [
        "###035-PyTorch Reproducibility Taking the Random Out of Random\n",
        "reduce the randomness by  **Random Seed**"
      ],
      "metadata": {
        "id": "-BF0FGwI7gsk"
      }
    },
    {
      "cell_type": "code",
      "source": [
        "#creat 2 random tesor\n",
        "random_tensor_A = torch.rand(3, 4)\n",
        "random_tensor_B = torch.rand(3, 4)\n",
        "\n",
        "print(\"A=\", random_tensor_A)\n",
        "print(\"B=\", random_tensor_B)\n",
        "print(random_tensor_A == random_tensor_B)"
      ],
      "metadata": {
        "colab": {
          "base_uri": "https://localhost:8080/"
        },
        "id": "MR5pF0ch7ivh",
        "outputId": "64c429d2-cc02-4527-f29a-0b1f263f6920"
      },
      "execution_count": 121,
      "outputs": [
        {
          "output_type": "stream",
          "name": "stdout",
          "text": [
            "A= tensor([[0.5928, 0.9568, 0.4789, 0.9850],\n",
            "        [0.9553, 0.8740, 0.9309, 0.3263],\n",
            "        [0.5598, 0.3949, 0.8214, 0.0951]])\n",
            "B= tensor([[0.0178, 0.3442, 0.7371, 0.1387],\n",
            "        [0.4937, 0.1903, 0.7278, 0.3492],\n",
            "        [0.8087, 0.9637, 0.0381, 0.7200]])\n",
            "tensor([[False, False, False, False],\n",
            "        [False, False, False, False],\n",
            "        [False, False, False, False]])\n"
          ]
        }
      ]
    },
    {
      "cell_type": "code",
      "source": [],
      "metadata": {
        "id": "UlfF0g8bR7zt"
      },
      "execution_count": null,
      "outputs": []
    }
  ]
}