{
  "nbformat": 4,
  "nbformat_minor": 0,
  "metadata": {
    "colab": {
      "provenance": [],
      "authorship_tag": "ABX9TyNF/x5d/tRuM4klMnZw/+Q7",
      "include_colab_link": true
    },
    "kernelspec": {
      "name": "python3",
      "display_name": "Python 3"
    },
    "language_info": {
      "name": "python"
    },
    "gpuClass": "standard"
  },
  "cells": [
    {
      "cell_type": "markdown",
      "metadata": {
        "id": "view-in-github",
        "colab_type": "text"
      },
      "source": [
        "<a href=\"https://colab.research.google.com/github/zahra-sharifzadeh/pytorch/blob/main/00_pytorch_fundamentals.ipynb\" target=\"_parent\"><img src=\"https://colab.research.google.com/assets/colab-badge.svg\" alt=\"Open In Colab\"/></a>"
      ]
    },
    {
      "cell_type": "markdown",
      "source": [
        "## 00. Pytorch Fundamentals"
      ],
      "metadata": {
        "id": "H2GzD4lQ4skF"
      }
    },
    {
      "cell_type": "code",
      "execution_count": 1,
      "metadata": {
        "colab": {
          "base_uri": "https://localhost:8080/"
        },
        "id": "0MNrMbIsHaFV",
        "outputId": "6441333f-dc72-45bb-a6c5-decf63f8f647"
      },
      "outputs": [
        {
          "output_type": "stream",
          "name": "stdout",
          "text": [
            "Hello I'm Excited to learn Pytorch\n"
          ]
        }
      ],
      "source": [
        "print(\"Hello I'm Excited to learn Pytorch\")"
      ]
    },
    {
      "cell_type": "code",
      "source": [
        "!nvidia-smi"
      ],
      "metadata": {
        "colab": {
          "base_uri": "https://localhost:8080/"
        },
        "id": "cfaFclT4R0o2",
        "outputId": "bd6b13b6-fa2a-41cf-f64c-e9ed3eb1e772"
      },
      "execution_count": 2,
      "outputs": [
        {
          "output_type": "stream",
          "name": "stdout",
          "text": [
            "NVIDIA-SMI has failed because it couldn't communicate with the NVIDIA driver. Make sure that the latest NVIDIA driver is installed and running.\n",
            "\n"
          ]
        }
      ]
    },
    {
      "cell_type": "code",
      "source": [
        "import torch\n",
        "import pandas as pd\n",
        "import numpy as np\n",
        "import matplotlib.pyplot as plt\n",
        "print(torch.__version__)"
      ],
      "metadata": {
        "colab": {
          "base_uri": "https://localhost:8080/"
        },
        "id": "G6asC8VpSQnT",
        "outputId": "a1de6e17-cb2f-4e0e-a740-8029bb952995"
      },
      "execution_count": 3,
      "outputs": [
        {
          "output_type": "stream",
          "name": "stdout",
          "text": [
            "1.13.1+cu116\n"
          ]
        }
      ]
    },
    {
      "cell_type": "markdown",
      "source": [
        "# Introduction to Tensors\n",
        " ## Creating tensors"
      ],
      "metadata": {
        "id": "BiXgjHR9Voa_"
      }
    },
    {
      "cell_type": "markdown",
      "source": [
        "## scalar"
      ],
      "metadata": {
        "id": "CuGwTDKEW6D-"
      }
    },
    {
      "cell_type": "code",
      "source": [
        "# scalar\n",
        "scalar = torch.tensor(7)\n",
        "scalar"
      ],
      "metadata": {
        "colab": {
          "base_uri": "https://localhost:8080/"
        },
        "id": "FPMB5zMX5ZyX",
        "outputId": "52ce45c6-e065-48ed-de07-14cf37b732e6"
      },
      "execution_count": 4,
      "outputs": [
        {
          "output_type": "execute_result",
          "data": {
            "text/plain": [
              "tensor(7)"
            ]
          },
          "metadata": {},
          "execution_count": 4
        }
      ]
    },
    {
      "cell_type": "code",
      "source": [
        "scalar.ndim"
      ],
      "metadata": {
        "colab": {
          "base_uri": "https://localhost:8080/"
        },
        "id": "0uJo925sWRnX",
        "outputId": "71d2bfab-a5af-4531-9eb6-ab5a629959e8"
      },
      "execution_count": 5,
      "outputs": [
        {
          "output_type": "execute_result",
          "data": {
            "text/plain": [
              "0"
            ]
          },
          "metadata": {},
          "execution_count": 5
        }
      ]
    },
    {
      "cell_type": "code",
      "source": [
        "# Get tensor back as python int\n",
        "scalar.item()"
      ],
      "metadata": {
        "colab": {
          "base_uri": "https://localhost:8080/"
        },
        "id": "29K1K_zFWptG",
        "outputId": "bf7bc164-4c34-4a72-b439-cd7e7154e545"
      },
      "execution_count": 6,
      "outputs": [
        {
          "output_type": "execute_result",
          "data": {
            "text/plain": [
              "7"
            ]
          },
          "metadata": {},
          "execution_count": 6
        }
      ]
    },
    {
      "cell_type": "markdown",
      "source": [
        "## Vectors"
      ],
      "metadata": {
        "id": "4rYqBQWBW8pr"
      }
    },
    {
      "cell_type": "code",
      "source": [
        "vector = torch.tensor([7,7])\n",
        "vector"
      ],
      "metadata": {
        "colab": {
          "base_uri": "https://localhost:8080/"
        },
        "id": "_P_QLqefW1s8",
        "outputId": "4daac0d8-65ca-46e8-d7d3-3941446f8553"
      },
      "execution_count": 7,
      "outputs": [
        {
          "output_type": "execute_result",
          "data": {
            "text/plain": [
              "tensor([7, 7])"
            ]
          },
          "metadata": {},
          "execution_count": 7
        }
      ]
    },
    {
      "cell_type": "code",
      "source": [
        "vector.ndim"
      ],
      "metadata": {
        "colab": {
          "base_uri": "https://localhost:8080/"
        },
        "id": "1t824fZvW4_t",
        "outputId": "28dd5cbb-4099-4429-f7be-ebafe6d4ab35"
      },
      "execution_count": 8,
      "outputs": [
        {
          "output_type": "execute_result",
          "data": {
            "text/plain": [
              "1"
            ]
          },
          "metadata": {},
          "execution_count": 8
        }
      ]
    },
    {
      "cell_type": "code",
      "source": [
        "vector.shape"
      ],
      "metadata": {
        "colab": {
          "base_uri": "https://localhost:8080/"
        },
        "id": "mLTMVNqqXcdU",
        "outputId": "698c4662-6620-4dee-dc31-60cdd2b46ee9"
      },
      "execution_count": 9,
      "outputs": [
        {
          "output_type": "execute_result",
          "data": {
            "text/plain": [
              "torch.Size([2])"
            ]
          },
          "metadata": {},
          "execution_count": 9
        }
      ]
    },
    {
      "cell_type": "markdown",
      "source": [
        "## MATRIX"
      ],
      "metadata": {
        "id": "MQSqTHCCXiJq"
      }
    },
    {
      "cell_type": "code",
      "source": [
        "MATRIX = torch.tensor([\n",
        "    [2, 3],\n",
        "    [4, 5]\n",
        "])\n",
        "MATRIX"
      ],
      "metadata": {
        "colab": {
          "base_uri": "https://localhost:8080/"
        },
        "id": "ium6HjO-XfrK",
        "outputId": "c667ed27-b040-421c-e15d-6cc84875734d"
      },
      "execution_count": 10,
      "outputs": [
        {
          "output_type": "execute_result",
          "data": {
            "text/plain": [
              "tensor([[2, 3],\n",
              "        [4, 5]])"
            ]
          },
          "metadata": {},
          "execution_count": 10
        }
      ]
    },
    {
      "cell_type": "code",
      "source": [
        "MATRIX.ndim"
      ],
      "metadata": {
        "colab": {
          "base_uri": "https://localhost:8080/"
        },
        "id": "lyyA0WV4XvAx",
        "outputId": "4c0e37f9-2e87-4990-8777-549c5540cbcd"
      },
      "execution_count": 11,
      "outputs": [
        {
          "output_type": "execute_result",
          "data": {
            "text/plain": [
              "2"
            ]
          },
          "metadata": {},
          "execution_count": 11
        }
      ]
    },
    {
      "cell_type": "code",
      "source": [
        "MATRIX.shape"
      ],
      "metadata": {
        "colab": {
          "base_uri": "https://localhost:8080/"
        },
        "id": "5tS5-JnVXyfp",
        "outputId": "c5a7f730-7760-4a86-dfdb-90e3877245fe"
      },
      "execution_count": 12,
      "outputs": [
        {
          "output_type": "execute_result",
          "data": {
            "text/plain": [
              "torch.Size([2, 2])"
            ]
          },
          "metadata": {},
          "execution_count": 12
        }
      ]
    },
    {
      "cell_type": "code",
      "source": [
        "print(MATRIX[0])\n",
        "print(\"*\"*20)\n",
        "print(MATRIX[1])"
      ],
      "metadata": {
        "colab": {
          "base_uri": "https://localhost:8080/"
        },
        "id": "Jr2sEhaYX6Jy",
        "outputId": "b24eee98-e5f3-4269-cb81-02fa32596861"
      },
      "execution_count": 13,
      "outputs": [
        {
          "output_type": "stream",
          "name": "stdout",
          "text": [
            "tensor([2, 3])\n",
            "********************\n",
            "tensor([4, 5])\n"
          ]
        }
      ]
    },
    {
      "cell_type": "markdown",
      "source": [
        "## TENSOR"
      ],
      "metadata": {
        "id": "CzCwx-dgYQOX"
      }
    },
    {
      "cell_type": "code",
      "source": [
        "TENSOR = torch.tensor([[\n",
        "    [1,2,3],\n",
        "    [4,5,6],\n",
        "    [7,8,9]\n",
        "]])\n",
        "TENSOR"
      ],
      "metadata": {
        "colab": {
          "base_uri": "https://localhost:8080/"
        },
        "id": "RerL86GFYCtR",
        "outputId": "479c6c1d-e3de-4bc1-a95c-393948f09143"
      },
      "execution_count": 14,
      "outputs": [
        {
          "output_type": "execute_result",
          "data": {
            "text/plain": [
              "tensor([[[1, 2, 3],\n",
              "         [4, 5, 6],\n",
              "         [7, 8, 9]]])"
            ]
          },
          "metadata": {},
          "execution_count": 14
        }
      ]
    },
    {
      "cell_type": "code",
      "source": [
        "TENSOR.ndim"
      ],
      "metadata": {
        "colab": {
          "base_uri": "https://localhost:8080/"
        },
        "id": "dcJmM5nGYj3u",
        "outputId": "63b0d0e1-003b-4b81-8329-08dafa6b4b78"
      },
      "execution_count": 15,
      "outputs": [
        {
          "output_type": "execute_result",
          "data": {
            "text/plain": [
              "3"
            ]
          },
          "metadata": {},
          "execution_count": 15
        }
      ]
    },
    {
      "cell_type": "code",
      "source": [
        "TENSOR.shape"
      ],
      "metadata": {
        "colab": {
          "base_uri": "https://localhost:8080/"
        },
        "id": "Bv0-b8l-YoMW",
        "outputId": "8dd42916-4f5e-4c9f-faa0-11e3f49b909d"
      },
      "execution_count": 16,
      "outputs": [
        {
          "output_type": "execute_result",
          "data": {
            "text/plain": [
              "torch.Size([1, 3, 3])"
            ]
          },
          "metadata": {},
          "execution_count": 16
        }
      ]
    },
    {
      "cell_type": "code",
      "source": [
        "TENSOR2= torch.tensor([\n",
        "    [[1,2,3],\n",
        "    [4,5,6],\n",
        "    [7,8,9]],\n",
        "    \n",
        "    [[10,11,12],\n",
        "    [12,13,14],\n",
        "    [15,16,17]]\n",
        "\n",
        "])\n",
        "TENSOR2"
      ],
      "metadata": {
        "colab": {
          "base_uri": "https://localhost:8080/"
        },
        "id": "34H8_y21YrBu",
        "outputId": "c6a48445-c20b-44f1-9e1c-d907b6269509"
      },
      "execution_count": 17,
      "outputs": [
        {
          "output_type": "execute_result",
          "data": {
            "text/plain": [
              "tensor([[[ 1,  2,  3],\n",
              "         [ 4,  5,  6],\n",
              "         [ 7,  8,  9]],\n",
              "\n",
              "        [[10, 11, 12],\n",
              "         [12, 13, 14],\n",
              "         [15, 16, 17]]])"
            ]
          },
          "metadata": {},
          "execution_count": 17
        }
      ]
    },
    {
      "cell_type": "code",
      "source": [
        "TENSOR2.ndim"
      ],
      "metadata": {
        "colab": {
          "base_uri": "https://localhost:8080/"
        },
        "id": "iP9jsCMPZfJ9",
        "outputId": "c5cee9af-ccae-4ac3-9ce9-2ecb1e6886b0"
      },
      "execution_count": 18,
      "outputs": [
        {
          "output_type": "execute_result",
          "data": {
            "text/plain": [
              "3"
            ]
          },
          "metadata": {},
          "execution_count": 18
        }
      ]
    },
    {
      "cell_type": "code",
      "source": [
        "TENSOR2.shape"
      ],
      "metadata": {
        "colab": {
          "base_uri": "https://localhost:8080/"
        },
        "id": "xyCHv-i1ZsS7",
        "outputId": "7f000f63-742a-4000-d479-401a70edbc20"
      },
      "execution_count": 19,
      "outputs": [
        {
          "output_type": "execute_result",
          "data": {
            "text/plain": [
              "torch.Size([2, 3, 3])"
            ]
          },
          "metadata": {},
          "execution_count": 19
        }
      ]
    },
    {
      "cell_type": "markdown",
      "source": [
        "### RAndom TenSors\n",
        "Neural Network start learning with Random Tensors"
      ],
      "metadata": {
        "id": "r5uNecVr21i5"
      }
    },
    {
      "cell_type": "code",
      "source": [
        "random_tensor = torch.rand(3, 4)\n",
        "random_tensor"
      ],
      "metadata": {
        "colab": {
          "base_uri": "https://localhost:8080/"
        },
        "id": "GjZVImus22ct",
        "outputId": "4f18454d-ef50-4be9-82df-db5763ab5ad0"
      },
      "execution_count": 20,
      "outputs": [
        {
          "output_type": "execute_result",
          "data": {
            "text/plain": [
              "tensor([[0.4275, 0.8372, 0.8726, 0.4489],\n",
              "        [0.2352, 0.6130, 0.7470, 0.4717],\n",
              "        [0.6691, 0.4253, 0.9251, 0.0451]])"
            ]
          },
          "metadata": {},
          "execution_count": 20
        }
      ]
    },
    {
      "cell_type": "code",
      "source": [
        "random_tensor.ndim"
      ],
      "metadata": {
        "colab": {
          "base_uri": "https://localhost:8080/"
        },
        "id": "Cm1GR0cb3uMS",
        "outputId": "dfb1c336-07cc-4ffa-c4b1-fccf2dec834f"
      },
      "execution_count": 21,
      "outputs": [
        {
          "output_type": "execute_result",
          "data": {
            "text/plain": [
              "2"
            ]
          },
          "metadata": {},
          "execution_count": 21
        }
      ]
    },
    {
      "cell_type": "code",
      "source": [
        "random_tensor2 = torch.rand(5, 5, 10)\n",
        "random_tensor2"
      ],
      "metadata": {
        "colab": {
          "base_uri": "https://localhost:8080/"
        },
        "id": "9s4m-Zzt3h6X",
        "outputId": "648e6f3d-cfbd-4581-9306-425604b29bc9"
      },
      "execution_count": 22,
      "outputs": [
        {
          "output_type": "execute_result",
          "data": {
            "text/plain": [
              "tensor([[[6.1259e-01, 6.1251e-01, 1.1836e-01, 3.9390e-01, 3.0896e-01,\n",
              "          8.2138e-01, 5.5063e-01, 6.8581e-01, 9.9294e-01, 7.7115e-01],\n",
              "         [1.2400e-01, 6.6579e-01, 7.4886e-01, 4.0582e-01, 2.3577e-02,\n",
              "          2.2158e-01, 9.0421e-01, 4.8763e-01, 5.2583e-01, 2.0515e-02],\n",
              "         [2.0760e-01, 1.3126e-01, 8.9533e-01, 1.4783e-01, 3.1166e-01,\n",
              "          8.4894e-01, 7.8993e-01, 2.2267e-01, 4.7783e-01, 1.2703e-02],\n",
              "         [6.0697e-01, 6.8717e-01, 2.6466e-01, 8.7330e-01, 7.3207e-03,\n",
              "          3.7315e-01, 5.7325e-01, 9.4534e-01, 8.0272e-01, 7.6483e-01],\n",
              "         [9.3605e-01, 8.9092e-01, 8.9891e-01, 4.5342e-01, 3.6073e-01,\n",
              "          8.8803e-01, 8.1954e-02, 5.3273e-01, 4.5060e-01, 8.2912e-01]],\n",
              "\n",
              "        [[5.4006e-01, 2.7363e-01, 4.3350e-01, 7.8321e-03, 3.0705e-01,\n",
              "          6.7625e-01, 3.2960e-01, 7.3632e-02, 2.6007e-02, 6.7426e-01],\n",
              "         [8.7567e-01, 9.0980e-01, 5.8137e-01, 6.7002e-01, 8.4781e-02,\n",
              "          6.6187e-01, 2.2239e-01, 9.6469e-01, 7.8054e-01, 2.2280e-01],\n",
              "         [4.7871e-01, 3.5360e-01, 1.7840e-01, 9.4929e-02, 8.3769e-01,\n",
              "          4.4655e-01, 1.0530e-01, 2.1566e-01, 1.6023e-01, 7.3320e-01],\n",
              "         [7.0886e-01, 5.0227e-01, 3.3637e-01, 4.8132e-01, 6.4682e-01,\n",
              "          2.7534e-01, 8.0490e-01, 6.1337e-01, 9.2664e-01, 4.8030e-01],\n",
              "         [8.5464e-01, 7.1239e-01, 2.7884e-01, 7.2979e-01, 6.4088e-01,\n",
              "          2.2280e-01, 5.8508e-01, 8.0131e-01, 2.0952e-01, 2.5228e-01]],\n",
              "\n",
              "        [[4.4423e-01, 5.7855e-01, 9.2864e-01, 6.4868e-01, 1.9854e-01,\n",
              "          8.9193e-02, 1.2231e-02, 8.6516e-02, 8.4888e-01, 8.2313e-01],\n",
              "         [6.4863e-01, 6.7151e-01, 2.3738e-01, 9.4557e-01, 1.5645e-01,\n",
              "          1.9876e-01, 6.5160e-01, 8.0681e-04, 9.3607e-01, 6.1010e-02],\n",
              "         [8.6502e-01, 7.6819e-01, 9.4900e-02, 5.8069e-01, 5.7545e-01,\n",
              "          4.8068e-02, 8.3591e-01, 1.9827e-02, 2.6567e-01, 8.1176e-01],\n",
              "         [3.7236e-01, 2.0550e-01, 9.8032e-01, 6.7719e-02, 1.4184e-01,\n",
              "          6.5576e-01, 3.0228e-01, 1.2821e-01, 7.6142e-01, 9.1142e-01],\n",
              "         [1.0647e-01, 1.4657e-01, 1.3706e-01, 8.9987e-01, 4.1945e-01,\n",
              "          6.8626e-01, 3.4859e-01, 1.4484e-01, 5.2367e-01, 1.2100e-01]],\n",
              "\n",
              "        [[2.9632e-01, 7.9415e-01, 1.6654e-02, 2.1954e-01, 5.2789e-01,\n",
              "          9.0491e-01, 5.7994e-01, 2.1197e-01, 2.7154e-01, 2.0387e-01],\n",
              "         [9.2283e-01, 1.8179e-01, 6.9251e-01, 9.9002e-01, 9.4508e-01,\n",
              "          5.8710e-01, 9.3054e-01, 4.7433e-01, 6.8418e-01, 7.2425e-01],\n",
              "         [6.7441e-01, 6.3315e-01, 4.3498e-01, 6.4883e-01, 7.4406e-01,\n",
              "          1.7360e-01, 4.0283e-01, 3.8152e-01, 7.4295e-03, 7.0886e-02],\n",
              "         [8.2665e-02, 8.1865e-01, 8.6573e-01, 3.0839e-01, 9.9344e-01,\n",
              "          5.6606e-01, 2.7438e-01, 7.0903e-01, 4.6633e-01, 5.9823e-01],\n",
              "         [1.0833e-01, 8.9339e-01, 1.3612e-01, 4.1133e-01, 7.1067e-02,\n",
              "          3.0275e-01, 2.4795e-01, 3.0393e-01, 2.0577e-01, 4.1394e-02]],\n",
              "\n",
              "        [[3.1557e-01, 3.6241e-01, 2.4415e-01, 4.4082e-01, 4.2998e-01,\n",
              "          9.2487e-02, 3.3030e-01, 1.2847e-01, 8.4189e-01, 2.9627e-02],\n",
              "         [3.0366e-01, 4.8545e-01, 1.9839e-01, 7.0078e-01, 6.0968e-01,\n",
              "          9.2047e-01, 7.3739e-01, 2.4317e-01, 7.7171e-01, 6.7528e-01],\n",
              "         [2.6671e-01, 7.4168e-01, 1.6273e-02, 3.4409e-01, 9.8359e-01,\n",
              "          4.9870e-01, 8.9787e-01, 2.0146e-01, 6.0597e-01, 7.1536e-01],\n",
              "         [7.6330e-01, 3.6205e-01, 5.4710e-01, 4.7438e-01, 3.9729e-02,\n",
              "          3.2233e-01, 4.2489e-01, 7.5769e-02, 4.5733e-01, 8.5943e-01],\n",
              "         [7.1520e-01, 1.0451e-01, 9.1574e-01, 7.3831e-01, 9.2991e-01,\n",
              "          8.9916e-01, 1.0639e-01, 8.6234e-02, 3.2960e-02, 7.3172e-01]]])"
            ]
          },
          "metadata": {},
          "execution_count": 22
        }
      ]
    },
    {
      "cell_type": "code",
      "source": [
        "random_tensor2.ndim"
      ],
      "metadata": {
        "colab": {
          "base_uri": "https://localhost:8080/"
        },
        "id": "3lWPbIpB3q8e",
        "outputId": "64b6dde4-a325-4dd9-dfea-e75099dc99ae"
      },
      "execution_count": 23,
      "outputs": [
        {
          "output_type": "execute_result",
          "data": {
            "text/plain": [
              "3"
            ]
          },
          "metadata": {},
          "execution_count": 23
        }
      ]
    },
    {
      "cell_type": "code",
      "source": [
        "# Creat a random tensor similar to shape of image\n",
        "random_image_size_tensor = torch.rand(size=(224, 224, 3)) # h,w,color channels\n",
        "random_image_size_tensor.shape , random_image_size_tensor.ndim"
      ],
      "metadata": {
        "colab": {
          "base_uri": "https://localhost:8080/"
        },
        "id": "nChdouqN34yN",
        "outputId": "40027b1b-afff-47c2-9e31-0baa23c2fd61"
      },
      "execution_count": 24,
      "outputs": [
        {
          "output_type": "execute_result",
          "data": {
            "text/plain": [
              "(torch.Size([224, 224, 3]), 3)"
            ]
          },
          "metadata": {},
          "execution_count": 24
        }
      ]
    },
    {
      "cell_type": "markdown",
      "source": [
        "### Zeros and Ones"
      ],
      "metadata": {
        "id": "8DN2Kr9j761d"
      }
    },
    {
      "cell_type": "code",
      "source": [
        "zero = torch.zeros(size=(3,4))\n",
        "zero"
      ],
      "metadata": {
        "colab": {
          "base_uri": "https://localhost:8080/"
        },
        "id": "tMVI1T0n722y",
        "outputId": "3c9d7111-c1b9-4e39-acdb-65949cfef96f"
      },
      "execution_count": 25,
      "outputs": [
        {
          "output_type": "execute_result",
          "data": {
            "text/plain": [
              "tensor([[0., 0., 0., 0.],\n",
              "        [0., 0., 0., 0.],\n",
              "        [0., 0., 0., 0.]])"
            ]
          },
          "metadata": {},
          "execution_count": 25
        }
      ]
    },
    {
      "cell_type": "code",
      "source": [
        "torch.rand(3,4) * zero"
      ],
      "metadata": {
        "colab": {
          "base_uri": "https://localhost:8080/"
        },
        "id": "rQuCY3UO4Ky0",
        "outputId": "5ae97c59-62c1-4817-80ef-af738e6edac8"
      },
      "execution_count": 26,
      "outputs": [
        {
          "output_type": "execute_result",
          "data": {
            "text/plain": [
              "tensor([[0., 0., 0., 0.],\n",
              "        [0., 0., 0., 0.],\n",
              "        [0., 0., 0., 0.]])"
            ]
          },
          "metadata": {},
          "execution_count": 26
        }
      ]
    },
    {
      "cell_type": "code",
      "source": [
        "zero.dtype"
      ],
      "metadata": {
        "colab": {
          "base_uri": "https://localhost:8080/"
        },
        "id": "0w4gQdRWTwVi",
        "outputId": "e7980e5a-ddbb-4f47-bc4c-fc8b7301a7e9"
      },
      "execution_count": 27,
      "outputs": [
        {
          "output_type": "execute_result",
          "data": {
            "text/plain": [
              "torch.float32"
            ]
          },
          "metadata": {},
          "execution_count": 27
        }
      ]
    },
    {
      "cell_type": "code",
      "source": [
        "# Ones\n",
        "one = torch.ones(5,6,7)\n",
        "one"
      ],
      "metadata": {
        "colab": {
          "base_uri": "https://localhost:8080/"
        },
        "id": "A3U-079IT2x4",
        "outputId": "042c5532-18d6-4466-96d2-40b1e3ca6a01"
      },
      "execution_count": 28,
      "outputs": [
        {
          "output_type": "execute_result",
          "data": {
            "text/plain": [
              "tensor([[[1., 1., 1., 1., 1., 1., 1.],\n",
              "         [1., 1., 1., 1., 1., 1., 1.],\n",
              "         [1., 1., 1., 1., 1., 1., 1.],\n",
              "         [1., 1., 1., 1., 1., 1., 1.],\n",
              "         [1., 1., 1., 1., 1., 1., 1.],\n",
              "         [1., 1., 1., 1., 1., 1., 1.]],\n",
              "\n",
              "        [[1., 1., 1., 1., 1., 1., 1.],\n",
              "         [1., 1., 1., 1., 1., 1., 1.],\n",
              "         [1., 1., 1., 1., 1., 1., 1.],\n",
              "         [1., 1., 1., 1., 1., 1., 1.],\n",
              "         [1., 1., 1., 1., 1., 1., 1.],\n",
              "         [1., 1., 1., 1., 1., 1., 1.]],\n",
              "\n",
              "        [[1., 1., 1., 1., 1., 1., 1.],\n",
              "         [1., 1., 1., 1., 1., 1., 1.],\n",
              "         [1., 1., 1., 1., 1., 1., 1.],\n",
              "         [1., 1., 1., 1., 1., 1., 1.],\n",
              "         [1., 1., 1., 1., 1., 1., 1.],\n",
              "         [1., 1., 1., 1., 1., 1., 1.]],\n",
              "\n",
              "        [[1., 1., 1., 1., 1., 1., 1.],\n",
              "         [1., 1., 1., 1., 1., 1., 1.],\n",
              "         [1., 1., 1., 1., 1., 1., 1.],\n",
              "         [1., 1., 1., 1., 1., 1., 1.],\n",
              "         [1., 1., 1., 1., 1., 1., 1.],\n",
              "         [1., 1., 1., 1., 1., 1., 1.]],\n",
              "\n",
              "        [[1., 1., 1., 1., 1., 1., 1.],\n",
              "         [1., 1., 1., 1., 1., 1., 1.],\n",
              "         [1., 1., 1., 1., 1., 1., 1.],\n",
              "         [1., 1., 1., 1., 1., 1., 1.],\n",
              "         [1., 1., 1., 1., 1., 1., 1.],\n",
              "         [1., 1., 1., 1., 1., 1., 1.]]])"
            ]
          },
          "metadata": {},
          "execution_count": 28
        }
      ]
    },
    {
      "cell_type": "code",
      "source": [
        "one.dtype"
      ],
      "metadata": {
        "colab": {
          "base_uri": "https://localhost:8080/"
        },
        "id": "2cGiEiKST9GA",
        "outputId": "aeb4b825-3a47-4c5d-98cc-3e5c23d0c35e"
      },
      "execution_count": 29,
      "outputs": [
        {
          "output_type": "execute_result",
          "data": {
            "text/plain": [
              "torch.float32"
            ]
          },
          "metadata": {},
          "execution_count": 29
        }
      ]
    },
    {
      "cell_type": "markdown",
      "source": [
        "### creating range of tensors and tensor like"
      ],
      "metadata": {
        "id": "SdKPlaO9VLgc"
      }
    },
    {
      "cell_type": "code",
      "source": [
        "torch.range(1,10)"
      ],
      "metadata": {
        "colab": {
          "base_uri": "https://localhost:8080/"
        },
        "id": "IgXGerXbUJKf",
        "outputId": "9685abba-30b4-467f-abf3-3a3f8ece21fb"
      },
      "execution_count": 30,
      "outputs": [
        {
          "output_type": "stream",
          "name": "stderr",
          "text": [
            "<ipython-input-30-a2647884754e>:1: UserWarning: torch.range is deprecated and will be removed in a future release because its behavior is inconsistent with Python's range builtin. Instead, use torch.arange, which produces values in [start, end).\n",
            "  torch.range(1,10)\n"
          ]
        },
        {
          "output_type": "execute_result",
          "data": {
            "text/plain": [
              "tensor([ 1.,  2.,  3.,  4.,  5.,  6.,  7.,  8.,  9., 10.])"
            ]
          },
          "metadata": {},
          "execution_count": 30
        }
      ]
    },
    {
      "cell_type": "code",
      "source": [
        "one_to_ten = torch.arange(1,11)\n",
        "one_to_ten"
      ],
      "metadata": {
        "colab": {
          "base_uri": "https://localhost:8080/"
        },
        "id": "aaaW5l6htPOk",
        "outputId": "180a9242-80c3-43da-d84b-bc314f0981ed"
      },
      "execution_count": 31,
      "outputs": [
        {
          "output_type": "execute_result",
          "data": {
            "text/plain": [
              "tensor([ 1,  2,  3,  4,  5,  6,  7,  8,  9, 10])"
            ]
          },
          "metadata": {},
          "execution_count": 31
        }
      ]
    },
    {
      "cell_type": "code",
      "source": [
        "torch.arange(start=1, end=1000, step=63)"
      ],
      "metadata": {
        "colab": {
          "base_uri": "https://localhost:8080/"
        },
        "id": "NJJ93jmutdW7",
        "outputId": "cf65c52e-6a53-4255-9748-2126bc258e67"
      },
      "execution_count": 32,
      "outputs": [
        {
          "output_type": "execute_result",
          "data": {
            "text/plain": [
              "tensor([  1,  64, 127, 190, 253, 316, 379, 442, 505, 568, 631, 694, 757, 820,\n",
              "        883, 946])"
            ]
          },
          "metadata": {},
          "execution_count": 32
        }
      ]
    },
    {
      "cell_type": "markdown",
      "source": [
        "### Tensor like"
      ],
      "metadata": {
        "id": "KgZDYmyrt16g"
      }
    },
    {
      "cell_type": "code",
      "source": [
        "ten_zeros = torch.zeros_like(one_to_ten)\n",
        "ten_zeros"
      ],
      "metadata": {
        "colab": {
          "base_uri": "https://localhost:8080/"
        },
        "id": "PavmWG5wtzx5",
        "outputId": "5ee78796-3715-4263-8ceb-f27995c58e6c"
      },
      "execution_count": 33,
      "outputs": [
        {
          "output_type": "execute_result",
          "data": {
            "text/plain": [
              "tensor([0, 0, 0, 0, 0, 0, 0, 0, 0, 0])"
            ]
          },
          "metadata": {},
          "execution_count": 33
        }
      ]
    },
    {
      "cell_type": "markdown",
      "source": [
        "### Tensor datatype"
      ],
      "metadata": {
        "id": "IbCfKG-8uluT"
      }
    },
    {
      "cell_type": "code",
      "source": [
        "float_32_tensor = torch.tensor([3.0, 4.0, 5.0, 6.0], dtype=None)\n",
        "print(float_32_tensor)\n",
        "print(float_32_tensor.dtype)"
      ],
      "metadata": {
        "colab": {
          "base_uri": "https://localhost:8080/"
        },
        "id": "_aniFqSXuI7w",
        "outputId": "739c4e48-2716-4a5d-b7ea-e1e482262d71"
      },
      "execution_count": 34,
      "outputs": [
        {
          "output_type": "stream",
          "name": "stdout",
          "text": [
            "tensor([3., 4., 5., 6.])\n",
            "torch.float32\n"
          ]
        }
      ]
    },
    {
      "cell_type": "code",
      "source": [
        "float_16_tensor = torch.tensor([3.0, 4.0, 5.0, 6.0], dtype=torch.float16)\n",
        "print(float_16_tensor)\n",
        "print(float_16_tensor.dtype)"
      ],
      "metadata": {
        "colab": {
          "base_uri": "https://localhost:8080/"
        },
        "id": "vG3iFBMXvMUs",
        "outputId": "9d53528b-a31a-4795-d76f-11353dcec4d0"
      },
      "execution_count": 35,
      "outputs": [
        {
          "output_type": "stream",
          "name": "stdout",
          "text": [
            "tensor([3., 4., 5., 6.], dtype=torch.float16)\n",
            "torch.float16\n"
          ]
        }
      ]
    },
    {
      "cell_type": "code",
      "source": [
        "a = torch.tensor([3.0, 4.0, 5.0, 6.0], \n",
        "                 dtype=None,\n",
        "                 device=None,\n",
        "                 requires_grad=False\n",
        "                 )\n",
        "print(a)\n",
        "print(a.dtype)"
      ],
      "metadata": {
        "colab": {
          "base_uri": "https://localhost:8080/"
        },
        "id": "2YKhs5fZvYr2",
        "outputId": "23354cf1-99f4-4453-f3f3-1ee7df6dadb3"
      },
      "execution_count": 36,
      "outputs": [
        {
          "output_type": "stream",
          "name": "stdout",
          "text": [
            "tensor([3., 4., 5., 6.])\n",
            "torch.float32\n"
          ]
        }
      ]
    },
    {
      "cell_type": "code",
      "source": [
        "a = torch.tensor([3.0, 4.0, 5.0, 6.0], \n",
        "                 dtype=None,\n",
        "                 device='cpu',\n",
        "                 requires_grad=False\n",
        "                 )\n",
        "print(a)\n",
        "print(a.dtype)"
      ],
      "metadata": {
        "colab": {
          "base_uri": "https://localhost:8080/"
        },
        "id": "-xa_96Crv5G7",
        "outputId": "94b23b5f-1e80-48d4-b01a-66593d4c72fc"
      },
      "execution_count": 37,
      "outputs": [
        {
          "output_type": "stream",
          "name": "stdout",
          "text": [
            "tensor([3., 4., 5., 6.])\n",
            "torch.float32\n"
          ]
        }
      ]
    },
    {
      "cell_type": "code",
      "source": [
        "float_16_tensor = float_32_tensor.type(torch.float16)\n",
        "float_16_tensor"
      ],
      "metadata": {
        "colab": {
          "base_uri": "https://localhost:8080/"
        },
        "id": "iUElFQxvofre",
        "outputId": "23504dc0-8969-4e1e-abf4-e11c98d9648e"
      },
      "execution_count": 38,
      "outputs": [
        {
          "output_type": "execute_result",
          "data": {
            "text/plain": [
              "tensor([3., 4., 5., 6.], dtype=torch.float16)"
            ]
          },
          "metadata": {},
          "execution_count": 38
        }
      ]
    },
    {
      "cell_type": "code",
      "source": [
        "m = float_16_tensor * float_32_tensor\n",
        "print(m)\n",
        "print(m.dtype)"
      ],
      "metadata": {
        "colab": {
          "base_uri": "https://localhost:8080/"
        },
        "id": "C0kplWMko7C5",
        "outputId": "6afeee28-cb56-445f-9870-3cf43c9083fe"
      },
      "execution_count": 39,
      "outputs": [
        {
          "output_type": "stream",
          "name": "stdout",
          "text": [
            "tensor([ 9., 16., 25., 36.])\n",
            "torch.float32\n"
          ]
        }
      ]
    },
    {
      "cell_type": "code",
      "source": [
        "m = float_16_tensor * float_16_tensor\n",
        "m"
      ],
      "metadata": {
        "colab": {
          "base_uri": "https://localhost:8080/"
        },
        "id": "jUVoPV3UpJWR",
        "outputId": "54da52d6-cfad-41e2-daf3-fab523989da2"
      },
      "execution_count": 40,
      "outputs": [
        {
          "output_type": "execute_result",
          "data": {
            "text/plain": [
              "tensor([ 9., 16., 25., 36.], dtype=torch.float16)"
            ]
          },
          "metadata": {},
          "execution_count": 40
        }
      ]
    },
    {
      "cell_type": "code",
      "source": [
        "int_32_tensor = torch.tensor([3, 7, 8], dtype=torch.int32)\n",
        "int_32_tensor"
      ],
      "metadata": {
        "colab": {
          "base_uri": "https://localhost:8080/"
        },
        "id": "UlS5dnR5pTd4",
        "outputId": "7b0ad7e3-d0a3-418a-d6e4-64843c103e09"
      },
      "execution_count": 41,
      "outputs": [
        {
          "output_type": "execute_result",
          "data": {
            "text/plain": [
              "tensor([3, 7, 8], dtype=torch.int32)"
            ]
          },
          "metadata": {},
          "execution_count": 41
        }
      ]
    },
    {
      "cell_type": "markdown",
      "source": [
        "Most important Error"
      ],
      "metadata": {
        "id": "YVTvpA7x6nBs"
      }
    },
    {
      "cell_type": "code",
      "source": [
        "# float_32_tensor * int_32_tensor "
      ],
      "metadata": {
        "id": "_0ZtE2ty6L5w"
      },
      "execution_count": 42,
      "outputs": []
    },
    {
      "cell_type": "code",
      "source": [
        "# int_32_tensor * float_16_tensor"
      ],
      "metadata": {
        "id": "WXnua9ZpplSz"
      },
      "execution_count": 43,
      "outputs": []
    },
    {
      "cell_type": "markdown",
      "source": [
        "### Getting information from Tensors "
      ],
      "metadata": {
        "id": "yf1or7JE62FX"
      }
    },
    {
      "cell_type": "code",
      "source": [
        "some_tensor = torch.rand(3,4)\n",
        "some_tensor"
      ],
      "metadata": {
        "colab": {
          "base_uri": "https://localhost:8080/"
        },
        "id": "3jSTmdxJ6Jri",
        "outputId": "cbbb89bc-b075-4bf8-eaae-62e7b2b2f402"
      },
      "execution_count": 44,
      "outputs": [
        {
          "output_type": "execute_result",
          "data": {
            "text/plain": [
              "tensor([[0.6513, 0.5568, 0.8505, 0.9829],\n",
              "        [0.3375, 0.0919, 0.9750, 0.4495],\n",
              "        [0.0566, 0.6317, 0.0173, 0.9861]])"
            ]
          },
          "metadata": {},
          "execution_count": 44
        }
      ]
    },
    {
      "cell_type": "code",
      "source": [
        "print(some_tensor)\n",
        "print(f\"Datatype of tensor: {some_tensor.dtype}\")\n",
        "print(f\"Shape of tensor: {some_tensor.shape}\")\n",
        "print(f\"Device tensor is on: {some_tensor.device}\")"
      ],
      "metadata": {
        "colab": {
          "base_uri": "https://localhost:8080/"
        },
        "id": "xgEkbpml7FCH",
        "outputId": "931933f5-3319-4c61-ccd4-86b20b4326a6"
      },
      "execution_count": 45,
      "outputs": [
        {
          "output_type": "stream",
          "name": "stdout",
          "text": [
            "tensor([[0.6513, 0.5568, 0.8505, 0.9829],\n",
            "        [0.3375, 0.0919, 0.9750, 0.4495],\n",
            "        [0.0566, 0.6317, 0.0173, 0.9861]])\n",
            "Datatype of tensor: torch.float32\n",
            "Shape of tensor: torch.Size([3, 4])\n",
            "Device tensor is on: cpu\n"
          ]
        }
      ]
    },
    {
      "cell_type": "markdown",
      "source": [
        "### Manipulating tensors"
      ],
      "metadata": {
        "id": "VZ8A9TEW8E9W"
      }
    },
    {
      "cell_type": "code",
      "source": [
        "%%time\n",
        "my_tensor = torch.tensor([1, 3, 5])\n",
        "my_tensor + 10"
      ],
      "metadata": {
        "colab": {
          "base_uri": "https://localhost:8080/"
        },
        "id": "oXLK0rG57tVN",
        "outputId": "2f3e609d-f7dc-4953-a4fb-5cc67144ecc2"
      },
      "execution_count": 46,
      "outputs": [
        {
          "output_type": "stream",
          "name": "stdout",
          "text": [
            "CPU times: user 384 µs, sys: 0 ns, total: 384 µs\n",
            "Wall time: 6.41 ms\n"
          ]
        },
        {
          "output_type": "execute_result",
          "data": {
            "text/plain": [
              "tensor([11, 13, 15])"
            ]
          },
          "metadata": {},
          "execution_count": 46
        }
      ]
    },
    {
      "cell_type": "code",
      "source": [
        "%%time\n",
        "my_tensor * 10"
      ],
      "metadata": {
        "colab": {
          "base_uri": "https://localhost:8080/"
        },
        "id": "83E3kg9b90qe",
        "outputId": "740f3cbf-eb9d-4d32-9433-be81760abda4"
      },
      "execution_count": 47,
      "outputs": [
        {
          "output_type": "stream",
          "name": "stdout",
          "text": [
            "CPU times: user 92 µs, sys: 15 µs, total: 107 µs\n",
            "Wall time: 244 µs\n"
          ]
        },
        {
          "output_type": "execute_result",
          "data": {
            "text/plain": [
              "tensor([10, 30, 50])"
            ]
          },
          "metadata": {},
          "execution_count": 47
        }
      ]
    },
    {
      "cell_type": "code",
      "source": [
        "%%time\n",
        "my_tensor - 10"
      ],
      "metadata": {
        "colab": {
          "base_uri": "https://localhost:8080/"
        },
        "id": "yfoNFwsm94E9",
        "outputId": "0d60c1af-1ac8-4560-ac5e-1d38138d86ca"
      },
      "execution_count": 48,
      "outputs": [
        {
          "output_type": "stream",
          "name": "stdout",
          "text": [
            "CPU times: user 249 µs, sys: 41 µs, total: 290 µs\n",
            "Wall time: 2.65 ms\n"
          ]
        },
        {
          "output_type": "execute_result",
          "data": {
            "text/plain": [
              "tensor([-9, -7, -5])"
            ]
          },
          "metadata": {},
          "execution_count": 48
        }
      ]
    },
    {
      "cell_type": "markdown",
      "source": [
        "### Built in functions "
      ],
      "metadata": {
        "id": "nPshdbuy-jfn"
      }
    },
    {
      "cell_type": "code",
      "source": [
        "%%time\n",
        "torch.mul(my_tensor , 10)"
      ],
      "metadata": {
        "colab": {
          "base_uri": "https://localhost:8080/"
        },
        "id": "q_t6rjW_-IN-",
        "outputId": "5f49c1b5-5e71-40c5-b242-52fda13cc419"
      },
      "execution_count": 49,
      "outputs": [
        {
          "output_type": "stream",
          "name": "stdout",
          "text": [
            "CPU times: user 106 µs, sys: 18 µs, total: 124 µs\n",
            "Wall time: 130 µs\n"
          ]
        },
        {
          "output_type": "execute_result",
          "data": {
            "text/plain": [
              "tensor([10, 30, 50])"
            ]
          },
          "metadata": {},
          "execution_count": 49
        }
      ]
    },
    {
      "cell_type": "code",
      "source": [
        "%%time\n",
        "torch.add(my_tensor, 10)"
      ],
      "metadata": {
        "colab": {
          "base_uri": "https://localhost:8080/"
        },
        "id": "BvXgnESI-NzM",
        "outputId": "be090fdf-7489-4d24-a14f-80bddaece97c"
      },
      "execution_count": 50,
      "outputs": [
        {
          "output_type": "stream",
          "name": "stdout",
          "text": [
            "CPU times: user 1.59 ms, sys: 15 µs, total: 1.61 ms\n",
            "Wall time: 4.06 ms\n"
          ]
        },
        {
          "output_type": "execute_result",
          "data": {
            "text/plain": [
              "tensor([11, 13, 15])"
            ]
          },
          "metadata": {},
          "execution_count": 50
        }
      ]
    },
    {
      "cell_type": "markdown",
      "source": [
        "### Matrix Multiplication"
      ],
      "metadata": {
        "id": "oM5nDDfT-psS"
      }
    },
    {
      "cell_type": "code",
      "source": [
        "print(my_tensor, \"*\", my_tensor)\n",
        "my_tensor * my_tensor"
      ],
      "metadata": {
        "colab": {
          "base_uri": "https://localhost:8080/"
        },
        "id": "9wy8eYKM-Wwk",
        "outputId": "346f8dbc-27ab-43c0-8cbe-8ddf4f05c3f8"
      },
      "execution_count": 51,
      "outputs": [
        {
          "output_type": "stream",
          "name": "stdout",
          "text": [
            "tensor([1, 3, 5]) * tensor([1, 3, 5])\n"
          ]
        },
        {
          "output_type": "execute_result",
          "data": {
            "text/plain": [
              "tensor([ 1,  9, 25])"
            ]
          },
          "metadata": {},
          "execution_count": 51
        }
      ]
    },
    {
      "cell_type": "code",
      "source": [
        "torch.matmul(my_tensor, my_tensor)"
      ],
      "metadata": {
        "colab": {
          "base_uri": "https://localhost:8080/"
        },
        "id": "3OaV4tHkEle4",
        "outputId": "ec2bba4a-9fa7-4349-f92d-117397bb4fbf"
      },
      "execution_count": 52,
      "outputs": [
        {
          "output_type": "execute_result",
          "data": {
            "text/plain": [
              "tensor(35)"
            ]
          },
          "metadata": {},
          "execution_count": 52
        }
      ]
    },
    {
      "cell_type": "code",
      "source": [
        "#matrix multi by hand\n",
        "1*1 + 3*3 + 5*5"
      ],
      "metadata": {
        "colab": {
          "base_uri": "https://localhost:8080/"
        },
        "id": "gQM5jOe4E2mm",
        "outputId": "5b31edf1-d082-4f72-ec5a-63bae2c3b3b8"
      },
      "execution_count": 53,
      "outputs": [
        {
          "output_type": "execute_result",
          "data": {
            "text/plain": [
              "35"
            ]
          },
          "metadata": {},
          "execution_count": 53
        }
      ]
    },
    {
      "cell_type": "code",
      "source": [
        "%%time\n",
        "v=0\n",
        "for i in my_tensor:\n",
        "  v += i * i\n",
        "print(v) "
      ],
      "metadata": {
        "colab": {
          "base_uri": "https://localhost:8080/"
        },
        "id": "mJBP6nQmFEVv",
        "outputId": "d7413a02-8ab0-41a8-cc6c-e6d0a958788b"
      },
      "execution_count": 54,
      "outputs": [
        {
          "output_type": "stream",
          "name": "stdout",
          "text": [
            "tensor(35)\n",
            "CPU times: user 685 µs, sys: 931 µs, total: 1.62 ms\n",
            "Wall time: 1.79 ms\n"
          ]
        }
      ]
    },
    {
      "cell_type": "code",
      "source": [
        "%%time\n",
        "torch.matmul(my_tensor, my_tensor)"
      ],
      "metadata": {
        "colab": {
          "base_uri": "https://localhost:8080/"
        },
        "id": "UVvV_z8CFwED",
        "outputId": "010bb262-c00d-4a60-89b6-5a34d5825999"
      },
      "execution_count": 55,
      "outputs": [
        {
          "output_type": "stream",
          "name": "stdout",
          "text": [
            "CPU times: user 65 µs, sys: 11 µs, total: 76 µs\n",
            "Wall time: 81.1 µs\n"
          ]
        },
        {
          "output_type": "execute_result",
          "data": {
            "text/plain": [
              "tensor(35)"
            ]
          },
          "metadata": {},
          "execution_count": 55
        }
      ]
    },
    {
      "cell_type": "code",
      "source": [
        "%%time\n",
        "my_tensor @ my_tensor"
      ],
      "metadata": {
        "colab": {
          "base_uri": "https://localhost:8080/"
        },
        "id": "iHr02ekhF5iL",
        "outputId": "5a71ec47-12da-46c7-ede1-ef4a0145911f"
      },
      "execution_count": 56,
      "outputs": [
        {
          "output_type": "stream",
          "name": "stdout",
          "text": [
            "CPU times: user 164 µs, sys: 0 ns, total: 164 µs\n",
            "Wall time: 190 µs\n"
          ]
        },
        {
          "output_type": "execute_result",
          "data": {
            "text/plain": [
              "tensor(35)"
            ]
          },
          "metadata": {},
          "execution_count": 56
        }
      ]
    },
    {
      "cell_type": "markdown",
      "source": [
        "### Shape ERRORS!!!!"
      ],
      "metadata": {
        "id": "7ln2_DpvjqQq"
      }
    },
    {
      "cell_type": "code",
      "source": [
        "tensor_A = torch.tensor([\n",
        "    [1, 2],\n",
        "    [3, 4],\n",
        "    [5, 6]\n",
        "])\n",
        "\n",
        "tensor_A"
      ],
      "metadata": {
        "colab": {
          "base_uri": "https://localhost:8080/"
        },
        "id": "OHUOgUO5id0m",
        "outputId": "960e5e8f-d1ba-4d39-f4ed-89e2cb7da197"
      },
      "execution_count": 57,
      "outputs": [
        {
          "output_type": "execute_result",
          "data": {
            "text/plain": [
              "tensor([[1, 2],\n",
              "        [3, 4],\n",
              "        [5, 6]])"
            ]
          },
          "metadata": {},
          "execution_count": 57
        }
      ]
    },
    {
      "cell_type": "code",
      "source": [
        "tensor_B = torch.tensor([\n",
        "  [7, 10],\n",
        "  [8, 11],\n",
        "  [9, 12] \n",
        "])\n",
        "\n",
        "tensor_B"
      ],
      "metadata": {
        "colab": {
          "base_uri": "https://localhost:8080/"
        },
        "id": "sre3zEozkmcv",
        "outputId": "906652b2-efbb-4d77-f00f-a1e8748619cd"
      },
      "execution_count": 58,
      "outputs": [
        {
          "output_type": "execute_result",
          "data": {
            "text/plain": [
              "tensor([[ 7, 10],\n",
              "        [ 8, 11],\n",
              "        [ 9, 12]])"
            ]
          },
          "metadata": {},
          "execution_count": 58
        }
      ]
    },
    {
      "cell_type": "code",
      "source": [
        "tensor_A.shape , tensor_B.shape"
      ],
      "metadata": {
        "colab": {
          "base_uri": "https://localhost:8080/"
        },
        "id": "3DDiNt8slYHj",
        "outputId": "658fb444-16ee-48fb-84ab-1cd5de763aec"
      },
      "execution_count": 59,
      "outputs": [
        {
          "output_type": "execute_result",
          "data": {
            "text/plain": [
              "(torch.Size([3, 2]), torch.Size([3, 2]))"
            ]
          },
          "metadata": {},
          "execution_count": 59
        }
      ]
    },
    {
      "cell_type": "code",
      "source": [
        "tensor_B.T , tensor_B"
      ],
      "metadata": {
        "colab": {
          "base_uri": "https://localhost:8080/"
        },
        "id": "a44ievj4lvWk",
        "outputId": "c2b525a1-7586-482d-cc8f-bee5acdc85fa"
      },
      "execution_count": 60,
      "outputs": [
        {
          "output_type": "execute_result",
          "data": {
            "text/plain": [
              "(tensor([[ 7,  8,  9],\n",
              "         [10, 11, 12]]), tensor([[ 7, 10],\n",
              "         [ 8, 11],\n",
              "         [ 9, 12]]))"
            ]
          },
          "metadata": {},
          "execution_count": 60
        }
      ]
    },
    {
      "cell_type": "code",
      "source": [
        "tensor_B.T.shape , tensor_B.shape"
      ],
      "metadata": {
        "colab": {
          "base_uri": "https://localhost:8080/"
        },
        "id": "Kz4k7Qysl7Iz",
        "outputId": "4d7e734e-e68b-4bbf-b726-f163e4ad1e56"
      },
      "execution_count": 61,
      "outputs": [
        {
          "output_type": "execute_result",
          "data": {
            "text/plain": [
              "(torch.Size([2, 3]), torch.Size([3, 2]))"
            ]
          },
          "metadata": {},
          "execution_count": 61
        }
      ]
    },
    {
      "cell_type": "code",
      "source": [
        "try:\n",
        "  torch.mm(tensor_A, tensor_B)\n",
        "except:\n",
        "  print(r\"\"\"RuntimeError                              Traceback (most recent call last)\n",
        "<ipython-input-210-d49420418508> in <module>\n",
        "----> 1 torch.mm(tensor_A, tensor_B)\n",
        "\n",
        "RuntimeError: mat1 and mat2 shapes cannot be multiplied (3x2 and 3x2)\"\"\")"
      ],
      "metadata": {
        "colab": {
          "base_uri": "https://localhost:8080/"
        },
        "id": "slE0MFzek-1N",
        "outputId": "e0b3cdba-8b03-4c2e-8c6c-d1b8c0c4f536"
      },
      "execution_count": 62,
      "outputs": [
        {
          "output_type": "stream",
          "name": "stdout",
          "text": [
            "RuntimeError                              Traceback (most recent call last)\n",
            "<ipython-input-210-d49420418508> in <module>\n",
            "----> 1 torch.mm(tensor_A, tensor_B)\n",
            "\n",
            "RuntimeError: mat1 and mat2 shapes cannot be multiplied (3x2 and 3x2)\n"
          ]
        }
      ]
    },
    {
      "cell_type": "code",
      "source": [
        "torch.mm(tensor_A, tensor_B.T)"
      ],
      "metadata": {
        "colab": {
          "base_uri": "https://localhost:8080/"
        },
        "id": "YFnvCa7llLxG",
        "outputId": "6d68f575-1caa-4a85-c5b3-f43808a259c8"
      },
      "execution_count": 63,
      "outputs": [
        {
          "output_type": "execute_result",
          "data": {
            "text/plain": [
              "tensor([[ 27,  30,  33],\n",
              "        [ 61,  68,  75],\n",
              "        [ 95, 106, 117]])"
            ]
          },
          "metadata": {},
          "execution_count": 63
        }
      ]
    },
    {
      "cell_type": "code",
      "source": [
        "torch.mm(tensor_A, tensor_B.T).shape"
      ],
      "metadata": {
        "colab": {
          "base_uri": "https://localhost:8080/"
        },
        "id": "kYZvVmgWmKVi",
        "outputId": "d24dd765-eeee-43f4-9e38-621e31a02236"
      },
      "execution_count": 64,
      "outputs": [
        {
          "output_type": "execute_result",
          "data": {
            "text/plain": [
              "torch.Size([3, 3])"
            ]
          },
          "metadata": {},
          "execution_count": 64
        }
      ]
    },
    {
      "cell_type": "code",
      "source": [
        "tensor_A.shape , tensor_B.T.shape"
      ],
      "metadata": {
        "colab": {
          "base_uri": "https://localhost:8080/"
        },
        "id": "BijnVXGhmP4C",
        "outputId": "245648ce-fbf1-428d-dd5c-60524be90172"
      },
      "execution_count": 65,
      "outputs": [
        {
          "output_type": "execute_result",
          "data": {
            "text/plain": [
              "(torch.Size([3, 2]), torch.Size([2, 3]))"
            ]
          },
          "metadata": {},
          "execution_count": 65
        }
      ]
    },
    {
      "cell_type": "markdown",
      "source": [
        "### finding the min, max, mean, sum, etc"
      ],
      "metadata": {
        "id": "VROJzPtRndEv"
      }
    },
    {
      "cell_type": "code",
      "source": [
        "x = torch.arange(0, 100, 10)\n",
        "x"
      ],
      "metadata": {
        "colab": {
          "base_uri": "https://localhost:8080/"
        },
        "id": "uL0LCc_imVdJ",
        "outputId": "a9c4613f-a2e9-4038-c04d-4ebc334bf18d"
      },
      "execution_count": 66,
      "outputs": [
        {
          "output_type": "execute_result",
          "data": {
            "text/plain": [
              "tensor([ 0, 10, 20, 30, 40, 50, 60, 70, 80, 90])"
            ]
          },
          "metadata": {},
          "execution_count": 66
        }
      ]
    },
    {
      "cell_type": "code",
      "source": [
        "# min\n",
        "torch.min(x) , x.min()"
      ],
      "metadata": {
        "colab": {
          "base_uri": "https://localhost:8080/"
        },
        "id": "Td993KuNnyld",
        "outputId": "e155845a-a6d8-4fe5-d1f0-92198271d2de"
      },
      "execution_count": 67,
      "outputs": [
        {
          "output_type": "execute_result",
          "data": {
            "text/plain": [
              "(tensor(0), tensor(0))"
            ]
          },
          "metadata": {},
          "execution_count": 67
        }
      ]
    },
    {
      "cell_type": "code",
      "source": [
        "# max\n",
        "torch.max(x) , x.max()"
      ],
      "metadata": {
        "colab": {
          "base_uri": "https://localhost:8080/"
        },
        "id": "mrvRjA-Lns_E",
        "outputId": "b579699c-57a3-4fa4-99a9-769d18775bd8"
      },
      "execution_count": 68,
      "outputs": [
        {
          "output_type": "execute_result",
          "data": {
            "text/plain": [
              "(tensor(90), tensor(90))"
            ]
          },
          "metadata": {},
          "execution_count": 68
        }
      ]
    },
    {
      "cell_type": "code",
      "source": [
        "# mean\n",
        "try:\n",
        "  torch.mean(x)\n",
        "except:\n",
        "  print(\"change dtype\")\n",
        "  print(\"RuntimeError: mean(): could not infer output dtype. Input dtype must be either a floating point or complex dtype. Got: Long\")"
      ],
      "metadata": {
        "colab": {
          "base_uri": "https://localhost:8080/"
        },
        "id": "0FX6Dq0yoCG4",
        "outputId": "c9e7a0c7-e928-4557-87ed-b8e0e2491c44"
      },
      "execution_count": 69,
      "outputs": [
        {
          "output_type": "stream",
          "name": "stdout",
          "text": [
            "change dtype\n",
            "RuntimeError: mean(): could not infer output dtype. Input dtype must be either a floating point or complex dtype. Got: Long\n"
          ]
        }
      ]
    },
    {
      "cell_type": "code",
      "source": [
        "torch.mean(x.type(torch.float32))"
      ],
      "metadata": {
        "colab": {
          "base_uri": "https://localhost:8080/"
        },
        "id": "8Rsblk-En_pc",
        "outputId": "9a3b1f95-ddb7-4058-d314-512b98f54c06"
      },
      "execution_count": 70,
      "outputs": [
        {
          "output_type": "execute_result",
          "data": {
            "text/plain": [
              "tensor(45.)"
            ]
          },
          "metadata": {},
          "execution_count": 70
        }
      ]
    },
    {
      "cell_type": "code",
      "source": [
        "# mean\n",
        "try:\n",
        "  x.mean()\n",
        "except:\n",
        "  print(\"change dtype\")\n",
        "  print(\"mean(): could not infer output dtype. Input dtype must be either a floating point or complex dtype. Got: Long\")"
      ],
      "metadata": {
        "colab": {
          "base_uri": "https://localhost:8080/"
        },
        "id": "niIH3FHgotJE",
        "outputId": "29a064e0-9eb1-4043-9e69-e32adcbdc869"
      },
      "execution_count": 71,
      "outputs": [
        {
          "output_type": "stream",
          "name": "stdout",
          "text": [
            "change dtype\n",
            "mean(): could not infer output dtype. Input dtype must be either a floating point or complex dtype. Got: Long\n"
          ]
        }
      ]
    },
    {
      "cell_type": "code",
      "source": [
        "x.type(torch.float32).mean()"
      ],
      "metadata": {
        "colab": {
          "base_uri": "https://localhost:8080/"
        },
        "id": "8ZaroMl_oyYp",
        "outputId": "06a6f119-b2d6-4b2e-fa17-34e42191df48"
      },
      "execution_count": 72,
      "outputs": [
        {
          "output_type": "execute_result",
          "data": {
            "text/plain": [
              "tensor(45.)"
            ]
          },
          "metadata": {},
          "execution_count": 72
        }
      ]
    },
    {
      "cell_type": "markdown",
      "source": [
        "### Finding the position min and max"
      ],
      "metadata": {
        "id": "uN_r4Pggr4j9"
      }
    },
    {
      "cell_type": "code",
      "source": [
        "y =torch.tensor( [22 , 10 , 20 , 0, 30, 40, 5, 60, 70, 89, 449])\n",
        "y"
      ],
      "metadata": {
        "colab": {
          "base_uri": "https://localhost:8080/"
        },
        "id": "tU_2ng7Vp96-",
        "outputId": "bbe09910-b1e7-49d6-fd50-ae10e0426be8"
      },
      "execution_count": 73,
      "outputs": [
        {
          "output_type": "execute_result",
          "data": {
            "text/plain": [
              "tensor([ 22,  10,  20,   0,  30,  40,   5,  60,  70,  89, 449])"
            ]
          },
          "metadata": {},
          "execution_count": 73
        }
      ]
    },
    {
      "cell_type": "code",
      "source": [
        "# find the position of min val and return the index of min val\n",
        "y.argmin()"
      ],
      "metadata": {
        "colab": {
          "base_uri": "https://localhost:8080/"
        },
        "id": "9fWmymULo1dB",
        "outputId": "1a0eea71-adba-4c50-ebc4-4b1d7eb2ff31"
      },
      "execution_count": 74,
      "outputs": [
        {
          "output_type": "execute_result",
          "data": {
            "text/plain": [
              "tensor(3)"
            ]
          },
          "metadata": {},
          "execution_count": 74
        }
      ]
    },
    {
      "cell_type": "code",
      "source": [
        "y[3]"
      ],
      "metadata": {
        "colab": {
          "base_uri": "https://localhost:8080/"
        },
        "id": "ffR2nHogsW6t",
        "outputId": "1b0297fe-130e-4b19-efeb-8fd4b879d961"
      },
      "execution_count": 75,
      "outputs": [
        {
          "output_type": "execute_result",
          "data": {
            "text/plain": [
              "tensor(0)"
            ]
          },
          "metadata": {},
          "execution_count": 75
        }
      ]
    },
    {
      "cell_type": "code",
      "source": [
        "# find the position of max val and return the index of max val\n",
        "y.argmax()"
      ],
      "metadata": {
        "colab": {
          "base_uri": "https://localhost:8080/"
        },
        "id": "zDQSK-mYskM9",
        "outputId": "d46ac193-9d18-40d9-ba5f-e776edc96029"
      },
      "execution_count": 76,
      "outputs": [
        {
          "output_type": "execute_result",
          "data": {
            "text/plain": [
              "tensor(10)"
            ]
          },
          "metadata": {},
          "execution_count": 76
        }
      ]
    },
    {
      "cell_type": "code",
      "source": [
        "y[10]"
      ],
      "metadata": {
        "colab": {
          "base_uri": "https://localhost:8080/"
        },
        "id": "eGf87p7ms3LU",
        "outputId": "8d07bee6-8756-42f9-f0a0-c2060df9393a"
      },
      "execution_count": 77,
      "outputs": [
        {
          "output_type": "execute_result",
          "data": {
            "text/plain": [
              "tensor(449)"
            ]
          },
          "metadata": {},
          "execution_count": 77
        }
      ]
    },
    {
      "cell_type": "markdown",
      "source": [
        "### Reshaping, Stacking, Squeezing & UNsqueezing tensors"
      ],
      "metadata": {
        "id": "nuk9Gv1ltugT"
      }
    },
    {
      "cell_type": "code",
      "source": [
        "import torch"
      ],
      "metadata": {
        "id": "sgtpAGmDtt-G"
      },
      "execution_count": 78,
      "outputs": []
    },
    {
      "cell_type": "code",
      "source": [
        "x = torch.arange(1., 10.)\n",
        "x, x.shape"
      ],
      "metadata": {
        "colab": {
          "base_uri": "https://localhost:8080/"
        },
        "id": "kFbbCbl_s6-8",
        "outputId": "5ca03f50-e302-4a8b-87ef-5ba6dbe06e6a"
      },
      "execution_count": 81,
      "outputs": [
        {
          "output_type": "execute_result",
          "data": {
            "text/plain": [
              "(tensor([1., 2., 3., 4., 5., 6., 7., 8., 9.]), torch.Size([9]))"
            ]
          },
          "metadata": {},
          "execution_count": 81
        }
      ]
    },
    {
      "cell_type": "code",
      "source": [
        "try:  \n",
        "  x_reshaped = x.reshape(1,7)\n",
        "  x_reshaped, x_reshaped.shape\n",
        "except:\n",
        "  print(\"\"\"RuntimeError                              Traceback (most recent call last)\n",
        "<ipython-input-82-4b29e0ec9aba> in <module>\n",
        "----> 1 x_reshaped = x.reshape(1,7)\n",
        "      2 x_reshaped, x_reshaped.shape\n",
        "\n",
        "RuntimeError: shape '[1, 7]' is invalid for input of size 9\"\"\")"
      ],
      "metadata": {
        "colab": {
          "base_uri": "https://localhost:8080/"
        },
        "id": "hz_7tqDR0Pu_",
        "outputId": "de76aa9b-ebdd-4ea3-eef9-d50af8d7c5ad"
      },
      "execution_count": 83,
      "outputs": [
        {
          "output_type": "stream",
          "name": "stdout",
          "text": [
            "RuntimeError                              Traceback (most recent call last)\n",
            "<ipython-input-82-4b29e0ec9aba> in <module>\n",
            "----> 1 x_reshaped = x.reshape(1,7)\n",
            "      2 x_reshaped, x_reshaped.shape\n",
            "\n",
            "RuntimeError: shape '[1, 7]' is invalid for input of size 9\n"
          ]
        }
      ]
    },
    {
      "cell_type": "code",
      "source": [
        "#change shape\n",
        "x_reshaped = x.reshape(1,9)\n",
        "x_reshaped, x_reshaped.shape"
      ],
      "metadata": {
        "colab": {
          "base_uri": "https://localhost:8080/"
        },
        "id": "cKhguNJ90rTu",
        "outputId": "f10a68f6-e74a-4b06-a88c-f5f37b7a81be"
      },
      "execution_count": 87,
      "outputs": [
        {
          "output_type": "execute_result",
          "data": {
            "text/plain": [
              "(tensor([[1., 2., 3., 4., 5., 6., 7., 8., 9.]]), torch.Size([1, 9]))"
            ]
          },
          "metadata": {},
          "execution_count": 87
        }
      ]
    },
    {
      "cell_type": "code",
      "source": [
        "x_reshaped = x.reshape(9,1)\n",
        "x_reshaped, x_reshaped.shape"
      ],
      "metadata": {
        "colab": {
          "base_uri": "https://localhost:8080/"
        },
        "id": "A4lITurV08W1",
        "outputId": "7a88c427-bc34-4535-e46c-abef3b6963ca"
      },
      "execution_count": 88,
      "outputs": [
        {
          "output_type": "execute_result",
          "data": {
            "text/plain": [
              "(tensor([[1.],\n",
              "         [2.],\n",
              "         [3.],\n",
              "         [4.],\n",
              "         [5.],\n",
              "         [6.],\n",
              "         [7.],\n",
              "         [8.],\n",
              "         [9.]]), torch.Size([9, 1]))"
            ]
          },
          "metadata": {},
          "execution_count": 88
        }
      ]
    },
    {
      "cell_type": "code",
      "source": [
        "x = torch.arange(1,13)\n",
        "x, x.shape"
      ],
      "metadata": {
        "colab": {
          "base_uri": "https://localhost:8080/"
        },
        "id": "tuxMQzT60-49",
        "outputId": "2ce4695a-fe39-4b5e-b7db-0b504dcf65d1"
      },
      "execution_count": 89,
      "outputs": [
        {
          "output_type": "execute_result",
          "data": {
            "text/plain": [
              "(tensor([ 1,  2,  3,  4,  5,  6,  7,  8,  9, 10, 11, 12]), torch.Size([12]))"
            ]
          },
          "metadata": {},
          "execution_count": 89
        }
      ]
    },
    {
      "cell_type": "code",
      "source": [
        "x_reshape = x.reshape(3,4)\n",
        "x_reshape, x_reshape.shape"
      ],
      "metadata": {
        "colab": {
          "base_uri": "https://localhost:8080/"
        },
        "id": "pBXuVb5f1YFj",
        "outputId": "7d7c0c89-4a2d-4f73-bf7c-e44e222102f9"
      },
      "execution_count": 90,
      "outputs": [
        {
          "output_type": "execute_result",
          "data": {
            "text/plain": [
              "(tensor([[ 1,  2,  3,  4],\n",
              "         [ 5,  6,  7,  8],\n",
              "         [ 9, 10, 11, 12]]), torch.Size([3, 4]))"
            ]
          },
          "metadata": {},
          "execution_count": 90
        }
      ]
    },
    {
      "cell_type": "code",
      "source": [
        "x = torch.arange(1,10)\n",
        "x_reshaped = x.reshape(1,9)"
      ],
      "metadata": {
        "id": "2WZmWWYO1hx_"
      },
      "execution_count": 96,
      "outputs": []
    },
    {
      "cell_type": "markdown",
      "source": [
        "### changing view\n",
        "x.view and x share same memory so if you change the x.view it will change the original x."
      ],
      "metadata": {
        "id": "OP_vktG119CV"
      }
    },
    {
      "cell_type": "code",
      "source": [
        "z = x.view(1,9)\n",
        "z, z.shape"
      ],
      "metadata": {
        "colab": {
          "base_uri": "https://localhost:8080/"
        },
        "id": "40T9zGrm1woz",
        "outputId": "fbaafd30-cd46-44f0-e028-f05a6fc79c47"
      },
      "execution_count": 97,
      "outputs": [
        {
          "output_type": "execute_result",
          "data": {
            "text/plain": [
              "(tensor([[1, 2, 3, 4, 5, 6, 7, 8, 9]]), torch.Size([1, 9]))"
            ]
          },
          "metadata": {},
          "execution_count": 97
        }
      ]
    },
    {
      "cell_type": "code",
      "source": [
        "z[:, 4] = 12\n",
        "z, x"
      ],
      "metadata": {
        "colab": {
          "base_uri": "https://localhost:8080/"
        },
        "id": "aLyGvPwS2UWw",
        "outputId": "23a227a9-fa30-4140-ccf7-048ca74e355e"
      },
      "execution_count": 98,
      "outputs": [
        {
          "output_type": "execute_result",
          "data": {
            "text/plain": [
              "(tensor([[ 1,  2,  3,  4, 12,  6,  7,  8,  9]]),\n",
              " tensor([ 1,  2,  3,  4, 12,  6,  7,  8,  9]))"
            ]
          },
          "metadata": {},
          "execution_count": 98
        }
      ]
    },
    {
      "cell_type": "markdown",
      "source": [
        "### Stack tensors"
      ],
      "metadata": {
        "id": "gbl6Dvre2oVI"
      }
    },
    {
      "cell_type": "code",
      "source": [
        "x_stacked = torch.stack([x, x, x, x])\n",
        "x_stacked"
      ],
      "metadata": {
        "colab": {
          "base_uri": "https://localhost:8080/"
        },
        "id": "2AlpTvOR2dE_",
        "outputId": "f1768678-1fec-4503-8f46-9b7cdff4ada5"
      },
      "execution_count": 99,
      "outputs": [
        {
          "output_type": "execute_result",
          "data": {
            "text/plain": [
              "tensor([[ 1,  2,  3,  4, 12,  6,  7,  8,  9],\n",
              "        [ 1,  2,  3,  4, 12,  6,  7,  8,  9],\n",
              "        [ 1,  2,  3,  4, 12,  6,  7,  8,  9],\n",
              "        [ 1,  2,  3,  4, 12,  6,  7,  8,  9]])"
            ]
          },
          "metadata": {},
          "execution_count": 99
        }
      ]
    },
    {
      "cell_type": "code",
      "source": [
        "x_stacked = torch.stack([x, x, x, x], dim=1)\n",
        "x_stacked"
      ],
      "metadata": {
        "colab": {
          "base_uri": "https://localhost:8080/"
        },
        "id": "2xsz6QmZ2_e_",
        "outputId": "24787822-2ce6-4dc4-d289-bb6059077ee4"
      },
      "execution_count": 100,
      "outputs": [
        {
          "output_type": "execute_result",
          "data": {
            "text/plain": [
              "tensor([[ 1,  1,  1,  1],\n",
              "        [ 2,  2,  2,  2],\n",
              "        [ 3,  3,  3,  3],\n",
              "        [ 4,  4,  4,  4],\n",
              "        [12, 12, 12, 12],\n",
              "        [ 6,  6,  6,  6],\n",
              "        [ 7,  7,  7,  7],\n",
              "        [ 8,  8,  8,  8],\n",
              "        [ 9,  9,  9,  9]])"
            ]
          },
          "metadata": {},
          "execution_count": 100
        }
      ]
    },
    {
      "cell_type": "code",
      "source": [
        "x_stacked = torch.stack([x, x, x, x], dim=-1)\n",
        "x_stacked"
      ],
      "metadata": {
        "colab": {
          "base_uri": "https://localhost:8080/"
        },
        "id": "MfDFl5Gq3DNX",
        "outputId": "9ef70d6d-b748-4e15-c529-62b2a3479188"
      },
      "execution_count": 101,
      "outputs": [
        {
          "output_type": "execute_result",
          "data": {
            "text/plain": [
              "tensor([[ 1,  1,  1,  1],\n",
              "        [ 2,  2,  2,  2],\n",
              "        [ 3,  3,  3,  3],\n",
              "        [ 4,  4,  4,  4],\n",
              "        [12, 12, 12, 12],\n",
              "        [ 6,  6,  6,  6],\n",
              "        [ 7,  7,  7,  7],\n",
              "        [ 8,  8,  8,  8],\n",
              "        [ 9,  9,  9,  9]])"
            ]
          },
          "metadata": {},
          "execution_count": 101
        }
      ]
    },
    {
      "cell_type": "code",
      "source": [
        "x_stacked = torch.stack([x, x, x, x], dim=-2)\n",
        "x_stacked"
      ],
      "metadata": {
        "colab": {
          "base_uri": "https://localhost:8080/"
        },
        "id": "Dy3kc1wn3I9-",
        "outputId": "02ea2612-92fd-44f9-94e7-50085092cfbe"
      },
      "execution_count": 103,
      "outputs": [
        {
          "output_type": "execute_result",
          "data": {
            "text/plain": [
              "tensor([[ 1,  2,  3,  4, 12,  6,  7,  8,  9],\n",
              "        [ 1,  2,  3,  4, 12,  6,  7,  8,  9],\n",
              "        [ 1,  2,  3,  4, 12,  6,  7,  8,  9],\n",
              "        [ 1,  2,  3,  4, 12,  6,  7,  8,  9]])"
            ]
          },
          "metadata": {},
          "execution_count": 103
        }
      ]
    },
    {
      "cell_type": "markdown",
      "source": [
        "### squeeze\n",
        "remove single dim"
      ],
      "metadata": {
        "id": "G6sNV0EW4GTe"
      }
    },
    {
      "cell_type": "code",
      "source": [
        "print(x_reshaped)\n",
        "print(x_reshaped.shape)\n",
        "print(x_reshaped.squeeze())\n",
        "print(x_reshaped.squeeze().shape)"
      ],
      "metadata": {
        "colab": {
          "base_uri": "https://localhost:8080/"
        },
        "id": "2MFdoOi93Lg7",
        "outputId": "d9265aff-84df-42c9-bdca-aa999a3866ab"
      },
      "execution_count": 108,
      "outputs": [
        {
          "output_type": "stream",
          "name": "stdout",
          "text": [
            "tensor([[ 1,  2,  3,  4, 12,  6,  7,  8,  9]])\n",
            "torch.Size([1, 9])\n",
            "tensor([ 1,  2,  3,  4, 12,  6,  7,  8,  9])\n",
            "torch.Size([9])\n"
          ]
        }
      ]
    },
    {
      "cell_type": "code",
      "source": [
        "x_reshape =x.reshape(3,1,3)\n",
        "print(x_reshape)\n",
        "print(x_reshape.shape)\n",
        "print(x_reshape.squeeze())\n",
        "print(x_reshape.squeeze().shape)"
      ],
      "metadata": {
        "colab": {
          "base_uri": "https://localhost:8080/"
        },
        "id": "CNJ7JR6-5Ig3",
        "outputId": "22a7f8eb-9847-42b2-dd12-fbbb0b36624e"
      },
      "execution_count": 114,
      "outputs": [
        {
          "output_type": "stream",
          "name": "stdout",
          "text": [
            "tensor([[[ 1,  2,  3]],\n",
            "\n",
            "        [[ 4, 12,  6]],\n",
            "\n",
            "        [[ 7,  8,  9]]])\n",
            "torch.Size([3, 1, 3])\n",
            "tensor([[ 1,  2,  3],\n",
            "        [ 4, 12,  6],\n",
            "        [ 7,  8,  9]])\n",
            "torch.Size([3, 3])\n"
          ]
        }
      ]
    },
    {
      "cell_type": "code",
      "source": [
        "#torch.squeeze remove all the 1 dim\n",
        "#example:\n",
        "print(f\"previous tensor: {x_reshaped}\")\n",
        "print(f\"previous shape: {x_reshaped.shape}\")\n",
        "\n",
        "print()\n",
        "#removing extera dims\n",
        "print(f\"New tensor: {x_reshaped.squeeze()}\")\n",
        "print(f\"New shape: {x_reshaped.squeeze().shape}\")\n"
      ],
      "metadata": {
        "colab": {
          "base_uri": "https://localhost:8080/"
        },
        "id": "HaItzzBR5cwv",
        "outputId": "0cf8eb78-a568-4b5a-91ad-361f18276e58"
      },
      "execution_count": 116,
      "outputs": [
        {
          "output_type": "stream",
          "name": "stdout",
          "text": [
            "previous tensor: tensor([[ 1,  2,  3,  4, 12,  6,  7,  8,  9]])\n",
            "previous shape: torch.Size([1, 9])\n",
            "\n",
            "New tensor: tensor([ 1,  2,  3,  4, 12,  6,  7,  8,  9])\n",
            "New shape: torch.Size([9])\n"
          ]
        }
      ]
    },
    {
      "cell_type": "markdown",
      "source": [
        "### unsqueeze\n",
        "add single dim"
      ],
      "metadata": {
        "id": "ufH9YPOa69_Z"
      }
    },
    {
      "cell_type": "code",
      "source": [
        "#example:\n",
        "print(f\"previous tensor: {x_reshaped.squeeze()}\")\n",
        "print(f\"previous shape: {x_reshaped.squeeze().shape}\")\n",
        "print(f\"previous dim: {x_reshaped.squeeze().ndim}\")\n",
        "\n",
        "\n",
        "print()\n",
        "#adding extera dim0\n",
        "print(f\"New tensor: {x_reshaped.squeeze().unsqueeze(dim=0)}\")\n",
        "print(f\"New shape: {x_reshaped.squeeze().unsqueeze(dim=0).shape}\")\n",
        "print(f\"New dim: {x_reshaped.squeeze().unsqueeze(dim=0).ndim}\")"
      ],
      "metadata": {
        "colab": {
          "base_uri": "https://localhost:8080/"
        },
        "id": "VkQuXA186lxc",
        "outputId": "a68b0ec9-4712-4569-d462-41a3f8d26f15"
      },
      "execution_count": 123,
      "outputs": [
        {
          "output_type": "stream",
          "name": "stdout",
          "text": [
            "previous tensor: tensor([ 1,  2,  3,  4, 12,  6,  7,  8,  9])\n",
            "previous shape: torch.Size([9])\n",
            "previous dim: 1\n",
            "\n",
            "New tensor: tensor([[ 1,  2,  3,  4, 12,  6,  7,  8,  9]])\n",
            "New shape: torch.Size([1, 9])\n",
            "New dim: 2\n"
          ]
        }
      ]
    },
    {
      "cell_type": "code",
      "source": [
        "#example:\n",
        "print(f\"previous tensor: {x_reshaped.squeeze()}\")\n",
        "print(f\"previous shape: {x_reshaped.squeeze().shape}\")\n",
        "print(f\"previous dim: {x_reshaped.squeeze().ndim}\")\n",
        "\n",
        "\n",
        "print()\n",
        "#adding extera dim1\n",
        "print(f\"New tensor: {x_reshaped.squeeze().unsqueeze(dim=1)}\")\n",
        "print(f\"New shape: {x_reshaped.squeeze().unsqueeze(dim=1).shape}\")\n",
        "print(f\"New dim: {x_reshaped.squeeze().unsqueeze(dim=1).ndim}\")"
      ],
      "metadata": {
        "colab": {
          "base_uri": "https://localhost:8080/"
        },
        "id": "5XvDdX-79Zm_",
        "outputId": "0776891b-2ede-4995-bcd2-e5a4d11f3f93"
      },
      "execution_count": 124,
      "outputs": [
        {
          "output_type": "stream",
          "name": "stdout",
          "text": [
            "previous tensor: tensor([ 1,  2,  3,  4, 12,  6,  7,  8,  9])\n",
            "previous shape: torch.Size([9])\n",
            "previous dim: 1\n",
            "\n",
            "New tensor: tensor([[ 1],\n",
            "        [ 2],\n",
            "        [ 3],\n",
            "        [ 4],\n",
            "        [12],\n",
            "        [ 6],\n",
            "        [ 7],\n",
            "        [ 8],\n",
            "        [ 9]])\n",
            "New shape: torch.Size([9, 1])\n",
            "New dim: 2\n"
          ]
        }
      ]
    },
    {
      "cell_type": "code",
      "source": [],
      "metadata": {
        "id": "kYm7IKKT9wud"
      },
      "execution_count": null,
      "outputs": []
    },
    {
      "cell_type": "markdown",
      "source": [
        "### permute\n",
        "mostly in images \n",
        "return view\n"
      ],
      "metadata": {
        "id": "6o4DPUOT_qlz"
      }
    },
    {
      "cell_type": "code",
      "source": [
        "x_orginal = torch.rand(size=(224, 224, 3)) # (h,W,color channel) of image\n",
        "\n",
        "# permute the original to rearenge of axises\n",
        "x_permuted = x_orginal.permute(2, 0, 1) # axis0-> axis1 , axis1-> axis2 , axis2 -> axis0\n",
        "\n",
        "print(f\"Previous shape: {x_orginal.shape}\")\n",
        "print(f\"New shape: {x_permuted.shape}\") # (color channel, h, w)"
      ],
      "metadata": {
        "colab": {
          "base_uri": "https://localhost:8080/"
        },
        "id": "yIdcfZ9W_2Oe",
        "outputId": "6c491ac8-342b-4827-e749-9a892d0716a5"
      },
      "execution_count": 131,
      "outputs": [
        {
          "output_type": "stream",
          "name": "stdout",
          "text": [
            "Previous shape: torch.Size([224, 224, 3])\n",
            "New shape: torch.Size([3, 224, 224])\n"
          ]
        }
      ]
    },
    {
      "cell_type": "code",
      "source": [
        "print(\"pre x_org[0,0,0]=\",x_orginal[0, 0, 0])\n",
        "print(\"pre x_permuted[0,0,0]=\",x_permuted[0,0,0])\n",
        "#changing x_org to show that permute return different view version of x_org and share same memory\n",
        "x_orginal[0,0,0] =12\n",
        "print(\"x_orginal[0,0,0]=\",x_orginal[0,0,0])\n",
        "print(\"x_permuted[0,0,0]=\",x_permuted[0,0,0])"
      ],
      "metadata": {
        "colab": {
          "base_uri": "https://localhost:8080/"
        },
        "id": "ampdPKEFA5Ji",
        "outputId": "127064a3-b5b5-4abe-944f-923bc4f04d5f"
      },
      "execution_count": 133,
      "outputs": [
        {
          "output_type": "stream",
          "name": "stdout",
          "text": [
            "pre x_org[0,0,0]= tensor(12.)\n",
            "pre x_permuted[0,0,0]= tensor(12.)\n",
            "x_orginal[0,0,0]= tensor(12.)\n",
            "x_permuted[0,0,0]= tensor(12.)\n"
          ]
        }
      ]
    },
    {
      "cell_type": "markdown",
      "source": [
        "### Indexing \n",
        "indexing with torch is similar to Numpy"
      ],
      "metadata": {
        "id": "IoGNxrBLCg8c"
      }
    },
    {
      "cell_type": "code",
      "source": [
        "x = torch.arange(1,10).reshape(1,3,3)\n",
        "x, x.shape"
      ],
      "metadata": {
        "colab": {
          "base_uri": "https://localhost:8080/"
        },
        "id": "65jB4QoWBcMx",
        "outputId": "25fc8841-b9b2-41cd-8543-4a27742d4e3f"
      },
      "execution_count": 134,
      "outputs": [
        {
          "output_type": "execute_result",
          "data": {
            "text/plain": [
              "(tensor([[[1, 2, 3],\n",
              "          [4, 5, 6],\n",
              "          [7, 8, 9]]]), torch.Size([1, 3, 3]))"
            ]
          },
          "metadata": {},
          "execution_count": 134
        }
      ]
    },
    {
      "cell_type": "code",
      "source": [
        "# indexing\n",
        "print(\"x[0]= \", x[0])"
      ],
      "metadata": {
        "colab": {
          "base_uri": "https://localhost:8080/"
        },
        "id": "SCsfw7ajMjoN",
        "outputId": "e5998b19-d3f7-434b-ec04-e86cbae0cffe"
      },
      "execution_count": 136,
      "outputs": [
        {
          "output_type": "stream",
          "name": "stdout",
          "text": [
            "x[0]=  tensor([[1, 2, 3],\n",
            "        [4, 5, 6],\n",
            "        [7, 8, 9]])\n"
          ]
        }
      ]
    },
    {
      "cell_type": "code",
      "source": [
        "#index middle bracket\n",
        "print(\"x[0][0]= \", x[0][0])\n",
        "print(\"x[0,0]= \", x[0, 0])"
      ],
      "metadata": {
        "colab": {
          "base_uri": "https://localhost:8080/"
        },
        "id": "iRky6dB6Muws",
        "outputId": "11de28b6-9b2d-4e0d-aa0a-ad11d7c8a701"
      },
      "execution_count": 139,
      "outputs": [
        {
          "output_type": "stream",
          "name": "stdout",
          "text": [
            "x[0][0]=  tensor([1, 2, 3])\n",
            "x[0,0]=  tensor([1, 2, 3])\n"
          ]
        }
      ]
    },
    {
      "cell_type": "code",
      "source": [
        "#index most inner bracket\n",
        "print(\"x[0][0][0]=\", x[0][0][0])\n",
        "print(\"x[0,0,0]=\", x[0, 0, 0])"
      ],
      "metadata": {
        "colab": {
          "base_uri": "https://localhost:8080/"
        },
        "id": "ZZQC47l6M72D",
        "outputId": "54cdd7db-a9be-47dc-8322-7b07b63f33c8"
      },
      "execution_count": 142,
      "outputs": [
        {
          "output_type": "stream",
          "name": "stdout",
          "text": [
            "x[0][0][0]= tensor(1)\n",
            "x[0,0,0]= tensor(1)\n"
          ]
        }
      ]
    },
    {
      "cell_type": "code",
      "source": [
        "x[0][0][1]"
      ],
      "metadata": {
        "colab": {
          "base_uri": "https://localhost:8080/"
        },
        "id": "emd8MmioNY0i",
        "outputId": "574effc7-895c-4bef-efb5-f231defa3ec9"
      },
      "execution_count": 143,
      "outputs": [
        {
          "output_type": "execute_result",
          "data": {
            "text/plain": [
              "tensor(2)"
            ]
          },
          "metadata": {},
          "execution_count": 143
        }
      ]
    },
    {
      "cell_type": "code",
      "source": [
        "#getting num 9\n",
        "x[0][2][2]"
      ],
      "metadata": {
        "colab": {
          "base_uri": "https://localhost:8080/"
        },
        "id": "D4riaapbNj4h",
        "outputId": "c1df0fb0-02e5-44a1-c606-4736cb35bf1e"
      },
      "execution_count": 146,
      "outputs": [
        {
          "output_type": "execute_result",
          "data": {
            "text/plain": [
              "tensor(9)"
            ]
          },
          "metadata": {},
          "execution_count": 146
        }
      ]
    },
    {
      "cell_type": "code",
      "source": [
        "#getting all the dim with \":\"\n",
        "x[:, 0]"
      ],
      "metadata": {
        "colab": {
          "base_uri": "https://localhost:8080/"
        },
        "id": "R1E2d--vNpwR",
        "outputId": "d7db7e26-4a64-42fb-cc8a-4cfefff86edd"
      },
      "execution_count": 147,
      "outputs": [
        {
          "output_type": "execute_result",
          "data": {
            "text/plain": [
              "tensor([[1, 2, 3]])"
            ]
          },
          "metadata": {},
          "execution_count": 147
        }
      ]
    },
    {
      "cell_type": "code",
      "source": [
        "# get all vals of 0th and 1st dim only index 1 of second dim\n",
        "\n",
        "x[:, :, 1]"
      ],
      "metadata": {
        "colab": {
          "base_uri": "https://localhost:8080/"
        },
        "id": "7xD8GCx2N-GQ",
        "outputId": "496a6aea-c6a9-4f7d-8ec3-bec9eecedcdf"
      },
      "execution_count": 148,
      "outputs": [
        {
          "output_type": "execute_result",
          "data": {
            "text/plain": [
              "tensor([[2, 5, 8]])"
            ]
          },
          "metadata": {},
          "execution_count": 148
        }
      ]
    },
    {
      "cell_type": "code",
      "source": [
        "# get all vals of 0th and  dim only index 1 of first second dim\n",
        "x[:,1,1],x[0,1,1]"
      ],
      "metadata": {
        "colab": {
          "base_uri": "https://localhost:8080/"
        },
        "id": "2GuWTux6OPV3",
        "outputId": "47e9b987-cdbd-4cb5-c0f8-4d8eba6de633"
      },
      "execution_count": 150,
      "outputs": [
        {
          "output_type": "execute_result",
          "data": {
            "text/plain": [
              "(tensor([5]), tensor(5))"
            ]
          },
          "metadata": {},
          "execution_count": 150
        }
      ]
    },
    {
      "cell_type": "code",
      "source": [
        "# get index 0  of 0th and 1st dim all values of  second dim\n",
        "x[0,0,:]"
      ],
      "metadata": {
        "colab": {
          "base_uri": "https://localhost:8080/"
        },
        "id": "JglA9ZNtOmsX",
        "outputId": "d2a85864-fbf3-4e3c-f23a-daa35eb10853"
      },
      "execution_count": 151,
      "outputs": [
        {
          "output_type": "execute_result",
          "data": {
            "text/plain": [
              "tensor([1, 2, 3])"
            ]
          },
          "metadata": {},
          "execution_count": 151
        }
      ]
    },
    {
      "cell_type": "code",
      "source": [
        "#return 3,6,9\n",
        "x[0,:,2], x[:,:,2]\n"
      ],
      "metadata": {
        "colab": {
          "base_uri": "https://localhost:8080/"
        },
        "id": "90v1uaOuO6Jd",
        "outputId": "1601d12e-5445-4a99-e9c4-1027e8dbd8fd"
      },
      "execution_count": 153,
      "outputs": [
        {
          "output_type": "execute_result",
          "data": {
            "text/plain": [
              "(tensor([3, 6, 9]), tensor([[3, 6, 9]]))"
            ]
          },
          "metadata": {},
          "execution_count": 153
        }
      ]
    },
    {
      "cell_type": "markdown",
      "source": [
        "### PyTorch tensors & NmPy"
      ],
      "metadata": {
        "id": "fCFLO9_dPpy6"
      }
    },
    {
      "cell_type": "code",
      "source": [],
      "metadata": {
        "id": "c8ahEZRXPQRc"
      },
      "execution_count": null,
      "outputs": []
    }
  ]
}