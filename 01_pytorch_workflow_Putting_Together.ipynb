{
  "nbformat": 4,
  "nbformat_minor": 0,
  "metadata": {
    "colab": {
      "provenance": [],
      "authorship_tag": "ABX9TyPyLUaKHP8a5z7JpCeaFv/L",
      "include_colab_link": true
    },
    "kernelspec": {
      "name": "python3",
      "display_name": "Python 3"
    },
    "language_info": {
      "name": "python"
    },
    "accelerator": "GPU",
    "gpuClass": "standard"
  },
  "cells": [
    {
      "cell_type": "markdown",
      "metadata": {
        "id": "view-in-github",
        "colab_type": "text"
      },
      "source": [
        "<a href=\"https://colab.research.google.com/github/zahra-sharifzadeh/pytorch/blob/main/01_pytorch_workflow_Putting_Together.ipynb\" target=\"_parent\"><img src=\"https://colab.research.google.com/assets/colab-badge.svg\" alt=\"Open In Colab\"/></a>"
      ]
    },
    {
      "cell_type": "code",
      "execution_count": 1,
      "metadata": {
        "colab": {
          "base_uri": "https://localhost:8080/",
          "height": 36
        },
        "id": "m0FHgclJ5qQZ",
        "outputId": "d63a8bce-28ba-4814-8c3d-65c567922f1c"
      },
      "outputs": [
        {
          "output_type": "execute_result",
          "data": {
            "text/plain": [
              "'1.13.1+cu116'"
            ],
            "application/vnd.google.colaboratory.intrinsic+json": {
              "type": "string"
            }
          },
          "metadata": {},
          "execution_count": 1
        }
      ],
      "source": [
        "# importing module that you need\n",
        "\n",
        "import torch\n",
        "from torch import nn\n",
        "import matplotlib.pyplot as plt\n",
        "import numpy as np\n",
        "from pathlib import Path\n",
        "\n",
        "torch.__version__"
      ]
    },
    {
      "cell_type": "code",
      "source": [
        "# Setup device agnostic code\n",
        "device = \"cuda\" if torch.cuda.is_available() else \"cpu\"\n",
        "print(f\"Using device: {device}\") "
      ],
      "metadata": {
        "colab": {
          "base_uri": "https://localhost:8080/"
        },
        "id": "UUA8bTS05x5o",
        "outputId": "145c6a8a-2bd9-4432-e832-ab25bb65d080"
      },
      "execution_count": 2,
      "outputs": [
        {
          "output_type": "stream",
          "name": "stdout",
          "text": [
            "Using device: cuda\n"
          ]
        }
      ]
    },
    {
      "cell_type": "code",
      "source": [
        "!nvidia-smi"
      ],
      "metadata": {
        "colab": {
          "base_uri": "https://localhost:8080/"
        },
        "id": "Ks3czTSy65nR",
        "outputId": "802c9f2f-e9fe-404b-8815-238c434c76de"
      },
      "execution_count": 3,
      "outputs": [
        {
          "output_type": "stream",
          "name": "stdout",
          "text": [
            "Tue Mar 28 00:57:53 2023       \n",
            "+-----------------------------------------------------------------------------+\n",
            "| NVIDIA-SMI 525.85.12    Driver Version: 525.85.12    CUDA Version: 12.0     |\n",
            "|-------------------------------+----------------------+----------------------+\n",
            "| GPU  Name        Persistence-M| Bus-Id        Disp.A | Volatile Uncorr. ECC |\n",
            "| Fan  Temp  Perf  Pwr:Usage/Cap|         Memory-Usage | GPU-Util  Compute M. |\n",
            "|                               |                      |               MIG M. |\n",
            "|===============================+======================+======================|\n",
            "|   0  Tesla T4            Off  | 00000000:00:04.0 Off |                    0 |\n",
            "| N/A   68C    P8    11W /  70W |      3MiB / 15360MiB |      0%      Default |\n",
            "|                               |                      |                  N/A |\n",
            "+-------------------------------+----------------------+----------------------+\n",
            "                                                                               \n",
            "+-----------------------------------------------------------------------------+\n",
            "| Processes:                                                                  |\n",
            "|  GPU   GI   CI        PID   Type   Process name                  GPU Memory |\n",
            "|        ID   ID                                                   Usage      |\n",
            "|=============================================================================|\n",
            "|  No running processes found                                                 |\n",
            "+-----------------------------------------------------------------------------+\n"
          ]
        }
      ]
    },
    {
      "cell_type": "markdown",
      "source": [
        "###1.DATA"
      ],
      "metadata": {
        "id": "rMfM2CTi7l9S"
      }
    },
    {
      "cell_type": "code",
      "source": [
        "# Creat data for regression y = weight * X + bias\n",
        "\n",
        "weight = 0.7\n",
        "bias = 0.3\n",
        "\n",
        "# Creat range values\n",
        "\n",
        "start = 0\n",
        "step = 0.02\n",
        "end = 1\n",
        "\n",
        "# Creat X and y\n",
        "X = torch.arange(start, end, step).unsqueeze(dim=1)\n",
        "y = weight * X + bias"
      ],
      "metadata": {
        "id": "xtUAf2jT7KSg"
      },
      "execution_count": 4,
      "outputs": []
    },
    {
      "cell_type": "code",
      "source": [
        "print(\"some of X =\", X[:5])\n",
        "print(\"some of y=\", y[:5])\n",
        "print(\"length of X:\",len(X), \"and length of y:\", len(y))"
      ],
      "metadata": {
        "colab": {
          "base_uri": "https://localhost:8080/"
        },
        "id": "1kMueF9Z8Xd1",
        "outputId": "dd6e338f-f21f-4285-ef9d-3cf9296be6c9"
      },
      "execution_count": 5,
      "outputs": [
        {
          "output_type": "stream",
          "name": "stdout",
          "text": [
            "some of X = tensor([[0.0000],\n",
            "        [0.0200],\n",
            "        [0.0400],\n",
            "        [0.0600],\n",
            "        [0.0800]])\n",
            "some of y= tensor([[0.3000],\n",
            "        [0.3140],\n",
            "        [0.3280],\n",
            "        [0.3420],\n",
            "        [0.3560]])\n",
            "length of X: 50 and length of y: 50\n"
          ]
        }
      ]
    },
    {
      "cell_type": "code",
      "source": [
        "# Train and Test split\n",
        "Train_split = int(0.8 * len(X))\n",
        "\n",
        "# Train Data\n",
        "X_train, y_train = X[:Train_split], y[:Train_split]\n",
        "\n",
        "# Test Data\n",
        "X_test, y_test = X[Train_split:], y[Train_split:] \n",
        "\n",
        "len(X_train), len(y_train), len(X_test), len(y_test)"
      ],
      "metadata": {
        "colab": {
          "base_uri": "https://localhost:8080/"
        },
        "id": "LJU1f46Q8e_0",
        "outputId": "aa9839b5-d842-46b3-ebc0-0a4bc000189e"
      },
      "execution_count": 6,
      "outputs": [
        {
          "output_type": "execute_result",
          "data": {
            "text/plain": [
              "(40, 40, 10, 10)"
            ]
          },
          "metadata": {},
          "execution_count": 6
        }
      ]
    },
    {
      "cell_type": "code",
      "source": [
        "def plot_prediction(\n",
        "    train_data=X_train,\n",
        "    train_labels=y_train,\n",
        "    test_data=X_test,\n",
        "    test_labels=y_test,\n",
        "    predictions=None):\n",
        "  \"\"\"\n",
        "  Plots training data, test data and compares predictions.\n",
        "  \"\"\"\n",
        "  plt.figure(figsize=(10,7))\n",
        "\n",
        "  #plot training data in blue\n",
        "  plt.scatter(train_data, train_labels, c=\"b\", s=4, label=\"Training data\")\n",
        "  #plot testing data in green\n",
        "  plt.scatter(test_data, test_labels, c=\"g\", s=4, label=\"Testing data\")\n",
        "\n",
        "  #plot the predictions is available in red\n",
        "\n",
        "  if predictions is not None:\n",
        "    plt.scatter(test_data, predictions, c=\"r\", s=4, label=\"Prediction\")\n",
        "\n",
        "  # show the legend\n",
        "  plt.legend(prop={\"size\": 14})\n",
        "  plt.show()\n"
      ],
      "metadata": {
        "id": "0ckylGam96oX"
      },
      "execution_count": 7,
      "outputs": []
    },
    {
      "cell_type": "code",
      "source": [
        "# plot the data \n",
        "plot_prediction()"
      ],
      "metadata": {
        "colab": {
          "base_uri": "https://localhost:8080/",
          "height": 428
        },
        "id": "TdS8nIA5IhD1",
        "outputId": "1e2a67a9-fab1-4222-fb90-460fcd1eda26"
      },
      "execution_count": 8,
      "outputs": [
        {
          "output_type": "display_data",
          "data": {
            "text/plain": [
              "<Figure size 720x504 with 1 Axes>"
            ],
            "image/png": "[encoded data removed]"
          },
          "metadata": {
            "needs_background": "light"
          }
        }
      ]
    },
    {
      "cell_type": "code",
      "source": [
        "X_train.dtype"
      ],
      "metadata": {
        "colab": {
          "base_uri": "https://localhost:8080/"
        },
        "id": "Q6eNxVwiIyNK",
        "outputId": "cd4f5008-bf46-4f7b-9efd-42027027a716"
      },
      "execution_count": 9,
      "outputs": [
        {
          "output_type": "execute_result",
          "data": {
            "text/plain": [
              "torch.float32"
            ]
          },
          "metadata": {},
          "execution_count": 9
        }
      ]
    },
    {
      "cell_type": "markdown",
      "source": [
        "###2. Building Linear Model"
      ],
      "metadata": {
        "id": "f3206lhmJl5d"
      }
    },
    {
      "cell_type": "code",
      "source": [
        "# Creat A linear model by subclassing nn.module Version 1\n",
        "class LinearRegressionModelV1(nn.Module):\n",
        "  def __init__(self):\n",
        "    super().__init__()\n",
        "    self.weghits = nn.Parameter(torch.randn(1,\n",
        "                                             dtype =torch.float),\n",
        "                                            requires_grad=True)\n",
        "                                           \n",
        "    self.bias = nn.Parameter(torch.randn(1,\n",
        "                                        dtype=torch.float),\n",
        "                                         requires_grad=True)\n",
        "                            \n",
        "    \n",
        "  def forward(self, x: torch.Tensor) -> torch.Tensor:\n",
        "    return self.weights * x + self.bias"
      ],
      "metadata": {
        "id": "kMI-C0OoJkfo"
      },
      "execution_count": 10,
      "outputs": []
    },
    {
      "cell_type": "code",
      "source": [
        "model_0 = LinearRegressionModelV1()\n",
        "model_0, model_0.state_dict()"
      ],
      "metadata": {
        "colab": {
          "base_uri": "https://localhost:8080/"
        },
        "id": "DGsB3_A8LP4i",
        "outputId": "677d86d1-6d27-4c55-8c5c-275bc4df29eb"
      },
      "execution_count": 11,
      "outputs": [
        {
          "output_type": "execute_result",
          "data": {
            "text/plain": [
              "(LinearRegressionModelV1(),\n",
              " OrderedDict([('weghits', tensor([-0.1119])), ('bias', tensor([-1.3950]))]))"
            ]
          },
          "metadata": {},
          "execution_count": 11
        }
      ]
    },
    {
      "cell_type": "code",
      "source": [
        "# Creat A linear model by subclassing nn.module Version 2\n",
        "class LinearRegressionModelV2(nn.Module):\n",
        "  def __init__(self):\n",
        "    super().__init__()\n",
        "    # Use nn.Linear for creating model parameters\n",
        "    self.linear_layer = nn.Linear(in_features=1,\n",
        "                                  out_features=1)\n",
        "                                  \n",
        "    \n",
        "  def forward(self, x: torch.Tensor) -> torch.Tensor:\n",
        "\n",
        "      return self.linear_layer(x)\n",
        "\n",
        "    "
      ],
      "metadata": {
        "id": "KbT_UYgsL2Go"
      },
      "execution_count": 12,
      "outputs": []
    },
    {
      "cell_type": "code",
      "source": [
        "torch.manual_seed(42)\n",
        "\n",
        "model_1 = LinearRegressionModelV2()\n",
        "model_1, model_1.state_dict()"
      ],
      "metadata": {
        "colab": {
          "base_uri": "https://localhost:8080/"
        },
        "id": "Di4tgJ7EOf71",
        "outputId": "4944520b-f872-4e33-fa81-6211e1b58803"
      },
      "execution_count": 13,
      "outputs": [
        {
          "output_type": "execute_result",
          "data": {
            "text/plain": [
              "(LinearRegressionModelV2(\n",
              "   (linear_layer): Linear(in_features=1, out_features=1, bias=True)\n",
              " ),\n",
              " OrderedDict([('linear_layer.weight', tensor([[0.7645]])),\n",
              "              ('linear_layer.bias', tensor([0.8300]))]))"
            ]
          },
          "metadata": {},
          "execution_count": 13
        }
      ]
    },
    {
      "cell_type": "code",
      "source": [
        "print(next(model_1.parameters()).device)\n",
        "\n",
        "model_1.to(device)\n",
        "\n",
        "print(next(model_1.parameters()).device)"
      ],
      "metadata": {
        "colab": {
          "base_uri": "https://localhost:8080/"
        },
        "id": "XLy7T4AoOl3_",
        "outputId": "6756dced-ec82-4b0b-f1d2-e7fdb358ebcb"
      },
      "execution_count": 14,
      "outputs": [
        {
          "output_type": "stream",
          "name": "stdout",
          "text": [
            "cpu\n",
            "cuda:0\n"
          ]
        }
      ]
    },
    {
      "cell_type": "code",
      "source": [
        "model_1.state_dict()"
      ],
      "metadata": {
        "colab": {
          "base_uri": "https://localhost:8080/"
        },
        "id": "m59uuEcRV8dM",
        "outputId": "99adf535-4ae4-4d10-ce50-4ef7b94f89db"
      },
      "execution_count": 15,
      "outputs": [
        {
          "output_type": "execute_result",
          "data": {
            "text/plain": [
              "OrderedDict([('linear_layer.weight', tensor([[0.7645]], device='cuda:0')),\n",
              "             ('linear_layer.bias', tensor([0.8300], device='cuda:0'))])"
            ]
          },
          "metadata": {},
          "execution_count": 15
        }
      ]
    },
    {
      "cell_type": "markdown",
      "source": [
        "###3. Training"
      ],
      "metadata": {
        "id": "fPSGCo5zRfrc"
      }
    },
    {
      "cell_type": "code",
      "source": [
        "# Setup loss function\n",
        "loss_fn  = nn.L1Loss() # MAE\n",
        "\n",
        "# Setup our optimizer \n",
        "optimizer = torch.optim.SGD(params=model_1.parameters(),\n",
        "                            lr= 0.01)"
      ],
      "metadata": {
        "id": "tmiLt0feRHaW"
      },
      "execution_count": 16,
      "outputs": []
    },
    {
      "cell_type": "code",
      "source": [
        "### Training\n",
        "\n",
        "torch.manual_seed(42)\n",
        "\n",
        "epochs = 200\n",
        "\n",
        "# Put data on targert device\n",
        "X_train, y_train = X_train.to(device) , y_train.to(device)\n",
        "X_test, y_test = X_test.to(device) ,  y_test.to(device)\n",
        "\n",
        "\n",
        "for epoch in range(epochs):\n",
        "  \n",
        "  model_1.train()\n",
        "\n",
        "  # 1.Forward path\n",
        "  y_train_pred = model_1(X_train)\n",
        "\n",
        "  # 2.Calculate the loss\n",
        "  loss_train = loss_fn(y_train_pred, y_train)\n",
        "\n",
        "  # 3.Optimizer zero grad\n",
        "  optimizer.zero_grad()\n",
        "\n",
        "  # 4. Backpropagation\n",
        "  loss_train.backward()\n",
        "\n",
        "  # 5.optimize the model\n",
        "  optimizer.step()\n",
        "\n",
        "### Testing\n",
        "  model_1.eval()\n",
        "\n",
        "  with torch.inference_mode():\n",
        "\n",
        "    test_pred = model_1(X_test)\n",
        "\n",
        "    test_loss = loss_fn(test_pred, y_test)\n",
        "\n",
        "    # print out result\n",
        "    if epoch % 10 ==0:\n",
        "      print(f\"Epoch: {epoch} | Trian_Loss: {loss_train} | Test_Loss: {test_loss}\")"
      ],
      "metadata": {
        "colab": {
          "base_uri": "https://localhost:8080/"
        },
        "id": "j07xqH0lUjsb",
        "outputId": "02dbe7b4-8126-46e9-9802-008cafe4e34a"
      },
      "execution_count": 17,
      "outputs": [
        {
          "output_type": "stream",
          "name": "stdout",
          "text": [
            "Epoch: 0 | Trian_Loss: 0.5551779866218567 | Test_Loss: 0.5739762187004089\n",
            "Epoch: 10 | Trian_Loss: 0.439968079328537 | Test_Loss: 0.4392664134502411\n",
            "Epoch: 20 | Trian_Loss: 0.3247582018375397 | Test_Loss: 0.30455657839775085\n",
            "Epoch: 30 | Trian_Loss: 0.20954833924770355 | Test_Loss: 0.16984669864177704\n",
            "Epoch: 40 | Trian_Loss: 0.09433845430612564 | Test_Loss: 0.03513690456748009\n",
            "Epoch: 50 | Trian_Loss: 0.023886388167738914 | Test_Loss: 0.04784907028079033\n",
            "Epoch: 60 | Trian_Loss: 0.019956795498728752 | Test_Loss: 0.045803118497133255\n",
            "Epoch: 70 | Trian_Loss: 0.016517987474799156 | Test_Loss: 0.037530567497015\n",
            "Epoch: 80 | Trian_Loss: 0.013089174404740334 | Test_Loss: 0.02994490973651409\n",
            "Epoch: 90 | Trian_Loss: 0.009653178043663502 | Test_Loss: 0.02167237363755703\n",
            "Epoch: 100 | Trian_Loss: 0.006215683650225401 | Test_Loss: 0.014086711220443249\n",
            "Epoch: 110 | Trian_Loss: 0.00278724217787385 | Test_Loss: 0.005814164876937866\n",
            "Epoch: 120 | Trian_Loss: 0.0012645035749301314 | Test_Loss: 0.013801801018416882\n",
            "Epoch: 130 | Trian_Loss: 0.0012645035749301314 | Test_Loss: 0.013801801018416882\n",
            "Epoch: 140 | Trian_Loss: 0.0012645035749301314 | Test_Loss: 0.013801801018416882\n",
            "Epoch: 150 | Trian_Loss: 0.0012645035749301314 | Test_Loss: 0.013801801018416882\n",
            "Epoch: 160 | Trian_Loss: 0.0012645035749301314 | Test_Loss: 0.013801801018416882\n",
            "Epoch: 170 | Trian_Loss: 0.0012645035749301314 | Test_Loss: 0.013801801018416882\n",
            "Epoch: 180 | Trian_Loss: 0.0012645035749301314 | Test_Loss: 0.013801801018416882\n",
            "Epoch: 190 | Trian_Loss: 0.0012645035749301314 | Test_Loss: 0.013801801018416882\n"
          ]
        }
      ]
    },
    {
      "cell_type": "code",
      "source": [
        "model_1.state_dict()"
      ],
      "metadata": {
        "colab": {
          "base_uri": "https://localhost:8080/"
        },
        "id": "5x2i3rE5Vtdw",
        "outputId": "aa58e6ca-5038-4c6e-ef21-33541038f8f0"
      },
      "execution_count": 18,
      "outputs": [
        {
          "output_type": "execute_result",
          "data": {
            "text/plain": [
              "OrderedDict([('linear_layer.weight', tensor([[0.6968]], device='cuda:0')),\n",
              "             ('linear_layer.bias', tensor([0.3025], device='cuda:0'))])"
            ]
          },
          "metadata": {},
          "execution_count": 18
        }
      ]
    },
    {
      "cell_type": "code",
      "source": [
        "weight, bias"
      ],
      "metadata": {
        "colab": {
          "base_uri": "https://localhost:8080/"
        },
        "id": "roNlK9YqaWVS",
        "outputId": "99499c76-9df9-4995-ae00-1d56488dda79"
      },
      "execution_count": 19,
      "outputs": [
        {
          "output_type": "execute_result",
          "data": {
            "text/plain": [
              "(0.7, 0.3)"
            ]
          },
          "metadata": {},
          "execution_count": 19
        }
      ]
    },
    {
      "cell_type": "code",
      "source": [
        "plot_prediction(predictions=test_pred.cpu())"
      ],
      "metadata": {
        "colab": {
          "base_uri": "https://localhost:8080/",
          "height": 428
        },
        "id": "xc48jAC5atao",
        "outputId": "4b6da9c3-42ad-48d5-966a-4088ccc66d0e"
      },
      "execution_count": 20,
      "outputs": [
        {
          "output_type": "display_data",
          "data": {
            "text/plain": [
              "<Figure size 720x504 with 1 Axes>"
            ],
            "image/png": "[encoded data removed]"
          },
          "metadata": {
            "needs_background": "light"
          }
        }
      ]
    },
    {
      "cell_type": "markdown",
      "source": [
        "###4. Making and evaluating predictions"
      ],
      "metadata": {
        "id": "qbkTt_3YaZt4"
      }
    },
    {
      "cell_type": "code",
      "source": [
        "# Turn model into evaluation  mode\n",
        "model_1.eval()\n",
        "\n",
        "# Make predictions on the test data\n",
        "with torch.inference_mode():\n",
        "  y_preds = model_1(X_test)\n",
        "\n",
        "y_preds"
      ],
      "metadata": {
        "colab": {
          "base_uri": "https://localhost:8080/"
        },
        "id": "QSbB2VXjbpuL",
        "outputId": "b86af0d8-da2e-4a5e-b7f8-a7d16cdc590a"
      },
      "execution_count": 21,
      "outputs": [
        {
          "output_type": "execute_result",
          "data": {
            "text/plain": [
              "tensor([[0.8600],\n",
              "        [0.8739],\n",
              "        [0.8878],\n",
              "        [0.9018],\n",
              "        [0.9157],\n",
              "        [0.9296],\n",
              "        [0.9436],\n",
              "        [0.9575],\n",
              "        [0.9714],\n",
              "        [0.9854]], device='cuda:0')"
            ]
          },
          "metadata": {},
          "execution_count": 21
        }
      ]
    },
    {
      "cell_type": "code",
      "source": [
        "plot_prediction(predictions=test_pred.cpu())"
      ],
      "metadata": {
        "colab": {
          "base_uri": "https://localhost:8080/",
          "height": 428
        },
        "id": "skK03AdYdMj_",
        "outputId": "0a6fc5a6-2d0d-4948-81f1-5f5157264355"
      },
      "execution_count": 22,
      "outputs": [
        {
          "output_type": "display_data",
          "data": {
            "text/plain": [
              "<Figure size 720x504 with 1 Axes>"
            ],
            "image/png": "[encoded data removed]"
          },
          "metadata": {
            "needs_background": "light"
          }
        }
      ]
    },
    {
      "cell_type": "markdown",
      "source": [
        "###5. Saving and Loading model"
      ],
      "metadata": {
        "id": "rc9EcxhcdXOf"
      }
    },
    {
      "cell_type": "code",
      "source": [
        "### SAVING MODEL\n",
        "# 1. Create models directory\n",
        "MODEL_PATH = Path(\"models\")\n",
        "MODEL_PATH.mkdir(parents=True, exist_ok=True)\n",
        "\n",
        "# 2. Model save path\n",
        "MODEL_NAME = \"01_pytorch_workflow_Putting_Together_model_1.pth\"\n",
        "MODEL_SAVE_PATH = MODEL_PATH / MODEL_NAME\n",
        "\n",
        "\n",
        "\n",
        "# 3. Save the model as dict\n",
        "print(f\"Saving model to: {MODEL_SAVE_PATH}\")\n",
        "torch.save(f=MODEL_SAVE_PATH, \n",
        "           obj=model_1.state_dict())"
      ],
      "metadata": {
        "colab": {
          "base_uri": "https://localhost:8080/"
        },
        "id": "ZHF4XyIpd4Z-",
        "outputId": "8b1b688d-f9dc-48de-ca87-5d629d48650d"
      },
      "execution_count": 23,
      "outputs": [
        {
          "output_type": "stream",
          "name": "stdout",
          "text": [
            "Saving model to: models/01_pytorch_workflow_Putting_Together_model_1.pth\n"
          ]
        }
      ]
    },
    {
      "cell_type": "code",
      "source": [
        "### Load a PyTorch \n",
        "\n",
        "# creat New instance\n",
        "loaded_model_1 = LinearRegressionModelV2()\n",
        "\n",
        "# Load model state dict\n",
        "\n",
        "loaded_model_1.load_state_dict(torch.load(MODEL_SAVE_PATH))\n",
        "\n",
        "loaded_model_1.to(device)"
      ],
      "metadata": {
        "colab": {
          "base_uri": "https://localhost:8080/"
        },
        "id": "HQfXiJHbete6",
        "outputId": "729d3178-a242-47ce-a24f-968dd751c248"
      },
      "execution_count": 24,
      "outputs": [
        {
          "output_type": "execute_result",
          "data": {
            "text/plain": [
              "LinearRegressionModelV2(\n",
              "  (linear_layer): Linear(in_features=1, out_features=1, bias=True)\n",
              ")"
            ]
          },
          "metadata": {},
          "execution_count": 24
        }
      ]
    },
    {
      "cell_type": "code",
      "source": [
        "next(loaded_model_1.parameters()).device"
      ],
      "metadata": {
        "colab": {
          "base_uri": "https://localhost:8080/"
        },
        "id": "u9Y-kjVYtQ96",
        "outputId": "a79fcf42-3f3e-4a90-8157-b9a298ed40aa"
      },
      "execution_count": 25,
      "outputs": [
        {
          "output_type": "execute_result",
          "data": {
            "text/plain": [
              "device(type='cuda', index=0)"
            ]
          },
          "metadata": {},
          "execution_count": 25
        }
      ]
    },
    {
      "cell_type": "code",
      "source": [
        "loaded_model_1.state_dict()"
      ],
      "metadata": {
        "colab": {
          "base_uri": "https://localhost:8080/"
        },
        "id": "bzArS_Sctdhx",
        "outputId": "31bb137d-5168-4f94-d55e-87046d80dc4a"
      },
      "execution_count": 26,
      "outputs": [
        {
          "output_type": "execute_result",
          "data": {
            "text/plain": [
              "OrderedDict([('linear_layer.weight', tensor([[0.6968]], device='cuda:0')),\n",
              "             ('linear_layer.bias', tensor([0.3025], device='cuda:0'))])"
            ]
          },
          "metadata": {},
          "execution_count": 26
        }
      ]
    },
    {
      "cell_type": "code",
      "source": [
        "# Evaluate loaded model\n",
        "\n",
        "loaded_model_1.eval()\n",
        "\n",
        "with torch.inference_mode():\n",
        "  loaded_model_pred = loaded_model_1(X_test)\n",
        "\n",
        "plot_prediction(predictions=loaded_model_pred.cpu())"
      ],
      "metadata": {
        "colab": {
          "base_uri": "https://localhost:8080/",
          "height": 428
        },
        "id": "RjeT3_bJthlp",
        "outputId": "23f2ad56-024f-4ee4-f60d-cd76aa55d8e1"
      },
      "execution_count": 27,
      "outputs": [
        {
          "output_type": "display_data",
          "data": {
            "text/plain": [
              "<Figure size 720x504 with 1 Axes>"
            ],
            "image/png": "[encoded data removed]"
          },
          "metadata": {
            "needs_background": "light"
          }
        }
      ]
    },
    {
      "cell_type": "code",
      "source": [],
      "metadata": {
        "id": "Ed544HkMuDrA"
      },
      "execution_count": 27,
      "outputs": []
    }
  ]
}