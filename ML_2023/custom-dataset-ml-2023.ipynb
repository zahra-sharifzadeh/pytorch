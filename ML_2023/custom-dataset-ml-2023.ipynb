{
 "cells": [
  {
   "cell_type": "code",
   "execution_count": 1,
   "id": "e2418599",
   "metadata": {
    "_cell_guid": "b1076dfc-b9ad-4769-8c92-a6c4dae69d19",
    "_uuid": "8f2839f25d086af736a60e9eeb907d3b93b6e0e5",
    "execution": {
     "iopub.execute_input": "2023-06-27T23:38:44.890793Z",
     "iopub.status.busy": "2023-06-27T23:38:44.890351Z",
     "iopub.status.idle": "2023-06-27T23:38:44.902859Z",
     "shell.execute_reply": "2023-06-27T23:38:44.901710Z"
    },
    "papermill": {
     "duration": 0.02023,
     "end_time": "2023-06-27T23:38:44.905409",
     "exception": false,
     "start_time": "2023-06-27T23:38:44.885179",
     "status": "completed"
    },
    "tags": []
   },
   "outputs": [],
   "source": [
    "# This Python 3 environment comes with many helpful analytics libraries installed\n",
    "# It is defined by the kaggle/python Docker image: https://github.com/kaggle/docker-python\n",
    "# For example, here's several helpful packages to load\n",
    "\n",
    "import numpy as np # linear algebra\n",
    "import pandas as pd # data processing, CSV file I/O (e.g. pd.read_csv)\n",
    "\n",
    "# Input data files are available in the read-only \"../input/\" directory\n",
    "# For example, running this (by clicking run or pressing Shift+Enter) will list all files under the input directory\n",
    "\n",
    "import os\n",
    "# for dirname, _, filenames in os.walk('/kaggle/input'):\n",
    "#     for filename in filenames:\n",
    "#         print(os.path.join(dirname, filename))\n",
    "\n",
    "# You can write up to 20GB to the current directory (/kaggle/working/) that gets preserved as output when you create a version using \"Save & Run All\" \n",
    "# You can also write temporary files to /kaggle/temp/, but they won't be saved outside of the current session"
   ]
  },
  {
   "cell_type": "code",
   "execution_count": 2,
   "id": "7753b259",
   "metadata": {
    "execution": {
     "iopub.execute_input": "2023-06-27T23:38:44.912842Z",
     "iopub.status.busy": "2023-06-27T23:38:44.912458Z",
     "iopub.status.idle": "2023-06-27T23:38:49.924723Z",
     "shell.execute_reply": "2023-06-27T23:38:49.923216Z"
    },
    "papermill": {
     "duration": 5.01921,
     "end_time": "2023-06-27T23:38:49.927615",
     "exception": false,
     "start_time": "2023-06-27T23:38:44.908405",
     "status": "completed"
    },
    "tags": []
   },
   "outputs": [],
   "source": [
    "import os\n",
    "import torch\n",
    "from torch import nn\n",
    "import pandas as pd\n",
    "import torchaudio\n",
    "from torch.utils.data import DataLoader"
   ]
  },
  {
   "cell_type": "code",
   "execution_count": 3,
   "id": "314d3aaa",
   "metadata": {
    "execution": {
     "iopub.execute_input": "2023-06-27T23:38:49.935880Z",
     "iopub.status.busy": "2023-06-27T23:38:49.935152Z",
     "iopub.status.idle": "2023-06-27T23:38:49.941210Z",
     "shell.execute_reply": "2023-06-27T23:38:49.939912Z"
    },
    "papermill": {
     "duration": 0.013185,
     "end_time": "2023-06-27T23:38:49.943861",
     "exception": false,
     "start_time": "2023-06-27T23:38:49.930676",
     "status": "completed"
    },
    "tags": []
   },
   "outputs": [],
   "source": [
    "from torch.utils.data import Dataset\n"
   ]
  },
  {
   "cell_type": "markdown",
   "id": "49d23688",
   "metadata": {
    "papermill": {
     "duration": 0.002488,
     "end_time": "2023-06-27T23:38:49.949203",
     "exception": false,
     "start_time": "2023-06-27T23:38:49.946715",
     "status": "completed"
    },
    "tags": []
   },
   "source": [
    "# Dataset class\n",
    "torch.utils.data.Dataset is an abstract class representing a dataset. Your custom dataset should inherit Dataset and override the following methods:\n",
    "\n",
    "__len__ so that len(dataset) returns the size of the dataset.\n",
    "\n",
    "__getitem__ to support the indexing such that dataset[i] can be used to get \n",
    "�\n",
    "ith sample.\n",
    "\n",
    "Let’s create a dataset class for our face landmarks dataset. We will read the csv in __init__ but leave the reading of images to __getitem__. This is memory efficient because all the images are not stored in the memory at once but read as required."
   ]
  },
  {
   "cell_type": "code",
   "execution_count": 4,
   "id": "e2bf2b53",
   "metadata": {
    "execution": {
     "iopub.execute_input": "2023-06-27T23:38:49.956955Z",
     "iopub.status.busy": "2023-06-27T23:38:49.956540Z",
     "iopub.status.idle": "2023-06-27T23:38:49.971153Z",
     "shell.execute_reply": "2023-06-27T23:38:49.970052Z"
    },
    "papermill": {
     "duration": 0.02225,
     "end_time": "2023-06-27T23:38:49.974098",
     "exception": false,
     "start_time": "2023-06-27T23:38:49.951848",
     "status": "completed"
    },
    "tags": []
   },
   "outputs": [],
   "source": [
    "class UrbansoundDataset(Dataset):\n",
    "    \n",
    "    \n",
    "    def __init__(self,\n",
    "                 annotations_file,\n",
    "                 audio_dir,\n",
    "                 transformation,\n",
    "                 target_sample_rate,\n",
    "                num_samples,\n",
    "                device):\n",
    "        \n",
    "        self.device = device\n",
    "        self.annotations = pd.read_csv(annotations_file)\n",
    "        self.audio_dir = audio_dir\n",
    "        self.target_sample_rate = target_sample_rate\n",
    "        self.num_samples = num_samples\n",
    "        self.transformation = transformation.to(self.device)\n",
    "\n",
    "        \n",
    "         \n",
    "    def __len__(self):\n",
    "        \n",
    "        return len(self.annotations)\n",
    "    \n",
    "    \n",
    "    def __getitem__(self, index):\n",
    "        audio_sample_path = self._get_audio_sample_path(index)\n",
    "        label = self._get_audio_sample_label(index)\n",
    "        signal, sr = torchaudio.load(audio_sample_path)\n",
    "        signal = self.transformation(signal)\n",
    "        \n",
    "        return signal, label\n",
    "\n",
    "          \n",
    "    \n",
    "    def _get_audio_sample_path(self, index):\n",
    "        fold = f\"fold{self.annotations.iloc[index, 5]}\"\n",
    "        path = os.path.join(self.audio_dir,\n",
    "                            fold,\n",
    "                            self.annotations.iloc[index, 0])\n",
    "        return path\n",
    "    \n",
    "    \n",
    "        \n",
    "    def _get_audio_sample_label(self, index):\n",
    "        \n",
    "        return self.annotations.iloc[index, 6]\n",
    "        \n",
    "        \n",
    "        "
   ]
  }
 ],
 "metadata": {
  "kernelspec": {
   "display_name": "Python 3",
   "language": "python",
   "name": "python3"
  },
  "language_info": {
   "codemirror_mode": {
    "name": "ipython",
    "version": 3
   },
   "file_extension": ".py",
   "mimetype": "text/x-python",
   "name": "python",
   "nbconvert_exporter": "python",
   "pygments_lexer": "ipython3",
   "version": "3.10.10"
  },
  "papermill": {
   "default_parameters": {},
   "duration": 20.215431,
   "end_time": "2023-06-27T23:38:51.402162",
   "environment_variables": {},
   "exception": null,
   "input_path": "__notebook__.ipynb",
   "output_path": "__notebook__.ipynb",
   "parameters": {},
   "start_time": "2023-06-27T23:38:31.186731",
   "version": "2.4.0"
  }
 },
 "nbformat": 4,
 "nbformat_minor": 5
}
