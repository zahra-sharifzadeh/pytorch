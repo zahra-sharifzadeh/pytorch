{
  "nbformat": 4,
  "nbformat_minor": 0,
  "metadata": {
    "colab": {
      "provenance": [],
      "gpuType": "T4",
      "authorship_tag": "ABX9TyNzCqEl+FW0xQtklBd5A47C",
      "include_colab_link": true
    },
    "kernelspec": {
      "name": "python3",
      "display_name": "Python 3"
    },
    "language_info": {
      "name": "python"
    },
    "accelerator": "GPU"
  },
  "cells": [
    {
      "cell_type": "markdown",
      "metadata": {
        "id": "view-in-github",
        "colab_type": "text"
      },
      "source": [
        "<a href=\"https://colab.research.google.com/github/zahra-sharifzadeh/pytorch/blob/main/ML_2023/MNIST_Classifier_ML_2023.ipynb\" target=\"_parent\"><img src=\"https://colab.research.google.com/assets/colab-badge.svg\" alt=\"Open In Colab\"/></a>"
      ]
    },
    {
      "cell_type": "markdown",
      "source": [
        "# PyTorch Convolutional Neural Network With MNIST Dataset\n",
        "We are going to use PYTorch and create CNN model step by step. Then we will train the model with training data and evaluate the model with test data."
      ],
      "metadata": {
        "id": "cXjP_0-t1XUz"
      }
    },
    {
      "cell_type": "markdown",
      "source": [
        "##Import libraries"
      ],
      "metadata": {
        "id": "y4q7G08t1j66"
      }
    },
    {
      "cell_type": "code",
      "execution_count": 139,
      "metadata": {
        "id": "RRIcu0_-0-a7"
      },
      "outputs": [],
      "source": [
        "import torch"
      ]
    },
    {
      "cell_type": "markdown",
      "source": [
        "##Check device is available"
      ],
      "metadata": {
        "id": "8Uj-ipra1sHS"
      }
    },
    {
      "cell_type": "code",
      "source": [
        "# Setting the device\n",
        "device = \"cuda\" if torch.cuda.is_available() else \"cpu\"\n",
        "device"
      ],
      "metadata": {
        "colab": {
          "base_uri": "https://localhost:8080/",
          "height": 35
        },
        "id": "uO-B3dw81l75",
        "outputId": "6aa4e048-0c7a-48c5-c95e-511a000bf870"
      },
      "execution_count": 140,
      "outputs": [
        {
          "output_type": "execute_result",
          "data": {
            "text/plain": [
              "'cuda'"
            ],
            "application/vnd.google.colaboratory.intrinsic+json": {
              "type": "string"
            }
          },
          "metadata": {},
          "execution_count": 140
        }
      ]
    },
    {
      "cell_type": "markdown",
      "source": [
        "##Download MNIST dataset\n",
        "\n",
        "\n",
        "*   PyTorch domain libraries provide a number of pre-loaded datasets (such as FashionMNIST, MNIST etc…) that subclass torch.utils.data.Dataset and implement functions specific to the particular data\n",
        "*   **ToTensor**: Converts a PIL Image or numpy.ndarray (H x W x C) in the range [0, 255] to a torch.FloatTensor of shape (C x H x W) in the range [0.0, 1.0]\n",
        "\n"
      ],
      "metadata": {
        "id": "zxARazMz2afh"
      }
    },
    {
      "cell_type": "code",
      "source": [
        "from torchvision import datasets\n",
        "from torchvision.transforms import ToTensor\n",
        "\n",
        "train_data = datasets.MNIST(\n",
        "    root = 'data',\n",
        "    train = True,\n",
        "    transform = ToTensor(),\n",
        "    download = True,\n",
        ")\n",
        "test_data = datasets.MNIST(\n",
        "    root = 'data',\n",
        "    train = False,\n",
        "    transform = ToTensor()\n",
        ")"
      ],
      "metadata": {
        "id": "dHwuzu6N2DWz"
      },
      "execution_count": 141,
      "outputs": []
    },
    {
      "cell_type": "code",
      "source": [
        "print(train_data)\n",
        "print(train_data.data.size())\n",
        "print(train_data.targets.size())\n",
        "\n"
      ],
      "metadata": {
        "colab": {
          "base_uri": "https://localhost:8080/"
        },
        "id": "Qay_cqnk3Dm9",
        "outputId": "dc4d44ce-861e-4811-c723-007f909c6494"
      },
      "execution_count": 142,
      "outputs": [
        {
          "output_type": "stream",
          "name": "stdout",
          "text": [
            "Dataset MNIST\n",
            "    Number of datapoints: 60000\n",
            "    Root location: data\n",
            "    Split: Train\n",
            "    StandardTransform\n",
            "Transform: ToTensor()\n",
            "torch.Size([60000, 28, 28])\n",
            "torch.Size([60000])\n"
          ]
        }
      ]
    },
    {
      "cell_type": "code",
      "source": [
        "print(test_data)\n"
      ],
      "metadata": {
        "colab": {
          "base_uri": "https://localhost:8080/"
        },
        "id": "47bDgjjh3Ggy",
        "outputId": "751d5786-e5c8-4711-cbc5-f1ffffeec195"
      },
      "execution_count": 143,
      "outputs": [
        {
          "output_type": "stream",
          "name": "stdout",
          "text": [
            "Dataset MNIST\n",
            "    Number of datapoints: 10000\n",
            "    Root location: data\n",
            "    Split: Test\n",
            "    StandardTransform\n",
            "Transform: ToTensor()\n"
          ]
        }
      ]
    },
    {
      "cell_type": "markdown",
      "source": [
        "##Visualization of MNIST dataset\n",
        "Fixing shape of image to plot\n",
        "(C x H x W) -> (H x W x C)"
      ],
      "metadata": {
        "id": "G7fiRcyY3UPh"
      }
    },
    {
      "cell_type": "code",
      "source": [
        "train_data[0][0].shape"
      ],
      "metadata": {
        "colab": {
          "base_uri": "https://localhost:8080/"
        },
        "id": "NBNGOglL3del",
        "outputId": "07ed655b-c999-428f-84a4-55683738c8dd"
      },
      "execution_count": 144,
      "outputs": [
        {
          "output_type": "execute_result",
          "data": {
            "text/plain": [
              "torch.Size([1, 28, 28])"
            ]
          },
          "metadata": {},
          "execution_count": 144
        }
      ]
    },
    {
      "cell_type": "code",
      "source": [
        "train_data[0][0].squeeze(dim=0).shape"
      ],
      "metadata": {
        "colab": {
          "base_uri": "https://localhost:8080/"
        },
        "id": "DdkPusJd4POv",
        "outputId": "219e26a8-2f8c-4099-aa1d-6dc771697ad5"
      },
      "execution_count": 145,
      "outputs": [
        {
          "output_type": "execute_result",
          "data": {
            "text/plain": [
              "torch.Size([28, 28])"
            ]
          },
          "metadata": {},
          "execution_count": 145
        }
      ]
    },
    {
      "cell_type": "code",
      "source": [
        "image_permuted = train_data[0][0].permute(1, 2, 0) # (C x H x W) -> (H x W x C)\n",
        "image_permuted.shape"
      ],
      "metadata": {
        "colab": {
          "base_uri": "https://localhost:8080/"
        },
        "id": "nosPXCJ-4Zmt",
        "outputId": "2f242237-235d-4a1e-c42f-7a06bf1c10b7"
      },
      "execution_count": 146,
      "outputs": [
        {
          "output_type": "execute_result",
          "data": {
            "text/plain": [
              "torch.Size([28, 28, 1])"
            ]
          },
          "metadata": {},
          "execution_count": 146
        }
      ]
    },
    {
      "cell_type": "code",
      "source": [
        "image_view  = train_data[0][0].view(28, 28, -1) # (C x H x W) -> (H x W x C)\n",
        "image_view.shape"
      ],
      "metadata": {
        "colab": {
          "base_uri": "https://localhost:8080/"
        },
        "id": "yQDe8lZQ4jSA",
        "outputId": "52738d3f-35b6-4c71-fe99-406c0c4c949f"
      },
      "execution_count": 147,
      "outputs": [
        {
          "output_type": "execute_result",
          "data": {
            "text/plain": [
              "torch.Size([28, 28, 1])"
            ]
          },
          "metadata": {},
          "execution_count": 147
        }
      ]
    },
    {
      "cell_type": "code",
      "source": [
        "import matplotlib.pyplot as plt\n",
        "plt.imshow(train_data[0][0].squeeze(dim=0), cmap='gray')\n",
        "plt.title(train_data.targets[0].item())\n",
        "plt.show()"
      ],
      "metadata": {
        "colab": {
          "base_uri": "https://localhost:8080/",
          "height": 452
        },
        "id": "BrGR4fsh3JZy",
        "outputId": "c63f1758-7cdc-46de-a46d-99dc8e28f1aa"
      },
      "execution_count": 148,
      "outputs": [
        {
          "output_type": "display_data",
          "data": {
            "text/plain": [
              "<Figure size 640x480 with 1 Axes>"
            ],
            "image/png": "[encoded data removed]"
          },
          "metadata": {}
        }
      ]
    },
    {
      "cell_type": "code",
      "source": [
        "figure = plt.figure(figsize=(10, 8))\n",
        "cols, rows = 5, 5\n",
        "for i in range(1, cols * rows + 1):\n",
        "    sample_idx = torch.randint(len(train_data), size=(1,)).item()\n",
        "    img, label = train_data[sample_idx]\n",
        "    figure.add_subplot(rows, cols, i)\n",
        "    plt.title(label)\n",
        "    plt.axis(\"off\")\n",
        "    plt.imshow(img.squeeze(), cmap=\"gray\")\n",
        "plt.show()"
      ],
      "metadata": {
        "colab": {
          "base_uri": "https://localhost:8080/",
          "height": 675
        },
        "id": "fGOxO7oG3lHW",
        "outputId": "6b75e896-b62a-4d7d-ff5d-a16b2a264bb2"
      },
      "execution_count": 149,
      "outputs": [
        {
          "output_type": "display_data",
          "data": {
            "text/plain": [
              "<Figure size 1000x800 with 25 Axes>"
            ],
            "image/png": "[encoded data removed]"
          },
          "metadata": {}
        }
      ]
    },
    {
      "cell_type": "markdown",
      "source": [
        "## Preparing data for training with DataLoaders\n",
        "* we typically want to pass samples in “minibatches”, reshuffle the\n",
        "data at every epoch to reduce model overfitting, and use Python’s multiprocessing to speed up data retrieval.\n",
        "\n",
        "* DataLoader is an iterable."
      ],
      "metadata": {
        "id": "n2IeTWlk5b7T"
      }
    },
    {
      "cell_type": "code",
      "source": [
        "from torch.utils.data import DataLoader\n",
        "loaders = {\n",
        "    'train' : torch.utils.data.DataLoader(train_data,\n",
        "                                          batch_size=100,\n",
        "                                          shuffle=True,\n",
        "                                          num_workers=1),\n",
        "\n",
        "    'test'  : torch.utils.data.DataLoader(test_data,\n",
        "                                          batch_size=100,\n",
        "                                          shuffle=False,\n",
        "                                          num_workers=1),\n",
        "}\n",
        "loaders"
      ],
      "metadata": {
        "colab": {
          "base_uri": "https://localhost:8080/"
        },
        "id": "EMVCxcUC39A4",
        "outputId": "ee24c865-3ab7-4340-f0ec-7dca9d380796"
      },
      "execution_count": 150,
      "outputs": [
        {
          "output_type": "execute_result",
          "data": {
            "text/plain": [
              "{'train': <torch.utils.data.dataloader.DataLoader at 0x7f7b38b39240>,\n",
              " 'test': <torch.utils.data.dataloader.DataLoader at 0x7f7b3895d2a0>}"
            ]
          },
          "metadata": {},
          "execution_count": 150
        }
      ]
    },
    {
      "cell_type": "code",
      "source": [
        "# Check out what 's inside the training dataloader\n",
        "train_features_batch, train_labels_batch = next(iter(loaders['train']))\n",
        "train_features_batch.shape, train_labels_batch.shape"
      ],
      "metadata": {
        "colab": {
          "base_uri": "https://localhost:8080/"
        },
        "id": "2QKW9iaK5ulT",
        "outputId": "3e21161a-04f2-4310-a8b7-7e96e0a01fda"
      },
      "execution_count": 151,
      "outputs": [
        {
          "output_type": "execute_result",
          "data": {
            "text/plain": [
              "(torch.Size([100, 1, 28, 28]), torch.Size([100]))"
            ]
          },
          "metadata": {},
          "execution_count": 151
        }
      ]
    },
    {
      "cell_type": "markdown",
      "source": [
        "##Define the Convolutional Neural Network model\n",
        "\n",
        "Parameters\n",
        "\n",
        "in_channels (int) — Number of channels in the input image\n",
        "\n",
        "out_channels (int) — Number of channels produced by the convolution\n",
        "\n",
        "kernel_size (int or tuple) — Size of the convolving kernel\n",
        "\n",
        "stride (int or tuple, optional) — Stride of the convolution. Default: 1\n",
        "\n",
        "padding (int or tuple, optional) — Zero-padding added to both sides of the input. Default: 0\n",
        "\n",
        "padding_mode (string, optional) — ‘zeros’, ‘reflect’, ‘replicate’ or ‘circular’. Default: ‘zeros’\n",
        "\n",
        "dilation (int or tuple, optional) — Spacing between kernel elements. Default: 1\n",
        "\n",
        "groups (int, optional) — Number of blocked connections from input channels to output channels. Default: 1\n",
        "\n",
        "bias (bool, optional) — If True, adds a learnable bias to the output. Default: True"
      ],
      "metadata": {
        "id": "23DjChbz-vbK"
      }
    },
    {
      "cell_type": "code",
      "source": [
        "import torch.nn as nn\n",
        "class CNN(nn.Module):\n",
        "    def __init__(self):\n",
        "        super(CNN, self).__init__()\n",
        "        self.conv1 = nn.Sequential(\n",
        "            nn.Conv2d(\n",
        "                in_channels=1,\n",
        "                out_channels=16,\n",
        "                kernel_size=5,\n",
        "                stride=1,\n",
        "                padding=2,\n",
        "            ),\n",
        "            nn.ReLU(),\n",
        "            nn.MaxPool2d(kernel_size=2),\n",
        "        )\n",
        "        self.conv2 = nn.Sequential(\n",
        "            nn.Conv2d(16, 32, 5, 1, 2),\n",
        "            nn.ReLU(),\n",
        "            nn.MaxPool2d(2),\n",
        "        )\n",
        "        # fully connected layer, output 10 classes\n",
        "        self.flatten = nn.Flatten()\n",
        "\n",
        "        self.linear = nn.Linear(32 * 7 * 7, 10)\n",
        "\n",
        "        self.softmax = nn.Softmax(dim=1)\n",
        "\n",
        "    def forward(self, x):\n",
        "        x = self.conv1(x)\n",
        "        x = self.conv2(x)\n",
        "        # flatten the output of conv2 to (batch_size, 32 * 7 * 7)\n",
        "        x = self.flatten (x)\n",
        "        logits = self.linear(x)\n",
        "\n",
        "        return logits   # return x for visualization"
      ],
      "metadata": {
        "id": "3pyXGQ_j6EuH"
      },
      "execution_count": 152,
      "outputs": []
    },
    {
      "cell_type": "markdown",
      "source": [
        "* in_channels=1: because our input is a grayscale image.\n",
        "\n",
        "* Stride: is the number of pixels to pass at a time when sliding the convolutional kernel.\n",
        "\n",
        "* Padding: to preserve exactly the size of the input image, it is useful to add a zero padding on the border of the image.\n",
        "\n",
        "* kernel_size: we need to define a kernel which is a small matrix of size 5 * 5. To perform the convolution operation, we just need to slide the kernel along the image horizontally and vertically and do the dot product of the kernel and the small portion of the image.\n",
        "\n",
        "* The forward() pass defines the way we compute our output using the given layers and functions."
      ],
      "metadata": {
        "id": "fojgRHUx_EJC"
      }
    },
    {
      "cell_type": "code",
      "source": [
        "cnn = CNN().to(device)\n",
        "print(cnn)"
      ],
      "metadata": {
        "colab": {
          "base_uri": "https://localhost:8080/"
        },
        "id": "HzAnwsJa-_IV",
        "outputId": "f325cbb7-28c8-4a1a-fb9c-d9b5e187d77f"
      },
      "execution_count": 153,
      "outputs": [
        {
          "output_type": "stream",
          "name": "stdout",
          "text": [
            "CNN(\n",
            "  (conv1): Sequential(\n",
            "    (0): Conv2d(1, 16, kernel_size=(5, 5), stride=(1, 1), padding=(2, 2))\n",
            "    (1): ReLU()\n",
            "    (2): MaxPool2d(kernel_size=2, stride=2, padding=0, dilation=1, ceil_mode=False)\n",
            "  )\n",
            "  (conv2): Sequential(\n",
            "    (0): Conv2d(16, 32, kernel_size=(5, 5), stride=(1, 1), padding=(2, 2))\n",
            "    (1): ReLU()\n",
            "    (2): MaxPool2d(kernel_size=2, stride=2, padding=0, dilation=1, ceil_mode=False)\n",
            "  )\n",
            "  (flatten): Flatten(start_dim=1, end_dim=-1)\n",
            "  (linear): Linear(in_features=1568, out_features=10, bias=True)\n",
            "  (softmax): Softmax(dim=1)\n",
            ")\n"
          ]
        }
      ]
    },
    {
      "cell_type": "markdown",
      "source": [
        "##Use torchinfo to get an idea of the shape going through our model"
      ],
      "metadata": {
        "id": "MDYucqJVB-D2"
      }
    },
    {
      "cell_type": "code",
      "source": [
        "try:\n",
        "  from torchinfo import summary\n",
        "\n",
        "except:\n",
        "    !pip install torchinfo\n",
        "    from torchinfo import summary"
      ],
      "metadata": {
        "id": "VCbSkCFh_N9T"
      },
      "execution_count": 154,
      "outputs": []
    },
    {
      "cell_type": "code",
      "source": [
        "summary(cnn, input_size=[1, 1, 28, 28])\n"
      ],
      "metadata": {
        "colab": {
          "base_uri": "https://localhost:8080/"
        },
        "id": "J-BbNaGe_Ts6",
        "outputId": "4810e815-6766-4336-a6b8-e5121ba2ac25"
      },
      "execution_count": 155,
      "outputs": [
        {
          "output_type": "execute_result",
          "data": {
            "text/plain": [
              "==========================================================================================\n",
              "Layer (type:depth-idx)                   Output Shape              Param #\n",
              "==========================================================================================\n",
              "CNN                                      [1, 10]                   --\n",
              "├─Sequential: 1-1                        [1, 16, 14, 14]           --\n",
              "│    └─Conv2d: 2-1                       [1, 16, 28, 28]           416\n",
              "│    └─ReLU: 2-2                         [1, 16, 28, 28]           --\n",
              "│    └─MaxPool2d: 2-3                    [1, 16, 14, 14]           --\n",
              "├─Sequential: 1-2                        [1, 32, 7, 7]             --\n",
              "│    └─Conv2d: 2-4                       [1, 32, 14, 14]           12,832\n",
              "│    └─ReLU: 2-5                         [1, 32, 14, 14]           --\n",
              "│    └─MaxPool2d: 2-6                    [1, 32, 7, 7]             --\n",
              "├─Flatten: 1-3                           [1, 1568]                 --\n",
              "├─Linear: 1-4                            [1, 10]                   15,690\n",
              "├─Softmax: 1-5                           [1, 10]                   --\n",
              "==========================================================================================\n",
              "Total params: 28,938\n",
              "Trainable params: 28,938\n",
              "Non-trainable params: 0\n",
              "Total mult-adds (M): 2.86\n",
              "==========================================================================================\n",
              "Input size (MB): 0.00\n",
              "Forward/backward pass size (MB): 0.15\n",
              "Params size (MB): 0.12\n",
              "Estimated Total Size (MB): 0.27\n",
              "=========================================================================================="
            ]
          },
          "metadata": {},
          "execution_count": 155
        }
      ]
    },
    {
      "cell_type": "markdown",
      "source": [
        "## Define a Optimization Function\n"
      ],
      "metadata": {
        "id": "D12tTONUCFee"
      }
    },
    {
      "cell_type": "code",
      "source": [
        "from torch import optim\n",
        "optimizer = optim.Adam(cnn.parameters(), lr = 0.01)\n",
        "optimizer"
      ],
      "metadata": {
        "colab": {
          "base_uri": "https://localhost:8080/"
        },
        "id": "4N88UJYM_jsx",
        "outputId": "b087880c-afe9-47dc-d237-07eb95417d01"
      },
      "execution_count": 156,
      "outputs": [
        {
          "output_type": "execute_result",
          "data": {
            "text/plain": [
              "Adam (\n",
              "Parameter Group 0\n",
              "    amsgrad: False\n",
              "    betas: (0.9, 0.999)\n",
              "    capturable: False\n",
              "    differentiable: False\n",
              "    eps: 1e-08\n",
              "    foreach: None\n",
              "    fused: None\n",
              "    lr: 0.01\n",
              "    maximize: False\n",
              "    weight_decay: 0\n",
              ")"
            ]
          },
          "metadata": {},
          "execution_count": 156
        }
      ]
    },
    {
      "cell_type": "markdown",
      "source": [
        "## Define loss function"
      ],
      "metadata": {
        "id": "mYCHdt7CCKR1"
      }
    },
    {
      "cell_type": "code",
      "source": [
        "loss_func = nn.CrossEntropyLoss()\n",
        "loss_func"
      ],
      "metadata": {
        "colab": {
          "base_uri": "https://localhost:8080/"
        },
        "id": "kzNqsODkCIDU",
        "outputId": "f3ed7f52-e8a2-411b-ac84-ada1d9848f21"
      },
      "execution_count": 157,
      "outputs": [
        {
          "output_type": "execute_result",
          "data": {
            "text/plain": [
              "CrossEntropyLoss()"
            ]
          },
          "metadata": {},
          "execution_count": 157
        }
      ]
    },
    {
      "cell_type": "code",
      "source": [
        "from torch.autograd import Variable\n",
        "num_epochs = 10\n",
        "def train_step(num_epochs, cnn, loaders):\n",
        "\n",
        "    cnn.train()\n",
        "\n",
        "    # Train the model\n",
        "    total_step = len(loaders['train'])\n",
        "\n",
        "    for epoch in range(num_epochs):\n",
        "        for i, (images, labels) in enumerate(loaders['train']):\n",
        "\n",
        "            images, labels = images.to(device), labels.to(device)\n",
        "\n",
        "            output = cnn(images)\n",
        "            loss = loss_func(output, labels)\n",
        "\n",
        "            # clear gradients for this training step\n",
        "            optimizer.zero_grad()\n",
        "\n",
        "            # backpropagation, compute gradients\n",
        "            loss.backward()\n",
        "            # apply gradients\n",
        "            optimizer.step()\n",
        "\n",
        "\n",
        "        print (f'Epoch [{epoch + 1}/{num_epochs}]], Loss: {loss.item()}')\n",
        "\n"
      ],
      "metadata": {
        "id": "q4dcTLxDCMgV"
      },
      "execution_count": 163,
      "outputs": []
    },
    {
      "cell_type": "code",
      "source": [
        "train_step(num_epochs, cnn, loaders)"
      ],
      "metadata": {
        "colab": {
          "base_uri": "https://localhost:8080/"
        },
        "id": "d2KkCmTfEJD3",
        "outputId": "ea320a64-3150-459e-fb3f-d5421b39a986"
      },
      "execution_count": 164,
      "outputs": [
        {
          "output_type": "stream",
          "name": "stdout",
          "text": [
            "Epoch [1/10]], Loss: 0.0018762078834697604\n",
            "Epoch [2/10]], Loss: 0.09251820296049118\n",
            "Epoch [3/10]], Loss: 0.02688295766711235\n",
            "Epoch [4/10]], Loss: 0.1386152058839798\n",
            "Epoch [5/10]], Loss: 0.0879986509680748\n",
            "Epoch [6/10]], Loss: 0.11611919105052948\n",
            "Epoch [7/10]], Loss: 7.645675941603258e-05\n",
            "Epoch [8/10]], Loss: 0.013197146356105804\n",
            "Epoch [9/10]], Loss: 0.0006241874652914703\n",
            "Epoch [10/10]], Loss: 0.00043219118379056454\n"
          ]
        }
      ]
    },
    {
      "cell_type": "code",
      "source": [
        "def test_step(\n",
        "    model : torch.nn.Module,\n",
        "    data_loader: torch.utils.data.DataLoader,\n",
        "    loss_fn: torch.nn.Module,\n",
        "    device: torch.device = device):\n",
        "    ### Testing\n",
        "  test_loss, test_acc = 0, 0\n",
        "  model.to(device)\n",
        "\n",
        "  model.eval()\n",
        "\n",
        "\n",
        "\n",
        "\n",
        "  with torch.inference_mode():\n",
        "\n",
        "    for X_test, y_test in data_loader:\n",
        "      X_test, y_test = X_test.to(device), y_test.to(device)\n",
        "\n",
        "      test_pred = model(X_test)\n",
        "\n",
        "      test_loss += loss_fn(test_pred, y_test)\n",
        "\n",
        "    test_loss /= len(data_loader)\n",
        "\n",
        "    print(f\"Test loss:{test_loss:.5f}% \")"
      ],
      "metadata": {
        "id": "WBb-SbfUIMLn"
      },
      "execution_count": 173,
      "outputs": []
    },
    {
      "cell_type": "code",
      "source": [
        "test_step(\n",
        "    cnn,\n",
        "    loaders[\"test\"],\n",
        "    loss_func,\n",
        "    device)"
      ],
      "metadata": {
        "colab": {
          "base_uri": "https://localhost:8080/"
        },
        "id": "PUgnrMNjEJm1",
        "outputId": "6fc92861-62ab-4c89-828f-38f8fc670c4a"
      },
      "execution_count": 174,
      "outputs": [
        {
          "output_type": "stream",
          "name": "stdout",
          "text": [
            "Test loss:0.08619% \n"
          ]
        }
      ]
    },
    {
      "cell_type": "markdown",
      "source": [
        "## Print 10 predictions from test data\n"
      ],
      "metadata": {
        "id": "_Yzh4z4mJWHn"
      }
    },
    {
      "cell_type": "code",
      "source": [
        "sample = next(iter(loaders['test']))\n",
        "imgs, lbls = sample\n",
        "\n",
        "actual_number = lbls[:10]"
      ],
      "metadata": {
        "id": "7Iec8IaSI_nq"
      },
      "execution_count": 183,
      "outputs": []
    },
    {
      "cell_type": "code",
      "source": [
        "imgs, lbls = imgs.to(device), lbls.to(device)\n",
        "test_output = cnn(imgs[:10])\n",
        "pred_y = torch.argmax(test_output, dim=1)\n",
        "print(f'Prediction number: {pred_y}')\n",
        "print(f'Actual number: {actual_number}')"
      ],
      "metadata": {
        "colab": {
          "base_uri": "https://localhost:8080/"
        },
        "id": "40jpeJgwJYmq",
        "outputId": "3af6db2b-a33b-4722-e52f-137e57198e9b"
      },
      "execution_count": 186,
      "outputs": [
        {
          "output_type": "stream",
          "name": "stdout",
          "text": [
            "Prediction number: tensor([7, 2, 1, 0, 4, 1, 4, 9, 5, 9], device='cuda:0')\n",
            "Actual number: tensor([7, 2, 1, 0, 4, 1, 4, 9, 5, 9])\n"
          ]
        }
      ]
    },
    {
      "cell_type": "code",
      "source": [],
      "metadata": {
        "id": "bFciNAPEKg4q"
      },
      "execution_count": null,
      "outputs": []
    }
  ]
}