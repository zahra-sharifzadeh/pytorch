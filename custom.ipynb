{
 "cells": [
  {
   "cell_type": "markdown",
   "id": "aefd36ab",
   "metadata": {
    "id": "view-in-github",
    "papermill": {
     "duration": 0.014071,
     "end_time": "2023-04-04T06:44:42.186788",
     "exception": false,
     "start_time": "2023-04-04T06:44:42.172717",
     "status": "completed"
    },
    "tags": []
   },
   "source": [
    "<a href=\"https://colab.research.google.com/github/zahra-sharifzadeh/pytorch/blob/main/extras/exercises/03_pytorch_computer_vision_exercises.ipynb\" target=\"_parent\"><img src=\"https://colab.research.google.com/assets/colab-badge.svg\" alt=\"Open In Colab\"/></a>"
   ]
  },
  {
   "cell_type": "markdown",
   "id": "55bbf540",
   "metadata": {
    "id": "Vex99np2wFVt",
    "papermill": {
     "duration": 0.012632,
     "end_time": "2023-04-04T06:44:42.212459",
     "exception": false,
     "start_time": "2023-04-04T06:44:42.199827",
     "status": "completed"
    },
    "tags": []
   },
   "source": [
    "# 03. PyTorch Computer Vision Exercises\n",
    "\n",
    "The following is a collection of exercises based on computer vision fundamentals in PyTorch.\n",
    "\n",
    "They're a bunch of fun.\n",
    "\n",
    "You're going to get to write plenty of code!\n",
    "\n",
    "## Resources\n",
    "\n",
    "1. These exercises are based on [notebook 03 of the Learn PyTorch for Deep Learning course](https://www.learnpytorch.io/03_pytorch_computer_vision/). \n",
    "2. See a live [walkthrough of the solutions (errors and all) on YouTube](https://youtu.be/_PibmqpEyhA). \n",
    "  * **Note:** Going through these exercises took me just over 3 hours of solid coding, so you should expect around the same.\n",
    "3. See [other solutions on the course GitHub](https://github.com/mrdbourke/pytorch-deep-learning/tree/main/extras/solutions)."
   ]
  },
  {
   "cell_type": "code",
   "execution_count": 1,
   "id": "2ad697cd",
   "metadata": {
    "execution": {
     "iopub.execute_input": "2023-04-04T06:44:42.247910Z",
     "iopub.status.busy": "2023-04-04T06:44:42.240668Z",
     "iopub.status.idle": "2023-04-04T06:44:43.379688Z",
     "shell.execute_reply": "2023-04-04T06:44:43.378444Z"
    },
    "id": "GaeYzOTLwWh2",
    "outputId": "07722960-ad62-450a-f8e5-5af5b576669b",
    "papermill": {
     "duration": 1.157106,
     "end_time": "2023-04-04T06:44:43.382368",
     "exception": false,
     "start_time": "2023-04-04T06:44:42.225262",
     "status": "completed"
    },
    "tags": []
   },
   "outputs": [
    {
     "name": "stdout",
     "output_type": "stream",
     "text": [
      "Tue Apr  4 06:44:43 2023       \r\n",
      "+-----------------------------------------------------------------------------+\r\n",
      "| NVIDIA-SMI 470.161.03   Driver Version: 470.161.03   CUDA Version: 11.4     |\r\n",
      "|-------------------------------+----------------------+----------------------+\r\n",
      "| GPU  Name        Persistence-M| Bus-Id        Disp.A | Volatile Uncorr. ECC |\r\n",
      "| Fan  Temp  Perf  Pwr:Usage/Cap|         Memory-Usage | GPU-Util  Compute M. |\r\n",
      "|                               |                      |               MIG M. |\r\n",
      "|===============================+======================+======================|\r\n",
      "|   0  Tesla T4            Off  | 00000000:00:04.0 Off |                    0 |\r\n",
      "| N/A   34C    P8     8W /  70W |      0MiB / 15109MiB |      0%      Default |\r\n",
      "|                               |                      |                  N/A |\r\n",
      "+-------------------------------+----------------------+----------------------+\r\n",
      "|   1  Tesla T4            Off  | 00000000:00:05.0 Off |                    0 |\r\n",
      "| N/A   46C    P8    10W /  70W |      0MiB / 15109MiB |      0%      Default |\r\n",
      "|                               |                      |                  N/A |\r\n",
      "+-------------------------------+----------------------+----------------------+\r\n",
      "                                                                               \r\n",
      "+-----------------------------------------------------------------------------+\r\n",
      "| Processes:                                                                  |\r\n",
      "|  GPU   GI   CI        PID   Type   Process name                  GPU Memory |\r\n",
      "|        ID   ID                                                   Usage      |\r\n",
      "|=============================================================================|\r\n",
      "|  No running processes found                                                 |\r\n",
      "+-----------------------------------------------------------------------------+\r\n"
     ]
    }
   ],
   "source": [
    "# Check for GPU\n",
    "!nvidia-smi"
   ]
  },
  {
   "cell_type": "code",
   "execution_count": 2,
   "id": "566dc88f",
   "metadata": {
    "execution": {
     "iopub.execute_input": "2023-04-04T06:44:43.413148Z",
     "iopub.status.busy": "2023-04-04T06:44:43.411943Z",
     "iopub.status.idle": "2023-04-04T06:44:47.564492Z",
     "shell.execute_reply": "2023-04-04T06:44:47.563103Z"
    },
    "id": "DNwZLMbCzJLk",
    "outputId": "6e7bad18-9168-4b7a-ee0a-db19d302a358",
    "papermill": {
     "duration": 4.169958,
     "end_time": "2023-04-04T06:44:47.566730",
     "exception": false,
     "start_time": "2023-04-04T06:44:43.396772",
     "status": "completed"
    },
    "tags": []
   },
   "outputs": [
    {
     "name": "stdout",
     "output_type": "stream",
     "text": [
      "1.13.0\n"
     ]
    }
   ],
   "source": [
    "# Import torch\n",
    "import torch\n",
    "\n",
    "# Exercises require PyTorch > 1.10.0\n",
    "print(torch.__version__)\n",
    "\n",
    "# TODO: Setup device agnostic code\n",
    "device = \"cuda\" if torch.cuda.is_available() else \"cpu\""
   ]
  },
  {
   "cell_type": "markdown",
   "id": "52396291",
   "metadata": {
    "id": "FSFX7tc1w-en",
    "papermill": {
     "duration": 0.013457,
     "end_time": "2023-04-04T06:44:47.594519",
     "exception": false,
     "start_time": "2023-04-04T06:44:47.581062",
     "status": "completed"
    },
    "tags": []
   },
   "source": [
    "## 1. What are 3 areas in industry where computer vision is currently being used?"
   ]
  },
  {
   "cell_type": "markdown",
   "id": "11ddb299",
   "metadata": {
    "id": "VyWRkvWGbCXj",
    "papermill": {
     "duration": 0.012816,
     "end_time": "2023-04-04T06:44:47.620246",
     "exception": false,
     "start_time": "2023-04-04T06:44:47.607430",
     "status": "completed"
    },
    "tags": []
   },
   "source": [
    "1. self driving cars like tesla\n",
    "2. healthcare industry ( like diagnosing diseases)\n",
    "3. security (face recog, biometric features)"
   ]
  },
  {
   "cell_type": "markdown",
   "id": "6a96d75c",
   "metadata": {
    "id": "oBK-WI6YxDYa",
    "papermill": {
     "duration": 0.012629,
     "end_time": "2023-04-04T06:44:47.645665",
     "exception": false,
     "start_time": "2023-04-04T06:44:47.633036",
     "status": "completed"
    },
    "tags": []
   },
   "source": [
    "## 2. Search \"what is overfitting in machine learning\" and write down a sentence about what you find. "
   ]
  },
  {
   "cell_type": "markdown",
   "id": "d2c8b76c",
   "metadata": {
    "id": "d1rxD6GObCqh",
    "papermill": {
     "duration": 0.013283,
     "end_time": "2023-04-04T06:44:47.672183",
     "exception": false,
     "start_time": "2023-04-04T06:44:47.658900",
     "status": "completed"
    },
    "tags": []
   },
   "source": [
    "learning so much not useful detail like noise that prevent the model to be generalize on unseen data"
   ]
  },
  {
   "cell_type": "markdown",
   "id": "3cbf629d",
   "metadata": {
    "id": "XeYFEqw8xK26",
    "papermill": {
     "duration": 0.01286,
     "end_time": "2023-04-04T06:44:47.698495",
     "exception": false,
     "start_time": "2023-04-04T06:44:47.685635",
     "status": "completed"
    },
    "tags": []
   },
   "source": [
    "## 3. Search \"ways to prevent overfitting in machine learning\", write down 3 of the things you find and a sentence about each. \n",
    "> **Note:** there are lots of these, so don't worry too much about all of them, just pick 3 and start with those."
   ]
  },
  {
   "cell_type": "markdown",
   "id": "f23ba084",
   "metadata": {
    "id": "ocvOdWKcbEKr",
    "papermill": {
     "duration": 0.012933,
     "end_time": "2023-04-04T06:44:47.724392",
     "exception": false,
     "start_time": "2023-04-04T06:44:47.711459",
     "status": "completed"
    },
    "tags": []
   },
   "source": [
    "1. more training data and Data augmentation\n",
    "2. resampling data\n",
    "3. use regulation for model \n",
    "4. evalution dataset\n",
    "5. drop out in neural network and Ensembling\n",
    "6. Early stopping\n",
    "7. Pruning or feature selection\n",
    "8.Use a different model (like transfer learning)"
   ]
  },
  {
   "cell_type": "markdown",
   "id": "d7ba2e21",
   "metadata": {
    "id": "DKdEEFEqxM-8",
    "papermill": {
     "duration": 0.012776,
     "end_time": "2023-04-04T06:44:47.750287",
     "exception": false,
     "start_time": "2023-04-04T06:44:47.737511",
     "status": "completed"
    },
    "tags": []
   },
   "source": [
    "## 4. Spend 20-minutes reading and clicking through the [CNN Explainer website](https://poloclub.github.io/cnn-explainer/).\n",
    "\n",
    "* Upload your own example image using the \"upload\" button on the website and see what happens in each layer of a CNN as your image passes through it."
   ]
  },
  {
   "cell_type": "code",
   "execution_count": null,
   "id": "8d776dd8",
   "metadata": {
    "id": "TqZaJIRMbFtS",
    "papermill": {
     "duration": 0.012692,
     "end_time": "2023-04-04T06:44:47.776058",
     "exception": false,
     "start_time": "2023-04-04T06:44:47.763366",
     "status": "completed"
    },
    "tags": []
   },
   "outputs": [],
   "source": []
  },
  {
   "cell_type": "markdown",
   "id": "08dcf4d9",
   "metadata": {
    "id": "lvf-3pODxXYI",
    "papermill": {
     "duration": 0.012861,
     "end_time": "2023-04-04T06:44:47.802376",
     "exception": false,
     "start_time": "2023-04-04T06:44:47.789515",
     "status": "completed"
    },
    "tags": []
   },
   "source": [
    "## 5. Load the [`torchvision.datasets.MNIST()`](https://pytorch.org/vision/stable/generated/torchvision.datasets.MNIST.html#torchvision.datasets.MNIST) train and test datasets."
   ]
  },
  {
   "cell_type": "code",
   "execution_count": 3,
   "id": "0506ef79",
   "metadata": {
    "execution": {
     "iopub.execute_input": "2023-04-04T06:44:47.830316Z",
     "iopub.status.busy": "2023-04-04T06:44:47.829722Z",
     "iopub.status.idle": "2023-04-04T06:44:48.244432Z",
     "shell.execute_reply": "2023-04-04T06:44:48.243428Z"
    },
    "id": "SHjeuN81bHza",
    "papermill": {
     "duration": 0.431667,
     "end_time": "2023-04-04T06:44:48.247283",
     "exception": false,
     "start_time": "2023-04-04T06:44:47.815616",
     "status": "completed"
    },
    "tags": []
   },
   "outputs": [],
   "source": [
    "import torch\n",
    "from torch import nn\n",
    "\n",
    "import torchvision\n",
    "from torchvision import datasets\n",
    "from torchvision.transforms import ToTensor\n",
    "\n",
    "import matplotlib.pyplot as plt\n",
    "import pandas as pd\n",
    "import numpy as np\n"
   ]
  },
  {
   "cell_type": "code",
   "execution_count": 4,
   "id": "7716dd89",
   "metadata": {
    "execution": {
     "iopub.execute_input": "2023-04-04T06:44:48.276422Z",
     "iopub.status.busy": "2023-04-04T06:44:48.276072Z",
     "iopub.status.idle": "2023-04-04T06:44:49.412660Z",
     "shell.execute_reply": "2023-04-04T06:44:49.411628Z"
    },
    "id": "1x7MOjeH4cuk",
    "papermill": {
     "duration": 1.153828,
     "end_time": "2023-04-04T06:44:49.415359",
     "exception": false,
     "start_time": "2023-04-04T06:44:48.261531",
     "status": "completed"
    },
    "tags": []
   },
   "outputs": [
    {
     "name": "stdout",
     "output_type": "stream",
     "text": [
      "Downloading http://yann.lecun.com/exdb/mnist/train-images-idx3-ubyte.gz\n",
      "Downloading http://yann.lecun.com/exdb/mnist/train-images-idx3-ubyte.gz to data/MNIST/raw/train-images-idx3-ubyte.gz\n"
     ]
    },
    {
     "data": {
      "application/vnd.jupyter.widget-view+json": {
       "model_id": "51fba0dcb1ee455da06f75473e772187",
       "version_major": 2,
       "version_minor": 0
      },
      "text/plain": [
       "  0%|          | 0/9912422 [00:00<?, ?it/s]"
      ]
     },
     "metadata": {},
     "output_type": "display_data"
    },
    {
     "name": "stdout",
     "output_type": "stream",
     "text": [
      "Extracting data/MNIST/raw/train-images-idx3-ubyte.gz to data/MNIST/raw\n",
      "\n",
      "Downloading http://yann.lecun.com/exdb/mnist/train-labels-idx1-ubyte.gz\n",
      "Downloading http://yann.lecun.com/exdb/mnist/train-labels-idx1-ubyte.gz to data/MNIST/raw/train-labels-idx1-ubyte.gz\n"
     ]
    },
    {
     "data": {
      "application/vnd.jupyter.widget-view+json": {
       "model_id": "066892979df74f429c9f5a36fc194855",
       "version_major": 2,
       "version_minor": 0
      },
      "text/plain": [
       "  0%|          | 0/28881 [00:00<?, ?it/s]"
      ]
     },
     "metadata": {},
     "output_type": "display_data"
    },
    {
     "name": "stdout",
     "output_type": "stream",
     "text": [
      "Extracting data/MNIST/raw/train-labels-idx1-ubyte.gz to data/MNIST/raw\n",
      "\n",
      "Downloading http://yann.lecun.com/exdb/mnist/t10k-images-idx3-ubyte.gz\n",
      "Downloading http://yann.lecun.com/exdb/mnist/t10k-images-idx3-ubyte.gz to data/MNIST/raw/t10k-images-idx3-ubyte.gz\n"
     ]
    },
    {
     "data": {
      "application/vnd.jupyter.widget-view+json": {
       "model_id": "ab5069e7211b416c837857ac97ac2d66",
       "version_major": 2,
       "version_minor": 0
      },
      "text/plain": [
       "  0%|          | 0/1648877 [00:00<?, ?it/s]"
      ]
     },
     "metadata": {},
     "output_type": "display_data"
    },
    {
     "name": "stdout",
     "output_type": "stream",
     "text": [
      "Extracting data/MNIST/raw/t10k-images-idx3-ubyte.gz to data/MNIST/raw\n",
      "\n",
      "Downloading http://yann.lecun.com/exdb/mnist/t10k-labels-idx1-ubyte.gz\n",
      "Downloading http://yann.lecun.com/exdb/mnist/t10k-labels-idx1-ubyte.gz to data/MNIST/raw/t10k-labels-idx1-ubyte.gz\n"
     ]
    },
    {
     "data": {
      "application/vnd.jupyter.widget-view+json": {
       "model_id": "5ed33c983be9425bad0658a44afc750e",
       "version_major": 2,
       "version_minor": 0
      },
      "text/plain": [
       "  0%|          | 0/4542 [00:00<?, ?it/s]"
      ]
     },
     "metadata": {},
     "output_type": "display_data"
    },
    {
     "name": "stdout",
     "output_type": "stream",
     "text": [
      "Extracting data/MNIST/raw/t10k-labels-idx1-ubyte.gz to data/MNIST/raw\n",
      "\n"
     ]
    }
   ],
   "source": [
    "train_data = datasets.MNIST(\n",
    "    root=\"data\",\n",
    "    train=True,\n",
    "    transform=ToTensor(),\n",
    "    download=True,\n",
    "    target_transform=None\n",
    "\n",
    ")\n",
    "\n",
    "test_data = datasets.MNIST(\n",
    "    root=\"data\",\n",
    "    train=False,\n",
    "    transform=ToTensor(),\n",
    "    target_transform=None,\n",
    "    download=True\n",
    ")"
   ]
  },
  {
   "cell_type": "code",
   "execution_count": 5,
   "id": "39d4eb48",
   "metadata": {
    "execution": {
     "iopub.execute_input": "2023-04-04T06:44:49.445515Z",
     "iopub.status.busy": "2023-04-04T06:44:49.444563Z",
     "iopub.status.idle": "2023-04-04T06:44:49.450712Z",
     "shell.execute_reply": "2023-04-04T06:44:49.449468Z"
    },
    "id": "C6xQUU986D0c",
    "outputId": "93db3d1a-15f5-46f1-c34e-98ffd9f1e1dc",
    "papermill": {
     "duration": 0.023073,
     "end_time": "2023-04-04T06:44:49.452747",
     "exception": false,
     "start_time": "2023-04-04T06:44:49.429674",
     "status": "completed"
    },
    "tags": []
   },
   "outputs": [
    {
     "name": "stdout",
     "output_type": "stream",
     "text": [
      "Dataset MNIST\n",
      "    Number of datapoints: 60000\n",
      "    Root location: data\n",
      "    Split: Train\n",
      "    StandardTransform\n",
      "Transform: ToTensor()\n",
      "Dataset MNIST\n",
      "    Number of datapoints: 10000\n",
      "    Root location: data\n",
      "    Split: Test\n",
      "    StandardTransform\n",
      "Transform: ToTensor()\n"
     ]
    }
   ],
   "source": [
    "print(train_data)\n",
    "print(test_data)"
   ]
  },
  {
   "cell_type": "code",
   "execution_count": 6,
   "id": "a2253fa0",
   "metadata": {
    "execution": {
     "iopub.execute_input": "2023-04-04T06:44:49.482578Z",
     "iopub.status.busy": "2023-04-04T06:44:49.482008Z",
     "iopub.status.idle": "2023-04-04T06:44:49.489652Z",
     "shell.execute_reply": "2023-04-04T06:44:49.488626Z"
    },
    "id": "OZsmsw_V7FgO",
    "outputId": "b07515f3-2a8f-4225-a01f-caf6ac1b8196",
    "papermill": {
     "duration": 0.025028,
     "end_time": "2023-04-04T06:44:49.491770",
     "exception": false,
     "start_time": "2023-04-04T06:44:49.466742",
     "status": "completed"
    },
    "tags": []
   },
   "outputs": [
    {
     "data": {
      "text/plain": [
       "{'0 - zero': 0,\n",
       " '1 - one': 1,\n",
       " '2 - two': 2,\n",
       " '3 - three': 3,\n",
       " '4 - four': 4,\n",
       " '5 - five': 5,\n",
       " '6 - six': 6,\n",
       " '7 - seven': 7,\n",
       " '8 - eight': 8,\n",
       " '9 - nine': 9}"
      ]
     },
     "execution_count": 6,
     "metadata": {},
     "output_type": "execute_result"
    }
   ],
   "source": [
    "class_to_idx = train_data.class_to_idx\n",
    "class_to_idx"
   ]
  },
  {
   "cell_type": "code",
   "execution_count": 7,
   "id": "e7af4ca7",
   "metadata": {
    "execution": {
     "iopub.execute_input": "2023-04-04T06:44:49.521763Z",
     "iopub.status.busy": "2023-04-04T06:44:49.520876Z",
     "iopub.status.idle": "2023-04-04T06:44:49.527580Z",
     "shell.execute_reply": "2023-04-04T06:44:49.526488Z"
    },
    "id": "rZbicWxk_q98",
    "outputId": "1fe35554-aef0-49a7-add7-bc2cecc8c8a5",
    "papermill": {
     "duration": 0.023862,
     "end_time": "2023-04-04T06:44:49.529682",
     "exception": false,
     "start_time": "2023-04-04T06:44:49.505820",
     "status": "completed"
    },
    "tags": []
   },
   "outputs": [
    {
     "data": {
      "text/plain": [
       "['0 - zero',\n",
       " '1 - one',\n",
       " '2 - two',\n",
       " '3 - three',\n",
       " '4 - four',\n",
       " '5 - five',\n",
       " '6 - six',\n",
       " '7 - seven',\n",
       " '8 - eight',\n",
       " '9 - nine']"
      ]
     },
     "execution_count": 7,
     "metadata": {},
     "output_type": "execute_result"
    }
   ],
   "source": [
    "class_names = train_data.classes\n",
    "class_names"
   ]
  },
  {
   "cell_type": "code",
   "execution_count": 8,
   "id": "2bdfd495",
   "metadata": {
    "execution": {
     "iopub.execute_input": "2023-04-04T06:44:49.559523Z",
     "iopub.status.busy": "2023-04-04T06:44:49.559086Z",
     "iopub.status.idle": "2023-04-04T06:44:49.608651Z",
     "shell.execute_reply": "2023-04-04T06:44:49.607463Z"
    },
    "id": "MwT5zpGI9HQp",
    "outputId": "ff83dc6d-0afc-441f-ba51-aed3ec404d09",
    "papermill": {
     "duration": 0.06702,
     "end_time": "2023-04-04T06:44:49.610979",
     "exception": false,
     "start_time": "2023-04-04T06:44:49.543959",
     "status": "completed"
    },
    "tags": []
   },
   "outputs": [
    {
     "data": {
      "text/plain": [
       "(torch.Size([1, 28, 28]), 5)"
      ]
     },
     "execution_count": 8,
     "metadata": {},
     "output_type": "execute_result"
    }
   ],
   "source": [
    "img , label = train_data[0]\n",
    "img.shape , label"
   ]
  },
  {
   "cell_type": "code",
   "execution_count": 9,
   "id": "e0a65cbd",
   "metadata": {
    "execution": {
     "iopub.execute_input": "2023-04-04T06:44:49.641549Z",
     "iopub.status.busy": "2023-04-04T06:44:49.640563Z",
     "iopub.status.idle": "2023-04-04T06:44:49.647274Z",
     "shell.execute_reply": "2023-04-04T06:44:49.646227Z"
    },
    "id": "WPpTw_7j_DWz",
    "outputId": "33817063-0790-47af-b49e-12fd39af3a1f",
    "papermill": {
     "duration": 0.024188,
     "end_time": "2023-04-04T06:44:49.649475",
     "exception": false,
     "start_time": "2023-04-04T06:44:49.625287",
     "status": "completed"
    },
    "tags": []
   },
   "outputs": [
    {
     "data": {
      "text/plain": [
       "'5 - five'"
      ]
     },
     "execution_count": 9,
     "metadata": {},
     "output_type": "execute_result"
    }
   ],
   "source": [
    "class_names[5]"
   ]
  },
  {
   "cell_type": "markdown",
   "id": "4661964a",
   "metadata": {
    "id": "qxZW-uAbxe_F",
    "papermill": {
     "duration": 0.01462,
     "end_time": "2023-04-04T06:44:49.678888",
     "exception": false,
     "start_time": "2023-04-04T06:44:49.664268",
     "status": "completed"
    },
    "tags": []
   },
   "source": [
    "## 6. Visualize at least 5 different samples of the MNIST training dataset."
   ]
  },
  {
   "cell_type": "code",
   "execution_count": 10,
   "id": "9f8da747",
   "metadata": {
    "execution": {
     "iopub.execute_input": "2023-04-04T06:44:49.710069Z",
     "iopub.status.busy": "2023-04-04T06:44:49.709720Z",
     "iopub.status.idle": "2023-04-04T06:44:50.067091Z",
     "shell.execute_reply": "2023-04-04T06:44:50.066036Z"
    },
    "id": "QVFsYi1PbItE",
    "outputId": "99a2e3f1-c969-4d4b-e50b-45a1d29fe99d",
    "papermill": {
     "duration": 0.377233,
     "end_time": "2023-04-04T06:44:50.070950",
     "exception": false,
     "start_time": "2023-04-04T06:44:49.693717",
     "status": "completed"
    },
    "tags": []
   },
   "outputs": [
    {
     "data": {
      "image/png": "[encoded data removed]",
      "text/plain": [
       "<Figure size 640x480 with 9 Axes>"
      ]
     },
     "metadata": {},
     "output_type": "display_data"
    }
   ],
   "source": [
    "nrows , ncols = 3, 3\n",
    "for i in range(1, nrows * ncols + 1):\n",
    "  random_idx = torch.randint(0,len(train_data), size=[1]).item()\n",
    "  img , label = train_data[random_idx]\n",
    "  img_squeezed = img.squeeze()\n",
    "  plt.subplot(nrows, ncols, i)\n",
    "  plt.imshow(img_squeezed, cmap=\"gray\")\n",
    "  plt.title(class_names[label])\n",
    "  plt.axis(False)"
   ]
  },
  {
   "cell_type": "markdown",
   "id": "31759693",
   "metadata": {
    "id": "JAPDzW0wxhi3",
    "papermill": {
     "duration": 0.014716,
     "end_time": "2023-04-04T06:44:50.110839",
     "exception": false,
     "start_time": "2023-04-04T06:44:50.096123",
     "status": "completed"
    },
    "tags": []
   },
   "source": [
    "## 7. Turn the MNIST train and test datasets into dataloaders using `torch.utils.data.DataLoader`, set the `batch_size=32`."
   ]
  },
  {
   "cell_type": "code",
   "execution_count": 11,
   "id": "e1131d96",
   "metadata": {
    "execution": {
     "iopub.execute_input": "2023-04-04T06:44:50.141698Z",
     "iopub.status.busy": "2023-04-04T06:44:50.141383Z",
     "iopub.status.idle": "2023-04-04T06:44:50.149148Z",
     "shell.execute_reply": "2023-04-04T06:44:50.148143Z"
    },
    "id": "ALA6MPcFbJXQ",
    "outputId": "4438333f-08f8-4366-ecc5-3e718e027b1e",
    "papermill": {
     "duration": 0.025452,
     "end_time": "2023-04-04T06:44:50.151067",
     "exception": false,
     "start_time": "2023-04-04T06:44:50.125615",
     "status": "completed"
    },
    "tags": []
   },
   "outputs": [
    {
     "data": {
      "text/plain": [
       "(<torch.utils.data.dataloader.DataLoader at 0x77038078fd90>,\n",
       " <torch.utils.data.dataloader.DataLoader at 0x7703807d4590>)"
      ]
     },
     "execution_count": 11,
     "metadata": {},
     "output_type": "execute_result"
    }
   ],
   "source": [
    "from torch.utils.data import DataLoader\n",
    "\n",
    "BATCH_SIZE = 32\n",
    "\n",
    "train_dataloader = DataLoader(\n",
    "    dataset=train_data,\n",
    "    batch_size = BATCH_SIZE,\n",
    "    shuffle=True\n",
    ")\n",
    "\n",
    "test_dataloader = DataLoader(\n",
    "    dataset=test_data,\n",
    "    batch_size=BATCH_SIZE,\n",
    "    shuffle=False\n",
    ")\n",
    "\n",
    "train_dataloader, test_dataloader"
   ]
  },
  {
   "cell_type": "code",
   "execution_count": 12,
   "id": "a716e110",
   "metadata": {
    "execution": {
     "iopub.execute_input": "2023-04-04T06:44:50.181802Z",
     "iopub.status.busy": "2023-04-04T06:44:50.181511Z",
     "iopub.status.idle": "2023-04-04T06:44:50.186651Z",
     "shell.execute_reply": "2023-04-04T06:44:50.185645Z"
    },
    "id": "lSDvwBaLCrIg",
    "outputId": "5eb6d61f-5df7-4169-d4b3-524c97ae52fd",
    "papermill": {
     "duration": 0.024189,
     "end_time": "2023-04-04T06:44:50.189919",
     "exception": false,
     "start_time": "2023-04-04T06:44:50.165730",
     "status": "completed"
    },
    "tags": []
   },
   "outputs": [
    {
     "name": "stdout",
     "output_type": "stream",
     "text": [
      "Length of Train_dataloader is 1875 batches of 32...\n",
      "length of test_dataloader is 313 batches of 32...\n"
     ]
    }
   ],
   "source": [
    "print(f\"Length of Train_dataloader is {len(train_dataloader)} batches of {BATCH_SIZE}...\")\n",
    "print(f\"length of test_dataloader is {len(test_dataloader)} batches of {BATCH_SIZE}...\")"
   ]
  },
  {
   "cell_type": "code",
   "execution_count": 13,
   "id": "7d03418c",
   "metadata": {
    "execution": {
     "iopub.execute_input": "2023-04-04T06:44:50.221960Z",
     "iopub.status.busy": "2023-04-04T06:44:50.221125Z",
     "iopub.status.idle": "2023-04-04T06:44:50.266186Z",
     "shell.execute_reply": "2023-04-04T06:44:50.265055Z"
    },
    "id": "yqiMBNPtDbNV",
    "outputId": "cc0552d2-a7cb-42b0-fa42-00f6b0cdf27c",
    "papermill": {
     "duration": 0.063698,
     "end_time": "2023-04-04T06:44:50.268527",
     "exception": false,
     "start_time": "2023-04-04T06:44:50.204829",
     "status": "completed"
    },
    "tags": []
   },
   "outputs": [
    {
     "data": {
      "text/plain": [
       "(torch.Size([32, 1, 28, 28]), torch.Size([32]))"
      ]
     },
     "execution_count": 13,
     "metadata": {},
     "output_type": "execute_result"
    }
   ],
   "source": [
    "# Check out what 's inside the training dataloader\n",
    "train_features_batch, train_labels_batch = next(iter(train_dataloader))\n",
    "train_features_batch.shape, train_labels_batch.shape"
   ]
  },
  {
   "cell_type": "code",
   "execution_count": 14,
   "id": "90d28cea",
   "metadata": {
    "execution": {
     "iopub.execute_input": "2023-04-04T06:44:50.300663Z",
     "iopub.status.busy": "2023-04-04T06:44:50.299718Z",
     "iopub.status.idle": "2023-04-04T06:44:50.310208Z",
     "shell.execute_reply": "2023-04-04T06:44:50.309134Z"
    },
    "id": "jk7vj2y3DufV",
    "outputId": "0948d93d-8a30-4f99-f19f-932ca604f4ac",
    "papermill": {
     "duration": 0.028695,
     "end_time": "2023-04-04T06:44:50.312277",
     "exception": false,
     "start_time": "2023-04-04T06:44:50.283582",
     "status": "completed"
    },
    "tags": []
   },
   "outputs": [
    {
     "data": {
      "text/plain": [
       "(torch.Size([32, 1, 28, 28]), torch.Size([32]))"
      ]
     },
     "execution_count": 14,
     "metadata": {},
     "output_type": "execute_result"
    }
   ],
   "source": [
    "# Check out what 's inside the testing dataloader\n",
    "test_features_batch, test_labels_batch = next(iter(test_dataloader))\n",
    "test_features_batch.shape, test_labels_batch.shape"
   ]
  },
  {
   "cell_type": "markdown",
   "id": "9eaf9fb0",
   "metadata": {
    "id": "bCCVfXk5xjYS",
    "papermill": {
     "duration": 0.014907,
     "end_time": "2023-04-04T06:44:50.342200",
     "exception": false,
     "start_time": "2023-04-04T06:44:50.327293",
     "status": "completed"
    },
    "tags": []
   },
   "source": [
    "## 8. Recreate `model_2` used in notebook 03 (the same model from the [CNN Explainer website](https://poloclub.github.io/cnn-explainer/), also known as TinyVGG) capable of fitting on the MNIST dataset."
   ]
  },
  {
   "cell_type": "code",
   "execution_count": 15,
   "id": "0beada0d",
   "metadata": {
    "execution": {
     "iopub.execute_input": "2023-04-04T06:44:50.373441Z",
     "iopub.status.busy": "2023-04-04T06:44:50.373109Z",
     "iopub.status.idle": "2023-04-04T06:45:02.579434Z",
     "shell.execute_reply": "2023-04-04T06:45:02.578390Z"
    },
    "id": "5IKNF22XbKYS",
    "outputId": "fe446587-6e9f-4dc0-eb7b-71357ba3888a",
    "papermill": {
     "duration": 12.224785,
     "end_time": "2023-04-04T06:45:02.581872",
     "exception": false,
     "start_time": "2023-04-04T06:44:50.357087",
     "status": "completed"
    },
    "tags": []
   },
   "outputs": [
    {
     "data": {
      "text/plain": [
       "tensor([[-0.0716, -0.0187, -0.0357,  0.2325,  0.0189, -0.1251,  0.0582,  0.0086,\n",
       "         -0.0556,  0.0102]], device='cuda:0', grad_fn=<AddmmBackward0>)"
      ]
     },
     "execution_count": 15,
     "metadata": {},
     "output_type": "execute_result"
    }
   ],
   "source": [
    "from torch.nn.modules.pooling import MaxPool2d\n",
    "class MnistModelV2(nn.Module):\n",
    "  def __init__(self, input_shape: int, hidden_units: int, output_shape: int):\n",
    "    super().__init__()\n",
    "\n",
    "    self.conv_block_1 = nn.Sequential(#Start conv block 2\n",
    "        nn.Conv2d(in_channels=input_shape,\n",
    "                  out_channels=hidden_units,\n",
    "                  kernel_size=(3,3),\n",
    "                  stride=1,\n",
    "                  padding=1),\n",
    "\n",
    "        nn.ReLU(),\n",
    "        \n",
    "        nn.Conv2d(in_channels=hidden_units,\n",
    "                  out_channels=hidden_units,\n",
    "                  kernel_size=3,\n",
    "                  stride=1,\n",
    "                  padding=1),\n",
    "\n",
    "        nn.ReLU(),\n",
    "\n",
    "        nn.MaxPool2d(\n",
    "            kernel_size=2,\n",
    "            stride=2)\n",
    "        \n",
    "        )#End conv block 2\n",
    "    \n",
    "\n",
    "    self.conv_block_2 = nn.Sequential(#Start conv block 2\n",
    "        nn.Conv2d(in_channels=hidden_units,\n",
    "                  out_channels=hidden_units,\n",
    "                  kernel_size=3,\n",
    "                  stride=1,\n",
    "                  padding=1),\n",
    "\n",
    "        nn.ReLU(),\n",
    "\n",
    "        nn.Conv2d(in_channels=hidden_units,\n",
    "                  out_channels=hidden_units,\n",
    "                  kernel_size=3,\n",
    "                  stride=1,\n",
    "                  padding=1),\n",
    "\n",
    "        nn.ReLU(), \n",
    "\n",
    "        nn.MaxPool2d(kernel_size=2, \n",
    "                     stride=2)  \n",
    "    )#End conv block 2\n",
    "\n",
    "    self.classifier = nn.Sequential(\n",
    "        nn.Flatten(),\n",
    "        nn.Linear(in_features=hidden_units * 7 * 7, \n",
    "                  out_features=10)\n",
    "    )\n",
    "\n",
    "  def forward(self, x):\n",
    "    z = self.conv_block_1(x)\n",
    "    #print(\"conv block1 shape:\", z.shape)\n",
    "\n",
    "    z = self.conv_block_2(z)\n",
    "    #print(\"conv block2 shape:\", z.shape)\n",
    "\n",
    "    z = self.classifier(z)\n",
    "    #print(\"classifier shape:\", z.shape)\n",
    "\n",
    "    return z \n",
    "\n",
    "\n",
    "dummy_input = torch.randn(size=(1,1,28,28)).to(device)\n",
    "\n",
    "model_2 = MnistModelV2(input_shape=1,\n",
    "                       hidden_units=10,\n",
    "                       output_shape=10).to(device)\n",
    "model_2(dummy_input)\n",
    "\n"
   ]
  },
  {
   "cell_type": "markdown",
   "id": "e02bfba0",
   "metadata": {
    "id": "sf_3zUr7xlhy",
    "papermill": {
     "duration": 0.015047,
     "end_time": "2023-04-04T06:45:02.612658",
     "exception": false,
     "start_time": "2023-04-04T06:45:02.597611",
     "status": "completed"
    },
    "tags": []
   },
   "source": [
    "## 9. Train the model you built in exercise 8. for 5 epochs on CPU and GPU and see how long it takes on each."
   ]
  },
  {
   "cell_type": "code",
   "execution_count": 16,
   "id": "243ed154",
   "metadata": {
    "execution": {
     "iopub.execute_input": "2023-04-04T06:45:02.644599Z",
     "iopub.status.busy": "2023-04-04T06:45:02.644287Z",
     "iopub.status.idle": "2023-04-04T06:45:02.648818Z",
     "shell.execute_reply": "2023-04-04T06:45:02.647762Z"
    },
    "id": "3cXbbJNd82Ew",
    "papermill": {
     "duration": 0.02331,
     "end_time": "2023-04-04T06:45:02.651198",
     "exception": false,
     "start_time": "2023-04-04T06:45:02.627888",
     "status": "completed"
    },
    "tags": []
   },
   "outputs": [],
   "source": [
    "import requests\n",
    "from pathlib import Path"
   ]
  },
  {
   "cell_type": "code",
   "execution_count": 17,
   "id": "5757cfea",
   "metadata": {
    "execution": {
     "iopub.execute_input": "2023-04-04T06:45:02.682232Z",
     "iopub.status.busy": "2023-04-04T06:45:02.681934Z",
     "iopub.status.idle": "2023-04-04T06:45:02.751188Z",
     "shell.execute_reply": "2023-04-04T06:45:02.750221Z"
    },
    "id": "zWSeSqh89BiO",
    "outputId": "8ee28278-4ba8-464e-8f63-38524f9541ab",
    "papermill": {
     "duration": 0.087603,
     "end_time": "2023-04-04T06:45:02.753552",
     "exception": false,
     "start_time": "2023-04-04T06:45:02.665949",
     "status": "completed"
    },
    "tags": []
   },
   "outputs": [
    {
     "name": "stdout",
     "output_type": "stream",
     "text": [
      "Downloading helper_function.py ....\n"
     ]
    }
   ],
   "source": [
    "if Path(\"helper_functions.py\").is_file():\n",
    "  print(\"helper_function.py is already exist!! skipping download.;)\")\n",
    "\n",
    "else:\n",
    "  print(\"Downloading helper_function.py ....\")\n",
    "  request = requests.get(\"https://raw.githubusercontent.com/mrdbourke/pytorch-deep-learning/main/helper_functions.py\")\n",
    "  with open(\"helper_functions.py\", \"wb\") as f:\n",
    "    f.write(request.content)"
   ]
  },
  {
   "cell_type": "code",
   "execution_count": 18,
   "id": "de41bbe9",
   "metadata": {
    "execution": {
     "iopub.execute_input": "2023-04-04T06:45:02.784958Z",
     "iopub.status.busy": "2023-04-04T06:45:02.784650Z",
     "iopub.status.idle": "2023-04-04T06:45:02.791213Z",
     "shell.execute_reply": "2023-04-04T06:45:02.790156Z"
    },
    "id": "5wudq7N0-J_n",
    "papermill": {
     "duration": 0.024459,
     "end_time": "2023-04-04T06:45:02.793296",
     "exception": false,
     "start_time": "2023-04-04T06:45:02.768837",
     "status": "completed"
    },
    "tags": []
   },
   "outputs": [],
   "source": [
    "from helper_functions import accuracy_fn"
   ]
  },
  {
   "cell_type": "code",
   "execution_count": 19,
   "id": "27ef2c20",
   "metadata": {
    "execution": {
     "iopub.execute_input": "2023-04-04T06:45:02.825721Z",
     "iopub.status.busy": "2023-04-04T06:45:02.824863Z",
     "iopub.status.idle": "2023-04-04T06:45:02.829962Z",
     "shell.execute_reply": "2023-04-04T06:45:02.828973Z"
    },
    "id": "D5O6rO-zOw8y",
    "papermill": {
     "duration": 0.023959,
     "end_time": "2023-04-04T06:45:02.832015",
     "exception": false,
     "start_time": "2023-04-04T06:45:02.808056",
     "status": "completed"
    },
    "tags": []
   },
   "outputs": [],
   "source": [
    "from timeit import default_timer as timer\n"
   ]
  },
  {
   "cell_type": "code",
   "execution_count": 20,
   "id": "2f18f1ce",
   "metadata": {
    "execution": {
     "iopub.execute_input": "2023-04-04T06:45:02.863521Z",
     "iopub.status.busy": "2023-04-04T06:45:02.862738Z",
     "iopub.status.idle": "2023-04-04T06:45:02.870921Z",
     "shell.execute_reply": "2023-04-04T06:45:02.870049Z"
    },
    "id": "HWM6GJlQOz8M",
    "papermill": {
     "duration": 0.026131,
     "end_time": "2023-04-04T06:45:02.872994",
     "exception": false,
     "start_time": "2023-04-04T06:45:02.846863",
     "status": "completed"
    },
    "tags": []
   },
   "outputs": [],
   "source": [
    "def train_step(model : torch.nn.Module,\n",
    "    data_loader: torch.utils.data.DataLoader,\n",
    "    loss_fn: torch.nn.Module,\n",
    "    optimizer: torch.optim,\n",
    "    accuracy_fn,\n",
    "    device: torch.device = device):\n",
    "  \n",
    "  model.to(device)\n",
    "  model.train()\n",
    "\n",
    "  train_loss = 0 \n",
    "  train_acc = 0\n",
    "\n",
    "  for  batche, (X, y) in enumerate(data_loader):\n",
    "    X, y = X.to(device), y.to(device)\n",
    "\n",
    "  # 1. Forward_pass\n",
    "    y_logit = model(X)\n",
    "    y_pred = torch.softmax(y_logit, dim=0).argmax(dim=1)\n",
    "\n",
    "  # 2. caculate loss and accuracy\n",
    "    loss = loss_fn(y_logit, y)\n",
    "    train_loss += loss\n",
    "\n",
    "\n",
    "    acc = accuracy_fn(y, y_pred)\n",
    "    train_acc += acc\n",
    "\n",
    "  # 3. optimizer zero grad\n",
    "    optimizer.zero_grad()\n",
    "\n",
    "  # 4. backpropagation\n",
    "    loss.backward()\n",
    "\n",
    "  #5. optimizer step\n",
    "    optimizer.step()\n",
    "\n",
    "  train_loss /= len(data_loader)\n",
    "  train_acc /= len(data_loader) \n",
    "\n",
    "  # print what 's happened\n",
    "\n",
    "  print(f\"Train loss: {train_loss:.5f} | Train ACC: {train_acc:.2f}%\\n\")\n",
    "\n"
   ]
  },
  {
   "cell_type": "code",
   "execution_count": 21,
   "id": "b0c9d2bb",
   "metadata": {
    "execution": {
     "iopub.execute_input": "2023-04-04T06:45:02.904279Z",
     "iopub.status.busy": "2023-04-04T06:45:02.903989Z",
     "iopub.status.idle": "2023-04-04T06:45:02.910756Z",
     "shell.execute_reply": "2023-04-04T06:45:02.909691Z"
    },
    "id": "tbMqie8uEGEy",
    "papermill": {
     "duration": 0.024896,
     "end_time": "2023-04-04T06:45:02.912792",
     "exception": false,
     "start_time": "2023-04-04T06:45:02.887896",
     "status": "completed"
    },
    "tags": []
   },
   "outputs": [],
   "source": [
    "def test_step(model: nn.Module,\n",
    "              data_loader: torch.utils.data.DataLoader,\n",
    "              loss_fn: nn.Module,\n",
    "              accuracy_fn,\n",
    "              device: torch.device = device):\n",
    "  \n",
    "  model.to(device)\n",
    "  model.eval()\n",
    "  test_loss = 0\n",
    "  test_acc = 0\n",
    "\n",
    "  \n",
    "  with torch.inference_mode():\n",
    "    for X, y in data_loader:\n",
    "\n",
    "      X, y = X.to(device), y.to(device)\n",
    "\n",
    "      y_logit = model(X)\n",
    "      y_pred = torch.softmax(y_logit, dim=0).argmax(dim=1)\n",
    "\n",
    "      loss = loss_fn(y_logit, y)\n",
    "      test_loss += loss\n",
    "\n",
    "      acc = accuracy_fn(y_true=y, y_pred=y_pred)\n",
    "      test_acc += acc\n",
    "\n",
    "    test_loss /= len(data_loader)\n",
    "    test_acc /= len(data_loader)\n",
    "\n",
    "    print(f\"Test loss: {test_loss:.5f} | Test ACC: {test_acc:.2f}%\\n\")  \n",
    "\n",
    "  \n",
    "\n",
    "\n"
   ]
  },
  {
   "cell_type": "code",
   "execution_count": 22,
   "id": "9640f6ed",
   "metadata": {
    "execution": {
     "iopub.execute_input": "2023-04-04T06:45:02.944812Z",
     "iopub.status.busy": "2023-04-04T06:45:02.944023Z",
     "iopub.status.idle": "2023-04-04T06:45:02.948510Z",
     "shell.execute_reply": "2023-04-04T06:45:02.947586Z"
    },
    "id": "6z88xJIpH72P",
    "papermill": {
     "duration": 0.022728,
     "end_time": "2023-04-04T06:45:02.950602",
     "exception": false,
     "start_time": "2023-04-04T06:45:02.927874",
     "status": "completed"
    },
    "tags": []
   },
   "outputs": [],
   "source": [
    "#########################################################################################################"
   ]
  },
  {
   "cell_type": "code",
   "execution_count": 23,
   "id": "7cbe332f",
   "metadata": {
    "execution": {
     "iopub.execute_input": "2023-04-04T06:45:02.982746Z",
     "iopub.status.busy": "2023-04-04T06:45:02.981726Z",
     "iopub.status.idle": "2023-04-04T06:46:02.797326Z",
     "shell.execute_reply": "2023-04-04T06:46:02.796236Z"
    },
    "id": "00JJVA_oGaJH",
    "outputId": "3ea29ecf-6de5-4b52-fb52-6a8569ec866f",
    "papermill": {
     "duration": 59.835247,
     "end_time": "2023-04-04T06:46:02.800999",
     "exception": false,
     "start_time": "2023-04-04T06:45:02.965752",
     "status": "completed"
    },
    "tags": []
   },
   "outputs": [
    {
     "data": {
      "application/vnd.jupyter.widget-view+json": {
       "model_id": "d307cbaaa3bc47538674d370095e9977",
       "version_major": 2,
       "version_minor": 0
      },
      "text/plain": [
       "  0%|          | 0/5 [00:00<?, ?it/s]"
      ]
     },
     "metadata": {},
     "output_type": "display_data"
    },
    {
     "name": "stdout",
     "output_type": "stream",
     "text": [
      "Epoch:0......\n",
      "Train loss: 0.26544 | Train ACC: 81.67%\n",
      "\n",
      "Test loss: 0.07265 | Test ACC: 90.94%\n",
      "\n",
      "Epoch:1......\n",
      "Train loss: 0.06906 | Train ACC: 87.97%\n",
      "\n",
      "Test loss: 0.04157 | Test ACC: 92.35%\n",
      "\n",
      "Epoch:2......\n",
      "Train loss: 0.05391 | Train ACC: 89.05%\n",
      "\n",
      "Test loss: 0.04209 | Test ACC: 93.20%\n",
      "\n",
      "Epoch:3......\n",
      "Train loss: 0.04436 | Train ACC: 89.61%\n",
      "\n",
      "Test loss: 0.04585 | Test ACC: 92.56%\n",
      "\n",
      "Epoch:4......\n",
      "Train loss: 0.03918 | Train ACC: 89.81%\n",
      "\n",
      "Test loss: 0.03367 | Test ACC: 93.23%\n",
      "\n",
      "cpu time for training model is 59.804478261000014.\n"
     ]
    }
   ],
   "source": [
    "#CPU\n",
    "\n",
    "#set up epoch\n",
    "from tqdm.auto import tqdm\n",
    "\n",
    "\n",
    "torch.manual_seed(42)\n",
    "\n",
    "model_cpu = MnistModelV2(input_shape=1,\n",
    "                         hidden_units=10,\n",
    "                         output_shape=10)\n",
    "\n",
    "start_time_cpu = timer()\n",
    "\n",
    "loss_fn = nn.CrossEntropyLoss()\n",
    "optimizer = torch.optim.SGD(model_cpu.parameters(), lr=0.1)\n",
    "\n",
    "epochs = 5\n",
    "\n",
    "for epoch in tqdm(range(epochs)):\n",
    "  print(f\"Epoch:{epoch}......\")\n",
    "\n",
    "  train_step(model_cpu,\n",
    "               data_loader=train_dataloader,\n",
    "               loss_fn = loss_fn,\n",
    "               optimizer=optimizer,\n",
    "               accuracy_fn=accuracy_fn,\n",
    "               device= device)\n",
    "  test_step(model_cpu,\n",
    "               data_loader=test_dataloader,\n",
    "               loss_fn = loss_fn,\n",
    "               accuracy_fn=accuracy_fn,\n",
    "               device= device)\n",
    "  \n",
    "\n",
    "end_time_cpu = timer()\n",
    "\n",
    "total_cpu_time = end_time_cpu - start_time_cpu\n",
    "\n",
    "print(f\"cpu time for training model is {total_cpu_time}.\")"
   ]
  },
  {
   "cell_type": "code",
   "execution_count": 24,
   "id": "b22f043b",
   "metadata": {
    "execution": {
     "iopub.execute_input": "2023-04-04T06:46:02.835198Z",
     "iopub.status.busy": "2023-04-04T06:46:02.834343Z",
     "iopub.status.idle": "2023-04-04T06:46:02.841271Z",
     "shell.execute_reply": "2023-04-04T06:46:02.840204Z"
    },
    "id": "mh67M3IWPb0E",
    "outputId": "4fd9b9d2-e7d1-4eac-e6e2-1bb2f3f9b2ae",
    "papermill": {
     "duration": 0.02647,
     "end_time": "2023-04-04T06:46:02.843548",
     "exception": false,
     "start_time": "2023-04-04T06:46:02.817078",
     "status": "completed"
    },
    "tags": []
   },
   "outputs": [
    {
     "data": {
      "text/plain": [
       "297.705991195"
      ]
     },
     "execution_count": 24,
     "metadata": {},
     "output_type": "execute_result"
    }
   ],
   "source": [
    "cpu_train_time = 297.705991195\n",
    "cpu_train_time"
   ]
  },
  {
   "cell_type": "code",
   "execution_count": 25,
   "id": "3e1d7d00",
   "metadata": {
    "execution": {
     "iopub.execute_input": "2023-04-04T06:46:02.877141Z",
     "iopub.status.busy": "2023-04-04T06:46:02.876050Z",
     "iopub.status.idle": "2023-04-04T06:47:00.999228Z",
     "shell.execute_reply": "2023-04-04T06:47:00.998064Z"
    },
    "id": "jSo6vVWFbNLD",
    "outputId": "6c18e207-4d30-4488-ac9d-3018219f8e22",
    "papermill": {
     "duration": 58.143147,
     "end_time": "2023-04-04T06:47:01.002486",
     "exception": false,
     "start_time": "2023-04-04T06:46:02.859339",
     "status": "completed"
    },
    "tags": []
   },
   "outputs": [
    {
     "data": {
      "application/vnd.jupyter.widget-view+json": {
       "model_id": "78fb90eb476a4e40ac1dc672d417104d",
       "version_major": 2,
       "version_minor": 0
      },
      "text/plain": [
       "  0%|          | 0/5 [00:00<?, ?it/s]"
      ]
     },
     "metadata": {},
     "output_type": "display_data"
    },
    {
     "name": "stdout",
     "output_type": "stream",
     "text": [
      "Epoch:0......\n",
      "Train loss: 0.26559 | Train ACC: 81.87%\n",
      "\n",
      "Test loss: 0.06893 | Test ACC: 90.62%\n",
      "\n",
      "Epoch:1......\n",
      "Train loss: 0.06644 | Train ACC: 87.67%\n",
      "\n",
      "Test loss: 0.04080 | Test ACC: 92.59%\n",
      "\n",
      "Epoch:2......\n",
      "Train loss: 0.05224 | Train ACC: 88.80%\n",
      "\n",
      "Test loss: 0.04412 | Test ACC: 92.86%\n",
      "\n",
      "Epoch:3......\n",
      "Train loss: 0.04346 | Train ACC: 89.12%\n",
      "\n",
      "Test loss: 0.03630 | Test ACC: 92.45%\n",
      "\n",
      "Epoch:4......\n",
      "Train loss: 0.03907 | Train ACC: 89.68%\n",
      "\n",
      "Test loss: 0.03403 | Test ACC: 93.31%\n",
      "\n",
      "gpu time for training model is 58.110829182999964.\n"
     ]
    }
   ],
   "source": [
    "# GPU\n",
    "#set up epoch\n",
    "from tqdm.auto import tqdm\n",
    "\n",
    "\n",
    "torch.manual_seed(42)\n",
    "\n",
    "model_gpu = MnistModelV2(input_shape=1,\n",
    "                         hidden_units=10,\n",
    "                         output_shape=10)\n",
    "\n",
    "start_time_gpu = timer()\n",
    "\n",
    "loss_fn = nn.CrossEntropyLoss()\n",
    "optimizer = torch.optim.SGD(model_gpu.parameters(), lr=0.1)\n",
    "\n",
    "epochs = 5\n",
    "\n",
    "for epoch in tqdm(range(epochs)):\n",
    "  print(f\"Epoch:{epoch}......\")\n",
    "\n",
    "  train_step(model_gpu,\n",
    "               data_loader=train_dataloader,\n",
    "               loss_fn = loss_fn,\n",
    "               optimizer=optimizer,\n",
    "               accuracy_fn=accuracy_fn,\n",
    "               device= device)\n",
    "  test_step(model_gpu,\n",
    "               data_loader=test_dataloader,\n",
    "               loss_fn = loss_fn,\n",
    "               accuracy_fn=accuracy_fn,\n",
    "               device= device)\n",
    "  \n",
    "\n",
    "end_time_gpu = timer()\n",
    "\n",
    "total_gpu_time = end_time_gpu - start_time_gpu\n",
    "\n",
    "print(f\"gpu time for training model is {total_gpu_time}.\")"
   ]
  },
  {
   "cell_type": "code",
   "execution_count": 26,
   "id": "cfd539a3",
   "metadata": {
    "execution": {
     "iopub.execute_input": "2023-04-04T06:47:01.055401Z",
     "iopub.status.busy": "2023-04-04T06:47:01.055001Z",
     "iopub.status.idle": "2023-04-04T06:47:01.064682Z",
     "shell.execute_reply": "2023-04-04T06:47:01.063680Z"
    },
    "id": "YMdRtobYROmA",
    "outputId": "1a9ca4a3-b101-4c04-ba63-79e8cf27debf",
    "papermill": {
     "duration": 0.038574,
     "end_time": "2023-04-04T06:47:01.067550",
     "exception": false,
     "start_time": "2023-04-04T06:47:01.028976",
     "status": "completed"
    },
    "tags": []
   },
   "outputs": [
    {
     "data": {
      "text/plain": [
       "74.266285593"
      ]
     },
     "execution_count": 26,
     "metadata": {},
     "output_type": "execute_result"
    }
   ],
   "source": [
    "gpu_train_time = 74.2662855930000\n",
    "gpu_train_time"
   ]
  },
  {
   "cell_type": "markdown",
   "id": "4731a46b",
   "metadata": {
    "id": "w1CsHhPpxp1w",
    "papermill": {
     "duration": 0.023602,
     "end_time": "2023-04-04T06:47:01.115853",
     "exception": false,
     "start_time": "2023-04-04T06:47:01.092251",
     "status": "completed"
    },
    "tags": []
   },
   "source": [
    "## 10. Make predictions using your trained model and visualize at least 5 of them comparing the prediciton to the target label."
   ]
  },
  {
   "cell_type": "code",
   "execution_count": 27,
   "id": "f88843dd",
   "metadata": {
    "execution": {
     "iopub.execute_input": "2023-04-04T06:47:01.160822Z",
     "iopub.status.busy": "2023-04-04T06:47:01.160456Z",
     "iopub.status.idle": "2023-04-04T06:47:01.173405Z",
     "shell.execute_reply": "2023-04-04T06:47:01.167518Z"
    },
    "id": "_YGgZvSobNxu",
    "papermill": {
     "duration": 0.03877,
     "end_time": "2023-04-04T06:47:01.178820",
     "exception": false,
     "start_time": "2023-04-04T06:47:01.140050",
     "status": "completed"
    },
    "tags": []
   },
   "outputs": [],
   "source": [
    "def make_predictions(\n",
    "    model: nn.Module,\n",
    "    data: list,\n",
    "    device: torch.device =device):\n",
    "  \n",
    "  pred_probs = []\n",
    "  model.to(device)\n",
    "  model.eval()\n",
    "\n",
    "  with torch.inference_mode():\n",
    "    for sample in data:\n",
    "      sample = torch.unsqueeze(sample,dim=0).to(device)\n",
    "\n",
    "      y_logit = model(sample)\n",
    "      y_prob = torch.softmax(y_logit.squeeze(), dim=0)\n",
    "\n",
    "\n",
    "      pred_probs.append(y_prob.cpu())\n",
    "\n",
    "  \n",
    "  return torch.stack(pred_probs)\n"
   ]
  },
  {
   "cell_type": "code",
   "execution_count": 28,
   "id": "e537a61e",
   "metadata": {
    "execution": {
     "iopub.execute_input": "2023-04-04T06:47:01.238861Z",
     "iopub.status.busy": "2023-04-04T06:47:01.238333Z",
     "iopub.status.idle": "2023-04-04T06:47:01.253055Z",
     "shell.execute_reply": "2023-04-04T06:47:01.252214Z"
    },
    "id": "MOAjeppzYIhK",
    "outputId": "25149269-5a2c-4af6-b6e0-223f0542af20",
    "papermill": {
     "duration": 0.044699,
     "end_time": "2023-04-04T06:47:01.256652",
     "exception": false,
     "start_time": "2023-04-04T06:47:01.211953",
     "status": "completed"
    },
    "tags": []
   },
   "outputs": [
    {
     "data": {
      "text/plain": [
       "Dataset MNIST\n",
       "    Number of datapoints: 10000\n",
       "    Root location: data\n",
       "    Split: Test\n",
       "    StandardTransform\n",
       "Transform: ToTensor()"
      ]
     },
     "execution_count": 28,
     "metadata": {},
     "output_type": "execute_result"
    }
   ],
   "source": [
    "test_data"
   ]
  },
  {
   "cell_type": "code",
   "execution_count": 29,
   "id": "493a6a74",
   "metadata": {
    "execution": {
     "iopub.execute_input": "2023-04-04T06:47:01.309538Z",
     "iopub.status.busy": "2023-04-04T06:47:01.308991Z",
     "iopub.status.idle": "2023-04-04T06:47:02.357325Z",
     "shell.execute_reply": "2023-04-04T06:47:02.356136Z"
    },
    "id": "-sK44ZJaXW78",
    "outputId": "16b25afc-2169-490c-8b5c-1d7a6fcee93a",
    "papermill": {
     "duration": 1.077412,
     "end_time": "2023-04-04T06:47:02.359445",
     "exception": false,
     "start_time": "2023-04-04T06:47:01.282033",
     "status": "completed"
    },
    "tags": []
   },
   "outputs": [
    {
     "data": {
      "text/plain": [
       "(torch.Size([1, 28, 28]), 8)"
      ]
     },
     "execution_count": 29,
     "metadata": {},
     "output_type": "execute_result"
    }
   ],
   "source": [
    "import random\n",
    "\n",
    "test_samples = []\n",
    "test_labels = []\n",
    "\n",
    "for sample , label in random.sample(list(test_data), k=9):\n",
    "  test_samples.append(sample)\n",
    "  test_labels.append(label)\n",
    "\n",
    "test_samples[0].shape , test_labels[0]\n"
   ]
  },
  {
   "cell_type": "code",
   "execution_count": 30,
   "id": "2d8bc01b",
   "metadata": {
    "execution": {
     "iopub.execute_input": "2023-04-04T06:47:02.394717Z",
     "iopub.status.busy": "2023-04-04T06:47:02.394406Z",
     "iopub.status.idle": "2023-04-04T06:47:02.413622Z",
     "shell.execute_reply": "2023-04-04T06:47:02.412508Z"
    },
    "id": "NHKXA1ATPXED",
    "outputId": "afb4c49b-9cbf-4d96-c49a-c49ba733de3c",
    "papermill": {
     "duration": 0.03929,
     "end_time": "2023-04-04T06:47:02.415841",
     "exception": false,
     "start_time": "2023-04-04T06:47:02.376551",
     "status": "completed"
    },
    "tags": []
   },
   "outputs": [
    {
     "data": {
      "text/plain": [
       "tensor([8, 1, 3, 1, 0, 9, 3, 1, 4])"
      ]
     },
     "execution_count": 30,
     "metadata": {},
     "output_type": "execute_result"
    }
   ],
   "source": [
    "y_prob = make_predictions(model=model_cpu,\n",
    "                          data = test_samples,\n",
    "                          device=device)\n",
    "y_pred = y_prob.argmax(dim=1)\n",
    "y_pred\n"
   ]
  },
  {
   "cell_type": "code",
   "execution_count": 31,
   "id": "18d7f398",
   "metadata": {
    "execution": {
     "iopub.execute_input": "2023-04-04T06:47:02.451211Z",
     "iopub.status.busy": "2023-04-04T06:47:02.450878Z",
     "iopub.status.idle": "2023-04-04T06:47:02.809848Z",
     "shell.execute_reply": "2023-04-04T06:47:02.808443Z"
    },
    "id": "4yoVa1p3THhe",
    "outputId": "62ee4e05-a6e2-4726-ccca-dad8c423ebab",
    "papermill": {
     "duration": 0.379981,
     "end_time": "2023-04-04T06:47:02.812728",
     "exception": false,
     "start_time": "2023-04-04T06:47:02.432747",
     "status": "completed"
    },
    "tags": []
   },
   "outputs": [
    {
     "data": {
      "image/png": "[encoded data removed]",
      "text/plain": [
       "<Figure size 1000x700 with 9 Axes>"
      ]
     },
     "metadata": {},
     "output_type": "display_data"
    }
   ],
   "source": [
    "nrows, ncols = 3,3\n",
    "plt.figure(figsize=(10,7))\n",
    "for i in range(0, nrows * ncols):\n",
    "\n",
    "  plt.subplot(nrows, ncols, i+1)\n",
    "  plt.imshow(test_samples[i].squeeze(), cmap=\"gray\")\n",
    "  plt.axis(False)\n",
    "\n",
    "  if test_labels[i] == y_pred[i].item():\n",
    "    plt.title(class_names[test_labels[i]], fontsize=10, color=\"green\")\n",
    "\n",
    "  else: \n",
    "    s = f\"Truth label:{class_names[test_labels[i]]}| pred label:{class_names[y_pred[i]]}\"\n",
    "    plt.title(s, fontsize=10, color=\"red\")\n",
    "\n"
   ]
  },
  {
   "cell_type": "markdown",
   "id": "e1dd791b",
   "metadata": {
    "id": "qQwzqlBWxrpG",
    "papermill": {
     "duration": 0.017386,
     "end_time": "2023-04-04T06:47:02.848849",
     "exception": false,
     "start_time": "2023-04-04T06:47:02.831463",
     "status": "completed"
    },
    "tags": []
   },
   "source": [
    "## 11. Plot a confusion matrix comparing your model's predictions to the truth labels."
   ]
  },
  {
   "cell_type": "code",
   "execution_count": 32,
   "id": "7d85af64",
   "metadata": {
    "execution": {
     "iopub.execute_input": "2023-04-04T06:47:02.884631Z",
     "iopub.status.busy": "2023-04-04T06:47:02.884277Z",
     "iopub.status.idle": "2023-04-04T06:47:02.890784Z",
     "shell.execute_reply": "2023-04-04T06:47:02.889662Z"
    },
    "id": "yOAv1y9hhHB1",
    "outputId": "fc7fd91c-1625-4ed6-d93c-c7f35c9cc7be",
    "papermill": {
     "duration": 0.027541,
     "end_time": "2023-04-04T06:47:02.893687",
     "exception": false,
     "start_time": "2023-04-04T06:47:02.866146",
     "status": "completed"
    },
    "tags": []
   },
   "outputs": [
    {
     "data": {
      "text/plain": [
       "Dataset MNIST\n",
       "    Number of datapoints: 10000\n",
       "    Root location: data\n",
       "    Split: Test\n",
       "    StandardTransform\n",
       "Transform: ToTensor()"
      ]
     },
     "execution_count": 32,
     "metadata": {},
     "output_type": "execute_result"
    }
   ],
   "source": [
    "test_data"
   ]
  },
  {
   "cell_type": "code",
   "execution_count": 33,
   "id": "7090eaa3",
   "metadata": {
    "execution": {
     "iopub.execute_input": "2023-04-04T06:47:02.928976Z",
     "iopub.status.busy": "2023-04-04T06:47:02.928714Z",
     "iopub.status.idle": "2023-04-04T06:47:04.095935Z",
     "shell.execute_reply": "2023-04-04T06:47:04.094697Z"
    },
    "id": "RNmLXn8-avGU",
    "outputId": "44652814-28c1-41c1-a014-542435591920",
    "papermill": {
     "duration": 1.18751,
     "end_time": "2023-04-04T06:47:04.098364",
     "exception": false,
     "start_time": "2023-04-04T06:47:02.910854",
     "status": "completed"
    },
    "tags": []
   },
   "outputs": [
    {
     "data": {
      "application/vnd.jupyter.widget-view+json": {
       "model_id": "b9215409718a43ff9b0c66dca21ebd13",
       "version_major": 2,
       "version_minor": 0
      },
      "text/plain": [
       "0it [00:00, ?it/s]"
      ]
     },
     "metadata": {},
     "output_type": "display_data"
    }
   ],
   "source": [
    "from tqdm.auto import tqdm\n",
    "y_true = []\n",
    "y_preds = []\n",
    "model_cpu.eval()\n",
    "with torch.inference_mode():\n",
    "  for batch , (X, y) in tqdm(enumerate(test_dataloader)):\n",
    "    # print(X.shape)\n",
    "    X, y = X.to(device), y.to(device)\n",
    "    y_logit = model_cpu(X)\n",
    "    y_true.append(y.cpu())\n",
    "    # loss = loss_fn(y_logit, y)\n",
    "    # print(loss)\n",
    "    # print(y_logit.shape)\n",
    "    y_prob =  y_logit.softmax(dim=1)\n",
    "\n",
    "    y_pred = y_prob.argmax(dim=1)\n",
    "    # print(accuracy_fn(y, y_pred))\n",
    "\n",
    "    y_preds.append(y_pred.cpu())\n",
    "\n",
    "  y_preds = torch.cat(y_preds)\n",
    "  y_true = torch.cat(y_true)\n",
    "  \n",
    "\n",
    " \n"
   ]
  },
  {
   "cell_type": "code",
   "execution_count": 34,
   "id": "5179e340",
   "metadata": {
    "execution": {
     "iopub.execute_input": "2023-04-04T06:47:04.134477Z",
     "iopub.status.busy": "2023-04-04T06:47:04.134158Z",
     "iopub.status.idle": "2023-04-04T06:47:04.141665Z",
     "shell.execute_reply": "2023-04-04T06:47:04.140621Z"
    },
    "id": "O_QcrbNpkFCX",
    "outputId": "e338d70e-a8ca-4102-963e-e246ef266bed",
    "papermill": {
     "duration": 0.027879,
     "end_time": "2023-04-04T06:47:04.143793",
     "exception": false,
     "start_time": "2023-04-04T06:47:04.115914",
     "status": "completed"
    },
    "tags": []
   },
   "outputs": [
    {
     "data": {
      "text/plain": [
       "(tensor([7, 2, 1, 0, 4, 1, 4, 9, 5, 9]),\n",
       " tensor([7, 2, 1, 0, 4, 1, 4, 9, 5, 9]))"
      ]
     },
     "execution_count": 34,
     "metadata": {},
     "output_type": "execute_result"
    }
   ],
   "source": [
    "\n",
    "y_true[:10], y_preds[:10]"
   ]
  },
  {
   "cell_type": "code",
   "execution_count": 35,
   "id": "efa54ad2",
   "metadata": {
    "execution": {
     "iopub.execute_input": "2023-04-04T06:47:04.180082Z",
     "iopub.status.busy": "2023-04-04T06:47:04.179315Z",
     "iopub.status.idle": "2023-04-04T06:47:10.347394Z",
     "shell.execute_reply": "2023-04-04T06:47:10.345615Z"
    },
    "id": "vSrXiT_AbQ6e",
    "outputId": "226930ac-5e26-4f93-95e9-490d27346b4e",
    "papermill": {
     "duration": 6.188874,
     "end_time": "2023-04-04T06:47:10.349958",
     "exception": false,
     "start_time": "2023-04-04T06:47:04.161084",
     "status": "completed"
    },
    "tags": []
   },
   "outputs": [
    {
     "name": "stdout",
     "output_type": "stream",
     "text": [
      "mixtend version: 0.21.0\n"
     ]
    }
   ],
   "source": [
    "try:\n",
    "  import torchmetrics, mlxtend\n",
    "  print(f\"mixtend version: {mlxtend.__version__}\")\n",
    "  assert int(mlxtend.__version__.split(\".\")[1]) >= 19, \"mlxtend version should be 0.19 or higher\"\n",
    "\n",
    "except:\n",
    "  !pip install torchmetrics -U mlxtend\n",
    "  import torchmetrics , mlxtend\n",
    "  print(f\"mlxtend version: {mlxtend.__version__}\")"
   ]
  },
  {
   "cell_type": "code",
   "execution_count": 36,
   "id": "541c61c9",
   "metadata": {
    "execution": {
     "iopub.execute_input": "2023-04-04T06:47:10.386616Z",
     "iopub.status.busy": "2023-04-04T06:47:10.386295Z",
     "iopub.status.idle": "2023-04-04T06:47:10.393215Z",
     "shell.execute_reply": "2023-04-04T06:47:10.392178Z"
    },
    "id": "WnACIF8eg4HW",
    "outputId": "803c159e-229c-4669-fc0d-6e2c297d1d47",
    "papermill": {
     "duration": 0.02789,
     "end_time": "2023-04-04T06:47:10.395485",
     "exception": false,
     "start_time": "2023-04-04T06:47:10.367595",
     "status": "completed"
    },
    "tags": []
   },
   "outputs": [
    {
     "data": {
      "text/plain": [
       "torch.Size([10000])"
      ]
     },
     "execution_count": 36,
     "metadata": {},
     "output_type": "execute_result"
    }
   ],
   "source": [
    "test_data.targets.shape"
   ]
  },
  {
   "cell_type": "code",
   "execution_count": 37,
   "id": "01e7d577",
   "metadata": {
    "execution": {
     "iopub.execute_input": "2023-04-04T06:47:10.431680Z",
     "iopub.status.busy": "2023-04-04T06:47:10.431410Z",
     "iopub.status.idle": "2023-04-04T06:47:12.225407Z",
     "shell.execute_reply": "2023-04-04T06:47:12.224387Z"
    },
    "id": "HO50F-SraVMr",
    "outputId": "ae1758aa-40db-4e47-9932-6b7e340d5546",
    "papermill": {
     "duration": 1.814658,
     "end_time": "2023-04-04T06:47:12.227504",
     "exception": false,
     "start_time": "2023-04-04T06:47:10.412846",
     "status": "completed"
    },
    "tags": []
   },
   "outputs": [
    {
     "data": {
      "text/plain": [
       "tensor([[ 978,    0,    0,    0,    0,    0,    0,    0,    2,    0],\n",
       "        [   0, 1127,    3,    1,    3,    0,    0,    1,    0,    0],\n",
       "        [   0,    1, 1018,    1,    2,    0,    1,    7,    2,    0],\n",
       "        [   0,    0,    1, 1002,    0,    2,    0,    2,    2,    1],\n",
       "        [   1,    1,    0,    0,  975,    0,    0,    1,    0,    4],\n",
       "        [   1,    0,    0,    7,    0,  881,    1,    1,    1,    0],\n",
       "        [   5,    2,    0,    0,    6,    4,  939,    0,    2,    0],\n",
       "        [   0,    4,    8,    1,    1,    0,    0, 1012,    0,    2],\n",
       "        [   1,    0,    1,    0,    0,    2,    0,    0,  967,    3],\n",
       "        [   2,    1,    0,    0,    6,    4,    0,    5,    2,  989]])"
      ]
     },
     "execution_count": 37,
     "metadata": {},
     "output_type": "execute_result"
    }
   ],
   "source": [
    "from torchmetrics import ConfusionMatrix\n",
    "from mlxtend.plotting import plot_confusion_matrix\n",
    "\n",
    "confmat = ConfusionMatrix(task='multiclass', num_classes=len(class_names))\n",
    "confmat_tensor = confmat(preds=y_preds, target=test_data.targets)\n",
    "\n",
    "confmat_tensor"
   ]
  },
  {
   "cell_type": "code",
   "execution_count": 38,
   "id": "998601dc",
   "metadata": {
    "execution": {
     "iopub.execute_input": "2023-04-04T06:47:12.273684Z",
     "iopub.status.busy": "2023-04-04T06:47:12.273368Z",
     "iopub.status.idle": "2023-04-04T06:47:12.882744Z",
     "shell.execute_reply": "2023-04-04T06:47:12.881715Z"
    },
    "id": "YzNr5lslbeYz",
    "outputId": "9db5b2ea-eccd-40fd-9bdb-300ef05bd7e4",
    "papermill": {
     "duration": 0.631031,
     "end_time": "2023-04-04T06:47:12.885189",
     "exception": false,
     "start_time": "2023-04-04T06:47:12.254158",
     "status": "completed"
    },
    "tags": []
   },
   "outputs": [
    {
     "data": {
      "image/png": "[encoded data removed]",
      "text/plain": [
       "<Figure size 1000x700 with 1 Axes>"
      ]
     },
     "metadata": {},
     "output_type": "display_data"
    }
   ],
   "source": [
    "fig, ax = plot_confusion_matrix(\n",
    "    conf_mat=confmat_tensor.numpy(), # matplotlib likes numpy\n",
    "    class_names=class_names,\n",
    "    figsize=(10, 7)\n",
    ")"
   ]
  },
  {
   "cell_type": "markdown",
   "id": "7fdf9b4e",
   "metadata": {
    "id": "lj6bDhoWxt2y",
    "papermill": {
     "duration": 0.018355,
     "end_time": "2023-04-04T06:47:12.921956",
     "exception": false,
     "start_time": "2023-04-04T06:47:12.903601",
     "status": "completed"
    },
    "tags": []
   },
   "source": [
    "## 12. Create a random tensor of shape `[1, 3, 64, 64]` and pass it through a `nn.Conv2d()` layer with various hyperparameter settings (these can be any settings you choose), what do you notice if the `kernel_size` parameter goes up and down?"
   ]
  },
  {
   "cell_type": "code",
   "execution_count": 39,
   "id": "c684a009",
   "metadata": {
    "execution": {
     "iopub.execute_input": "2023-04-04T06:47:12.960242Z",
     "iopub.status.busy": "2023-04-04T06:47:12.959895Z",
     "iopub.status.idle": "2023-04-04T06:47:12.967989Z",
     "shell.execute_reply": "2023-04-04T06:47:12.966827Z"
    },
    "id": "leCTsqtSbR5P",
    "outputId": "e5871f5a-fcfb-485c-ad31-856c2c6e5257",
    "papermill": {
     "duration": 0.029515,
     "end_time": "2023-04-04T06:47:12.970073",
     "exception": false,
     "start_time": "2023-04-04T06:47:12.940558",
     "status": "completed"
    },
    "tags": []
   },
   "outputs": [
    {
     "name": "stdout",
     "output_type": "stream",
     "text": [
      "torch.Size([1, 3, 64, 64])\n"
     ]
    }
   ],
   "source": [
    "dummy_input = torch.randn(size=(1, 3, 64, 64))\n",
    "print(dummy_input.shape)\n",
    "conv_model_1 = nn.Conv2d(in_channels=3,\n",
    "                       out_channels=10,\n",
    "                       kernel_size=6,\n",
    "                       stride=1,\n",
    "                       padding=1)\n",
    "conv_model_2 = nn.Conv2d(in_channels=3,\n",
    "                       out_channels=10,\n",
    "                       kernel_size=1,\n",
    "                       stride=1,\n",
    "                       padding=1)"
   ]
  },
  {
   "cell_type": "code",
   "execution_count": 40,
   "id": "6ac6103d",
   "metadata": {
    "execution": {
     "iopub.execute_input": "2023-04-04T06:47:13.008212Z",
     "iopub.status.busy": "2023-04-04T06:47:13.007328Z",
     "iopub.status.idle": "2023-04-04T06:47:13.112323Z",
     "shell.execute_reply": "2023-04-04T06:47:13.111199Z"
    },
    "id": "D40qNouCnm-B",
    "outputId": "0e0522b5-6524-4f7a-edb7-fae17754309a",
    "papermill": {
     "duration": 0.126814,
     "end_time": "2023-04-04T06:47:13.114779",
     "exception": false,
     "start_time": "2023-04-04T06:47:12.987965",
     "status": "completed"
    },
    "tags": []
   },
   "outputs": [
    {
     "data": {
      "text/plain": [
       "torch.Size([1, 10, 61, 61])"
      ]
     },
     "execution_count": 40,
     "metadata": {},
     "output_type": "execute_result"
    }
   ],
   "source": [
    "conv_model_1(dummy_input).shape"
   ]
  },
  {
   "cell_type": "code",
   "execution_count": 41,
   "id": "7efefd2c",
   "metadata": {
    "execution": {
     "iopub.execute_input": "2023-04-04T06:47:13.153688Z",
     "iopub.status.busy": "2023-04-04T06:47:13.152826Z",
     "iopub.status.idle": "2023-04-04T06:47:13.284757Z",
     "shell.execute_reply": "2023-04-04T06:47:13.283641Z"
    },
    "id": "HX0nhEsanqj1",
    "outputId": "b3c59268-5886-4651-ee2a-daeac951ffce",
    "papermill": {
     "duration": 0.153546,
     "end_time": "2023-04-04T06:47:13.287097",
     "exception": false,
     "start_time": "2023-04-04T06:47:13.133551",
     "status": "completed"
    },
    "tags": []
   },
   "outputs": [
    {
     "data": {
      "text/plain": [
       "torch.Size([1, 10, 66, 66])"
      ]
     },
     "execution_count": 41,
     "metadata": {},
     "output_type": "execute_result"
    }
   ],
   "source": [
    "conv_model_2(dummy_input).shape"
   ]
  },
  {
   "cell_type": "markdown",
   "id": "db0bf015",
   "metadata": {
    "id": "VHS20cNTxwSi",
    "papermill": {
     "duration": 0.01851,
     "end_time": "2023-04-04T06:47:13.323735",
     "exception": false,
     "start_time": "2023-04-04T06:47:13.305225",
     "status": "completed"
    },
    "tags": []
   },
   "source": [
    "## 13. Use a model similar to the trained `model_2` from notebook 03 to make predictions on the test [`torchvision.datasets.FashionMNIST`](https://pytorch.org/vision/main/generated/torchvision.datasets.FashionMNIST.html) dataset. \n",
    "* Then plot some predictions where the model was wrong alongside what the label of the image should've been. \n",
    "* After visualing these predictions do you think it's more of a modelling error or a data error? \n",
    "* As in, could the model do better or are the labels of the data too close to each other (e.g. a \"Shirt\" label is too close to \"T-shirt/top\")?"
   ]
  },
  {
   "cell_type": "code",
   "execution_count": 42,
   "id": "9da2f842",
   "metadata": {
    "execution": {
     "iopub.execute_input": "2023-04-04T06:47:13.363303Z",
     "iopub.status.busy": "2023-04-04T06:47:13.361765Z",
     "iopub.status.idle": "2023-04-04T06:47:18.721835Z",
     "shell.execute_reply": "2023-04-04T06:47:18.720246Z"
    },
    "id": "78a8LjtdbSZj",
    "outputId": "623de8b2-6eb8-43e6-ef88-e1bb1cecc262",
    "papermill": {
     "duration": 5.381633,
     "end_time": "2023-04-04T06:47:18.724249",
     "exception": false,
     "start_time": "2023-04-04T06:47:13.342616",
     "status": "completed"
    },
    "tags": []
   },
   "outputs": [
    {
     "name": "stdout",
     "output_type": "stream",
     "text": [
      "Downloading http://fashion-mnist.s3-website.eu-central-1.amazonaws.com/train-images-idx3-ubyte.gz\n",
      "Downloading http://fashion-mnist.s3-website.eu-central-1.amazonaws.com/train-images-idx3-ubyte.gz to Fashion/FashionMNIST/raw/train-images-idx3-ubyte.gz\n"
     ]
    },
    {
     "data": {
      "application/vnd.jupyter.widget-view+json": {
       "model_id": "6dc8342ecfc648f9984ffaa6696ffb12",
       "version_major": 2,
       "version_minor": 0
      },
      "text/plain": [
       "  0%|          | 0/26421880 [00:00<?, ?it/s]"
      ]
     },
     "metadata": {},
     "output_type": "display_data"
    },
    {
     "name": "stdout",
     "output_type": "stream",
     "text": [
      "Extracting Fashion/FashionMNIST/raw/train-images-idx3-ubyte.gz to Fashion/FashionMNIST/raw\n",
      "\n",
      "Downloading http://fashion-mnist.s3-website.eu-central-1.amazonaws.com/train-labels-idx1-ubyte.gz\n",
      "Downloading http://fashion-mnist.s3-website.eu-central-1.amazonaws.com/train-labels-idx1-ubyte.gz to Fashion/FashionMNIST/raw/train-labels-idx1-ubyte.gz\n"
     ]
    },
    {
     "data": {
      "application/vnd.jupyter.widget-view+json": {
       "model_id": "871e938161b8470c8b16e34b01125700",
       "version_major": 2,
       "version_minor": 0
      },
      "text/plain": [
       "  0%|          | 0/29515 [00:00<?, ?it/s]"
      ]
     },
     "metadata": {},
     "output_type": "display_data"
    },
    {
     "name": "stdout",
     "output_type": "stream",
     "text": [
      "Extracting Fashion/FashionMNIST/raw/train-labels-idx1-ubyte.gz to Fashion/FashionMNIST/raw\n",
      "\n",
      "Downloading http://fashion-mnist.s3-website.eu-central-1.amazonaws.com/t10k-images-idx3-ubyte.gz\n",
      "Downloading http://fashion-mnist.s3-website.eu-central-1.amazonaws.com/t10k-images-idx3-ubyte.gz to Fashion/FashionMNIST/raw/t10k-images-idx3-ubyte.gz\n"
     ]
    },
    {
     "data": {
      "application/vnd.jupyter.widget-view+json": {
       "model_id": "9c80a76a99d4486d966bbbdc716ded53",
       "version_major": 2,
       "version_minor": 0
      },
      "text/plain": [
       "  0%|          | 0/4422102 [00:00<?, ?it/s]"
      ]
     },
     "metadata": {},
     "output_type": "display_data"
    },
    {
     "name": "stdout",
     "output_type": "stream",
     "text": [
      "Extracting Fashion/FashionMNIST/raw/t10k-images-idx3-ubyte.gz to Fashion/FashionMNIST/raw\n",
      "\n",
      "Downloading http://fashion-mnist.s3-website.eu-central-1.amazonaws.com/t10k-labels-idx1-ubyte.gz\n",
      "Downloading http://fashion-mnist.s3-website.eu-central-1.amazonaws.com/t10k-labels-idx1-ubyte.gz to Fashion/FashionMNIST/raw/t10k-labels-idx1-ubyte.gz\n"
     ]
    },
    {
     "data": {
      "application/vnd.jupyter.widget-view+json": {
       "model_id": "bfb08a5f942e4105929738091d772efb",
       "version_major": 2,
       "version_minor": 0
      },
      "text/plain": [
       "  0%|          | 0/5148 [00:00<?, ?it/s]"
      ]
     },
     "metadata": {},
     "output_type": "display_data"
    },
    {
     "name": "stdout",
     "output_type": "stream",
     "text": [
      "Extracting Fashion/FashionMNIST/raw/t10k-labels-idx1-ubyte.gz to Fashion/FashionMNIST/raw\n",
      "\n"
     ]
    }
   ],
   "source": [
    "trian_data_FashionMNIST = datasets.FashionMNIST(\n",
    "    root=\"Fashion\",\n",
    "    download=True,\n",
    "    transform=ToTensor(),\n",
    "    target_transform=None,\n",
    "    train = True\n",
    ")\n",
    "\n",
    "test_data_FashionMNIST = datasets.FashionMNIST(\n",
    "    root=\"Fashion\",\n",
    "    download=True,\n",
    "    transform=ToTensor(),\n",
    "    target_transform=None,\n",
    "    train = False\n",
    ")"
   ]
  },
  {
   "cell_type": "code",
   "execution_count": 43,
   "id": "5846abb7",
   "metadata": {
    "execution": {
     "iopub.execute_input": "2023-04-04T06:47:18.765655Z",
     "iopub.status.busy": "2023-04-04T06:47:18.764699Z",
     "iopub.status.idle": "2023-04-04T06:47:18.771269Z",
     "shell.execute_reply": "2023-04-04T06:47:18.770316Z"
    },
    "id": "VPJEMG_uoyRi",
    "papermill": {
     "duration": 0.029511,
     "end_time": "2023-04-04T06:47:18.773408",
     "exception": false,
     "start_time": "2023-04-04T06:47:18.743897",
     "status": "completed"
    },
    "tags": []
   },
   "outputs": [],
   "source": [
    "BATCH_SIZE = 32\n",
    "train_fashion_dataloader = torch.utils.data.DataLoader(\n",
    "    dataset=trian_data_FashionMNIST,\n",
    "    batch_size = BATCH_SIZE,\n",
    "    shuffle = True\n",
    ")\n",
    "test_fashion_dataloader = torch.utils.data.DataLoader(\n",
    "    dataset=test_data_FashionMNIST,\n",
    "    batch_size = BATCH_SIZE,\n",
    "    shuffle = False)"
   ]
  },
  {
   "cell_type": "code",
   "execution_count": 44,
   "id": "2d6c4358",
   "metadata": {
    "execution": {
     "iopub.execute_input": "2023-04-04T06:47:18.815786Z",
     "iopub.status.busy": "2023-04-04T06:47:18.813829Z",
     "iopub.status.idle": "2023-04-04T06:47:18.821537Z",
     "shell.execute_reply": "2023-04-04T06:47:18.820452Z"
    },
    "id": "GQ9VNffPq-cM",
    "outputId": "46880eb1-4654-4c14-edbe-964bf00f3abc",
    "papermill": {
     "duration": 0.030865,
     "end_time": "2023-04-04T06:47:18.823707",
     "exception": false,
     "start_time": "2023-04-04T06:47:18.792842",
     "status": "completed"
    },
    "tags": []
   },
   "outputs": [
    {
     "data": {
      "text/plain": [
       "['T-shirt/top',\n",
       " 'Trouser',\n",
       " 'Pullover',\n",
       " 'Dress',\n",
       " 'Coat',\n",
       " 'Sandal',\n",
       " 'Shirt',\n",
       " 'Sneaker',\n",
       " 'Bag',\n",
       " 'Ankle boot']"
      ]
     },
     "execution_count": 44,
     "metadata": {},
     "output_type": "execute_result"
    }
   ],
   "source": [
    "fashion_classes = trian_data_FashionMNIST.classes\n",
    "fashion_classes"
   ]
  },
  {
   "cell_type": "code",
   "execution_count": 45,
   "id": "9fcafdb6",
   "metadata": {
    "execution": {
     "iopub.execute_input": "2023-04-04T06:47:18.864401Z",
     "iopub.status.busy": "2023-04-04T06:47:18.864077Z",
     "iopub.status.idle": "2023-04-04T06:47:18.870619Z",
     "shell.execute_reply": "2023-04-04T06:47:18.869717Z"
    },
    "id": "ZyEKpuFira0H",
    "papermill": {
     "duration": 0.029418,
     "end_time": "2023-04-04T06:47:18.872829",
     "exception": false,
     "start_time": "2023-04-04T06:47:18.843411",
     "status": "completed"
    },
    "tags": []
   },
   "outputs": [],
   "source": [
    "model_fashion = MnistModelV2(input_shape=1,\n",
    "                             hidden_units=10,\n",
    "                             output_shape=10)"
   ]
  },
  {
   "cell_type": "code",
   "execution_count": 46,
   "id": "cea9b944",
   "metadata": {
    "execution": {
     "iopub.execute_input": "2023-04-04T06:47:18.913241Z",
     "iopub.status.busy": "2023-04-04T06:47:18.912919Z",
     "iopub.status.idle": "2023-04-04T06:47:18.919375Z",
     "shell.execute_reply": "2023-04-04T06:47:18.918306Z"
    },
    "id": "RRh6bFFosdOH",
    "outputId": "d4526c81-1121-4a70-959e-cf4180355427",
    "papermill": {
     "duration": 0.029204,
     "end_time": "2023-04-04T06:47:18.921477",
     "exception": false,
     "start_time": "2023-04-04T06:47:18.892273",
     "status": "completed"
    },
    "tags": []
   },
   "outputs": [
    {
     "data": {
      "text/plain": [
       "MnistModelV2(\n",
       "  (conv_block_1): Sequential(\n",
       "    (0): Conv2d(1, 10, kernel_size=(3, 3), stride=(1, 1), padding=(1, 1))\n",
       "    (1): ReLU()\n",
       "    (2): Conv2d(10, 10, kernel_size=(3, 3), stride=(1, 1), padding=(1, 1))\n",
       "    (3): ReLU()\n",
       "    (4): MaxPool2d(kernel_size=2, stride=2, padding=0, dilation=1, ceil_mode=False)\n",
       "  )\n",
       "  (conv_block_2): Sequential(\n",
       "    (0): Conv2d(10, 10, kernel_size=(3, 3), stride=(1, 1), padding=(1, 1))\n",
       "    (1): ReLU()\n",
       "    (2): Conv2d(10, 10, kernel_size=(3, 3), stride=(1, 1), padding=(1, 1))\n",
       "    (3): ReLU()\n",
       "    (4): MaxPool2d(kernel_size=2, stride=2, padding=0, dilation=1, ceil_mode=False)\n",
       "  )\n",
       "  (classifier): Sequential(\n",
       "    (0): Flatten(start_dim=1, end_dim=-1)\n",
       "    (1): Linear(in_features=490, out_features=10, bias=True)\n",
       "  )\n",
       ")"
      ]
     },
     "execution_count": 46,
     "metadata": {},
     "output_type": "execute_result"
    }
   ],
   "source": [
    "model_fashion"
   ]
  },
  {
   "cell_type": "code",
   "execution_count": 47,
   "id": "de285b1f",
   "metadata": {
    "execution": {
     "iopub.execute_input": "2023-04-04T06:47:18.961676Z",
     "iopub.status.busy": "2023-04-04T06:47:18.961406Z",
     "iopub.status.idle": "2023-04-04T06:47:18.966138Z",
     "shell.execute_reply": "2023-04-04T06:47:18.965195Z"
    },
    "id": "mgWPTP6lrOdy",
    "papermill": {
     "duration": 0.02732,
     "end_time": "2023-04-04T06:47:18.968287",
     "exception": false,
     "start_time": "2023-04-04T06:47:18.940967",
     "status": "completed"
    },
    "tags": []
   },
   "outputs": [],
   "source": [
    "loss_fn = nn.CrossEntropyLoss()\n",
    "optimizer = torch.optim.SGD(params=model_fashion.parameters(),\n",
    "                            lr=0.1)"
   ]
  },
  {
   "cell_type": "code",
   "execution_count": 48,
   "id": "954f7e79",
   "metadata": {
    "execution": {
     "iopub.execute_input": "2023-04-04T06:47:19.009254Z",
     "iopub.status.busy": "2023-04-04T06:47:19.008322Z",
     "iopub.status.idle": "2023-04-04T06:48:18.932661Z",
     "shell.execute_reply": "2023-04-04T06:48:18.931666Z"
    },
    "id": "d2ydMKSfp33v",
    "outputId": "4115ff1c-3adf-4f64-d81d-7ac76ba0eec5",
    "papermill": {
     "duration": 59.947259,
     "end_time": "2023-04-04T06:48:18.934779",
     "exception": false,
     "start_time": "2023-04-04T06:47:18.987520",
     "status": "completed"
    },
    "tags": []
   },
   "outputs": [
    {
     "data": {
      "application/vnd.jupyter.widget-view+json": {
       "model_id": "00a266ec06e947808cd7aee161ba8c77",
       "version_major": 2,
       "version_minor": 0
      },
      "text/plain": [
       "  0%|          | 0/5 [00:00<?, ?it/s]"
      ]
     },
     "metadata": {},
     "output_type": "display_data"
    },
    {
     "name": "stdout",
     "output_type": "stream",
     "text": [
      "Train loss: 0.58976 | Train ACC: 74.22%\n",
      "\n",
      "Test loss: 0.39253 | Test ACC: 78.80%\n",
      "\n",
      "Train loss: 0.34619 | Train ACC: 80.10%\n",
      "\n",
      "Test loss: 0.33523 | Test ACC: 80.64%\n",
      "\n",
      "Train loss: 0.30906 | Train ACC: 80.79%\n",
      "\n",
      "Test loss: 0.30113 | Test ACC: 80.28%\n",
      "\n",
      "Train loss: 0.28939 | Train ACC: 80.77%\n",
      "\n",
      "Test loss: 0.29996 | Test ACC: 79.41%\n",
      "\n",
      "Train loss: 0.27642 | Train ACC: 81.32%\n",
      "\n",
      "Test loss: 0.30116 | Test ACC: 79.13%\n",
      "\n"
     ]
    }
   ],
   "source": [
    "torch.manual_seed(42)\n",
    "\n",
    "epochs = 5\n",
    "for epoch in tqdm(range(epochs)):\n",
    "\n",
    "  train_step(model=model_fashion,\n",
    "            data_loader=train_fashion_dataloader,\n",
    "              optimizer= optimizer,\n",
    "            loss_fn=loss_fn,\n",
    "            accuracy_fn=accuracy_fn,\n",
    "            device=device)\n",
    "\n",
    "  test_step(model=model_fashion,\n",
    "            data_loader=test_fashion_dataloader,\n",
    "            loss_fn=loss_fn,\n",
    "            accuracy_fn=accuracy_fn,\n",
    "            device=device)\n",
    "\n"
   ]
  },
  {
   "cell_type": "code",
   "execution_count": 49,
   "id": "cec35cc7",
   "metadata": {
    "execution": {
     "iopub.execute_input": "2023-04-04T06:48:18.977638Z",
     "iopub.status.busy": "2023-04-04T06:48:18.976588Z",
     "iopub.status.idle": "2023-04-04T06:48:20.217530Z",
     "shell.execute_reply": "2023-04-04T06:48:20.216073Z"
    },
    "id": "fekEo1r2toQd",
    "outputId": "ead882db-9702-4ec8-80a6-630a100e72c3",
    "papermill": {
     "duration": 1.264205,
     "end_time": "2023-04-04T06:48:20.219760",
     "exception": false,
     "start_time": "2023-04-04T06:48:18.955555",
     "status": "completed"
    },
    "tags": []
   },
   "outputs": [
    {
     "name": "stdout",
     "output_type": "stream",
     "text": [
      "tensor([9, 2, 1,  ..., 8, 1, 5])\n",
      "tensor([9, 2, 1,  ..., 8, 1, 5])\n"
     ]
    }
   ],
   "source": [
    "model_fashion.eval()\n",
    "model_fashion.to(device)\n",
    "\n",
    "y_preds = []\n",
    "y_true = []\n",
    "for X, y in test_fashion_dataloader:\n",
    "  X, y = X.to(device), y.to(device)\n",
    "  y_true.append(y.cpu())\n",
    "  y_logit = model_fashion(X)\n",
    "  y_prob = y_logit.softmax(dim=1)\n",
    "  y_pred = y_prob.argmax(dim=1)\n",
    "\n",
    "  y_preds.append(y_pred.cpu())\n",
    "y_true = torch.cat(y_true)\n",
    "y_preds = torch.cat(y_preds)\n",
    "  # print(y_logit.shape)\n",
    "print(y_preds) \n",
    "print(y_true)\n"
   ]
  },
  {
   "cell_type": "code",
   "execution_count": 50,
   "id": "93d093de",
   "metadata": {
    "execution": {
     "iopub.execute_input": "2023-04-04T06:48:20.261962Z",
     "iopub.status.busy": "2023-04-04T06:48:20.261634Z",
     "iopub.status.idle": "2023-04-04T06:48:20.268735Z",
     "shell.execute_reply": "2023-04-04T06:48:20.267988Z"
    },
    "id": "nr2V2zYzwD_E",
    "outputId": "3f91d76a-8e24-4bcf-e198-c6bb8777fbc0",
    "papermill": {
     "duration": 0.030597,
     "end_time": "2023-04-04T06:48:20.270691",
     "exception": false,
     "start_time": "2023-04-04T06:48:20.240094",
     "status": "completed"
    },
    "tags": []
   },
   "outputs": [
    {
     "data": {
      "text/plain": [
       "tensor([9, 2, 1,  ..., 8, 1, 5])"
      ]
     },
     "execution_count": 50,
     "metadata": {},
     "output_type": "execute_result"
    }
   ],
   "source": [
    "test_data_FashionMNIST.targets"
   ]
  },
  {
   "cell_type": "code",
   "execution_count": 51,
   "id": "8ab52b2d",
   "metadata": {
    "execution": {
     "iopub.execute_input": "2023-04-04T06:48:20.313200Z",
     "iopub.status.busy": "2023-04-04T06:48:20.312830Z",
     "iopub.status.idle": "2023-04-04T06:48:20.319128Z",
     "shell.execute_reply": "2023-04-04T06:48:20.318017Z"
    },
    "id": "w5_hXKxdvxWq",
    "outputId": "504f150c-b07e-4a67-fe39-711487f7ad5c",
    "papermill": {
     "duration": 0.030205,
     "end_time": "2023-04-04T06:48:20.321449",
     "exception": false,
     "start_time": "2023-04-04T06:48:20.291244",
     "status": "completed"
    },
    "tags": []
   },
   "outputs": [
    {
     "data": {
      "text/plain": [
       "10000"
      ]
     },
     "execution_count": 51,
     "metadata": {},
     "output_type": "execute_result"
    }
   ],
   "source": [
    "len(y_true)"
   ]
  },
  {
   "cell_type": "code",
   "execution_count": 52,
   "id": "88cd5138",
   "metadata": {
    "execution": {
     "iopub.execute_input": "2023-04-04T06:48:20.365455Z",
     "iopub.status.busy": "2023-04-04T06:48:20.363748Z",
     "iopub.status.idle": "2023-04-04T06:48:20.434287Z",
     "shell.execute_reply": "2023-04-04T06:48:20.433216Z"
    },
    "id": "AD6TctfHuajL",
    "outputId": "9e2e7aa2-74ec-413e-e4a0-cce48094ccf3",
    "papermill": {
     "duration": 0.094349,
     "end_time": "2023-04-04T06:48:20.436385",
     "exception": false,
     "start_time": "2023-04-04T06:48:20.342036",
     "status": "completed"
    },
    "tags": []
   },
   "outputs": [
    {
     "data": {
      "text/plain": [
       "1057"
      ]
     },
     "execution_count": 52,
     "metadata": {},
     "output_type": "execute_result"
    }
   ],
   "source": [
    "wrong_idx = []\n",
    "for i in range(len(y_true)):\n",
    "  if test_data_FashionMNIST.targets[i] != y_preds[i]:\n",
    "    wrong_idx.append(i)\n",
    "\n",
    "len(wrong_idx)"
   ]
  },
  {
   "cell_type": "code",
   "execution_count": 53,
   "id": "454da5fb",
   "metadata": {
    "execution": {
     "iopub.execute_input": "2023-04-04T06:48:20.479352Z",
     "iopub.status.busy": "2023-04-04T06:48:20.478527Z",
     "iopub.status.idle": "2023-04-04T06:48:20.866096Z",
     "shell.execute_reply": "2023-04-04T06:48:20.865143Z"
    },
    "id": "nQfx2wWhynjQ",
    "outputId": "4323701a-c707-406c-8ba6-fa699ae3da5c",
    "papermill": {
     "duration": 0.411195,
     "end_time": "2023-04-04T06:48:20.868465",
     "exception": false,
     "start_time": "2023-04-04T06:48:20.457270",
     "status": "completed"
    },
    "tags": []
   },
   "outputs": [
    {
     "data": {
      "image/png": "[encoded data removed]",
      "text/plain": [
       "<Figure size 900x900 with 9 Axes>"
      ]
     },
     "metadata": {},
     "output_type": "display_data"
    }
   ],
   "source": [
    "fig = plt.figure(figsize=(9, 9))\n",
    "rows, cols = 3, 3\n",
    "samples = random.sample(wrong_idx,k=9)\n",
    "i=0\n",
    "for sample in samples:\n",
    "  i= i+1\n",
    "  img , label = test_data_FashionMNIST[sample]\n",
    "  plt.subplot(rows, cols,i)\n",
    "  plt.imshow(img.squeeze(dim=0), cmap=\"gray\")\n",
    "  s= f\"t:{fashion_classes[label]} | p: {fashion_classes[y_preds[sample]]}\"\n",
    "  plt.title(s , fontsize=10, color=\"red\")\n",
    "  plt.axis(False)\n",
    "  \n"
   ]
  },
  {
   "cell_type": "code",
   "execution_count": null,
   "id": "65917816",
   "metadata": {
    "id": "XxNkiep6zevs",
    "papermill": {
     "duration": 0.020602,
     "end_time": "2023-04-04T06:48:20.910739",
     "exception": false,
     "start_time": "2023-04-04T06:48:20.890137",
     "status": "completed"
    },
    "tags": []
   },
   "outputs": [],
   "source": []
  }
 ],
 "metadata": {
  "kernelspec": {
   "display_name": "Python 3",
   "language": "python",
   "name": "python3"
  },
  "language_info": {
   "codemirror_mode": {
    "name": "ipython",
    "version": 3
   },
   "file_extension": ".py",
   "mimetype": "text/x-python",
   "name": "python",
   "nbconvert_exporter": "python",
   "pygments_lexer": "ipython3",
   "version": "3.7.12"
  },
  "papermill": {
   "default_parameters": {},
   "duration": 233.810404,
   "end_time": "2023-04-04T06:48:23.795894",
   "environment_variables": {},
   "exception": null,
   "input_path": "__notebook__.ipynb",
   "output_path": "__notebook__.ipynb",
   "parameters": {},
   "start_time": "2023-04-04T06:44:29.985490",
   "version": "2.4.0"
  },
  "widgets": {
   "application/vnd.jupyter.widget-state+json": {
    "state": {
     "005bc01429b74611a7cc967094dd7d54": {
      "model_module": "@jupyter-widgets/controls",
      "model_module_version": "1.5.0",
      "model_name": "HTMLModel",
      "state": {
       "_dom_classes": [],
       "_model_module": "@jupyter-widgets/controls",
       "_model_module_version": "1.5.0",
       "_model_name": "HTMLModel",
       "_view_count": null,
       "_view_module": "@jupyter-widgets/controls",
       "_view_module_version": "1.5.0",
       "_view_name": "HTMLView",
       "description": "",
       "description_tooltip": null,
       "layout": "IPY_MODEL_71b835a1b41647f3929bb5d0e0daf8a4",
       "placeholder": "​",
       "style": "IPY_MODEL_c79f39fda155483b96a16b62e20ae9b0",
       "value": "100%"
      }
     },
     "00a266ec06e947808cd7aee161ba8c77": {
      "model_module": "@jupyter-widgets/controls",
      "model_module_version": "1.5.0",
      "model_name": "HBoxModel",
      "state": {
       "_dom_classes": [],
       "_model_module": "@jupyter-widgets/controls",
       "_model_module_version": "1.5.0",
       "_model_name": "HBoxModel",
       "_view_count": null,
       "_view_module": "@jupyter-widgets/controls",
       "_view_module_version": "1.5.0",
       "_view_name": "HBoxView",
       "box_style": "",
       "children": [
        "IPY_MODEL_2f5c58dd24d94dc8886a88eac5cf3b4e",
        "IPY_MODEL_82bcd1d4d5124da8a26cda4ea39afc51",
        "IPY_MODEL_5bc54dfbdda049c884801317bb8a735b"
       ],
       "layout": "IPY_MODEL_1838ebb775694fe982a7a5f6fe6d03d1"
      }
     },
     "01304cbbe3a149c0bc9e077c7194c767": {
      "model_module": "@jupyter-widgets/base",
      "model_module_version": "1.2.0",
      "model_name": "LayoutModel",
      "state": {
       "_model_module": "@jupyter-widgets/base",
       "_model_module_version": "1.2.0",
       "_model_name": "LayoutModel",
       "_view_count": null,
       "_view_module": "@jupyter-widgets/base",
       "_view_module_version": "1.2.0",
       "_view_name": "LayoutView",
       "align_content": null,
       "align_items": null,
       "align_self": null,
       "border": null,
       "bottom": null,
       "display": null,
       "flex": null,
       "flex_flow": null,
       "grid_area": null,
       "grid_auto_columns": null,
       "grid_auto_flow": null,
       "grid_auto_rows": null,
       "grid_column": null,
       "grid_gap": null,
       "grid_row": null,
       "grid_template_areas": null,
       "grid_template_columns": null,
       "grid_template_rows": null,
       "height": null,
       "justify_content": null,
       "justify_items": null,
       "left": null,
       "margin": null,
       "max_height": null,
       "max_width": null,
       "min_height": null,
       "min_width": null,
       "object_fit": null,
       "object_position": null,
       "order": null,
       "overflow": null,
       "overflow_x": null,
       "overflow_y": null,
       "padding": null,
       "right": null,
       "top": null,
       "visibility": null,
       "width": null
      }
     },
     "01d3ed01c90943028ddac5e5e5bee1b9": {
      "model_module": "@jupyter-widgets/base",
      "model_module_version": "1.2.0",
      "model_name": "LayoutModel",
      "state": {
       "_model_module": "@jupyter-widgets/base",
       "_model_module_version": "1.2.0",
       "_model_name": "LayoutModel",
       "_view_count": null,
       "_view_module": "@jupyter-widgets/base",
       "_view_module_version": "1.2.0",
       "_view_name": "LayoutView",
       "align_content": null,
       "align_items": null,
       "align_self": null,
       "border": null,
       "bottom": null,
       "display": null,
       "flex": null,
       "flex_flow": null,
       "grid_area": null,
       "grid_auto_columns": null,
       "grid_auto_flow": null,
       "grid_auto_rows": null,
       "grid_column": null,
       "grid_gap": null,
       "grid_row": null,
       "grid_template_areas": null,
       "grid_template_columns": null,
       "grid_template_rows": null,
       "height": null,
       "justify_content": null,
       "justify_items": null,
       "left": null,
       "margin": null,
       "max_height": null,
       "max_width": null,
       "min_height": null,
       "min_width": null,
       "object_fit": null,
       "object_position": null,
       "order": null,
       "overflow": null,
       "overflow_x": null,
       "overflow_y": null,
       "padding": null,
       "right": null,
       "top": null,
       "visibility": null,
       "width": null
      }
     },
     "0497ed994bdf4f0c9b229dfada863584": {
      "model_module": "@jupyter-widgets/controls",
      "model_module_version": "1.5.0",
      "model_name": "HTMLModel",
      "state": {
       "_dom_classes": [],
       "_model_module": "@jupyter-widgets/controls",
       "_model_module_version": "1.5.0",
       "_model_name": "HTMLModel",
       "_view_count": null,
       "_view_module": "@jupyter-widgets/controls",
       "_view_module_version": "1.5.0",
       "_view_name": "HTMLView",
       "description": "",
       "description_tooltip": null,
       "layout": "IPY_MODEL_a48a06dbdaa64d168018ac7fe203644a",
       "placeholder": "​",
       "style": "IPY_MODEL_e8e7b1794d1a4283a1b361d1a953571c",
       "value": " 5/5 [00:59&lt;00:00, 11.88s/it]"
      }
     },
     "04a215ba513c4b3f9631435f1f7222d0": {
      "model_module": "@jupyter-widgets/controls",
      "model_module_version": "1.5.0",
      "model_name": "HTMLModel",
      "state": {
       "_dom_classes": [],
       "_model_module": "@jupyter-widgets/controls",
       "_model_module_version": "1.5.0",
       "_model_name": "HTMLModel",
       "_view_count": null,
       "_view_module": "@jupyter-widgets/controls",
       "_view_module_version": "1.5.0",
       "_view_name": "HTMLView",
       "description": "",
       "description_tooltip": null,
       "layout": "IPY_MODEL_60038d607bc74b21807c09553722be37",
       "placeholder": "​",
       "style": "IPY_MODEL_223ed385be154eaaa60510984abc4fa2",
       "value": " 29515/29515 [00:00&lt;00:00, 264457.39it/s]"
      }
     },
     "051e0d353bca425fa874c60c75c95c66": {
      "model_module": "@jupyter-widgets/base",
      "model_module_version": "1.2.0",
      "model_name": "LayoutModel",
      "state": {
       "_model_module": "@jupyter-widgets/base",
       "_model_module_version": "1.2.0",
       "_model_name": "LayoutModel",
       "_view_count": null,
       "_view_module": "@jupyter-widgets/base",
       "_view_module_version": "1.2.0",
       "_view_name": "LayoutView",
       "align_content": null,
       "align_items": null,
       "align_self": null,
       "border": null,
       "bottom": null,
       "display": null,
       "flex": null,
       "flex_flow": null,
       "grid_area": null,
       "grid_auto_columns": null,
       "grid_auto_flow": null,
       "grid_auto_rows": null,
       "grid_column": null,
       "grid_gap": null,
       "grid_row": null,
       "grid_template_areas": null,
       "grid_template_columns": null,
       "grid_template_rows": null,
       "height": null,
       "justify_content": null,
       "justify_items": null,
       "left": null,
       "margin": null,
       "max_height": null,
       "max_width": null,
       "min_height": null,
       "min_width": null,
       "object_fit": null,
       "object_position": null,
       "order": null,
       "overflow": null,
       "overflow_x": null,
       "overflow_y": null,
       "padding": null,
       "right": null,
       "top": null,
       "visibility": null,
       "width": null
      }
     },
     "06447b3366c64371bf33146bfa3b0721": {
      "model_module": "@jupyter-widgets/base",
      "model_module_version": "1.2.0",
      "model_name": "LayoutModel",
      "state": {
       "_model_module": "@jupyter-widgets/base",
       "_model_module_version": "1.2.0",
       "_model_name": "LayoutModel",
       "_view_count": null,
       "_view_module": "@jupyter-widgets/base",
       "_view_module_version": "1.2.0",
       "_view_name": "LayoutView",
       "align_content": null,
       "align_items": null,
       "align_self": null,
       "border": null,
       "bottom": null,
       "display": null,
       "flex": null,
       "flex_flow": null,
       "grid_area": null,
       "grid_auto_columns": null,
       "grid_auto_flow": null,
       "grid_auto_rows": null,
       "grid_column": null,
       "grid_gap": null,
       "grid_row": null,
       "grid_template_areas": null,
       "grid_template_columns": null,
       "grid_template_rows": null,
       "height": null,
       "justify_content": null,
       "justify_items": null,
       "left": null,
       "margin": null,
       "max_height": null,
       "max_width": null,
       "min_height": null,
       "min_width": null,
       "object_fit": null,
       "object_position": null,
       "order": null,
       "overflow": null,
       "overflow_x": null,
       "overflow_y": null,
       "padding": null,
       "right": null,
       "top": null,
       "visibility": null,
       "width": null
      }
     },
     "066892979df74f429c9f5a36fc194855": {
      "model_module": "@jupyter-widgets/controls",
      "model_module_version": "1.5.0",
      "model_name": "HBoxModel",
      "state": {
       "_dom_classes": [],
       "_model_module": "@jupyter-widgets/controls",
       "_model_module_version": "1.5.0",
       "_model_name": "HBoxModel",
       "_view_count": null,
       "_view_module": "@jupyter-widgets/controls",
       "_view_module_version": "1.5.0",
       "_view_name": "HBoxView",
       "box_style": "",
       "children": [
        "IPY_MODEL_e8a73d42ac7d4a64887ccbbebc4d6e87",
        "IPY_MODEL_2f8c9157b59c451a908455d65180018a",
        "IPY_MODEL_79a8009aabe44128911011e64685bc63"
       ],
       "layout": "IPY_MODEL_051e0d353bca425fa874c60c75c95c66"
      }
     },
     "0c1012f7df864661a44723aac618e226": {
      "model_module": "@jupyter-widgets/base",
      "model_module_version": "1.2.0",
      "model_name": "LayoutModel",
      "state": {
       "_model_module": "@jupyter-widgets/base",
       "_model_module_version": "1.2.0",
       "_model_name": "LayoutModel",
       "_view_count": null,
       "_view_module": "@jupyter-widgets/base",
       "_view_module_version": "1.2.0",
       "_view_name": "LayoutView",
       "align_content": null,
       "align_items": null,
       "align_self": null,
       "border": null,
       "bottom": null,
       "display": null,
       "flex": null,
       "flex_flow": null,
       "grid_area": null,
       "grid_auto_columns": null,
       "grid_auto_flow": null,
       "grid_auto_rows": null,
       "grid_column": null,
       "grid_gap": null,
       "grid_row": null,
       "grid_template_areas": null,
       "grid_template_columns": null,
       "grid_template_rows": null,
       "height": null,
       "justify_content": null,
       "justify_items": null,
       "left": null,
       "margin": null,
       "max_height": null,
       "max_width": null,
       "min_height": null,
       "min_width": null,
       "object_fit": null,
       "object_position": null,
       "order": null,
       "overflow": null,
       "overflow_x": null,
       "overflow_y": null,
       "padding": null,
       "right": null,
       "top": null,
       "visibility": null,
       "width": null
      }
     },
     "0c3eba3de09045569c60b56cb3e23a62": {
      "model_module": "@jupyter-widgets/controls",
      "model_module_version": "1.5.0",
      "model_name": "DescriptionStyleModel",
      "state": {
       "_model_module": "@jupyter-widgets/controls",
       "_model_module_version": "1.5.0",
       "_model_name": "DescriptionStyleModel",
       "_view_count": null,
       "_view_module": "@jupyter-widgets/base",
       "_view_module_version": "1.2.0",
       "_view_name": "StyleView",
       "description_width": ""
      }
     },
     "0de8e0fd5f604628a73d3e5489a3fa8d": {
      "model_module": "@jupyter-widgets/base",
      "model_module_version": "1.2.0",
      "model_name": "LayoutModel",
      "state": {
       "_model_module": "@jupyter-widgets/base",
       "_model_module_version": "1.2.0",
       "_model_name": "LayoutModel",
       "_view_count": null,
       "_view_module": "@jupyter-widgets/base",
       "_view_module_version": "1.2.0",
       "_view_name": "LayoutView",
       "align_content": null,
       "align_items": null,
       "align_self": null,
       "border": null,
       "bottom": null,
       "display": null,
       "flex": null,
       "flex_flow": null,
       "grid_area": null,
       "grid_auto_columns": null,
       "grid_auto_flow": null,
       "grid_auto_rows": null,
       "grid_column": null,
       "grid_gap": null,
       "grid_row": null,
       "grid_template_areas": null,
       "grid_template_columns": null,
       "grid_template_rows": null,
       "height": null,
       "justify_content": null,
       "justify_items": null,
       "left": null,
       "margin": null,
       "max_height": null,
       "max_width": null,
       "min_height": null,
       "min_width": null,
       "object_fit": null,
       "object_position": null,
       "order": null,
       "overflow": null,
       "overflow_x": null,
       "overflow_y": null,
       "padding": null,
       "right": null,
       "top": null,
       "visibility": null,
       "width": null
      }
     },
     "11f940f5e8de45a1b023c764e923f116": {
      "model_module": "@jupyter-widgets/base",
      "model_module_version": "1.2.0",
      "model_name": "LayoutModel",
      "state": {
       "_model_module": "@jupyter-widgets/base",
       "_model_module_version": "1.2.0",
       "_model_name": "LayoutModel",
       "_view_count": null,
       "_view_module": "@jupyter-widgets/base",
       "_view_module_version": "1.2.0",
       "_view_name": "LayoutView",
       "align_content": null,
       "align_items": null,
       "align_self": null,
       "border": null,
       "bottom": null,
       "display": null,
       "flex": null,
       "flex_flow": null,
       "grid_area": null,
       "grid_auto_columns": null,
       "grid_auto_flow": null,
       "grid_auto_rows": null,
       "grid_column": null,
       "grid_gap": null,
       "grid_row": null,
       "grid_template_areas": null,
       "grid_template_columns": null,
       "grid_template_rows": null,
       "height": null,
       "justify_content": null,
       "justify_items": null,
       "left": null,
       "margin": null,
       "max_height": null,
       "max_width": null,
       "min_height": null,
       "min_width": null,
       "object_fit": null,
       "object_position": null,
       "order": null,
       "overflow": null,
       "overflow_x": null,
       "overflow_y": null,
       "padding": null,
       "right": null,
       "top": null,
       "visibility": null,
       "width": null
      }
     },
     "1838ebb775694fe982a7a5f6fe6d03d1": {
      "model_module": "@jupyter-widgets/base",
      "model_module_version": "1.2.0",
      "model_name": "LayoutModel",
      "state": {
       "_model_module": "@jupyter-widgets/base",
       "_model_module_version": "1.2.0",
       "_model_name": "LayoutModel",
       "_view_count": null,
       "_view_module": "@jupyter-widgets/base",
       "_view_module_version": "1.2.0",
       "_view_name": "LayoutView",
       "align_content": null,
       "align_items": null,
       "align_self": null,
       "border": null,
       "bottom": null,
       "display": null,
       "flex": null,
       "flex_flow": null,
       "grid_area": null,
       "grid_auto_columns": null,
       "grid_auto_flow": null,
       "grid_auto_rows": null,
       "grid_column": null,
       "grid_gap": null,
       "grid_row": null,
       "grid_template_areas": null,
       "grid_template_columns": null,
       "grid_template_rows": null,
       "height": null,
       "justify_content": null,
       "justify_items": null,
       "left": null,
       "margin": null,
       "max_height": null,
       "max_width": null,
       "min_height": null,
       "min_width": null,
       "object_fit": null,
       "object_position": null,
       "order": null,
       "overflow": null,
       "overflow_x": null,
       "overflow_y": null,
       "padding": null,
       "right": null,
       "top": null,
       "visibility": null,
       "width": null
      }
     },
     "1d746fe024b841288beb82debef49116": {
      "model_module": "@jupyter-widgets/controls",
      "model_module_version": "1.5.0",
      "model_name": "DescriptionStyleModel",
      "state": {
       "_model_module": "@jupyter-widgets/controls",
       "_model_module_version": "1.5.0",
       "_model_name": "DescriptionStyleModel",
       "_view_count": null,
       "_view_module": "@jupyter-widgets/base",
       "_view_module_version": "1.2.0",
       "_view_name": "StyleView",
       "description_width": ""
      }
     },
     "20f9b76aa97e49b0abf8bb176363bb61": {
      "model_module": "@jupyter-widgets/controls",
      "model_module_version": "1.5.0",
      "model_name": "FloatProgressModel",
      "state": {
       "_dom_classes": [],
       "_model_module": "@jupyter-widgets/controls",
       "_model_module_version": "1.5.0",
       "_model_name": "FloatProgressModel",
       "_view_count": null,
       "_view_module": "@jupyter-widgets/controls",
       "_view_module_version": "1.5.0",
       "_view_name": "ProgressView",
       "bar_style": "success",
       "description": "",
       "description_tooltip": null,
       "layout": "IPY_MODEL_0c1012f7df864661a44723aac618e226",
       "max": 26421880.0,
       "min": 0.0,
       "orientation": "horizontal",
       "style": "IPY_MODEL_973fe268011f40d0bcc5d06fe50b3da7",
       "value": 26421880.0
      }
     },
     "223ed385be154eaaa60510984abc4fa2": {
      "model_module": "@jupyter-widgets/controls",
      "model_module_version": "1.5.0",
      "model_name": "DescriptionStyleModel",
      "state": {
       "_model_module": "@jupyter-widgets/controls",
       "_model_module_version": "1.5.0",
       "_model_name": "DescriptionStyleModel",
       "_view_count": null,
       "_view_module": "@jupyter-widgets/base",
       "_view_module_version": "1.2.0",
       "_view_name": "StyleView",
       "description_width": ""
      }
     },
     "26c7e15009aa446ba4c2f8bcc425cbcf": {
      "model_module": "@jupyter-widgets/controls",
      "model_module_version": "1.5.0",
      "model_name": "HTMLModel",
      "state": {
       "_dom_classes": [],
       "_model_module": "@jupyter-widgets/controls",
       "_model_module_version": "1.5.0",
       "_model_name": "HTMLModel",
       "_view_count": null,
       "_view_module": "@jupyter-widgets/controls",
       "_view_module_version": "1.5.0",
       "_view_name": "HTMLView",
       "description": "",
       "description_tooltip": null,
       "layout": "IPY_MODEL_7fe987a09d2241d991ed19c44f7d3787",
       "placeholder": "​",
       "style": "IPY_MODEL_b764a5e6e1e44daf9794ff979ab33520",
       "value": " 26421880/26421880 [00:01&lt;00:00, 24396953.58it/s]"
      }
     },
     "2747dc655f4448d1bc9c13f76bb79661": {
      "model_module": "@jupyter-widgets/base",
      "model_module_version": "1.2.0",
      "model_name": "LayoutModel",
      "state": {
       "_model_module": "@jupyter-widgets/base",
       "_model_module_version": "1.2.0",
       "_model_name": "LayoutModel",
       "_view_count": null,
       "_view_module": "@jupyter-widgets/base",
       "_view_module_version": "1.2.0",
       "_view_name": "LayoutView",
       "align_content": null,
       "align_items": null,
       "align_self": null,
       "border": null,
       "bottom": null,
       "display": null,
       "flex": null,
       "flex_flow": null,
       "grid_area": null,
       "grid_auto_columns": null,
       "grid_auto_flow": null,
       "grid_auto_rows": null,
       "grid_column": null,
       "grid_gap": null,
       "grid_row": null,
       "grid_template_areas": null,
       "grid_template_columns": null,
       "grid_template_rows": null,
       "height": null,
       "justify_content": null,
       "justify_items": null,
       "left": null,
       "margin": null,
       "max_height": null,
       "max_width": null,
       "min_height": null,
       "min_width": null,
       "object_fit": null,
       "object_position": null,
       "order": null,
       "overflow": null,
       "overflow_x": null,
       "overflow_y": null,
       "padding": null,
       "right": null,
       "top": null,
       "visibility": null,
       "width": null
      }
     },
     "27bdc914b231422994c85abd9948f4c9": {
      "model_module": "@jupyter-widgets/base",
      "model_module_version": "1.2.0",
      "model_name": "LayoutModel",
      "state": {
       "_model_module": "@jupyter-widgets/base",
       "_model_module_version": "1.2.0",
       "_model_name": "LayoutModel",
       "_view_count": null,
       "_view_module": "@jupyter-widgets/base",
       "_view_module_version": "1.2.0",
       "_view_name": "LayoutView",
       "align_content": null,
       "align_items": null,
       "align_self": null,
       "border": null,
       "bottom": null,
       "display": null,
       "flex": null,
       "flex_flow": null,
       "grid_area": null,
       "grid_auto_columns": null,
       "grid_auto_flow": null,
       "grid_auto_rows": null,
       "grid_column": null,
       "grid_gap": null,
       "grid_row": null,
       "grid_template_areas": null,
       "grid_template_columns": null,
       "grid_template_rows": null,
       "height": null,
       "justify_content": null,
       "justify_items": null,
       "left": null,
       "margin": null,
       "max_height": null,
       "max_width": null,
       "min_height": null,
       "min_width": null,
       "object_fit": null,
       "object_position": null,
       "order": null,
       "overflow": null,
       "overflow_x": null,
       "overflow_y": null,
       "padding": null,
       "right": null,
       "top": null,
       "visibility": null,
       "width": null
      }
     },
     "291a3a2153574aad84bd2b20585049f0": {
      "model_module": "@jupyter-widgets/controls",
      "model_module_version": "1.5.0",
      "model_name": "ProgressStyleModel",
      "state": {
       "_model_module": "@jupyter-widgets/controls",
       "_model_module_version": "1.5.0",
       "_model_name": "ProgressStyleModel",
       "_view_count": null,
       "_view_module": "@jupyter-widgets/base",
       "_view_module_version": "1.2.0",
       "_view_name": "StyleView",
       "bar_color": null,
       "description_width": ""
      }
     },
     "298f2359f46d4b9ebbbda727f78b0748": {
      "model_module": "@jupyter-widgets/controls",
      "model_module_version": "1.5.0",
      "model_name": "FloatProgressModel",
      "state": {
       "_dom_classes": [],
       "_model_module": "@jupyter-widgets/controls",
       "_model_module_version": "1.5.0",
       "_model_name": "FloatProgressModel",
       "_view_count": null,
       "_view_module": "@jupyter-widgets/controls",
       "_view_module_version": "1.5.0",
       "_view_name": "ProgressView",
       "bar_style": "success",
       "description": "",
       "description_tooltip": null,
       "layout": "IPY_MODEL_58a5a94d8fe6433690b166635e643d23",
       "max": 5.0,
       "min": 0.0,
       "orientation": "horizontal",
       "style": "IPY_MODEL_ccbf03a885bf4179ab548063f9563948",
       "value": 5.0
      }
     },
     "2997c0521380447bae0ab742ebb30adb": {
      "model_module": "@jupyter-widgets/base",
      "model_module_version": "1.2.0",
      "model_name": "LayoutModel",
      "state": {
       "_model_module": "@jupyter-widgets/base",
       "_model_module_version": "1.2.0",
       "_model_name": "LayoutModel",
       "_view_count": null,
       "_view_module": "@jupyter-widgets/base",
       "_view_module_version": "1.2.0",
       "_view_name": "LayoutView",
       "align_content": null,
       "align_items": null,
       "align_self": null,
       "border": null,
       "bottom": null,
       "display": null,
       "flex": null,
       "flex_flow": null,
       "grid_area": null,
       "grid_auto_columns": null,
       "grid_auto_flow": null,
       "grid_auto_rows": null,
       "grid_column": null,
       "grid_gap": null,
       "grid_row": null,
       "grid_template_areas": null,
       "grid_template_columns": null,
       "grid_template_rows": null,
       "height": null,
       "justify_content": null,
       "justify_items": null,
       "left": null,
       "margin": null,
       "max_height": null,
       "max_width": null,
       "min_height": null,
       "min_width": null,
       "object_fit": null,
       "object_position": null,
       "order": null,
       "overflow": null,
       "overflow_x": null,
       "overflow_y": null,
       "padding": null,
       "right": null,
       "top": null,
       "visibility": null,
       "width": null
      }
     },
     "2bdc67cba2bf4922bc470ac8163992cc": {
      "model_module": "@jupyter-widgets/controls",
      "model_module_version": "1.5.0",
      "model_name": "DescriptionStyleModel",
      "state": {
       "_model_module": "@jupyter-widgets/controls",
       "_model_module_version": "1.5.0",
       "_model_name": "DescriptionStyleModel",
       "_view_count": null,
       "_view_module": "@jupyter-widgets/base",
       "_view_module_version": "1.2.0",
       "_view_name": "StyleView",
       "description_width": ""
      }
     },
     "2d95449c07d4473ba36e2dd0d2b7a9e6": {
      "model_module": "@jupyter-widgets/base",
      "model_module_version": "1.2.0",
      "model_name": "LayoutModel",
      "state": {
       "_model_module": "@jupyter-widgets/base",
       "_model_module_version": "1.2.0",
       "_model_name": "LayoutModel",
       "_view_count": null,
       "_view_module": "@jupyter-widgets/base",
       "_view_module_version": "1.2.0",
       "_view_name": "LayoutView",
       "align_content": null,
       "align_items": null,
       "align_self": null,
       "border": null,
       "bottom": null,
       "display": null,
       "flex": null,
       "flex_flow": null,
       "grid_area": null,
       "grid_auto_columns": null,
       "grid_auto_flow": null,
       "grid_auto_rows": null,
       "grid_column": null,
       "grid_gap": null,
       "grid_row": null,
       "grid_template_areas": null,
       "grid_template_columns": null,
       "grid_template_rows": null,
       "height": null,
       "justify_content": null,
       "justify_items": null,
       "left": null,
       "margin": null,
       "max_height": null,
       "max_width": null,
       "min_height": null,
       "min_width": null,
       "object_fit": null,
       "object_position": null,
       "order": null,
       "overflow": null,
       "overflow_x": null,
       "overflow_y": null,
       "padding": null,
       "right": null,
       "top": null,
       "visibility": null,
       "width": null
      }
     },
     "2f5c58dd24d94dc8886a88eac5cf3b4e": {
      "model_module": "@jupyter-widgets/controls",
      "model_module_version": "1.5.0",
      "model_name": "HTMLModel",
      "state": {
       "_dom_classes": [],
       "_model_module": "@jupyter-widgets/controls",
       "_model_module_version": "1.5.0",
       "_model_name": "HTMLModel",
       "_view_count": null,
       "_view_module": "@jupyter-widgets/controls",
       "_view_module_version": "1.5.0",
       "_view_name": "HTMLView",
       "description": "",
       "description_tooltip": null,
       "layout": "IPY_MODEL_640c77d0ccd643ea830480d0e87b027b",
       "placeholder": "​",
       "style": "IPY_MODEL_f872cd63f12847c2a44debc3591c3f95",
       "value": "100%"
      }
     },
     "2f8c9157b59c451a908455d65180018a": {
      "model_module": "@jupyter-widgets/controls",
      "model_module_version": "1.5.0",
      "model_name": "FloatProgressModel",
      "state": {
       "_dom_classes": [],
       "_model_module": "@jupyter-widgets/controls",
       "_model_module_version": "1.5.0",
       "_model_name": "FloatProgressModel",
       "_view_count": null,
       "_view_module": "@jupyter-widgets/controls",
       "_view_module_version": "1.5.0",
       "_view_name": "ProgressView",
       "bar_style": "success",
       "description": "",
       "description_tooltip": null,
       "layout": "IPY_MODEL_73c5e1f32a404972855f0fad120d1819",
       "max": 28881.0,
       "min": 0.0,
       "orientation": "horizontal",
       "style": "IPY_MODEL_e5a191b69a33401686a2308c611a72f8",
       "value": 28881.0
      }
     },
     "2fb9d5adcafd4329b73ca9801066ffdf": {
      "model_module": "@jupyter-widgets/base",
      "model_module_version": "1.2.0",
      "model_name": "LayoutModel",
      "state": {
       "_model_module": "@jupyter-widgets/base",
       "_model_module_version": "1.2.0",
       "_model_name": "LayoutModel",
       "_view_count": null,
       "_view_module": "@jupyter-widgets/base",
       "_view_module_version": "1.2.0",
       "_view_name": "LayoutView",
       "align_content": null,
       "align_items": null,
       "align_self": null,
       "border": null,
       "bottom": null,
       "display": null,
       "flex": null,
       "flex_flow": null,
       "grid_area": null,
       "grid_auto_columns": null,
       "grid_auto_flow": null,
       "grid_auto_rows": null,
       "grid_column": null,
       "grid_gap": null,
       "grid_row": null,
       "grid_template_areas": null,
       "grid_template_columns": null,
       "grid_template_rows": null,
       "height": null,
       "justify_content": null,
       "justify_items": null,
       "left": null,
       "margin": null,
       "max_height": null,
       "max_width": null,
       "min_height": null,
       "min_width": null,
       "object_fit": null,
       "object_position": null,
       "order": null,
       "overflow": null,
       "overflow_x": null,
       "overflow_y": null,
       "padding": null,
       "right": null,
       "top": null,
       "visibility": null,
       "width": null
      }
     },
     "34b5d0608beb4d17b204435ce2bd3101": {
      "model_module": "@jupyter-widgets/controls",
      "model_module_version": "1.5.0",
      "model_name": "FloatProgressModel",
      "state": {
       "_dom_classes": [],
       "_model_module": "@jupyter-widgets/controls",
       "_model_module_version": "1.5.0",
       "_model_name": "FloatProgressModel",
       "_view_count": null,
       "_view_module": "@jupyter-widgets/controls",
       "_view_module_version": "1.5.0",
       "_view_name": "ProgressView",
       "bar_style": "success",
       "description": "",
       "description_tooltip": null,
       "layout": "IPY_MODEL_3bb41c98f48f4e95975a728e6c863373",
       "max": 9912422.0,
       "min": 0.0,
       "orientation": "horizontal",
       "style": "IPY_MODEL_291a3a2153574aad84bd2b20585049f0",
       "value": 9912422.0
      }
     },
     "36d411bc400944889076df3681adf861": {
      "model_module": "@jupyter-widgets/controls",
      "model_module_version": "1.5.0",
      "model_name": "HTMLModel",
      "state": {
       "_dom_classes": [],
       "_model_module": "@jupyter-widgets/controls",
       "_model_module_version": "1.5.0",
       "_model_name": "HTMLModel",
       "_view_count": null,
       "_view_module": "@jupyter-widgets/controls",
       "_view_module_version": "1.5.0",
       "_view_name": "HTMLView",
       "description": "",
       "description_tooltip": null,
       "layout": "IPY_MODEL_2747dc655f4448d1bc9c13f76bb79661",
       "placeholder": "​",
       "style": "IPY_MODEL_4d3254c9daf947c1b2dd9239f1de78bb",
       "value": "100%"
      }
     },
     "38277cd557164d02805e4e8492d28b0e": {
      "model_module": "@jupyter-widgets/controls",
      "model_module_version": "1.5.0",
      "model_name": "ProgressStyleModel",
      "state": {
       "_model_module": "@jupyter-widgets/controls",
       "_model_module_version": "1.5.0",
       "_model_name": "ProgressStyleModel",
       "_view_count": null,
       "_view_module": "@jupyter-widgets/base",
       "_view_module_version": "1.2.0",
       "_view_name": "StyleView",
       "bar_color": null,
       "description_width": ""
      }
     },
     "3b0078b152d64d5e89853a3b075fe1ce": {
      "model_module": "@jupyter-widgets/controls",
      "model_module_version": "1.5.0",
      "model_name": "DescriptionStyleModel",
      "state": {
       "_model_module": "@jupyter-widgets/controls",
       "_model_module_version": "1.5.0",
       "_model_name": "DescriptionStyleModel",
       "_view_count": null,
       "_view_module": "@jupyter-widgets/base",
       "_view_module_version": "1.2.0",
       "_view_name": "StyleView",
       "description_width": ""
      }
     },
     "3bb41c98f48f4e95975a728e6c863373": {
      "model_module": "@jupyter-widgets/base",
      "model_module_version": "1.2.0",
      "model_name": "LayoutModel",
      "state": {
       "_model_module": "@jupyter-widgets/base",
       "_model_module_version": "1.2.0",
       "_model_name": "LayoutModel",
       "_view_count": null,
       "_view_module": "@jupyter-widgets/base",
       "_view_module_version": "1.2.0",
       "_view_name": "LayoutView",
       "align_content": null,
       "align_items": null,
       "align_self": null,
       "border": null,
       "bottom": null,
       "display": null,
       "flex": null,
       "flex_flow": null,
       "grid_area": null,
       "grid_auto_columns": null,
       "grid_auto_flow": null,
       "grid_auto_rows": null,
       "grid_column": null,
       "grid_gap": null,
       "grid_row": null,
       "grid_template_areas": null,
       "grid_template_columns": null,
       "grid_template_rows": null,
       "height": null,
       "justify_content": null,
       "justify_items": null,
       "left": null,
       "margin": null,
       "max_height": null,
       "max_width": null,
       "min_height": null,
       "min_width": null,
       "object_fit": null,
       "object_position": null,
       "order": null,
       "overflow": null,
       "overflow_x": null,
       "overflow_y": null,
       "padding": null,
       "right": null,
       "top": null,
       "visibility": null,
       "width": null
      }
     },
     "3fb8ab4e6f7345b3b2fdfdbd8bbd4c0d": {
      "model_module": "@jupyter-widgets/controls",
      "model_module_version": "1.5.0",
      "model_name": "ProgressStyleModel",
      "state": {
       "_model_module": "@jupyter-widgets/controls",
       "_model_module_version": "1.5.0",
       "_model_name": "ProgressStyleModel",
       "_view_count": null,
       "_view_module": "@jupyter-widgets/base",
       "_view_module_version": "1.2.0",
       "_view_name": "StyleView",
       "bar_color": null,
       "description_width": ""
      }
     },
     "3feca8d0ed5a4f018d2a3aefbedc0496": {
      "model_module": "@jupyter-widgets/controls",
      "model_module_version": "1.5.0",
      "model_name": "HTMLModel",
      "state": {
       "_dom_classes": [],
       "_model_module": "@jupyter-widgets/controls",
       "_model_module_version": "1.5.0",
       "_model_name": "HTMLModel",
       "_view_count": null,
       "_view_module": "@jupyter-widgets/controls",
       "_view_module_version": "1.5.0",
       "_view_name": "HTMLView",
       "description": "",
       "description_tooltip": null,
       "layout": "IPY_MODEL_2fb9d5adcafd4329b73ca9801066ffdf",
       "placeholder": "​",
       "style": "IPY_MODEL_cd00527daead4d65864e4e738d2f0b03",
       "value": "100%"
      }
     },
     "4360de0b2d3b408fa42b02d6b0bf2859": {
      "model_module": "@jupyter-widgets/base",
      "model_module_version": "1.2.0",
      "model_name": "LayoutModel",
      "state": {
       "_model_module": "@jupyter-widgets/base",
       "_model_module_version": "1.2.0",
       "_model_name": "LayoutModel",
       "_view_count": null,
       "_view_module": "@jupyter-widgets/base",
       "_view_module_version": "1.2.0",
       "_view_name": "LayoutView",
       "align_content": null,
       "align_items": null,
       "align_self": null,
       "border": null,
       "bottom": null,
       "display": null,
       "flex": null,
       "flex_flow": null,
       "grid_area": null,
       "grid_auto_columns": null,
       "grid_auto_flow": null,
       "grid_auto_rows": null,
       "grid_column": null,
       "grid_gap": null,
       "grid_row": null,
       "grid_template_areas": null,
       "grid_template_columns": null,
       "grid_template_rows": null,
       "height": null,
       "justify_content": null,
       "justify_items": null,
       "left": null,
       "margin": null,
       "max_height": null,
       "max_width": null,
       "min_height": null,
       "min_width": null,
       "object_fit": null,
       "object_position": null,
       "order": null,
       "overflow": null,
       "overflow_x": null,
       "overflow_y": null,
       "padding": null,
       "right": null,
       "top": null,
       "visibility": null,
       "width": null
      }
     },
     "44f21cf6a8bd479f93542bc7463b4147": {
      "model_module": "@jupyter-widgets/controls",
      "model_module_version": "1.5.0",
      "model_name": "HTMLModel",
      "state": {
       "_dom_classes": [],
       "_model_module": "@jupyter-widgets/controls",
       "_model_module_version": "1.5.0",
       "_model_name": "HTMLModel",
       "_view_count": null,
       "_view_module": "@jupyter-widgets/controls",
       "_view_module_version": "1.5.0",
       "_view_name": "HTMLView",
       "description": "",
       "description_tooltip": null,
       "layout": "IPY_MODEL_06447b3366c64371bf33146bfa3b0721",
       "placeholder": "​",
       "style": "IPY_MODEL_a860ddd78dd14320b58787ede575ef32",
       "value": "100%"
      }
     },
     "4ab4df83e32e4835b459687c796b5e62": {
      "model_module": "@jupyter-widgets/controls",
      "model_module_version": "1.5.0",
      "model_name": "HTMLModel",
      "state": {
       "_dom_classes": [],
       "_model_module": "@jupyter-widgets/controls",
       "_model_module_version": "1.5.0",
       "_model_name": "HTMLModel",
       "_view_count": null,
       "_view_module": "@jupyter-widgets/controls",
       "_view_module_version": "1.5.0",
       "_view_name": "HTMLView",
       "description": "",
       "description_tooltip": null,
       "layout": "IPY_MODEL_b8c3d0ad147a4be4aa2a84a62f678294",
       "placeholder": "​",
       "style": "IPY_MODEL_6f388ca0f7854d209a2d3faf92560751",
       "value": ""
      }
     },
     "4d3254c9daf947c1b2dd9239f1de78bb": {
      "model_module": "@jupyter-widgets/controls",
      "model_module_version": "1.5.0",
      "model_name": "DescriptionStyleModel",
      "state": {
       "_model_module": "@jupyter-widgets/controls",
       "_model_module_version": "1.5.0",
       "_model_name": "DescriptionStyleModel",
       "_view_count": null,
       "_view_module": "@jupyter-widgets/base",
       "_view_module_version": "1.2.0",
       "_view_name": "StyleView",
       "description_width": ""
      }
     },
     "4f01c59f26e948a78c496fbfb1a2da7d": {
      "model_module": "@jupyter-widgets/controls",
      "model_module_version": "1.5.0",
      "model_name": "ProgressStyleModel",
      "state": {
       "_model_module": "@jupyter-widgets/controls",
       "_model_module_version": "1.5.0",
       "_model_name": "ProgressStyleModel",
       "_view_count": null,
       "_view_module": "@jupyter-widgets/base",
       "_view_module_version": "1.2.0",
       "_view_name": "StyleView",
       "bar_color": null,
       "description_width": ""
      }
     },
     "51fba0dcb1ee455da06f75473e772187": {
      "model_module": "@jupyter-widgets/controls",
      "model_module_version": "1.5.0",
      "model_name": "HBoxModel",
      "state": {
       "_dom_classes": [],
       "_model_module": "@jupyter-widgets/controls",
       "_model_module_version": "1.5.0",
       "_model_name": "HBoxModel",
       "_view_count": null,
       "_view_module": "@jupyter-widgets/controls",
       "_view_module_version": "1.5.0",
       "_view_name": "HBoxView",
       "box_style": "",
       "children": [
        "IPY_MODEL_9ae1aa3fdc734b688abff066fd8cb3d9",
        "IPY_MODEL_34b5d0608beb4d17b204435ce2bd3101",
        "IPY_MODEL_cdb9371df47149debd4e553fb043a118"
       ],
       "layout": "IPY_MODEL_01304cbbe3a149c0bc9e077c7194c767"
      }
     },
     "530aef059d774215a036ee86bad117d1": {
      "model_module": "@jupyter-widgets/base",
      "model_module_version": "1.2.0",
      "model_name": "LayoutModel",
      "state": {
       "_model_module": "@jupyter-widgets/base",
       "_model_module_version": "1.2.0",
       "_model_name": "LayoutModel",
       "_view_count": null,
       "_view_module": "@jupyter-widgets/base",
       "_view_module_version": "1.2.0",
       "_view_name": "LayoutView",
       "align_content": null,
       "align_items": null,
       "align_self": null,
       "border": null,
       "bottom": null,
       "display": null,
       "flex": null,
       "flex_flow": null,
       "grid_area": null,
       "grid_auto_columns": null,
       "grid_auto_flow": null,
       "grid_auto_rows": null,
       "grid_column": null,
       "grid_gap": null,
       "grid_row": null,
       "grid_template_areas": null,
       "grid_template_columns": null,
       "grid_template_rows": null,
       "height": null,
       "justify_content": null,
       "justify_items": null,
       "left": null,
       "margin": null,
       "max_height": null,
       "max_width": null,
       "min_height": null,
       "min_width": null,
       "object_fit": null,
       "object_position": null,
       "order": null,
       "overflow": null,
       "overflow_x": null,
       "overflow_y": null,
       "padding": null,
       "right": null,
       "top": null,
       "visibility": null,
       "width": null
      }
     },
     "5424d0f910eb41a484c95563f6e61097": {
      "model_module": "@jupyter-widgets/controls",
      "model_module_version": "1.5.0",
      "model_name": "HTMLModel",
      "state": {
       "_dom_classes": [],
       "_model_module": "@jupyter-widgets/controls",
       "_model_module_version": "1.5.0",
       "_model_name": "HTMLModel",
       "_view_count": null,
       "_view_module": "@jupyter-widgets/controls",
       "_view_module_version": "1.5.0",
       "_view_name": "HTMLView",
       "description": "",
       "description_tooltip": null,
       "layout": "IPY_MODEL_b1d4f7e98cea4dc29c5983da1d17f3e3",
       "placeholder": "​",
       "style": "IPY_MODEL_e70594bf5212431c92ddc57d97dcdc09",
       "value": " 313/? [00:01&lt;00:00, 273.82it/s]"
      }
     },
     "54fb159f906f4eec97a686e86307a730": {
      "model_module": "@jupyter-widgets/base",
      "model_module_version": "1.2.0",
      "model_name": "LayoutModel",
      "state": {
       "_model_module": "@jupyter-widgets/base",
       "_model_module_version": "1.2.0",
       "_model_name": "LayoutModel",
       "_view_count": null,
       "_view_module": "@jupyter-widgets/base",
       "_view_module_version": "1.2.0",
       "_view_name": "LayoutView",
       "align_content": null,
       "align_items": null,
       "align_self": null,
       "border": null,
       "bottom": null,
       "display": null,
       "flex": null,
       "flex_flow": null,
       "grid_area": null,
       "grid_auto_columns": null,
       "grid_auto_flow": null,
       "grid_auto_rows": null,
       "grid_column": null,
       "grid_gap": null,
       "grid_row": null,
       "grid_template_areas": null,
       "grid_template_columns": null,
       "grid_template_rows": null,
       "height": null,
       "justify_content": null,
       "justify_items": null,
       "left": null,
       "margin": null,
       "max_height": null,
       "max_width": null,
       "min_height": null,
       "min_width": null,
       "object_fit": null,
       "object_position": null,
       "order": null,
       "overflow": null,
       "overflow_x": null,
       "overflow_y": null,
       "padding": null,
       "right": null,
       "top": null,
       "visibility": null,
       "width": null
      }
     },
     "559df7b6e2e4435aad287ca069e9e1fb": {
      "model_module": "@jupyter-widgets/controls",
      "model_module_version": "1.5.0",
      "model_name": "ProgressStyleModel",
      "state": {
       "_model_module": "@jupyter-widgets/controls",
       "_model_module_version": "1.5.0",
       "_model_name": "ProgressStyleModel",
       "_view_count": null,
       "_view_module": "@jupyter-widgets/base",
       "_view_module_version": "1.2.0",
       "_view_name": "StyleView",
       "bar_color": null,
       "description_width": ""
      }
     },
     "561821b13543440b921fb3816da73eb4": {
      "model_module": "@jupyter-widgets/base",
      "model_module_version": "1.2.0",
      "model_name": "LayoutModel",
      "state": {
       "_model_module": "@jupyter-widgets/base",
       "_model_module_version": "1.2.0",
       "_model_name": "LayoutModel",
       "_view_count": null,
       "_view_module": "@jupyter-widgets/base",
       "_view_module_version": "1.2.0",
       "_view_name": "LayoutView",
       "align_content": null,
       "align_items": null,
       "align_self": null,
       "border": null,
       "bottom": null,
       "display": null,
       "flex": null,
       "flex_flow": null,
       "grid_area": null,
       "grid_auto_columns": null,
       "grid_auto_flow": null,
       "grid_auto_rows": null,
       "grid_column": null,
       "grid_gap": null,
       "grid_row": null,
       "grid_template_areas": null,
       "grid_template_columns": null,
       "grid_template_rows": null,
       "height": null,
       "justify_content": null,
       "justify_items": null,
       "left": null,
       "margin": null,
       "max_height": null,
       "max_width": null,
       "min_height": null,
       "min_width": null,
       "object_fit": null,
       "object_position": null,
       "order": null,
       "overflow": null,
       "overflow_x": null,
       "overflow_y": null,
       "padding": null,
       "right": null,
       "top": null,
       "visibility": null,
       "width": null
      }
     },
     "58a5a94d8fe6433690b166635e643d23": {
      "model_module": "@jupyter-widgets/base",
      "model_module_version": "1.2.0",
      "model_name": "LayoutModel",
      "state": {
       "_model_module": "@jupyter-widgets/base",
       "_model_module_version": "1.2.0",
       "_model_name": "LayoutModel",
       "_view_count": null,
       "_view_module": "@jupyter-widgets/base",
       "_view_module_version": "1.2.0",
       "_view_name": "LayoutView",
       "align_content": null,
       "align_items": null,
       "align_self": null,
       "border": null,
       "bottom": null,
       "display": null,
       "flex": null,
       "flex_flow": null,
       "grid_area": null,
       "grid_auto_columns": null,
       "grid_auto_flow": null,
       "grid_auto_rows": null,
       "grid_column": null,
       "grid_gap": null,
       "grid_row": null,
       "grid_template_areas": null,
       "grid_template_columns": null,
       "grid_template_rows": null,
       "height": null,
       "justify_content": null,
       "justify_items": null,
       "left": null,
       "margin": null,
       "max_height": null,
       "max_width": null,
       "min_height": null,
       "min_width": null,
       "object_fit": null,
       "object_position": null,
       "order": null,
       "overflow": null,
       "overflow_x": null,
       "overflow_y": null,
       "padding": null,
       "right": null,
       "top": null,
       "visibility": null,
       "width": null
      }
     },
     "5968f09747db473e85dd80e71959cc5c": {
      "model_module": "@jupyter-widgets/base",
      "model_module_version": "1.2.0",
      "model_name": "LayoutModel",
      "state": {
       "_model_module": "@jupyter-widgets/base",
       "_model_module_version": "1.2.0",
       "_model_name": "LayoutModel",
       "_view_count": null,
       "_view_module": "@jupyter-widgets/base",
       "_view_module_version": "1.2.0",
       "_view_name": "LayoutView",
       "align_content": null,
       "align_items": null,
       "align_self": null,
       "border": null,
       "bottom": null,
       "display": null,
       "flex": null,
       "flex_flow": null,
       "grid_area": null,
       "grid_auto_columns": null,
       "grid_auto_flow": null,
       "grid_auto_rows": null,
       "grid_column": null,
       "grid_gap": null,
       "grid_row": null,
       "grid_template_areas": null,
       "grid_template_columns": null,
       "grid_template_rows": null,
       "height": null,
       "justify_content": null,
       "justify_items": null,
       "left": null,
       "margin": null,
       "max_height": null,
       "max_width": null,
       "min_height": null,
       "min_width": null,
       "object_fit": null,
       "object_position": null,
       "order": null,
       "overflow": null,
       "overflow_x": null,
       "overflow_y": null,
       "padding": null,
       "right": null,
       "top": null,
       "visibility": null,
       "width": null
      }
     },
     "5bc54dfbdda049c884801317bb8a735b": {
      "model_module": "@jupyter-widgets/controls",
      "model_module_version": "1.5.0",
      "model_name": "HTMLModel",
      "state": {
       "_dom_classes": [],
       "_model_module": "@jupyter-widgets/controls",
       "_model_module_version": "1.5.0",
       "_model_name": "HTMLModel",
       "_view_count": null,
       "_view_module": "@jupyter-widgets/controls",
       "_view_module_version": "1.5.0",
       "_view_name": "HTMLView",
       "description": "",
       "description_tooltip": null,
       "layout": "IPY_MODEL_f09584f420494f12ad0f4f4de2dbc53f",
       "placeholder": "​",
       "style": "IPY_MODEL_0c3eba3de09045569c60b56cb3e23a62",
       "value": " 5/5 [00:59&lt;00:00, 11.84s/it]"
      }
     },
     "5bfe9bf62ee24fb5bdc55e5ca23a85db": {
      "model_module": "@jupyter-widgets/base",
      "model_module_version": "1.2.0",
      "model_name": "LayoutModel",
      "state": {
       "_model_module": "@jupyter-widgets/base",
       "_model_module_version": "1.2.0",
       "_model_name": "LayoutModel",
       "_view_count": null,
       "_view_module": "@jupyter-widgets/base",
       "_view_module_version": "1.2.0",
       "_view_name": "LayoutView",
       "align_content": null,
       "align_items": null,
       "align_self": null,
       "border": null,
       "bottom": null,
       "display": null,
       "flex": null,
       "flex_flow": null,
       "grid_area": null,
       "grid_auto_columns": null,
       "grid_auto_flow": null,
       "grid_auto_rows": null,
       "grid_column": null,
       "grid_gap": null,
       "grid_row": null,
       "grid_template_areas": null,
       "grid_template_columns": null,
       "grid_template_rows": null,
       "height": null,
       "justify_content": null,
       "justify_items": null,
       "left": null,
       "margin": null,
       "max_height": null,
       "max_width": null,
       "min_height": null,
       "min_width": null,
       "object_fit": null,
       "object_position": null,
       "order": null,
       "overflow": null,
       "overflow_x": null,
       "overflow_y": null,
       "padding": null,
       "right": null,
       "top": null,
       "visibility": null,
       "width": null
      }
     },
     "5d3bdecc910749748de4b4b69b1a1903": {
      "model_module": "@jupyter-widgets/base",
      "model_module_version": "1.2.0",
      "model_name": "LayoutModel",
      "state": {
       "_model_module": "@jupyter-widgets/base",
       "_model_module_version": "1.2.0",
       "_model_name": "LayoutModel",
       "_view_count": null,
       "_view_module": "@jupyter-widgets/base",
       "_view_module_version": "1.2.0",
       "_view_name": "LayoutView",
       "align_content": null,
       "align_items": null,
       "align_self": null,
       "border": null,
       "bottom": null,
       "display": null,
       "flex": null,
       "flex_flow": null,
       "grid_area": null,
       "grid_auto_columns": null,
       "grid_auto_flow": null,
       "grid_auto_rows": null,
       "grid_column": null,
       "grid_gap": null,
       "grid_row": null,
       "grid_template_areas": null,
       "grid_template_columns": null,
       "grid_template_rows": null,
       "height": null,
       "justify_content": null,
       "justify_items": null,
       "left": null,
       "margin": null,
       "max_height": null,
       "max_width": null,
       "min_height": null,
       "min_width": null,
       "object_fit": null,
       "object_position": null,
       "order": null,
       "overflow": null,
       "overflow_x": null,
       "overflow_y": null,
       "padding": null,
       "right": null,
       "top": null,
       "visibility": null,
       "width": null
      }
     },
     "5ebbee32828c48a5a8f1e6ece467eded": {
      "model_module": "@jupyter-widgets/base",
      "model_module_version": "1.2.0",
      "model_name": "LayoutModel",
      "state": {
       "_model_module": "@jupyter-widgets/base",
       "_model_module_version": "1.2.0",
       "_model_name": "LayoutModel",
       "_view_count": null,
       "_view_module": "@jupyter-widgets/base",
       "_view_module_version": "1.2.0",
       "_view_name": "LayoutView",
       "align_content": null,
       "align_items": null,
       "align_self": null,
       "border": null,
       "bottom": null,
       "display": null,
       "flex": null,
       "flex_flow": null,
       "grid_area": null,
       "grid_auto_columns": null,
       "grid_auto_flow": null,
       "grid_auto_rows": null,
       "grid_column": null,
       "grid_gap": null,
       "grid_row": null,
       "grid_template_areas": null,
       "grid_template_columns": null,
       "grid_template_rows": null,
       "height": null,
       "justify_content": null,
       "justify_items": null,
       "left": null,
       "margin": null,
       "max_height": null,
       "max_width": null,
       "min_height": null,
       "min_width": null,
       "object_fit": null,
       "object_position": null,
       "order": null,
       "overflow": null,
       "overflow_x": null,
       "overflow_y": null,
       "padding": null,
       "right": null,
       "top": null,
       "visibility": null,
       "width": null
      }
     },
     "5ed33c983be9425bad0658a44afc750e": {
      "model_module": "@jupyter-widgets/controls",
      "model_module_version": "1.5.0",
      "model_name": "HBoxModel",
      "state": {
       "_dom_classes": [],
       "_model_module": "@jupyter-widgets/controls",
       "_model_module_version": "1.5.0",
       "_model_name": "HBoxModel",
       "_view_count": null,
       "_view_module": "@jupyter-widgets/controls",
       "_view_module_version": "1.5.0",
       "_view_name": "HBoxView",
       "box_style": "",
       "children": [
        "IPY_MODEL_75993fb2c8474cbf8a959570d7b16d09",
        "IPY_MODEL_fdabd08e67914c8d96715a95376f6265",
        "IPY_MODEL_ee091013f384478eb1fcac6b9f789d18"
       ],
       "layout": "IPY_MODEL_941519bc643640859fd008eaa2cfff2b"
      }
     },
     "5fdd70a4d50e474f85c3feb60a6f9044": {
      "model_module": "@jupyter-widgets/controls",
      "model_module_version": "1.5.0",
      "model_name": "HTMLModel",
      "state": {
       "_dom_classes": [],
       "_model_module": "@jupyter-widgets/controls",
       "_model_module_version": "1.5.0",
       "_model_name": "HTMLModel",
       "_view_count": null,
       "_view_module": "@jupyter-widgets/controls",
       "_view_module_version": "1.5.0",
       "_view_name": "HTMLView",
       "description": "",
       "description_tooltip": null,
       "layout": "IPY_MODEL_0de8e0fd5f604628a73d3e5489a3fa8d",
       "placeholder": "​",
       "style": "IPY_MODEL_8616378841c84efc80db4989d067bd80",
       "value": " 5148/5148 [00:00&lt;00:00, 412074.22it/s]"
      }
     },
     "60038d607bc74b21807c09553722be37": {
      "model_module": "@jupyter-widgets/base",
      "model_module_version": "1.2.0",
      "model_name": "LayoutModel",
      "state": {
       "_model_module": "@jupyter-widgets/base",
       "_model_module_version": "1.2.0",
       "_model_name": "LayoutModel",
       "_view_count": null,
       "_view_module": "@jupyter-widgets/base",
       "_view_module_version": "1.2.0",
       "_view_name": "LayoutView",
       "align_content": null,
       "align_items": null,
       "align_self": null,
       "border": null,
       "bottom": null,
       "display": null,
       "flex": null,
       "flex_flow": null,
       "grid_area": null,
       "grid_auto_columns": null,
       "grid_auto_flow": null,
       "grid_auto_rows": null,
       "grid_column": null,
       "grid_gap": null,
       "grid_row": null,
       "grid_template_areas": null,
       "grid_template_columns": null,
       "grid_template_rows": null,
       "height": null,
       "justify_content": null,
       "justify_items": null,
       "left": null,
       "margin": null,
       "max_height": null,
       "max_width": null,
       "min_height": null,
       "min_width": null,
       "object_fit": null,
       "object_position": null,
       "order": null,
       "overflow": null,
       "overflow_x": null,
       "overflow_y": null,
       "padding": null,
       "right": null,
       "top": null,
       "visibility": null,
       "width": null
      }
     },
     "6035e3f294f4461ba44be1db30c14281": {
      "model_module": "@jupyter-widgets/controls",
      "model_module_version": "1.5.0",
      "model_name": "FloatProgressModel",
      "state": {
       "_dom_classes": [],
       "_model_module": "@jupyter-widgets/controls",
       "_model_module_version": "1.5.0",
       "_model_name": "FloatProgressModel",
       "_view_count": null,
       "_view_module": "@jupyter-widgets/controls",
       "_view_module_version": "1.5.0",
       "_view_name": "ProgressView",
       "bar_style": "success",
       "description": "",
       "description_tooltip": null,
       "layout": "IPY_MODEL_5ebbee32828c48a5a8f1e6ece467eded",
       "max": 29515.0,
       "min": 0.0,
       "orientation": "horizontal",
       "style": "IPY_MODEL_cba65b1735c94ff98c9a1ad263c6d9b0",
       "value": 29515.0
      }
     },
     "640c77d0ccd643ea830480d0e87b027b": {
      "model_module": "@jupyter-widgets/base",
      "model_module_version": "1.2.0",
      "model_name": "LayoutModel",
      "state": {
       "_model_module": "@jupyter-widgets/base",
       "_model_module_version": "1.2.0",
       "_model_name": "LayoutModel",
       "_view_count": null,
       "_view_module": "@jupyter-widgets/base",
       "_view_module_version": "1.2.0",
       "_view_name": "LayoutView",
       "align_content": null,
       "align_items": null,
       "align_self": null,
       "border": null,
       "bottom": null,
       "display": null,
       "flex": null,
       "flex_flow": null,
       "grid_area": null,
       "grid_auto_columns": null,
       "grid_auto_flow": null,
       "grid_auto_rows": null,
       "grid_column": null,
       "grid_gap": null,
       "grid_row": null,
       "grid_template_areas": null,
       "grid_template_columns": null,
       "grid_template_rows": null,
       "height": null,
       "justify_content": null,
       "justify_items": null,
       "left": null,
       "margin": null,
       "max_height": null,
       "max_width": null,
       "min_height": null,
       "min_width": null,
       "object_fit": null,
       "object_position": null,
       "order": null,
       "overflow": null,
       "overflow_x": null,
       "overflow_y": null,
       "padding": null,
       "right": null,
       "top": null,
       "visibility": null,
       "width": null
      }
     },
     "6bec4b6db32945a1b55819c6d786e482": {
      "model_module": "@jupyter-widgets/controls",
      "model_module_version": "1.5.0",
      "model_name": "FloatProgressModel",
      "state": {
       "_dom_classes": [],
       "_model_module": "@jupyter-widgets/controls",
       "_model_module_version": "1.5.0",
       "_model_name": "FloatProgressModel",
       "_view_count": null,
       "_view_module": "@jupyter-widgets/controls",
       "_view_module_version": "1.5.0",
       "_view_name": "ProgressView",
       "bar_style": "success",
       "description": "",
       "description_tooltip": null,
       "layout": "IPY_MODEL_fa00e115016d40ce8fa8d7c284d92c0b",
       "max": 1.0,
       "min": 0.0,
       "orientation": "horizontal",
       "style": "IPY_MODEL_38277cd557164d02805e4e8492d28b0e",
       "value": 1.0
      }
     },
     "6dc8342ecfc648f9984ffaa6696ffb12": {
      "model_module": "@jupyter-widgets/controls",
      "model_module_version": "1.5.0",
      "model_name": "HBoxModel",
      "state": {
       "_dom_classes": [],
       "_model_module": "@jupyter-widgets/controls",
       "_model_module_version": "1.5.0",
       "_model_name": "HBoxModel",
       "_view_count": null,
       "_view_module": "@jupyter-widgets/controls",
       "_view_module_version": "1.5.0",
       "_view_name": "HBoxView",
       "box_style": "",
       "children": [
        "IPY_MODEL_36d411bc400944889076df3681adf861",
        "IPY_MODEL_20f9b76aa97e49b0abf8bb176363bb61",
        "IPY_MODEL_26c7e15009aa446ba4c2f8bcc425cbcf"
       ],
       "layout": "IPY_MODEL_95d28de3dbdb4a1f8d1de7cf0f21264b"
      }
     },
     "6f388ca0f7854d209a2d3faf92560751": {
      "model_module": "@jupyter-widgets/controls",
      "model_module_version": "1.5.0",
      "model_name": "DescriptionStyleModel",
      "state": {
       "_model_module": "@jupyter-widgets/controls",
       "_model_module_version": "1.5.0",
       "_model_name": "DescriptionStyleModel",
       "_view_count": null,
       "_view_module": "@jupyter-widgets/base",
       "_view_module_version": "1.2.0",
       "_view_name": "StyleView",
       "description_width": ""
      }
     },
     "71b835a1b41647f3929bb5d0e0daf8a4": {
      "model_module": "@jupyter-widgets/base",
      "model_module_version": "1.2.0",
      "model_name": "LayoutModel",
      "state": {
       "_model_module": "@jupyter-widgets/base",
       "_model_module_version": "1.2.0",
       "_model_name": "LayoutModel",
       "_view_count": null,
       "_view_module": "@jupyter-widgets/base",
       "_view_module_version": "1.2.0",
       "_view_name": "LayoutView",
       "align_content": null,
       "align_items": null,
       "align_self": null,
       "border": null,
       "bottom": null,
       "display": null,
       "flex": null,
       "flex_flow": null,
       "grid_area": null,
       "grid_auto_columns": null,
       "grid_auto_flow": null,
       "grid_auto_rows": null,
       "grid_column": null,
       "grid_gap": null,
       "grid_row": null,
       "grid_template_areas": null,
       "grid_template_columns": null,
       "grid_template_rows": null,
       "height": null,
       "justify_content": null,
       "justify_items": null,
       "left": null,
       "margin": null,
       "max_height": null,
       "max_width": null,
       "min_height": null,
       "min_width": null,
       "object_fit": null,
       "object_position": null,
       "order": null,
       "overflow": null,
       "overflow_x": null,
       "overflow_y": null,
       "padding": null,
       "right": null,
       "top": null,
       "visibility": null,
       "width": null
      }
     },
     "73c5e1f32a404972855f0fad120d1819": {
      "model_module": "@jupyter-widgets/base",
      "model_module_version": "1.2.0",
      "model_name": "LayoutModel",
      "state": {
       "_model_module": "@jupyter-widgets/base",
       "_model_module_version": "1.2.0",
       "_model_name": "LayoutModel",
       "_view_count": null,
       "_view_module": "@jupyter-widgets/base",
       "_view_module_version": "1.2.0",
       "_view_name": "LayoutView",
       "align_content": null,
       "align_items": null,
       "align_self": null,
       "border": null,
       "bottom": null,
       "display": null,
       "flex": null,
       "flex_flow": null,
       "grid_area": null,
       "grid_auto_columns": null,
       "grid_auto_flow": null,
       "grid_auto_rows": null,
       "grid_column": null,
       "grid_gap": null,
       "grid_row": null,
       "grid_template_areas": null,
       "grid_template_columns": null,
       "grid_template_rows": null,
       "height": null,
       "justify_content": null,
       "justify_items": null,
       "left": null,
       "margin": null,
       "max_height": null,
       "max_width": null,
       "min_height": null,
       "min_width": null,
       "object_fit": null,
       "object_position": null,
       "order": null,
       "overflow": null,
       "overflow_x": null,
       "overflow_y": null,
       "padding": null,
       "right": null,
       "top": null,
       "visibility": null,
       "width": null
      }
     },
     "75993fb2c8474cbf8a959570d7b16d09": {
      "model_module": "@jupyter-widgets/controls",
      "model_module_version": "1.5.0",
      "model_name": "HTMLModel",
      "state": {
       "_dom_classes": [],
       "_model_module": "@jupyter-widgets/controls",
       "_model_module_version": "1.5.0",
       "_model_name": "HTMLModel",
       "_view_count": null,
       "_view_module": "@jupyter-widgets/controls",
       "_view_module_version": "1.5.0",
       "_view_name": "HTMLView",
       "description": "",
       "description_tooltip": null,
       "layout": "IPY_MODEL_5bfe9bf62ee24fb5bdc55e5ca23a85db",
       "placeholder": "​",
       "style": "IPY_MODEL_f92ab836ae5d4cbeb87edf759127f067",
       "value": "100%"
      }
     },
     "77181a82a6ac4402a9c6fc283ecee30c": {
      "model_module": "@jupyter-widgets/base",
      "model_module_version": "1.2.0",
      "model_name": "LayoutModel",
      "state": {
       "_model_module": "@jupyter-widgets/base",
       "_model_module_version": "1.2.0",
       "_model_name": "LayoutModel",
       "_view_count": null,
       "_view_module": "@jupyter-widgets/base",
       "_view_module_version": "1.2.0",
       "_view_name": "LayoutView",
       "align_content": null,
       "align_items": null,
       "align_self": null,
       "border": null,
       "bottom": null,
       "display": null,
       "flex": null,
       "flex_flow": null,
       "grid_area": null,
       "grid_auto_columns": null,
       "grid_auto_flow": null,
       "grid_auto_rows": null,
       "grid_column": null,
       "grid_gap": null,
       "grid_row": null,
       "grid_template_areas": null,
       "grid_template_columns": null,
       "grid_template_rows": null,
       "height": null,
       "justify_content": null,
       "justify_items": null,
       "left": null,
       "margin": null,
       "max_height": null,
       "max_width": null,
       "min_height": null,
       "min_width": null,
       "object_fit": null,
       "object_position": null,
       "order": null,
       "overflow": null,
       "overflow_x": null,
       "overflow_y": null,
       "padding": null,
       "right": null,
       "top": null,
       "visibility": null,
       "width": null
      }
     },
     "78fb90eb476a4e40ac1dc672d417104d": {
      "model_module": "@jupyter-widgets/controls",
      "model_module_version": "1.5.0",
      "model_name": "HBoxModel",
      "state": {
       "_dom_classes": [],
       "_model_module": "@jupyter-widgets/controls",
       "_model_module_version": "1.5.0",
       "_model_name": "HBoxModel",
       "_view_count": null,
       "_view_module": "@jupyter-widgets/controls",
       "_view_module_version": "1.5.0",
       "_view_name": "HBoxView",
       "box_style": "",
       "children": [
        "IPY_MODEL_005bc01429b74611a7cc967094dd7d54",
        "IPY_MODEL_8cb53dc3092b486e81461536f046e334",
        "IPY_MODEL_d9ea2996139f430d8c308eb944e8aa2e"
       ],
       "layout": "IPY_MODEL_2d95449c07d4473ba36e2dd0d2b7a9e6"
      }
     },
     "79a8009aabe44128911011e64685bc63": {
      "model_module": "@jupyter-widgets/controls",
      "model_module_version": "1.5.0",
      "model_name": "HTMLModel",
      "state": {
       "_dom_classes": [],
       "_model_module": "@jupyter-widgets/controls",
       "_model_module_version": "1.5.0",
       "_model_name": "HTMLModel",
       "_view_count": null,
       "_view_module": "@jupyter-widgets/controls",
       "_view_module_version": "1.5.0",
       "_view_name": "HTMLView",
       "description": "",
       "description_tooltip": null,
       "layout": "IPY_MODEL_970a191c87e24bf3908db37b58db752a",
       "placeholder": "​",
       "style": "IPY_MODEL_82da46c9b20145f8b3d1ca8b9a156f46",
       "value": " 28881/28881 [00:00&lt;00:00, 1689927.51it/s]"
      }
     },
     "7fe987a09d2241d991ed19c44f7d3787": {
      "model_module": "@jupyter-widgets/base",
      "model_module_version": "1.2.0",
      "model_name": "LayoutModel",
      "state": {
       "_model_module": "@jupyter-widgets/base",
       "_model_module_version": "1.2.0",
       "_model_name": "LayoutModel",
       "_view_count": null,
       "_view_module": "@jupyter-widgets/base",
       "_view_module_version": "1.2.0",
       "_view_name": "LayoutView",
       "align_content": null,
       "align_items": null,
       "align_self": null,
       "border": null,
       "bottom": null,
       "display": null,
       "flex": null,
       "flex_flow": null,
       "grid_area": null,
       "grid_auto_columns": null,
       "grid_auto_flow": null,
       "grid_auto_rows": null,
       "grid_column": null,
       "grid_gap": null,
       "grid_row": null,
       "grid_template_areas": null,
       "grid_template_columns": null,
       "grid_template_rows": null,
       "height": null,
       "justify_content": null,
       "justify_items": null,
       "left": null,
       "margin": null,
       "max_height": null,
       "max_width": null,
       "min_height": null,
       "min_width": null,
       "object_fit": null,
       "object_position": null,
       "order": null,
       "overflow": null,
       "overflow_x": null,
       "overflow_y": null,
       "padding": null,
       "right": null,
       "top": null,
       "visibility": null,
       "width": null
      }
     },
     "82bcd1d4d5124da8a26cda4ea39afc51": {
      "model_module": "@jupyter-widgets/controls",
      "model_module_version": "1.5.0",
      "model_name": "FloatProgressModel",
      "state": {
       "_dom_classes": [],
       "_model_module": "@jupyter-widgets/controls",
       "_model_module_version": "1.5.0",
       "_model_name": "FloatProgressModel",
       "_view_count": null,
       "_view_module": "@jupyter-widgets/controls",
       "_view_module_version": "1.5.0",
       "_view_name": "ProgressView",
       "bar_style": "success",
       "description": "",
       "description_tooltip": null,
       "layout": "IPY_MODEL_4360de0b2d3b408fa42b02d6b0bf2859",
       "max": 5.0,
       "min": 0.0,
       "orientation": "horizontal",
       "style": "IPY_MODEL_a22bec35da554814bbf7daf5982f4d95",
       "value": 5.0
      }
     },
     "82da46c9b20145f8b3d1ca8b9a156f46": {
      "model_module": "@jupyter-widgets/controls",
      "model_module_version": "1.5.0",
      "model_name": "DescriptionStyleModel",
      "state": {
       "_model_module": "@jupyter-widgets/controls",
       "_model_module_version": "1.5.0",
       "_model_name": "DescriptionStyleModel",
       "_view_count": null,
       "_view_module": "@jupyter-widgets/base",
       "_view_module_version": "1.2.0",
       "_view_name": "StyleView",
       "description_width": ""
      }
     },
     "8616378841c84efc80db4989d067bd80": {
      "model_module": "@jupyter-widgets/controls",
      "model_module_version": "1.5.0",
      "model_name": "DescriptionStyleModel",
      "state": {
       "_model_module": "@jupyter-widgets/controls",
       "_model_module_version": "1.5.0",
       "_model_name": "DescriptionStyleModel",
       "_view_count": null,
       "_view_module": "@jupyter-widgets/base",
       "_view_module_version": "1.2.0",
       "_view_name": "StyleView",
       "description_width": ""
      }
     },
     "871e938161b8470c8b16e34b01125700": {
      "model_module": "@jupyter-widgets/controls",
      "model_module_version": "1.5.0",
      "model_name": "HBoxModel",
      "state": {
       "_dom_classes": [],
       "_model_module": "@jupyter-widgets/controls",
       "_model_module_version": "1.5.0",
       "_model_name": "HBoxModel",
       "_view_count": null,
       "_view_module": "@jupyter-widgets/controls",
       "_view_module_version": "1.5.0",
       "_view_name": "HBoxView",
       "box_style": "",
       "children": [
        "IPY_MODEL_96f90244b2bb4c60a14d0b6ae8ebe0f2",
        "IPY_MODEL_6035e3f294f4461ba44be1db30c14281",
        "IPY_MODEL_04a215ba513c4b3f9631435f1f7222d0"
       ],
       "layout": "IPY_MODEL_d940cce69d4a470d8399fb2269ff0466"
      }
     },
     "876c5de665cb4c2598b7ddb614db6346": {
      "model_module": "@jupyter-widgets/base",
      "model_module_version": "1.2.0",
      "model_name": "LayoutModel",
      "state": {
       "_model_module": "@jupyter-widgets/base",
       "_model_module_version": "1.2.0",
       "_model_name": "LayoutModel",
       "_view_count": null,
       "_view_module": "@jupyter-widgets/base",
       "_view_module_version": "1.2.0",
       "_view_name": "LayoutView",
       "align_content": null,
       "align_items": null,
       "align_self": null,
       "border": null,
       "bottom": null,
       "display": null,
       "flex": null,
       "flex_flow": null,
       "grid_area": null,
       "grid_auto_columns": null,
       "grid_auto_flow": null,
       "grid_auto_rows": null,
       "grid_column": null,
       "grid_gap": null,
       "grid_row": null,
       "grid_template_areas": null,
       "grid_template_columns": null,
       "grid_template_rows": null,
       "height": null,
       "justify_content": null,
       "justify_items": null,
       "left": null,
       "margin": null,
       "max_height": null,
       "max_width": null,
       "min_height": null,
       "min_width": null,
       "object_fit": null,
       "object_position": null,
       "order": null,
       "overflow": null,
       "overflow_x": null,
       "overflow_y": null,
       "padding": null,
       "right": null,
       "top": null,
       "visibility": null,
       "width": null
      }
     },
     "87a39c2fa06843cc976623ac08a2ec61": {
      "model_module": "@jupyter-widgets/controls",
      "model_module_version": "1.5.0",
      "model_name": "DescriptionStyleModel",
      "state": {
       "_model_module": "@jupyter-widgets/controls",
       "_model_module_version": "1.5.0",
       "_model_name": "DescriptionStyleModel",
       "_view_count": null,
       "_view_module": "@jupyter-widgets/base",
       "_view_module_version": "1.2.0",
       "_view_name": "StyleView",
       "description_width": ""
      }
     },
     "888a00b4d7824051be655b9bb7d956bb": {
      "model_module": "@jupyter-widgets/controls",
      "model_module_version": "1.5.0",
      "model_name": "FloatProgressModel",
      "state": {
       "_dom_classes": [],
       "_model_module": "@jupyter-widgets/controls",
       "_model_module_version": "1.5.0",
       "_model_name": "FloatProgressModel",
       "_view_count": null,
       "_view_module": "@jupyter-widgets/controls",
       "_view_module_version": "1.5.0",
       "_view_name": "ProgressView",
       "bar_style": "success",
       "description": "",
       "description_tooltip": null,
       "layout": "IPY_MODEL_27bdc914b231422994c85abd9948f4c9",
       "max": 4422102.0,
       "min": 0.0,
       "orientation": "horizontal",
       "style": "IPY_MODEL_4f01c59f26e948a78c496fbfb1a2da7d",
       "value": 4422102.0
      }
     },
     "8b721d1aabfe47e5a5163de325eeef3d": {
      "model_module": "@jupyter-widgets/base",
      "model_module_version": "1.2.0",
      "model_name": "LayoutModel",
      "state": {
       "_model_module": "@jupyter-widgets/base",
       "_model_module_version": "1.2.0",
       "_model_name": "LayoutModel",
       "_view_count": null,
       "_view_module": "@jupyter-widgets/base",
       "_view_module_version": "1.2.0",
       "_view_name": "LayoutView",
       "align_content": null,
       "align_items": null,
       "align_self": null,
       "border": null,
       "bottom": null,
       "display": null,
       "flex": null,
       "flex_flow": null,
       "grid_area": null,
       "grid_auto_columns": null,
       "grid_auto_flow": null,
       "grid_auto_rows": null,
       "grid_column": null,
       "grid_gap": null,
       "grid_row": null,
       "grid_template_areas": null,
       "grid_template_columns": null,
       "grid_template_rows": null,
       "height": null,
       "justify_content": null,
       "justify_items": null,
       "left": null,
       "margin": null,
       "max_height": null,
       "max_width": null,
       "min_height": null,
       "min_width": null,
       "object_fit": null,
       "object_position": null,
       "order": null,
       "overflow": null,
       "overflow_x": null,
       "overflow_y": null,
       "padding": null,
       "right": null,
       "top": null,
       "visibility": null,
       "width": null
      }
     },
     "8cb53dc3092b486e81461536f046e334": {
      "model_module": "@jupyter-widgets/controls",
      "model_module_version": "1.5.0",
      "model_name": "FloatProgressModel",
      "state": {
       "_dom_classes": [],
       "_model_module": "@jupyter-widgets/controls",
       "_model_module_version": "1.5.0",
       "_model_name": "FloatProgressModel",
       "_view_count": null,
       "_view_module": "@jupyter-widgets/controls",
       "_view_module_version": "1.5.0",
       "_view_name": "ProgressView",
       "bar_style": "success",
       "description": "",
       "description_tooltip": null,
       "layout": "IPY_MODEL_11f940f5e8de45a1b023c764e923f116",
       "max": 5.0,
       "min": 0.0,
       "orientation": "horizontal",
       "style": "IPY_MODEL_d48a89f1195d40f5a11f7ace6d29d4f5",
       "value": 5.0
      }
     },
     "8d82e71b128a4a5ab9a6fc8f541b3020": {
      "model_module": "@jupyter-widgets/controls",
      "model_module_version": "1.5.0",
      "model_name": "ProgressStyleModel",
      "state": {
       "_model_module": "@jupyter-widgets/controls",
       "_model_module_version": "1.5.0",
       "_model_name": "ProgressStyleModel",
       "_view_count": null,
       "_view_module": "@jupyter-widgets/base",
       "_view_module_version": "1.2.0",
       "_view_name": "StyleView",
       "bar_color": null,
       "description_width": ""
      }
     },
     "8e8110cbb6cd49e59142a0070b4428ae": {
      "model_module": "@jupyter-widgets/controls",
      "model_module_version": "1.5.0",
      "model_name": "HTMLModel",
      "state": {
       "_dom_classes": [],
       "_model_module": "@jupyter-widgets/controls",
       "_model_module_version": "1.5.0",
       "_model_name": "HTMLModel",
       "_view_count": null,
       "_view_module": "@jupyter-widgets/controls",
       "_view_module_version": "1.5.0",
       "_view_name": "HTMLView",
       "description": "",
       "description_tooltip": null,
       "layout": "IPY_MODEL_77181a82a6ac4402a9c6fc283ecee30c",
       "placeholder": "​",
       "style": "IPY_MODEL_caf7a0ff0569432f918a96ee06dbdf69",
       "value": " 1648877/1648877 [00:00&lt;00:00, 20935106.20it/s]"
      }
     },
     "8ff4dfa3a927436f89f66a6c6e326f18": {
      "model_module": "@jupyter-widgets/controls",
      "model_module_version": "1.5.0",
      "model_name": "HTMLModel",
      "state": {
       "_dom_classes": [],
       "_model_module": "@jupyter-widgets/controls",
       "_model_module_version": "1.5.0",
       "_model_name": "HTMLModel",
       "_view_count": null,
       "_view_module": "@jupyter-widgets/controls",
       "_view_module_version": "1.5.0",
       "_view_name": "HTMLView",
       "description": "",
       "description_tooltip": null,
       "layout": "IPY_MODEL_8b721d1aabfe47e5a5163de325eeef3d",
       "placeholder": "​",
       "style": "IPY_MODEL_1d746fe024b841288beb82debef49116",
       "value": " 4422102/4422102 [00:00&lt;00:00, 8400011.26it/s]"
      }
     },
     "941519bc643640859fd008eaa2cfff2b": {
      "model_module": "@jupyter-widgets/base",
      "model_module_version": "1.2.0",
      "model_name": "LayoutModel",
      "state": {
       "_model_module": "@jupyter-widgets/base",
       "_model_module_version": "1.2.0",
       "_model_name": "LayoutModel",
       "_view_count": null,
       "_view_module": "@jupyter-widgets/base",
       "_view_module_version": "1.2.0",
       "_view_name": "LayoutView",
       "align_content": null,
       "align_items": null,
       "align_self": null,
       "border": null,
       "bottom": null,
       "display": null,
       "flex": null,
       "flex_flow": null,
       "grid_area": null,
       "grid_auto_columns": null,
       "grid_auto_flow": null,
       "grid_auto_rows": null,
       "grid_column": null,
       "grid_gap": null,
       "grid_row": null,
       "grid_template_areas": null,
       "grid_template_columns": null,
       "grid_template_rows": null,
       "height": null,
       "justify_content": null,
       "justify_items": null,
       "left": null,
       "margin": null,
       "max_height": null,
       "max_width": null,
       "min_height": null,
       "min_width": null,
       "object_fit": null,
       "object_position": null,
       "order": null,
       "overflow": null,
       "overflow_x": null,
       "overflow_y": null,
       "padding": null,
       "right": null,
       "top": null,
       "visibility": null,
       "width": null
      }
     },
     "95d28de3dbdb4a1f8d1de7cf0f21264b": {
      "model_module": "@jupyter-widgets/base",
      "model_module_version": "1.2.0",
      "model_name": "LayoutModel",
      "state": {
       "_model_module": "@jupyter-widgets/base",
       "_model_module_version": "1.2.0",
       "_model_name": "LayoutModel",
       "_view_count": null,
       "_view_module": "@jupyter-widgets/base",
       "_view_module_version": "1.2.0",
       "_view_name": "LayoutView",
       "align_content": null,
       "align_items": null,
       "align_self": null,
       "border": null,
       "bottom": null,
       "display": null,
       "flex": null,
       "flex_flow": null,
       "grid_area": null,
       "grid_auto_columns": null,
       "grid_auto_flow": null,
       "grid_auto_rows": null,
       "grid_column": null,
       "grid_gap": null,
       "grid_row": null,
       "grid_template_areas": null,
       "grid_template_columns": null,
       "grid_template_rows": null,
       "height": null,
       "justify_content": null,
       "justify_items": null,
       "left": null,
       "margin": null,
       "max_height": null,
       "max_width": null,
       "min_height": null,
       "min_width": null,
       "object_fit": null,
       "object_position": null,
       "order": null,
       "overflow": null,
       "overflow_x": null,
       "overflow_y": null,
       "padding": null,
       "right": null,
       "top": null,
       "visibility": null,
       "width": null
      }
     },
     "96f90244b2bb4c60a14d0b6ae8ebe0f2": {
      "model_module": "@jupyter-widgets/controls",
      "model_module_version": "1.5.0",
      "model_name": "HTMLModel",
      "state": {
       "_dom_classes": [],
       "_model_module": "@jupyter-widgets/controls",
       "_model_module_version": "1.5.0",
       "_model_name": "HTMLModel",
       "_view_count": null,
       "_view_module": "@jupyter-widgets/controls",
       "_view_module_version": "1.5.0",
       "_view_name": "HTMLView",
       "description": "",
       "description_tooltip": null,
       "layout": "IPY_MODEL_b2186194a01e4706b72a4dfd90e7e2a3",
       "placeholder": "​",
       "style": "IPY_MODEL_a9120c1864094b08be58aaa6cdc87c1f",
       "value": "100%"
      }
     },
     "970a191c87e24bf3908db37b58db752a": {
      "model_module": "@jupyter-widgets/base",
      "model_module_version": "1.2.0",
      "model_name": "LayoutModel",
      "state": {
       "_model_module": "@jupyter-widgets/base",
       "_model_module_version": "1.2.0",
       "_model_name": "LayoutModel",
       "_view_count": null,
       "_view_module": "@jupyter-widgets/base",
       "_view_module_version": "1.2.0",
       "_view_name": "LayoutView",
       "align_content": null,
       "align_items": null,
       "align_self": null,
       "border": null,
       "bottom": null,
       "display": null,
       "flex": null,
       "flex_flow": null,
       "grid_area": null,
       "grid_auto_columns": null,
       "grid_auto_flow": null,
       "grid_auto_rows": null,
       "grid_column": null,
       "grid_gap": null,
       "grid_row": null,
       "grid_template_areas": null,
       "grid_template_columns": null,
       "grid_template_rows": null,
       "height": null,
       "justify_content": null,
       "justify_items": null,
       "left": null,
       "margin": null,
       "max_height": null,
       "max_width": null,
       "min_height": null,
       "min_width": null,
       "object_fit": null,
       "object_position": null,
       "order": null,
       "overflow": null,
       "overflow_x": null,
       "overflow_y": null,
       "padding": null,
       "right": null,
       "top": null,
       "visibility": null,
       "width": null
      }
     },
     "973fe268011f40d0bcc5d06fe50b3da7": {
      "model_module": "@jupyter-widgets/controls",
      "model_module_version": "1.5.0",
      "model_name": "ProgressStyleModel",
      "state": {
       "_model_module": "@jupyter-widgets/controls",
       "_model_module_version": "1.5.0",
       "_model_name": "ProgressStyleModel",
       "_view_count": null,
       "_view_module": "@jupyter-widgets/base",
       "_view_module_version": "1.2.0",
       "_view_name": "StyleView",
       "bar_color": null,
       "description_width": ""
      }
     },
     "9ae1aa3fdc734b688abff066fd8cb3d9": {
      "model_module": "@jupyter-widgets/controls",
      "model_module_version": "1.5.0",
      "model_name": "HTMLModel",
      "state": {
       "_dom_classes": [],
       "_model_module": "@jupyter-widgets/controls",
       "_model_module_version": "1.5.0",
       "_model_name": "HTMLModel",
       "_view_count": null,
       "_view_module": "@jupyter-widgets/controls",
       "_view_module_version": "1.5.0",
       "_view_name": "HTMLView",
       "description": "",
       "description_tooltip": null,
       "layout": "IPY_MODEL_d122c076b9a744c785075a0cd9874e72",
       "placeholder": "​",
       "style": "IPY_MODEL_87a39c2fa06843cc976623ac08a2ec61",
       "value": "100%"
      }
     },
     "9c80a76a99d4486d966bbbdc716ded53": {
      "model_module": "@jupyter-widgets/controls",
      "model_module_version": "1.5.0",
      "model_name": "HBoxModel",
      "state": {
       "_dom_classes": [],
       "_model_module": "@jupyter-widgets/controls",
       "_model_module_version": "1.5.0",
       "_model_name": "HBoxModel",
       "_view_count": null,
       "_view_module": "@jupyter-widgets/controls",
       "_view_module_version": "1.5.0",
       "_view_name": "HBoxView",
       "box_style": "",
       "children": [
        "IPY_MODEL_f7490499219b4cf0957fc8c5c92fe082",
        "IPY_MODEL_888a00b4d7824051be655b9bb7d956bb",
        "IPY_MODEL_8ff4dfa3a927436f89f66a6c6e326f18"
       ],
       "layout": "IPY_MODEL_54fb159f906f4eec97a686e86307a730"
      }
     },
     "9fc895aa84944d899d2a952135c61f87": {
      "model_module": "@jupyter-widgets/controls",
      "model_module_version": "1.5.0",
      "model_name": "HTMLModel",
      "state": {
       "_dom_classes": [],
       "_model_module": "@jupyter-widgets/controls",
       "_model_module_version": "1.5.0",
       "_model_name": "HTMLModel",
       "_view_count": null,
       "_view_module": "@jupyter-widgets/controls",
       "_view_module_version": "1.5.0",
       "_view_name": "HTMLView",
       "description": "",
       "description_tooltip": null,
       "layout": "IPY_MODEL_530aef059d774215a036ee86bad117d1",
       "placeholder": "​",
       "style": "IPY_MODEL_3b0078b152d64d5e89853a3b075fe1ce",
       "value": "100%"
      }
     },
     "a22bec35da554814bbf7daf5982f4d95": {
      "model_module": "@jupyter-widgets/controls",
      "model_module_version": "1.5.0",
      "model_name": "ProgressStyleModel",
      "state": {
       "_model_module": "@jupyter-widgets/controls",
       "_model_module_version": "1.5.0",
       "_model_name": "ProgressStyleModel",
       "_view_count": null,
       "_view_module": "@jupyter-widgets/base",
       "_view_module_version": "1.2.0",
       "_view_name": "StyleView",
       "bar_color": null,
       "description_width": ""
      }
     },
     "a48a06dbdaa64d168018ac7fe203644a": {
      "model_module": "@jupyter-widgets/base",
      "model_module_version": "1.2.0",
      "model_name": "LayoutModel",
      "state": {
       "_model_module": "@jupyter-widgets/base",
       "_model_module_version": "1.2.0",
       "_model_name": "LayoutModel",
       "_view_count": null,
       "_view_module": "@jupyter-widgets/base",
       "_view_module_version": "1.2.0",
       "_view_name": "LayoutView",
       "align_content": null,
       "align_items": null,
       "align_self": null,
       "border": null,
       "bottom": null,
       "display": null,
       "flex": null,
       "flex_flow": null,
       "grid_area": null,
       "grid_auto_columns": null,
       "grid_auto_flow": null,
       "grid_auto_rows": null,
       "grid_column": null,
       "grid_gap": null,
       "grid_row": null,
       "grid_template_areas": null,
       "grid_template_columns": null,
       "grid_template_rows": null,
       "height": null,
       "justify_content": null,
       "justify_items": null,
       "left": null,
       "margin": null,
       "max_height": null,
       "max_width": null,
       "min_height": null,
       "min_width": null,
       "object_fit": null,
       "object_position": null,
       "order": null,
       "overflow": null,
       "overflow_x": null,
       "overflow_y": null,
       "padding": null,
       "right": null,
       "top": null,
       "visibility": null,
       "width": null
      }
     },
     "a7423975afc44d10af537ca97f3853e1": {
      "model_module": "@jupyter-widgets/base",
      "model_module_version": "1.2.0",
      "model_name": "LayoutModel",
      "state": {
       "_model_module": "@jupyter-widgets/base",
       "_model_module_version": "1.2.0",
       "_model_name": "LayoutModel",
       "_view_count": null,
       "_view_module": "@jupyter-widgets/base",
       "_view_module_version": "1.2.0",
       "_view_name": "LayoutView",
       "align_content": null,
       "align_items": null,
       "align_self": null,
       "border": null,
       "bottom": null,
       "display": null,
       "flex": null,
       "flex_flow": null,
       "grid_area": null,
       "grid_auto_columns": null,
       "grid_auto_flow": null,
       "grid_auto_rows": null,
       "grid_column": null,
       "grid_gap": null,
       "grid_row": null,
       "grid_template_areas": null,
       "grid_template_columns": null,
       "grid_template_rows": null,
       "height": null,
       "justify_content": null,
       "justify_items": null,
       "left": null,
       "margin": null,
       "max_height": null,
       "max_width": null,
       "min_height": null,
       "min_width": null,
       "object_fit": null,
       "object_position": null,
       "order": null,
       "overflow": null,
       "overflow_x": null,
       "overflow_y": null,
       "padding": null,
       "right": null,
       "top": null,
       "visibility": null,
       "width": null
      }
     },
     "a860ddd78dd14320b58787ede575ef32": {
      "model_module": "@jupyter-widgets/controls",
      "model_module_version": "1.5.0",
      "model_name": "DescriptionStyleModel",
      "state": {
       "_model_module": "@jupyter-widgets/controls",
       "_model_module_version": "1.5.0",
       "_model_name": "DescriptionStyleModel",
       "_view_count": null,
       "_view_module": "@jupyter-widgets/base",
       "_view_module_version": "1.2.0",
       "_view_name": "StyleView",
       "description_width": ""
      }
     },
     "a9120c1864094b08be58aaa6cdc87c1f": {
      "model_module": "@jupyter-widgets/controls",
      "model_module_version": "1.5.0",
      "model_name": "DescriptionStyleModel",
      "state": {
       "_model_module": "@jupyter-widgets/controls",
       "_model_module_version": "1.5.0",
       "_model_name": "DescriptionStyleModel",
       "_view_count": null,
       "_view_module": "@jupyter-widgets/base",
       "_view_module_version": "1.2.0",
       "_view_name": "StyleView",
       "description_width": ""
      }
     },
     "ab5069e7211b416c837857ac97ac2d66": {
      "model_module": "@jupyter-widgets/controls",
      "model_module_version": "1.5.0",
      "model_name": "HBoxModel",
      "state": {
       "_dom_classes": [],
       "_model_module": "@jupyter-widgets/controls",
       "_model_module_version": "1.5.0",
       "_model_name": "HBoxModel",
       "_view_count": null,
       "_view_module": "@jupyter-widgets/controls",
       "_view_module_version": "1.5.0",
       "_view_name": "HBoxView",
       "box_style": "",
       "children": [
        "IPY_MODEL_9fc895aa84944d899d2a952135c61f87",
        "IPY_MODEL_dd87a08b8eda46e3a665994ff0525e06",
        "IPY_MODEL_8e8110cbb6cd49e59142a0070b4428ae"
       ],
       "layout": "IPY_MODEL_01d3ed01c90943028ddac5e5e5bee1b9"
      }
     },
     "b1d4f7e98cea4dc29c5983da1d17f3e3": {
      "model_module": "@jupyter-widgets/base",
      "model_module_version": "1.2.0",
      "model_name": "LayoutModel",
      "state": {
       "_model_module": "@jupyter-widgets/base",
       "_model_module_version": "1.2.0",
       "_model_name": "LayoutModel",
       "_view_count": null,
       "_view_module": "@jupyter-widgets/base",
       "_view_module_version": "1.2.0",
       "_view_name": "LayoutView",
       "align_content": null,
       "align_items": null,
       "align_self": null,
       "border": null,
       "bottom": null,
       "display": null,
       "flex": null,
       "flex_flow": null,
       "grid_area": null,
       "grid_auto_columns": null,
       "grid_auto_flow": null,
       "grid_auto_rows": null,
       "grid_column": null,
       "grid_gap": null,
       "grid_row": null,
       "grid_template_areas": null,
       "grid_template_columns": null,
       "grid_template_rows": null,
       "height": null,
       "justify_content": null,
       "justify_items": null,
       "left": null,
       "margin": null,
       "max_height": null,
       "max_width": null,
       "min_height": null,
       "min_width": null,
       "object_fit": null,
       "object_position": null,
       "order": null,
       "overflow": null,
       "overflow_x": null,
       "overflow_y": null,
       "padding": null,
       "right": null,
       "top": null,
       "visibility": null,
       "width": null
      }
     },
     "b2186194a01e4706b72a4dfd90e7e2a3": {
      "model_module": "@jupyter-widgets/base",
      "model_module_version": "1.2.0",
      "model_name": "LayoutModel",
      "state": {
       "_model_module": "@jupyter-widgets/base",
       "_model_module_version": "1.2.0",
       "_model_name": "LayoutModel",
       "_view_count": null,
       "_view_module": "@jupyter-widgets/base",
       "_view_module_version": "1.2.0",
       "_view_name": "LayoutView",
       "align_content": null,
       "align_items": null,
       "align_self": null,
       "border": null,
       "bottom": null,
       "display": null,
       "flex": null,
       "flex_flow": null,
       "grid_area": null,
       "grid_auto_columns": null,
       "grid_auto_flow": null,
       "grid_auto_rows": null,
       "grid_column": null,
       "grid_gap": null,
       "grid_row": null,
       "grid_template_areas": null,
       "grid_template_columns": null,
       "grid_template_rows": null,
       "height": null,
       "justify_content": null,
       "justify_items": null,
       "left": null,
       "margin": null,
       "max_height": null,
       "max_width": null,
       "min_height": null,
       "min_width": null,
       "object_fit": null,
       "object_position": null,
       "order": null,
       "overflow": null,
       "overflow_x": null,
       "overflow_y": null,
       "padding": null,
       "right": null,
       "top": null,
       "visibility": null,
       "width": null
      }
     },
     "b3e40d8a066547998257828652eb68a1": {
      "model_module": "@jupyter-widgets/base",
      "model_module_version": "1.2.0",
      "model_name": "LayoutModel",
      "state": {
       "_model_module": "@jupyter-widgets/base",
       "_model_module_version": "1.2.0",
       "_model_name": "LayoutModel",
       "_view_count": null,
       "_view_module": "@jupyter-widgets/base",
       "_view_module_version": "1.2.0",
       "_view_name": "LayoutView",
       "align_content": null,
       "align_items": null,
       "align_self": null,
       "border": null,
       "bottom": null,
       "display": null,
       "flex": null,
       "flex_flow": null,
       "grid_area": null,
       "grid_auto_columns": null,
       "grid_auto_flow": null,
       "grid_auto_rows": null,
       "grid_column": null,
       "grid_gap": null,
       "grid_row": null,
       "grid_template_areas": null,
       "grid_template_columns": null,
       "grid_template_rows": null,
       "height": null,
       "justify_content": null,
       "justify_items": null,
       "left": null,
       "margin": null,
       "max_height": null,
       "max_width": null,
       "min_height": null,
       "min_width": null,
       "object_fit": null,
       "object_position": null,
       "order": null,
       "overflow": null,
       "overflow_x": null,
       "overflow_y": null,
       "padding": null,
       "right": null,
       "top": null,
       "visibility": null,
       "width": null
      }
     },
     "b5f7ed9a64454bfe8cef973577fe48fc": {
      "model_module": "@jupyter-widgets/controls",
      "model_module_version": "1.5.0",
      "model_name": "DescriptionStyleModel",
      "state": {
       "_model_module": "@jupyter-widgets/controls",
       "_model_module_version": "1.5.0",
       "_model_name": "DescriptionStyleModel",
       "_view_count": null,
       "_view_module": "@jupyter-widgets/base",
       "_view_module_version": "1.2.0",
       "_view_name": "StyleView",
       "description_width": ""
      }
     },
     "b764a5e6e1e44daf9794ff979ab33520": {
      "model_module": "@jupyter-widgets/controls",
      "model_module_version": "1.5.0",
      "model_name": "DescriptionStyleModel",
      "state": {
       "_model_module": "@jupyter-widgets/controls",
       "_model_module_version": "1.5.0",
       "_model_name": "DescriptionStyleModel",
       "_view_count": null,
       "_view_module": "@jupyter-widgets/base",
       "_view_module_version": "1.2.0",
       "_view_name": "StyleView",
       "description_width": ""
      }
     },
     "b8c3d0ad147a4be4aa2a84a62f678294": {
      "model_module": "@jupyter-widgets/base",
      "model_module_version": "1.2.0",
      "model_name": "LayoutModel",
      "state": {
       "_model_module": "@jupyter-widgets/base",
       "_model_module_version": "1.2.0",
       "_model_name": "LayoutModel",
       "_view_count": null,
       "_view_module": "@jupyter-widgets/base",
       "_view_module_version": "1.2.0",
       "_view_name": "LayoutView",
       "align_content": null,
       "align_items": null,
       "align_self": null,
       "border": null,
       "bottom": null,
       "display": null,
       "flex": null,
       "flex_flow": null,
       "grid_area": null,
       "grid_auto_columns": null,
       "grid_auto_flow": null,
       "grid_auto_rows": null,
       "grid_column": null,
       "grid_gap": null,
       "grid_row": null,
       "grid_template_areas": null,
       "grid_template_columns": null,
       "grid_template_rows": null,
       "height": null,
       "justify_content": null,
       "justify_items": null,
       "left": null,
       "margin": null,
       "max_height": null,
       "max_width": null,
       "min_height": null,
       "min_width": null,
       "object_fit": null,
       "object_position": null,
       "order": null,
       "overflow": null,
       "overflow_x": null,
       "overflow_y": null,
       "padding": null,
       "right": null,
       "top": null,
       "visibility": null,
       "width": null
      }
     },
     "b9215409718a43ff9b0c66dca21ebd13": {
      "model_module": "@jupyter-widgets/controls",
      "model_module_version": "1.5.0",
      "model_name": "HBoxModel",
      "state": {
       "_dom_classes": [],
       "_model_module": "@jupyter-widgets/controls",
       "_model_module_version": "1.5.0",
       "_model_name": "HBoxModel",
       "_view_count": null,
       "_view_module": "@jupyter-widgets/controls",
       "_view_module_version": "1.5.0",
       "_view_name": "HBoxView",
       "box_style": "",
       "children": [
        "IPY_MODEL_4ab4df83e32e4835b459687c796b5e62",
        "IPY_MODEL_6bec4b6db32945a1b55819c6d786e482",
        "IPY_MODEL_5424d0f910eb41a484c95563f6e61097"
       ],
       "layout": "IPY_MODEL_dc3eac2b61a841fe86e5b2003ad396a6"
      }
     },
     "bfb08a5f942e4105929738091d772efb": {
      "model_module": "@jupyter-widgets/controls",
      "model_module_version": "1.5.0",
      "model_name": "HBoxModel",
      "state": {
       "_dom_classes": [],
       "_model_module": "@jupyter-widgets/controls",
       "_model_module_version": "1.5.0",
       "_model_name": "HBoxModel",
       "_view_count": null,
       "_view_module": "@jupyter-widgets/controls",
       "_view_module_version": "1.5.0",
       "_view_name": "HBoxView",
       "box_style": "",
       "children": [
        "IPY_MODEL_44f21cf6a8bd479f93542bc7463b4147",
        "IPY_MODEL_fe3d8e348f1b4bb8aed1dd4fc9b7108b",
        "IPY_MODEL_5fdd70a4d50e474f85c3feb60a6f9044"
       ],
       "layout": "IPY_MODEL_5968f09747db473e85dd80e71959cc5c"
      }
     },
     "c79f39fda155483b96a16b62e20ae9b0": {
      "model_module": "@jupyter-widgets/controls",
      "model_module_version": "1.5.0",
      "model_name": "DescriptionStyleModel",
      "state": {
       "_model_module": "@jupyter-widgets/controls",
       "_model_module_version": "1.5.0",
       "_model_name": "DescriptionStyleModel",
       "_view_count": null,
       "_view_module": "@jupyter-widgets/base",
       "_view_module_version": "1.2.0",
       "_view_name": "StyleView",
       "description_width": ""
      }
     },
     "caf7a0ff0569432f918a96ee06dbdf69": {
      "model_module": "@jupyter-widgets/controls",
      "model_module_version": "1.5.0",
      "model_name": "DescriptionStyleModel",
      "state": {
       "_model_module": "@jupyter-widgets/controls",
       "_model_module_version": "1.5.0",
       "_model_name": "DescriptionStyleModel",
       "_view_count": null,
       "_view_module": "@jupyter-widgets/base",
       "_view_module_version": "1.2.0",
       "_view_name": "StyleView",
       "description_width": ""
      }
     },
     "cba65b1735c94ff98c9a1ad263c6d9b0": {
      "model_module": "@jupyter-widgets/controls",
      "model_module_version": "1.5.0",
      "model_name": "ProgressStyleModel",
      "state": {
       "_model_module": "@jupyter-widgets/controls",
       "_model_module_version": "1.5.0",
       "_model_name": "ProgressStyleModel",
       "_view_count": null,
       "_view_module": "@jupyter-widgets/base",
       "_view_module_version": "1.2.0",
       "_view_name": "StyleView",
       "bar_color": null,
       "description_width": ""
      }
     },
     "ccbf03a885bf4179ab548063f9563948": {
      "model_module": "@jupyter-widgets/controls",
      "model_module_version": "1.5.0",
      "model_name": "ProgressStyleModel",
      "state": {
       "_model_module": "@jupyter-widgets/controls",
       "_model_module_version": "1.5.0",
       "_model_name": "ProgressStyleModel",
       "_view_count": null,
       "_view_module": "@jupyter-widgets/base",
       "_view_module_version": "1.2.0",
       "_view_name": "StyleView",
       "bar_color": null,
       "description_width": ""
      }
     },
     "cd00527daead4d65864e4e738d2f0b03": {
      "model_module": "@jupyter-widgets/controls",
      "model_module_version": "1.5.0",
      "model_name": "DescriptionStyleModel",
      "state": {
       "_model_module": "@jupyter-widgets/controls",
       "_model_module_version": "1.5.0",
       "_model_name": "DescriptionStyleModel",
       "_view_count": null,
       "_view_module": "@jupyter-widgets/base",
       "_view_module_version": "1.2.0",
       "_view_name": "StyleView",
       "description_width": ""
      }
     },
     "cdb9371df47149debd4e553fb043a118": {
      "model_module": "@jupyter-widgets/controls",
      "model_module_version": "1.5.0",
      "model_name": "HTMLModel",
      "state": {
       "_dom_classes": [],
       "_model_module": "@jupyter-widgets/controls",
       "_model_module_version": "1.5.0",
       "_model_name": "HTMLModel",
       "_view_count": null,
       "_view_module": "@jupyter-widgets/controls",
       "_view_module_version": "1.5.0",
       "_view_name": "HTMLView",
       "description": "",
       "description_tooltip": null,
       "layout": "IPY_MODEL_5d3bdecc910749748de4b4b69b1a1903",
       "placeholder": "​",
       "style": "IPY_MODEL_e513d3f3d25d4dd6830bb8e644eb3629",
       "value": " 9912422/9912422 [00:00&lt;00:00, 46836956.08it/s]"
      }
     },
     "d122c076b9a744c785075a0cd9874e72": {
      "model_module": "@jupyter-widgets/base",
      "model_module_version": "1.2.0",
      "model_name": "LayoutModel",
      "state": {
       "_model_module": "@jupyter-widgets/base",
       "_model_module_version": "1.2.0",
       "_model_name": "LayoutModel",
       "_view_count": null,
       "_view_module": "@jupyter-widgets/base",
       "_view_module_version": "1.2.0",
       "_view_name": "LayoutView",
       "align_content": null,
       "align_items": null,
       "align_self": null,
       "border": null,
       "bottom": null,
       "display": null,
       "flex": null,
       "flex_flow": null,
       "grid_area": null,
       "grid_auto_columns": null,
       "grid_auto_flow": null,
       "grid_auto_rows": null,
       "grid_column": null,
       "grid_gap": null,
       "grid_row": null,
       "grid_template_areas": null,
       "grid_template_columns": null,
       "grid_template_rows": null,
       "height": null,
       "justify_content": null,
       "justify_items": null,
       "left": null,
       "margin": null,
       "max_height": null,
       "max_width": null,
       "min_height": null,
       "min_width": null,
       "object_fit": null,
       "object_position": null,
       "order": null,
       "overflow": null,
       "overflow_x": null,
       "overflow_y": null,
       "padding": null,
       "right": null,
       "top": null,
       "visibility": null,
       "width": null
      }
     },
     "d307cbaaa3bc47538674d370095e9977": {
      "model_module": "@jupyter-widgets/controls",
      "model_module_version": "1.5.0",
      "model_name": "HBoxModel",
      "state": {
       "_dom_classes": [],
       "_model_module": "@jupyter-widgets/controls",
       "_model_module_version": "1.5.0",
       "_model_name": "HBoxModel",
       "_view_count": null,
       "_view_module": "@jupyter-widgets/controls",
       "_view_module_version": "1.5.0",
       "_view_name": "HBoxView",
       "box_style": "",
       "children": [
        "IPY_MODEL_3feca8d0ed5a4f018d2a3aefbedc0496",
        "IPY_MODEL_298f2359f46d4b9ebbbda727f78b0748",
        "IPY_MODEL_0497ed994bdf4f0c9b229dfada863584"
       ],
       "layout": "IPY_MODEL_ebea5a7f23d448e49b61e9d74b65d7e8"
      }
     },
     "d48a89f1195d40f5a11f7ace6d29d4f5": {
      "model_module": "@jupyter-widgets/controls",
      "model_module_version": "1.5.0",
      "model_name": "ProgressStyleModel",
      "state": {
       "_model_module": "@jupyter-widgets/controls",
       "_model_module_version": "1.5.0",
       "_model_name": "ProgressStyleModel",
       "_view_count": null,
       "_view_module": "@jupyter-widgets/base",
       "_view_module_version": "1.2.0",
       "_view_name": "StyleView",
       "bar_color": null,
       "description_width": ""
      }
     },
     "d940cce69d4a470d8399fb2269ff0466": {
      "model_module": "@jupyter-widgets/base",
      "model_module_version": "1.2.0",
      "model_name": "LayoutModel",
      "state": {
       "_model_module": "@jupyter-widgets/base",
       "_model_module_version": "1.2.0",
       "_model_name": "LayoutModel",
       "_view_count": null,
       "_view_module": "@jupyter-widgets/base",
       "_view_module_version": "1.2.0",
       "_view_name": "LayoutView",
       "align_content": null,
       "align_items": null,
       "align_self": null,
       "border": null,
       "bottom": null,
       "display": null,
       "flex": null,
       "flex_flow": null,
       "grid_area": null,
       "grid_auto_columns": null,
       "grid_auto_flow": null,
       "grid_auto_rows": null,
       "grid_column": null,
       "grid_gap": null,
       "grid_row": null,
       "grid_template_areas": null,
       "grid_template_columns": null,
       "grid_template_rows": null,
       "height": null,
       "justify_content": null,
       "justify_items": null,
       "left": null,
       "margin": null,
       "max_height": null,
       "max_width": null,
       "min_height": null,
       "min_width": null,
       "object_fit": null,
       "object_position": null,
       "order": null,
       "overflow": null,
       "overflow_x": null,
       "overflow_y": null,
       "padding": null,
       "right": null,
       "top": null,
       "visibility": null,
       "width": null
      }
     },
     "d96c588dcaa740c8a9107fe496b12765": {
      "model_module": "@jupyter-widgets/controls",
      "model_module_version": "1.5.0",
      "model_name": "DescriptionStyleModel",
      "state": {
       "_model_module": "@jupyter-widgets/controls",
       "_model_module_version": "1.5.0",
       "_model_name": "DescriptionStyleModel",
       "_view_count": null,
       "_view_module": "@jupyter-widgets/base",
       "_view_module_version": "1.2.0",
       "_view_name": "StyleView",
       "description_width": ""
      }
     },
     "d9ea2996139f430d8c308eb944e8aa2e": {
      "model_module": "@jupyter-widgets/controls",
      "model_module_version": "1.5.0",
      "model_name": "HTMLModel",
      "state": {
       "_dom_classes": [],
       "_model_module": "@jupyter-widgets/controls",
       "_model_module_version": "1.5.0",
       "_model_name": "HTMLModel",
       "_view_count": null,
       "_view_module": "@jupyter-widgets/controls",
       "_view_module_version": "1.5.0",
       "_view_name": "HTMLView",
       "description": "",
       "description_tooltip": null,
       "layout": "IPY_MODEL_2997c0521380447bae0ab742ebb30adb",
       "placeholder": "​",
       "style": "IPY_MODEL_2bdc67cba2bf4922bc470ac8163992cc",
       "value": " 5/5 [00:58&lt;00:00, 11.60s/it]"
      }
     },
     "dc3eac2b61a841fe86e5b2003ad396a6": {
      "model_module": "@jupyter-widgets/base",
      "model_module_version": "1.2.0",
      "model_name": "LayoutModel",
      "state": {
       "_model_module": "@jupyter-widgets/base",
       "_model_module_version": "1.2.0",
       "_model_name": "LayoutModel",
       "_view_count": null,
       "_view_module": "@jupyter-widgets/base",
       "_view_module_version": "1.2.0",
       "_view_name": "LayoutView",
       "align_content": null,
       "align_items": null,
       "align_self": null,
       "border": null,
       "bottom": null,
       "display": null,
       "flex": null,
       "flex_flow": null,
       "grid_area": null,
       "grid_auto_columns": null,
       "grid_auto_flow": null,
       "grid_auto_rows": null,
       "grid_column": null,
       "grid_gap": null,
       "grid_row": null,
       "grid_template_areas": null,
       "grid_template_columns": null,
       "grid_template_rows": null,
       "height": null,
       "justify_content": null,
       "justify_items": null,
       "left": null,
       "margin": null,
       "max_height": null,
       "max_width": null,
       "min_height": null,
       "min_width": null,
       "object_fit": null,
       "object_position": null,
       "order": null,
       "overflow": null,
       "overflow_x": null,
       "overflow_y": null,
       "padding": null,
       "right": null,
       "top": null,
       "visibility": null,
       "width": null
      }
     },
     "dd87a08b8eda46e3a665994ff0525e06": {
      "model_module": "@jupyter-widgets/controls",
      "model_module_version": "1.5.0",
      "model_name": "FloatProgressModel",
      "state": {
       "_dom_classes": [],
       "_model_module": "@jupyter-widgets/controls",
       "_model_module_version": "1.5.0",
       "_model_name": "FloatProgressModel",
       "_view_count": null,
       "_view_module": "@jupyter-widgets/controls",
       "_view_module_version": "1.5.0",
       "_view_name": "ProgressView",
       "bar_style": "success",
       "description": "",
       "description_tooltip": null,
       "layout": "IPY_MODEL_a7423975afc44d10af537ca97f3853e1",
       "max": 1648877.0,
       "min": 0.0,
       "orientation": "horizontal",
       "style": "IPY_MODEL_8d82e71b128a4a5ab9a6fc8f541b3020",
       "value": 1648877.0
      }
     },
     "df2025001b854cae96d4581954dba9ec": {
      "model_module": "@jupyter-widgets/base",
      "model_module_version": "1.2.0",
      "model_name": "LayoutModel",
      "state": {
       "_model_module": "@jupyter-widgets/base",
       "_model_module_version": "1.2.0",
       "_model_name": "LayoutModel",
       "_view_count": null,
       "_view_module": "@jupyter-widgets/base",
       "_view_module_version": "1.2.0",
       "_view_name": "LayoutView",
       "align_content": null,
       "align_items": null,
       "align_self": null,
       "border": null,
       "bottom": null,
       "display": null,
       "flex": null,
       "flex_flow": null,
       "grid_area": null,
       "grid_auto_columns": null,
       "grid_auto_flow": null,
       "grid_auto_rows": null,
       "grid_column": null,
       "grid_gap": null,
       "grid_row": null,
       "grid_template_areas": null,
       "grid_template_columns": null,
       "grid_template_rows": null,
       "height": null,
       "justify_content": null,
       "justify_items": null,
       "left": null,
       "margin": null,
       "max_height": null,
       "max_width": null,
       "min_height": null,
       "min_width": null,
       "object_fit": null,
       "object_position": null,
       "order": null,
       "overflow": null,
       "overflow_x": null,
       "overflow_y": null,
       "padding": null,
       "right": null,
       "top": null,
       "visibility": null,
       "width": null
      }
     },
     "e513d3f3d25d4dd6830bb8e644eb3629": {
      "model_module": "@jupyter-widgets/controls",
      "model_module_version": "1.5.0",
      "model_name": "DescriptionStyleModel",
      "state": {
       "_model_module": "@jupyter-widgets/controls",
       "_model_module_version": "1.5.0",
       "_model_name": "DescriptionStyleModel",
       "_view_count": null,
       "_view_module": "@jupyter-widgets/base",
       "_view_module_version": "1.2.0",
       "_view_name": "StyleView",
       "description_width": ""
      }
     },
     "e5a191b69a33401686a2308c611a72f8": {
      "model_module": "@jupyter-widgets/controls",
      "model_module_version": "1.5.0",
      "model_name": "ProgressStyleModel",
      "state": {
       "_model_module": "@jupyter-widgets/controls",
       "_model_module_version": "1.5.0",
       "_model_name": "ProgressStyleModel",
       "_view_count": null,
       "_view_module": "@jupyter-widgets/base",
       "_view_module_version": "1.2.0",
       "_view_name": "StyleView",
       "bar_color": null,
       "description_width": ""
      }
     },
     "e70594bf5212431c92ddc57d97dcdc09": {
      "model_module": "@jupyter-widgets/controls",
      "model_module_version": "1.5.0",
      "model_name": "DescriptionStyleModel",
      "state": {
       "_model_module": "@jupyter-widgets/controls",
       "_model_module_version": "1.5.0",
       "_model_name": "DescriptionStyleModel",
       "_view_count": null,
       "_view_module": "@jupyter-widgets/base",
       "_view_module_version": "1.2.0",
       "_view_name": "StyleView",
       "description_width": ""
      }
     },
     "e8a73d42ac7d4a64887ccbbebc4d6e87": {
      "model_module": "@jupyter-widgets/controls",
      "model_module_version": "1.5.0",
      "model_name": "HTMLModel",
      "state": {
       "_dom_classes": [],
       "_model_module": "@jupyter-widgets/controls",
       "_model_module_version": "1.5.0",
       "_model_name": "HTMLModel",
       "_view_count": null,
       "_view_module": "@jupyter-widgets/controls",
       "_view_module_version": "1.5.0",
       "_view_name": "HTMLView",
       "description": "",
       "description_tooltip": null,
       "layout": "IPY_MODEL_f375b30d3c7944088992954fc3710bfc",
       "placeholder": "​",
       "style": "IPY_MODEL_fb423c8390a44d7b87c4c953a2c4d9fb",
       "value": "100%"
      }
     },
     "e8e7b1794d1a4283a1b361d1a953571c": {
      "model_module": "@jupyter-widgets/controls",
      "model_module_version": "1.5.0",
      "model_name": "DescriptionStyleModel",
      "state": {
       "_model_module": "@jupyter-widgets/controls",
       "_model_module_version": "1.5.0",
       "_model_name": "DescriptionStyleModel",
       "_view_count": null,
       "_view_module": "@jupyter-widgets/base",
       "_view_module_version": "1.2.0",
       "_view_name": "StyleView",
       "description_width": ""
      }
     },
     "ebea5a7f23d448e49b61e9d74b65d7e8": {
      "model_module": "@jupyter-widgets/base",
      "model_module_version": "1.2.0",
      "model_name": "LayoutModel",
      "state": {
       "_model_module": "@jupyter-widgets/base",
       "_model_module_version": "1.2.0",
       "_model_name": "LayoutModel",
       "_view_count": null,
       "_view_module": "@jupyter-widgets/base",
       "_view_module_version": "1.2.0",
       "_view_name": "LayoutView",
       "align_content": null,
       "align_items": null,
       "align_self": null,
       "border": null,
       "bottom": null,
       "display": null,
       "flex": null,
       "flex_flow": null,
       "grid_area": null,
       "grid_auto_columns": null,
       "grid_auto_flow": null,
       "grid_auto_rows": null,
       "grid_column": null,
       "grid_gap": null,
       "grid_row": null,
       "grid_template_areas": null,
       "grid_template_columns": null,
       "grid_template_rows": null,
       "height": null,
       "justify_content": null,
       "justify_items": null,
       "left": null,
       "margin": null,
       "max_height": null,
       "max_width": null,
       "min_height": null,
       "min_width": null,
       "object_fit": null,
       "object_position": null,
       "order": null,
       "overflow": null,
       "overflow_x": null,
       "overflow_y": null,
       "padding": null,
       "right": null,
       "top": null,
       "visibility": null,
       "width": null
      }
     },
     "ee091013f384478eb1fcac6b9f789d18": {
      "model_module": "@jupyter-widgets/controls",
      "model_module_version": "1.5.0",
      "model_name": "HTMLModel",
      "state": {
       "_dom_classes": [],
       "_model_module": "@jupyter-widgets/controls",
       "_model_module_version": "1.5.0",
       "_model_name": "HTMLModel",
       "_view_count": null,
       "_view_module": "@jupyter-widgets/controls",
       "_view_module_version": "1.5.0",
       "_view_name": "HTMLView",
       "description": "",
       "description_tooltip": null,
       "layout": "IPY_MODEL_df2025001b854cae96d4581954dba9ec",
       "placeholder": "​",
       "style": "IPY_MODEL_d96c588dcaa740c8a9107fe496b12765",
       "value": " 4542/4542 [00:00&lt;00:00, 344120.82it/s]"
      }
     },
     "f09584f420494f12ad0f4f4de2dbc53f": {
      "model_module": "@jupyter-widgets/base",
      "model_module_version": "1.2.0",
      "model_name": "LayoutModel",
      "state": {
       "_model_module": "@jupyter-widgets/base",
       "_model_module_version": "1.2.0",
       "_model_name": "LayoutModel",
       "_view_count": null,
       "_view_module": "@jupyter-widgets/base",
       "_view_module_version": "1.2.0",
       "_view_name": "LayoutView",
       "align_content": null,
       "align_items": null,
       "align_self": null,
       "border": null,
       "bottom": null,
       "display": null,
       "flex": null,
       "flex_flow": null,
       "grid_area": null,
       "grid_auto_columns": null,
       "grid_auto_flow": null,
       "grid_auto_rows": null,
       "grid_column": null,
       "grid_gap": null,
       "grid_row": null,
       "grid_template_areas": null,
       "grid_template_columns": null,
       "grid_template_rows": null,
       "height": null,
       "justify_content": null,
       "justify_items": null,
       "left": null,
       "margin": null,
       "max_height": null,
       "max_width": null,
       "min_height": null,
       "min_width": null,
       "object_fit": null,
       "object_position": null,
       "order": null,
       "overflow": null,
       "overflow_x": null,
       "overflow_y": null,
       "padding": null,
       "right": null,
       "top": null,
       "visibility": null,
       "width": null
      }
     },
     "f375b30d3c7944088992954fc3710bfc": {
      "model_module": "@jupyter-widgets/base",
      "model_module_version": "1.2.0",
      "model_name": "LayoutModel",
      "state": {
       "_model_module": "@jupyter-widgets/base",
       "_model_module_version": "1.2.0",
       "_model_name": "LayoutModel",
       "_view_count": null,
       "_view_module": "@jupyter-widgets/base",
       "_view_module_version": "1.2.0",
       "_view_name": "LayoutView",
       "align_content": null,
       "align_items": null,
       "align_self": null,
       "border": null,
       "bottom": null,
       "display": null,
       "flex": null,
       "flex_flow": null,
       "grid_area": null,
       "grid_auto_columns": null,
       "grid_auto_flow": null,
       "grid_auto_rows": null,
       "grid_column": null,
       "grid_gap": null,
       "grid_row": null,
       "grid_template_areas": null,
       "grid_template_columns": null,
       "grid_template_rows": null,
       "height": null,
       "justify_content": null,
       "justify_items": null,
       "left": null,
       "margin": null,
       "max_height": null,
       "max_width": null,
       "min_height": null,
       "min_width": null,
       "object_fit": null,
       "object_position": null,
       "order": null,
       "overflow": null,
       "overflow_x": null,
       "overflow_y": null,
       "padding": null,
       "right": null,
       "top": null,
       "visibility": null,
       "width": null
      }
     },
     "f7490499219b4cf0957fc8c5c92fe082": {
      "model_module": "@jupyter-widgets/controls",
      "model_module_version": "1.5.0",
      "model_name": "HTMLModel",
      "state": {
       "_dom_classes": [],
       "_model_module": "@jupyter-widgets/controls",
       "_model_module_version": "1.5.0",
       "_model_name": "HTMLModel",
       "_view_count": null,
       "_view_module": "@jupyter-widgets/controls",
       "_view_module_version": "1.5.0",
       "_view_name": "HTMLView",
       "description": "",
       "description_tooltip": null,
       "layout": "IPY_MODEL_876c5de665cb4c2598b7ddb614db6346",
       "placeholder": "​",
       "style": "IPY_MODEL_b5f7ed9a64454bfe8cef973577fe48fc",
       "value": "100%"
      }
     },
     "f872cd63f12847c2a44debc3591c3f95": {
      "model_module": "@jupyter-widgets/controls",
      "model_module_version": "1.5.0",
      "model_name": "DescriptionStyleModel",
      "state": {
       "_model_module": "@jupyter-widgets/controls",
       "_model_module_version": "1.5.0",
       "_model_name": "DescriptionStyleModel",
       "_view_count": null,
       "_view_module": "@jupyter-widgets/base",
       "_view_module_version": "1.2.0",
       "_view_name": "StyleView",
       "description_width": ""
      }
     },
     "f92ab836ae5d4cbeb87edf759127f067": {
      "model_module": "@jupyter-widgets/controls",
      "model_module_version": "1.5.0",
      "model_name": "DescriptionStyleModel",
      "state": {
       "_model_module": "@jupyter-widgets/controls",
       "_model_module_version": "1.5.0",
       "_model_name": "DescriptionStyleModel",
       "_view_count": null,
       "_view_module": "@jupyter-widgets/base",
       "_view_module_version": "1.2.0",
       "_view_name": "StyleView",
       "description_width": ""
      }
     },
     "fa00e115016d40ce8fa8d7c284d92c0b": {
      "model_module": "@jupyter-widgets/base",
      "model_module_version": "1.2.0",
      "model_name": "LayoutModel",
      "state": {
       "_model_module": "@jupyter-widgets/base",
       "_model_module_version": "1.2.0",
       "_model_name": "LayoutModel",
       "_view_count": null,
       "_view_module": "@jupyter-widgets/base",
       "_view_module_version": "1.2.0",
       "_view_name": "LayoutView",
       "align_content": null,
       "align_items": null,
       "align_self": null,
       "border": null,
       "bottom": null,
       "display": null,
       "flex": null,
       "flex_flow": null,
       "grid_area": null,
       "grid_auto_columns": null,
       "grid_auto_flow": null,
       "grid_auto_rows": null,
       "grid_column": null,
       "grid_gap": null,
       "grid_row": null,
       "grid_template_areas": null,
       "grid_template_columns": null,
       "grid_template_rows": null,
       "height": null,
       "justify_content": null,
       "justify_items": null,
       "left": null,
       "margin": null,
       "max_height": null,
       "max_width": null,
       "min_height": null,
       "min_width": null,
       "object_fit": null,
       "object_position": null,
       "order": null,
       "overflow": null,
       "overflow_x": null,
       "overflow_y": null,
       "padding": null,
       "right": null,
       "top": null,
       "visibility": null,
       "width": "20px"
      }
     },
     "fb423c8390a44d7b87c4c953a2c4d9fb": {
      "model_module": "@jupyter-widgets/controls",
      "model_module_version": "1.5.0",
      "model_name": "DescriptionStyleModel",
      "state": {
       "_model_module": "@jupyter-widgets/controls",
       "_model_module_version": "1.5.0",
       "_model_name": "DescriptionStyleModel",
       "_view_count": null,
       "_view_module": "@jupyter-widgets/base",
       "_view_module_version": "1.2.0",
       "_view_name": "StyleView",
       "description_width": ""
      }
     },
     "fdabd08e67914c8d96715a95376f6265": {
      "model_module": "@jupyter-widgets/controls",
      "model_module_version": "1.5.0",
      "model_name": "FloatProgressModel",
      "state": {
       "_dom_classes": [],
       "_model_module": "@jupyter-widgets/controls",
       "_model_module_version": "1.5.0",
       "_model_name": "FloatProgressModel",
       "_view_count": null,
       "_view_module": "@jupyter-widgets/controls",
       "_view_module_version": "1.5.0",
       "_view_name": "ProgressView",
       "bar_style": "success",
       "description": "",
       "description_tooltip": null,
       "layout": "IPY_MODEL_561821b13543440b921fb3816da73eb4",
       "max": 4542.0,
       "min": 0.0,
       "orientation": "horizontal",
       "style": "IPY_MODEL_3fb8ab4e6f7345b3b2fdfdbd8bbd4c0d",
       "value": 4542.0
      }
     },
     "fe3d8e348f1b4bb8aed1dd4fc9b7108b": {
      "model_module": "@jupyter-widgets/controls",
      "model_module_version": "1.5.0",
      "model_name": "FloatProgressModel",
      "state": {
       "_dom_classes": [],
       "_model_module": "@jupyter-widgets/controls",
       "_model_module_version": "1.5.0",
       "_model_name": "FloatProgressModel",
       "_view_count": null,
       "_view_module": "@jupyter-widgets/controls",
       "_view_module_version": "1.5.0",
       "_view_name": "ProgressView",
       "bar_style": "success",
       "description": "",
       "description_tooltip": null,
       "layout": "IPY_MODEL_b3e40d8a066547998257828652eb68a1",
       "max": 5148.0,
       "min": 0.0,
       "orientation": "horizontal",
       "style": "IPY_MODEL_559df7b6e2e4435aad287ca069e9e1fb",
       "value": 5148.0
      }
     }
    },
    "version_major": 2,
    "version_minor": 0
   }
  }
 },
 "nbformat": 4,
 "nbformat_minor": 5
}
